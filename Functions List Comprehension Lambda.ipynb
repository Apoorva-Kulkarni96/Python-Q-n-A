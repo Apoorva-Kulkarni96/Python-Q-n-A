{
 "cells": [
  {
   "cell_type": "code",
   "execution_count": 14,
   "metadata": {},
   "outputs": [
    {
     "data": {
      "text/plain": [
       "20.0"
      ]
     },
     "execution_count": 14,
     "metadata": {},
     "output_type": "execute_result"
    }
   ],
   "source": [
    "##1) Write a function that takes a list of numbers  and retuen their average\n",
    "\n",
    "##function\n",
    "\n",
    "def average(nums):\n",
    "    if len(nums)==0:\n",
    "        return\"Invalid\"\n",
    "    avg=sum(nums)/len(nums)\n",
    "    return avg\n",
    "\n",
    "## List Comprehension\n",
    "nums=[10,20,30]\n",
    "avg=[sum(nums)/len(nums) for i in nums if nums!=0] ## Technically wrong\n",
    "\n",
    "### Lambda function\n",
    "\n",
    "lst= lambda x : sum(x)/len(x)\n",
    "lst([10,20,30])\n",
    "\n",
    "\n"
   ]
  },
  {
   "cell_type": "code",
   "execution_count": 43,
   "metadata": {},
   "outputs": [],
   "source": [
    "##2) Palindrome\n",
    "\n",
    "def palindrome(text):\n",
    "    if text==text[::-1]:\n",
    "        return \"Palindrome\"\n",
    "\n",
    "def palindrome_using_forloop(text):\n",
    "    text1=[]\n",
    "    for i in range(len(text)-1,-1,-1):\n",
    "        text1.append(text[i])\n",
    "    text1=\"\".join(text1)\n",
    "    if text==text1:\n",
    "        return \"palindrome\""
   ]
  },
  {
   "cell_type": "code",
   "execution_count": 42,
   "metadata": {},
   "outputs": [
    {
     "name": "stdout",
     "output_type": "stream",
     "text": [
      "madam\n"
     ]
    },
    {
     "data": {
      "text/plain": [
       "'palindrome'"
      ]
     },
     "execution_count": 42,
     "metadata": {},
     "output_type": "execute_result"
    }
   ],
   "source": [
    "palindrome_using_forloop(\"madam\")"
   ]
  },
  {
   "cell_type": "code",
   "execution_count": 23,
   "metadata": {},
   "outputs": [
    {
     "data": {
      "text/plain": [
       "'Palindrome'"
      ]
     },
     "execution_count": 23,
     "metadata": {},
     "output_type": "execute_result"
    }
   ],
   "source": [
    "palindrome(\"madam\")"
   ]
  },
  {
   "cell_type": "code",
   "execution_count": null,
   "metadata": {},
   "outputs": [],
   "source": []
  }
 ],
 "metadata": {
  "kernelspec": {
   "display_name": "Python 3",
   "language": "python",
   "name": "python3"
  },
  "language_info": {
   "codemirror_mode": {
    "name": "ipython",
    "version": 3
   },
   "file_extension": ".py",
   "mimetype": "text/x-python",
   "name": "python",
   "nbconvert_exporter": "python",
   "pygments_lexer": "ipython3",
   "version": "3.8.10"
  }
 },
 "nbformat": 4,
 "nbformat_minor": 2
}
