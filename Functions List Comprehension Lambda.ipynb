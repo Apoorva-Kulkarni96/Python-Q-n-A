{
 "cells": [
  {
   "cell_type": "code",
   "execution_count": 14,
   "metadata": {},
   "outputs": [
    {
     "data": {
      "text/plain": [
       "20.0"
      ]
     },
     "execution_count": 14,
     "metadata": {},
     "output_type": "execute_result"
    }
   ],
   "source": [
    "##1) Write a function that takes a list of numbers  and retuen their average\n",
    "\n",
    "##function\n",
    "\n",
    "def average(nums):\n",
    "    if len(nums)==0:\n",
    "        return\"Invalid\"\n",
    "    avg=sum(nums)/len(nums)\n",
    "    return avg\n",
    "\n",
    "## List Comprehension\n",
    "nums=[10,20,30]\n",
    "avg=[sum(nums)/len(nums) for i in nums if nums!=0] ## Technically wrong\n",
    "\n",
    "### Lambda function\n",
    "\n",
    "lst= lambda x : sum(x)/len(x)\n",
    "lst([10,20,30])\n",
    "\n",
    "\n"
   ]
  },
  {
   "cell_type": "code",
   "execution_count": 43,
   "metadata": {},
   "outputs": [],
   "source": [
    "##2) Palindrome\n",
    "\n",
    "def palindrome(text):\n",
    "    if text==text[::-1]:\n",
    "        return \"Palindrome\"\n",
    "\n",
    "def palindrome_using_forloop(text):\n",
    "    text1=[]\n",
    "    for i in range(len(text)-1,-1,-1):\n",
    "        text1.append(text[i])\n",
    "    text1=\"\".join(text1)\n",
    "    if text==text1:\n",
    "        return \"palindrome\""
   ]
  },
  {
   "cell_type": "code",
   "execution_count": 42,
   "metadata": {},
   "outputs": [
    {
     "name": "stdout",
     "output_type": "stream",
     "text": [
      "madam\n"
     ]
    },
    {
     "data": {
      "text/plain": [
       "'palindrome'"
      ]
     },
     "execution_count": 42,
     "metadata": {},
     "output_type": "execute_result"
    }
   ],
   "source": [
    "palindrome_using_forloop(\"madam\")"
   ]
  },
  {
   "cell_type": "code",
   "execution_count": 23,
   "metadata": {},
   "outputs": [
    {
     "data": {
      "text/plain": [
       "'Palindrome'"
      ]
     },
     "execution_count": 23,
     "metadata": {},
     "output_type": "execute_result"
    }
   ],
   "source": [
    "palindrome(\"madam\")"
   ]
  },
  {
   "cell_type": "markdown",
   "metadata": {},
   "source": [
    "### LIST COMPREHENSION"
   ]
  },
  {
   "cell_type": "code",
   "execution_count": 2,
   "metadata": {},
   "outputs": [
    {
     "data": {
      "text/plain": [
       "['hello', 'world']"
      ]
     },
     "execution_count": 2,
     "metadata": {},
     "output_type": "execute_result"
    }
   ],
   "source": [
    "#3) From a list of words, make a new list with only words longer than 3 letters.\n",
    "words = [\"hi\", \"hello\", \"sun\", \"world\"]\n",
    "# Output: ['hello', 'world']\n",
    "\n",
    "long_words=[word for word in words if len(word)>3]\n",
    "long_words"
   ]
  },
  {
   "cell_type": "code",
   "execution_count": 3,
   "metadata": {},
   "outputs": [
    {
     "data": {
      "text/plain": [
       "[0, 3, 5, 6, 9, 10, 12, 15, 18, 20]"
      ]
     },
     "execution_count": 3,
     "metadata": {},
     "output_type": "execute_result"
    }
   ],
   "source": [
    "#4)4. Create a list of all numbers from 1 to 20 that are divisible by 3 or 5.\n",
    "\n",
    "lst=[num for num in range(21) if (num%3==0) or (num%5==0)]\n",
    "lst"
   ]
  },
  {
   "cell_type": "markdown",
   "metadata": {},
   "source": [
    "### LAMBDA FUNCTIONS"
   ]
  },
  {
   "cell_type": "code",
   "execution_count": 9,
   "metadata": {},
   "outputs": [
    {
     "data": {
      "text/plain": [
       "[2, 4, 6, 8, 10]"
      ]
     },
     "execution_count": 9,
     "metadata": {},
     "output_type": "execute_result"
    }
   ],
   "source": [
    "#5)Use map() and lambda to double each number in the list.\n",
    "\n",
    "nums= [1,2,3,4,5]\n",
    "\n",
    "lst=list(map(lambda x : x *2,nums))\n",
    "lst"
   ]
  },
  {
   "cell_type": "code",
   "execution_count": 13,
   "metadata": {},
   "outputs": [
    {
     "data": {
      "text/plain": [
       "['Apoorva', 'Anukusha', 'Anu']"
      ]
     },
     "execution_count": 13,
     "metadata": {},
     "output_type": "execute_result"
    }
   ],
   "source": [
    "#6)Use filter() and lambda to keep only names starting with 'A'.\n",
    "lst=[\"Apoorva\", \"Vijay\",\"Anukusha\",\"Anu\",\"Nitin\"]\n",
    "temp=list(filter(lambda name : name.startswith(\"A\"), lst))\n",
    "temp"
   ]
  },
  {
   "cell_type": "code",
   "execution_count": 15,
   "metadata": {},
   "outputs": [
    {
     "data": {
      "text/plain": [
       "['Apoorva', 'Anukusha', 'Anu']"
      ]
     },
     "execution_count": 15,
     "metadata": {},
     "output_type": "execute_result"
    }
   ],
   "source": [
    "temp =[name for name in lst if name.startswith(\"A\")]\n",
    "temp"
   ]
  },
  {
   "cell_type": "markdown",
   "metadata": {},
   "source": [
    "### FUNCTIONS"
   ]
  },
  {
   "cell_type": "code",
   "execution_count": 17,
   "metadata": {},
   "outputs": [],
   "source": [
    "#7)Problem: Write a function that counts how many vowels are in a string.\n",
    "\n",
    "def count_vowels(text):\n",
    "    count=0\n",
    "    vow='AEIOUaeiou'\n",
    "    for i in text:\n",
    "        if i in vow:\n",
    "            count+=1\n",
    "    return count"
   ]
  },
  {
   "cell_type": "code",
   "execution_count": 19,
   "metadata": {},
   "outputs": [
    {
     "data": {
      "text/plain": [
       "6"
      ]
     },
     "execution_count": 19,
     "metadata": {},
     "output_type": "execute_result"
    }
   ],
   "source": [
    "count_vowels(\"PYTHON IS FUN TO LEARN\")"
   ]
  },
  {
   "cell_type": "code",
   "execution_count": null,
   "metadata": {},
   "outputs": [],
   "source": [
    "#8)Reverse the string "
   ]
  },
  {
   "cell_type": "code",
   "execution_count": 26,
   "metadata": {},
   "outputs": [],
   "source": [
    "def rev_str(text):\n",
    "    rev=[]\n",
    "    for i in range(len(text)-1,-1,-1):\n",
    "        rev.append(text[i])\n",
    "    new_str=\"\".join(rev)\n",
    "    return new_str"
   ]
  },
  {
   "cell_type": "code",
   "execution_count": 27,
   "metadata": {},
   "outputs": [
    {
     "data": {
      "text/plain": [
       "'avroopa'"
      ]
     },
     "execution_count": 27,
     "metadata": {},
     "output_type": "execute_result"
    }
   ],
   "source": [
    "rev_str(\"apoorva\")"
   ]
  },
  {
   "cell_type": "code",
   "execution_count": 28,
   "metadata": {},
   "outputs": [],
   "source": [
    "#9)stair pattern\n",
    "\n",
    "def stair(n):\n",
    "    for i in range(1,n+1):\n",
    "        for j in range(i):\n",
    "            print(\"*\", end=\"\")\n",
    "        print()"
   ]
  },
  {
   "cell_type": "code",
   "execution_count": 29,
   "metadata": {},
   "outputs": [
    {
     "name": "stdout",
     "output_type": "stream",
     "text": [
      "*\n",
      "**\n",
      "***\n",
      "****\n",
      "*****\n"
     ]
    }
   ],
   "source": [
    "stair(5)"
   ]
  },
  {
   "cell_type": "code",
   "execution_count": 33,
   "metadata": {},
   "outputs": [
    {
     "name": "stdout",
     "output_type": "stream",
     "text": [
      "*****\n",
      "****\n",
      "***\n",
      "**\n",
      "*\n"
     ]
    }
   ],
   "source": [
    "#10)Reverse stair\n",
    "\n",
    "def rev_stair(n):\n",
    "    for i in range(n,0,-1):\n",
    "        for j in range(i):\n",
    "            print(\"*\", end=\"\")\n",
    "        print()\n",
    "        \n",
    "rev_stair(5)           "
   ]
  },
  {
   "cell_type": "code",
   "execution_count": 65,
   "metadata": {},
   "outputs": [],
   "source": [
    "#11)list of string\n",
    "\n",
    "\n",
    "def rev_list(lst):\n",
    "    new_lst=[]\n",
    "    for i in lst:\n",
    "        word=\"\"\n",
    "        for j in range(len(i)-1,-1,-1):\n",
    "            word=word+i[j]\n",
    "        new_lst.append(word)\n",
    "    return new_lst"
   ]
  },
  {
   "cell_type": "code",
   "execution_count": 74,
   "metadata": {},
   "outputs": [
    {
     "data": {
      "text/plain": [
       "['elppa', 'ognam', 'ananab']"
      ]
     },
     "execution_count": 74,
     "metadata": {},
     "output_type": "execute_result"
    }
   ],
   "source": [
    "rev_list([\"apple\",\"mango\",\"banana\"])"
   ]
  },
  {
   "cell_type": "code",
   "execution_count": 83,
   "metadata": {},
   "outputs": [],
   "source": [
    "#12) Find factorial of a number (using loop).\n",
    "def fact(n):\n",
    "    if (n==0) or (n==1):\n",
    "        return 1\n",
    "    return n*fact(n-1)"
   ]
  },
  {
   "cell_type": "code",
   "execution_count": 84,
   "metadata": {},
   "outputs": [
    {
     "data": {
      "text/plain": [
       "120"
      ]
     },
     "execution_count": 84,
     "metadata": {},
     "output_type": "execute_result"
    }
   ],
   "source": [
    "fact(5)"
   ]
  },
  {
   "cell_type": "code",
   "execution_count": 98,
   "metadata": {},
   "outputs": [],
   "source": [
    "#13) GCD\n",
    "a,b=200,80\n",
    "def GCD(a,b):\n",
    "    for i in range(max(a,b),0,-1):\n",
    "        if(a%i==0) and (b%i==0):\n",
    "            return i\n"
   ]
  },
  {
   "cell_type": "code",
   "execution_count": 99,
   "metadata": {},
   "outputs": [
    {
     "data": {
      "text/plain": [
       "40"
      ]
     },
     "execution_count": 99,
     "metadata": {},
     "output_type": "execute_result"
    }
   ],
   "source": [
    "GCD(200, 80)"
   ]
  },
  {
   "cell_type": "code",
   "execution_count": 101,
   "metadata": {},
   "outputs": [],
   "source": [
    "#14) count unique alphabets in string\n",
    "##input ='aaabbbccddeabc'\n",
    "## Output=abcde\n",
    "def uniq(string):\n",
    "    store=\"\"\n",
    "    for i in range(0,len(string)):\n",
    "        if string[i] in store:\n",
    "            pass\n",
    "        else:\n",
    "            store=store+string[i]\n",
    "    return store\n",
    "        "
   ]
  },
  {
   "cell_type": "code",
   "execution_count": 103,
   "metadata": {},
   "outputs": [
    {
     "data": {
      "text/plain": [
       "'abcde'"
      ]
     },
     "execution_count": 103,
     "metadata": {},
     "output_type": "execute_result"
    }
   ],
   "source": [
    "uniq(\"aaabbbccddeabc\")"
   ]
  },
  {
   "cell_type": "code",
   "execution_count": 105,
   "metadata": {},
   "outputs": [],
   "source": [
    "def uniq(string):\n",
    "    dic={}\n",
    "    for i in string:\n",
    "        dic[i]=dic.get(i,0)+1\n",
    "    return dic"
   ]
  },
  {
   "cell_type": "code",
   "execution_count": 106,
   "metadata": {},
   "outputs": [
    {
     "data": {
      "text/plain": [
       "{'a': 4, 'b': 4, 'c': 3, 'd': 2, 'e': 1}"
      ]
     },
     "execution_count": 106,
     "metadata": {},
     "output_type": "execute_result"
    }
   ],
   "source": [
    "uniq(\"aaabbbccddeabc\")"
   ]
  },
  {
   "cell_type": "code",
   "execution_count": 130,
   "metadata": {},
   "outputs": [],
   "source": [
    "#15)Find all prime numbers up to N.\n",
    "\n",
    "def prime(num):\n",
    "    prime_num=[]\n",
    "    \n",
    "    i=j=0\n",
    "    for i in range(2,num+1):\n",
    "        is_prime=True\n",
    "        \n",
    "        for j in range(2, int(i**0.5)+1):\n",
    "            if i%j==0:\n",
    "                is_prime=False\n",
    "                break\n",
    "        if is_prime:\n",
    "            prime_num.append(i)\n",
    "    return prime_num"
   ]
  },
  {
   "cell_type": "code",
   "execution_count": 142,
   "metadata": {},
   "outputs": [
    {
     "data": {
      "text/plain": [
       "[2, 3, 5, 7, 11, 13, 17, 19, 23, 29, 31, 37, 41, 43, 47]"
      ]
     },
     "execution_count": 142,
     "metadata": {},
     "output_type": "execute_result"
    }
   ],
   "source": [
    "prime(50)"
   ]
  },
  {
   "cell_type": "code",
   "execution_count": 149,
   "metadata": {},
   "outputs": [],
   "source": [
    "#16)Return the Fibonacci series up to N terms.\n",
    "\n",
    "def fibonacci(num):\n",
    "    if num==0:\n",
    "        return 0\n",
    "    if num==1:\n",
    "        return 1\n",
    "    return fibonacci(num-1)+fibonacci(num-2)\n",
    "\n",
    "def fibo(num):\n",
    "    a,b=0,1\n",
    "    fib=[]\n",
    "    if num == 0:\n",
    "        return 0\n",
    "    if num==1:\n",
    "        return 1\n",
    "    for i in range(num):\n",
    "        fib.append(a)\n",
    "        a,b=b,a+b\n",
    "    return fib"
   ]
  },
  {
   "cell_type": "code",
   "execution_count": 150,
   "metadata": {},
   "outputs": [
    {
     "data": {
      "text/plain": [
       "55"
      ]
     },
     "execution_count": 150,
     "metadata": {},
     "output_type": "execute_result"
    }
   ],
   "source": [
    "fibonacci(10)"
   ]
  },
  {
   "cell_type": "code",
   "execution_count": 157,
   "metadata": {},
   "outputs": [],
   "source": [
    "def fibo(num):\n",
    "    a,b=0,1\n",
    "    fib=[]\n",
    "    if num == 0:\n",
    "        return 0\n",
    "    if num==1:\n",
    "        return 1\n",
    "    for i in range(num):\n",
    "        fib.append(a)\n",
    "        a,b=b,a+b\n",
    "    return fib"
   ]
  },
  {
   "cell_type": "code",
   "execution_count": 161,
   "metadata": {},
   "outputs": [
    {
     "data": {
      "text/plain": [
       "[0, 1, 1, 2, 3, 5, 8, 13, 21, 34]"
      ]
     },
     "execution_count": 161,
     "metadata": {},
     "output_type": "execute_result"
    }
   ],
   "source": [
    "fibo(10)"
   ]
  },
  {
   "cell_type": "markdown",
   "metadata": {},
   "source": [
    "\n",
    "## 2. List Comprehension (10 Problems)\n",
    "\n",
    "Easy – Generate a list of squares from 1 to 10.\n",
    "\n",
    "Easy – Filter only even numbers from a list.\n",
    "\n",
    "Easy – Convert all strings in a list to lowercase.\n",
    "\n",
    "Medium – Get all words longer than 4 characters.\n",
    "\n",
    "Medium – Create a list of (number, square) for numbers divisible by 3.\n",
    "\n",
    "Medium – Flatten a 2D list.\n",
    "\n",
    "\n",
    "Hard – Replace all negative numbers in a list with 0.\n",
    "\n",
    "Hard – Extract digits from a string into a list.\n",
    "\n",
    "Hard – Remove duplicates from a list using set + comprehension.\n",
    "\n",
    "Very Hard – Create a matrix (nested list) of N×N filled with 1s.\n",
    "\n"
   ]
  },
  {
   "cell_type": "code",
   "execution_count": 167,
   "metadata": {},
   "outputs": [
    {
     "data": {
      "text/plain": [
       "[0, 1, 4, 9, 16, 25, 36, 49, 64, 81, 100]"
      ]
     },
     "execution_count": 167,
     "metadata": {},
     "output_type": "execute_result"
    }
   ],
   "source": [
    "#17)Generate a list of squares from 1 to 10.\n",
    "num=10\n",
    "sqr=[i*i for i in range(num+1)]\n",
    "sqr"
   ]
  },
  {
   "cell_type": "code",
   "execution_count": 169,
   "metadata": {},
   "outputs": [
    {
     "data": {
      "text/plain": [
       "[0, 2, 4, 6, 8]"
      ]
     },
     "execution_count": 169,
     "metadata": {},
     "output_type": "execute_result"
    }
   ],
   "source": [
    "#18)Filter only even numbers from a list.\n",
    "n=10\n",
    "num=[i for i in range(n) if i%2==0]\n",
    "num"
   ]
  },
  {
   "cell_type": "code",
   "execution_count": 176,
   "metadata": {},
   "outputs": [
    {
     "name": "stdout",
     "output_type": "stream",
     "text": [
      "apoorva\n"
     ]
    }
   ],
   "source": [
    "#19)Convert all strings in a list to lowercase.\n",
    "text=\"ApOOrva\"\n",
    "case=[\"\".join(i.lower() for i in text)]\n",
    "print(case[0])"
   ]
  },
  {
   "cell_type": "code",
   "execution_count": 178,
   "metadata": {},
   "outputs": [
    {
     "data": {
      "text/plain": [
       "['apple', 'mango', 'banana']"
      ]
     },
     "execution_count": 178,
     "metadata": {},
     "output_type": "execute_result"
    }
   ],
   "source": [
    "#20)Get all words longer than 4 characters.\n",
    "lst=[\"apple\",\"mango\",\"banana\",\"fig\"]\n",
    "long_words=[i for i in lst if len(i)>=4]\n",
    "long_words"
   ]
  },
  {
   "cell_type": "code",
   "execution_count": 180,
   "metadata": {},
   "outputs": [
    {
     "data": {
      "text/plain": [
       "[0, 3, 6, 9]"
      ]
     },
     "execution_count": 180,
     "metadata": {},
     "output_type": "execute_result"
    }
   ],
   "source": [
    "#21)Create a list of (number, square) for numbers divisible by 3.\n",
    "n=10\n",
    "div=[i for i in range(n) if i%3==0]\n",
    "div"
   ]
  },
  {
   "cell_type": "code",
   "execution_count": 191,
   "metadata": {},
   "outputs": [
    {
     "data": {
      "text/plain": [
       "[1, 2, 3, 4, 5, 6]"
      ]
     },
     "execution_count": 191,
     "metadata": {},
     "output_type": "execute_result"
    }
   ],
   "source": [
    "#22)Flatten a 2D list.\n",
    "a=[[1,2,3],[4,5,6]]\n",
    "lst2=[s for i in a for s in i]\n",
    "lst2"
   ]
  },
  {
   "cell_type": "code",
   "execution_count": 197,
   "metadata": {},
   "outputs": [
    {
     "data": {
      "text/plain": [
       "[1, 2, 3]"
      ]
     },
     "execution_count": 197,
     "metadata": {},
     "output_type": "execute_result"
    }
   ],
   "source": [
    "#23)Replace all negative numbers in a list with 0.\n",
    "A=[1,-1,2,3,-9,0,-7]\n",
    "lst3=[i for i in A if i>0]\n",
    "lst3"
   ]
  },
  {
   "cell_type": "code",
   "execution_count": 203,
   "metadata": {},
   "outputs": [
    {
     "data": {
      "text/plain": [
       "['1', '2', '3', '1', '9', '9', '6']"
      ]
     },
     "execution_count": 203,
     "metadata": {},
     "output_type": "execute_result"
    }
   ],
   "source": [
    "#24)Extract digits from a string into a list.\n",
    "\n",
    "string=\"Apoo123rva1996\"\n",
    "\n",
    "lst4=[i for i in string if i.isdigit()]\n",
    "lst4"
   ]
  },
  {
   "cell_type": "code",
   "execution_count": 209,
   "metadata": {},
   "outputs": [
    {
     "data": {
      "text/plain": [
       "[{'A', 'B', 'C', 'D'}]"
      ]
     },
     "execution_count": 209,
     "metadata": {},
     "output_type": "execute_result"
    }
   ],
   "source": [
    "#25)Remove duplicates from a list using set + comprehension.\n",
    "lst=[\"A\",\"B\",\"C\",\"A\",\"D\",\"B\"]\n",
    "lst5=[{x for x in lst}]\n",
    "lst5"
   ]
  },
  {
   "cell_type": "code",
   "execution_count": 214,
   "metadata": {},
   "outputs": [
    {
     "data": {
      "text/plain": [
       "[[1, 1, 1], [1, 1, 1], [1, 1, 1]]"
      ]
     },
     "execution_count": 214,
     "metadata": {},
     "output_type": "execute_result"
    }
   ],
   "source": [
    "#26)Create a matrix (nested list) of N×N filled with 1s.\n",
    "n=3\n",
    "create_matrix=[[1 for _ in range(n)] for _ in range(n)]\n",
    "create_matrix"
   ]
  },
  {
   "cell_type": "markdown",
   "metadata": {},
   "source": [
    "### 3. Lambda Functions (10 Problems)\n",
    "Easy – Add 5 to a number.\n",
    "\n",
    "Easy – Multiply two numbers.\n",
    "\n",
    "Easy – Get the length of a string.\n",
    "\n",
    "Medium – Use map() + lambda to get squares of all list elements.\n",
    "\n",
    "Medium – Use filter() + lambda to keep strings starting with 'a'.\n",
    "\n",
    "Medium – Sort a list of tuples by second element using lambda.\n",
    "\n",
    "Hard – Use reduce() + lambda to calculate the product of a list.\n",
    "\n",
    "Hard – Use lambda inside sorted() to sort strings by length.\n",
    "\n",
    "Very Hard – Sort list of dictionaries by a key using lambda.\n",
    "\n",
    "Very Hard – Chain map(), filter(), lambda to get even squares above 10.\n",
    "\n",
    "Note: Complex logic like state tracking or multi-step conditionals → not possible with lambda."
   ]
  },
  {
   "cell_type": "code",
   "execution_count": null,
   "metadata": {},
   "outputs": [],
   "source": []
  },
  {
   "cell_type": "code",
   "execution_count": null,
   "metadata": {},
   "outputs": [],
   "source": []
  },
  {
   "cell_type": "code",
   "execution_count": null,
   "metadata": {},
   "outputs": [],
   "source": []
  },
  {
   "cell_type": "code",
   "execution_count": null,
   "metadata": {},
   "outputs": [],
   "source": []
  },
  {
   "cell_type": "code",
   "execution_count": null,
   "metadata": {},
   "outputs": [],
   "source": []
  },
  {
   "cell_type": "code",
   "execution_count": null,
   "metadata": {},
   "outputs": [],
   "source": []
  }
 ],
 "metadata": {
  "kernelspec": {
   "display_name": "Python 3",
   "language": "python",
   "name": "python3"
  },
  "language_info": {
   "codemirror_mode": {
    "name": "ipython",
    "version": 3
   },
   "file_extension": ".py",
   "mimetype": "text/x-python",
   "name": "python",
   "nbconvert_exporter": "python",
   "pygments_lexer": "ipython3",
   "version": "3.8.10"
  }
 },
 "nbformat": 4,
 "nbformat_minor": 2
}
