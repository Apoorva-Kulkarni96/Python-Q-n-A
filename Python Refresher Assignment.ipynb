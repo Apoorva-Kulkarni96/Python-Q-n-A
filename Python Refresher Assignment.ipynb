{
 "cells": [
  {
   "cell_type": "code",
   "execution_count": 42,
   "metadata": {},
   "outputs": [
    {
     "name": "stdout",
     "output_type": "stream",
     "text": [
      "15\n"
     ]
    }
   ],
   "source": [
    "# What will be the output of the following code?\n",
    "x = 5  \n",
    "y = \"10\"\n",
    "print(x + int(y))"
   ]
  },
  {
   "cell_type": "code",
   "execution_count": 43,
   "metadata": {},
   "outputs": [
    {
     "name": "stdout",
     "output_type": "stream",
     "text": [
      "121\n"
     ]
    }
   ],
   "source": [
    "#What is the output of the following code?\n",
    "b = b\"Python\"\n",
    "print(b[1])"
   ]
  },
  {
   "cell_type": "code",
   "execution_count": null,
   "metadata": {},
   "outputs": [],
   "source": [
    "Which of the following operations will raise a TypeError?\n",
    "1.my_set = {1, 2, 3}\n",
    "\n",
    "2.my_set.add([4, 5])\n",
    "\n",
    "3.my_set.update([6, 7])\n",
    "\n",
    "4.my_set.remove(1)"
   ]
  },
  {
   "cell_type": "code",
   "execution_count": null,
   "metadata": {},
   "outputs": [],
   "source": [
    "The operation that will raise a TypeError is:\n",
    "\n",
    "✅ Option 2: my_set.add([4, 5])\n",
    "\n",
    "Explanation:\n",
    "my_set = {1, 2, 3} → ✅ Valid\n",
    "\n",
    "This initializes a set with elements {1, 2, 3}.\n",
    "\n",
    "my_set.add([4, 5]) → ❌ Raises TypeError\n",
    "\n",
    "The .add() method adds a single element to a set.\n",
    "\n",
    "However, sets in Python can only contain hashable (immutable) elements.\n",
    "\n",
    "Lists ([4, 5]) are mutable, so they are not hashable, causing a TypeError.\n",
    "\n",
    "my_set.update([6, 7]) → ✅ Valid\n",
    "\n",
    "The .update() method takes an iterable and adds each element individually.\n",
    "\n",
    "Here, [6, 7] is a list, but its elements (6 and 7) are integers, which are hashable.\n",
    "\n",
    "my_set.remove(1) → ✅ Valid\n",
    "\n",
    "The .remove() method removes the specified element (1) from the set.\n",
    "\n",
    "If 1 exists in my_set, it will be removed.\n",
    "\n",
    "⚠️ If 1 was not in the set, it would raise a KeyError, but not a TypeError.\n",
    "\n",
    "Conclusion:\n",
    "The correct answer is Option 2 (my_set.add([4, 5]))."
   ]
  },
  {
   "cell_type": "code",
   "execution_count": null,
   "metadata": {},
   "outputs": [],
   "source": [
    "Given the dictionary d = {'a': 1, 'b': 2}, what will d.get('c', 3) return?\n",
    "1.1\n",
    "\n",
    "2.2\n",
    "\n",
    "3.None\n",
    "\n",
    "4.3"
   ]
  },
  {
   "cell_type": "code",
   "execution_count": null,
   "metadata": {},
   "outputs": [],
   "source": [
    "The correct answer is:\n",
    "\n",
    "✅ 4. 3\n",
    "\n",
    "Explanation:\n",
    "The .get() method in a dictionary retrieves the value associated with the given key.\n",
    "\n",
    "If the key exists, it returns the corresponding value.\n",
    "\n",
    "If the key does not exist, it returns the default value provided as the second argument.\n",
    "\n",
    "Given dictionary:\n",
    "python\n",
    "Copy\n",
    "Edit\n",
    "d = {'a': 1, 'b': 2}\n",
    "'c' is not a key in d.\n",
    "\n",
    "d.get('c', 3) means:\n",
    "\n",
    "Look for the key 'c' in d.\n",
    "\n",
    "If it exists, return its value.\n",
    "\n",
    "If it does not exist, return the default value 3.\n",
    "\n",
    "Since 'c' is not present, the function returns 3. ✅"
   ]
  },
  {
   "cell_type": "code",
   "execution_count": 44,
   "metadata": {},
   "outputs": [
    {
     "name": "stdout",
     "output_type": "stream",
     "text": [
      "{'a': 1, 'b': 2, 'c': 3}\n"
     ]
    }
   ],
   "source": [
    "\n",
    "my_dict = {1: 'a', 2: 'b', 3: 'c'}\n",
    "my_dict2 = {value: key for key, value in my_dict.items()}\n",
    "print(my_dict2)"
   ]
  },
  {
   "cell_type": "code",
   "execution_count": null,
   "metadata": {},
   "outputs": [],
   "source": []
  },
  {
   "cell_type": "code",
   "execution_count": null,
   "metadata": {},
   "outputs": [],
   "source": []
  },
  {
   "cell_type": "code",
   "execution_count": null,
   "metadata": {},
   "outputs": [],
   "source": []
  },
  {
   "cell_type": "code",
   "execution_count": null,
   "metadata": {},
   "outputs": [],
   "source": []
  },
  {
   "cell_type": "code",
   "execution_count": null,
   "metadata": {},
   "outputs": [],
   "source": []
  }
 ],
 "metadata": {
  "kernelspec": {
   "display_name": "Python 3",
   "language": "python",
   "name": "python3"
  },
  "language_info": {
   "codemirror_mode": {
    "name": "ipython",
    "version": 3
   },
   "file_extension": ".py",
   "mimetype": "text/x-python",
   "name": "python",
   "nbconvert_exporter": "python",
   "pygments_lexer": "ipython3",
   "version": "3.8.10"
  }
 },
 "nbformat": 4,
 "nbformat_minor": 2
}
