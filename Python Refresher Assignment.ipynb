{
 "cells": [
  {
   "cell_type": "code",
   "execution_count": 42,
   "metadata": {},
   "outputs": [
    {
     "name": "stdout",
     "output_type": "stream",
     "text": [
      "15\n"
     ]
    }
   ],
   "source": [
    "# What will be the output of the following code?\n",
    "x = 5  \n",
    "y = \"10\"\n",
    "print(x + int(y))"
   ]
  },
  {
   "cell_type": "code",
   "execution_count": 43,
   "metadata": {},
   "outputs": [
    {
     "name": "stdout",
     "output_type": "stream",
     "text": [
      "121\n"
     ]
    }
   ],
   "source": [
    "#What is the output of the following code?\n",
    "b = b\"Python\"\n",
    "print(b[1])"
   ]
  },
  {
   "cell_type": "code",
   "execution_count": null,
   "metadata": {},
   "outputs": [],
   "source": [
    "Which of the following operations will raise a TypeError?\n",
    "1.my_set = {1, 2, 3}\n",
    "\n",
    "2.my_set.add([4, 5])\n",
    "\n",
    "3.my_set.update([6, 7])\n",
    "\n",
    "4.my_set.remove(1)"
   ]
  },
  {
   "cell_type": "code",
   "execution_count": null,
   "metadata": {},
   "outputs": [],
   "source": [
    "The operation that will raise a TypeError is:\n",
    "\n",
    "✅ Option 2: my_set.add([4, 5])\n",
    "\n",
    "Explanation:\n",
    "my_set = {1, 2, 3} → ✅ Valid\n",
    "\n",
    "This initializes a set with elements {1, 2, 3}.\n",
    "\n",
    "my_set.add([4, 5]) → ❌ Raises TypeError\n",
    "\n",
    "The .add() method adds a single element to a set.\n",
    "\n",
    "However, sets in Python can only contain hashable (immutable) elements.\n",
    "\n",
    "Lists ([4, 5]) are mutable, so they are not hashable, causing a TypeError.\n",
    "\n",
    "my_set.update([6, 7]) → ✅ Valid\n",
    "\n",
    "The .update() method takes an iterable and adds each element individually.\n",
    "\n",
    "Here, [6, 7] is a list, but its elements (6 and 7) are integers, which are hashable.\n",
    "\n",
    "my_set.remove(1) → ✅ Valid\n",
    "\n",
    "The .remove() method removes the specified element (1) from the set.\n",
    "\n",
    "If 1 exists in my_set, it will be removed.\n",
    "\n",
    "⚠️ If 1 was not in the set, it would raise a KeyError, but not a TypeError.\n",
    "\n",
    "Conclusion:\n",
    "The correct answer is Option 2 (my_set.add([4, 5]))."
   ]
  },
  {
   "cell_type": "code",
   "execution_count": null,
   "metadata": {},
   "outputs": [],
   "source": [
    "Given the dictionary d = {'a': 1, 'b': 2}, what will d.get('c', 3) return?\n",
    "1.1\n",
    "\n",
    "2.2\n",
    "\n",
    "3.None\n",
    "\n",
    "4.3"
   ]
  },
  {
   "cell_type": "code",
   "execution_count": null,
   "metadata": {},
   "outputs": [],
   "source": [
    "The correct answer is:\n",
    "\n",
    "✅ 4. 3\n",
    "\n",
    "Explanation:\n",
    "The .get() method in a dictionary retrieves the value associated with the given key.\n",
    "\n",
    "If the key exists, it returns the corresponding value.\n",
    "\n",
    "If the key does not exist, it returns the default value provided as the second argument.\n",
    "\n",
    "Given dictionary:\n",
    "python\n",
    "Copy\n",
    "Edit\n",
    "d = {'a': 1, 'b': 2}\n",
    "'c' is not a key in d.\n",
    "\n",
    "d.get('c', 3) means:\n",
    "\n",
    "Look for the key 'c' in d.\n",
    "\n",
    "If it exists, return its value.\n",
    "\n",
    "If it does not exist, return the default value 3.\n",
    "\n",
    "Since 'c' is not present, the function returns 3. ✅"
   ]
  },
  {
   "cell_type": "code",
   "execution_count": 44,
   "metadata": {},
   "outputs": [
    {
     "name": "stdout",
     "output_type": "stream",
     "text": [
      "{'a': 1, 'b': 2, 'c': 3}\n"
     ]
    }
   ],
   "source": [
    "\n",
    "my_dict = {1: 'a', 2: 'b', 3: 'c'}\n",
    "my_dict2 = {value: key for key, value in my_dict.items()}\n",
    "print(my_dict2)"
   ]
  },
  {
   "cell_type": "code",
   "execution_count": null,
   "metadata": {},
   "outputs": [],
   "source": [
    "Problem Statement:\n",
    "\n",
    "What will be the output of the following code to find the GCD of 54 and 24 using Euclidean algorithm?\n",
    "\n",
    "def gcd(a, b):\n",
    "    while b != 0:\n",
    "        a, b = b, a % b\n",
    "    return a\n",
    "\n",
    "print(gcd(54, 24))"
   ]
  },
  {
   "cell_type": "code",
   "execution_count": 11,
   "metadata": {},
   "outputs": [
    {
     "name": "stdout",
     "output_type": "stream",
     "text": [
      "(1, [2, 3, 4])\n",
      "(1, [2, 3, 4, 5])\n"
     ]
    }
   ],
   "source": [
    "\n",
    "a = (1, [2, 3])\n",
    "b = a\n",
    "a[1].append(4)\n",
    "print(a)\n",
    "b[1].append(5)\n",
    "print(a)\n"
   ]
  },
  {
   "cell_type": "code",
   "execution_count": 8,
   "metadata": {},
   "outputs": [
    {
     "data": {
      "text/plain": [
       "(1, [2, 3, 4, 5])"
      ]
     },
     "execution_count": 8,
     "metadata": {},
     "output_type": "execute_result"
    }
   ],
   "source": [
    "b"
   ]
  },
  {
   "cell_type": "code",
   "execution_count": 9,
   "metadata": {},
   "outputs": [
    {
     "data": {
      "text/plain": [
       "(1, [2, 3, 4, 5])"
      ]
     },
     "execution_count": 9,
     "metadata": {},
     "output_type": "execute_result"
    }
   ],
   "source": [
    "a"
   ]
  },
  {
   "cell_type": "code",
   "execution_count": 12,
   "metadata": {},
   "outputs": [
    {
     "name": "stdout",
     "output_type": "stream",
     "text": [
      "{3}\n"
     ]
    }
   ],
   "source": []
  },
  {
   "cell_type": "code",
   "execution_count": 2,
   "metadata": {},
   "outputs": [
    {
     "name": "stdout",
     "output_type": "stream",
     "text": [
      "0 3\n",
      "0 2\n",
      "0 1\n",
      "1 3\n",
      "1 2\n",
      "2 3\n"
     ]
    }
   ],
   "source": [
    "###What will be the output of the following code snippet?\n",
    "for i in range(3):\n",
    "    for j in range(3, 0, -1):\n",
    "        if i == j:\n",
    "            break\n",
    "        print(i, j)"
   ]
  },
  {
   "cell_type": "code",
   "execution_count": 4,
   "metadata": {},
   "outputs": [
    {
     "name": "stdout",
     "output_type": "stream",
     "text": [
      "*****\n",
      "***\n",
      "*\n",
      "**\n",
      "*\n"
     ]
    }
   ],
   "source": [
    "###What will be the output of the following code?\n",
    "n = 5\n",
    "for i in range(n):\n",
    "    for j in range(i, n):\n",
    "        print(\"*\", end=\"\")\n",
    "        if i + j == n - 1:\n",
    "            break\n",
    "    print()"
   ]
  },
  {
   "cell_type": "code",
   "execution_count": 5,
   "metadata": {},
   "outputs": [
    {
     "name": "stdout",
     "output_type": "stream",
     "text": [
      "i=0, j=1\n",
      "i=0, j=2\n",
      "i=1, j=0\n",
      "i=1, j=2\n",
      "i=2, j=0\n",
      "i=2, j=1\n"
     ]
    }
   ],
   "source": [
    "###What will be the output of the following code?\n",
    "for i in range(3):\n",
    "    for j in range(3):\n",
    "        if i == j:\n",
    "            continue\n",
    "        print(f\"i={i}, j={j}\")\n"
   ]
  },
  {
   "cell_type": "code",
   "execution_count": 6,
   "metadata": {},
   "outputs": [
    {
     "name": "stdout",
     "output_type": "stream",
     "text": [
      "[1, 2, 3]\n",
      "[99, 2, 3, 4]\n"
     ]
    }
   ],
   "source": [
    "### Given the following code snippet, what will be the output?\n",
    "def tricky_function(lst):\n",
    "    lst = lst + [4]\n",
    "    lst[0] = 99\n",
    "    return lst\n",
    "\n",
    "my_list = [1, 2, 3]\n",
    "new_list = tricky_function(my_list)\n",
    "print(my_list)\n",
    "print(new_list)"
   ]
  },
  {
   "cell_type": "code",
   "execution_count": 7,
   "metadata": {},
   "outputs": [
    {
     "name": "stdout",
     "output_type": "stream",
     "text": [
      "[99, 2, 3, 4]\n",
      "[99, 2, 3, 4]\n"
     ]
    }
   ],
   "source": [
    "def tricky_function(lst):\n",
    "    lst.append(4)\n",
    "    lst[0] = 99\n",
    "    return lst\n",
    "\n",
    "my_list = [1, 2, 3]\n",
    "new_list = tricky_function(my_list)\n",
    "print(my_list)\n",
    "print(new_list)"
   ]
  },
  {
   "cell_type": "code",
   "execution_count": 11,
   "metadata": {},
   "outputs": [
    {
     "name": "stdout",
     "output_type": "stream",
     "text": [
      "(1, [2, 3, 4, 5])\n"
     ]
    }
   ],
   "source": [
    "#Given the following code, what will be the output?\n",
    "a = (1, [2, 3])\n",
    "b = a\n",
    "a[1].append(4)\n",
    "b[1].append(5)\n",
    "print(a)"
   ]
  },
  {
   "cell_type": "code",
   "execution_count": 12,
   "metadata": {},
   "outputs": [
    {
     "name": "stdout",
     "output_type": "stream",
     "text": [
      "{2, 3, 6, 7, (4, 5)}\n"
     ]
    }
   ],
   "source": [
    "#Given the following code, what will be the output?\n",
    "s = {1, 2, 3}\n",
    "s.add((4, 5))\n",
    "s.remove(1)\n",
    "s.update([6, 7])\n",
    "print(s)"
   ]
  },
  {
   "cell_type": "code",
   "execution_count": 13,
   "metadata": {},
   "outputs": [
    {
     "name": "stdout",
     "output_type": "stream",
     "text": [
      "1 -> 2 -> 3 -> None\n"
     ]
    }
   ],
   "source": [
    "class Node:\n",
    "    def __init__(self, value):\n",
    "        self.value = value\n",
    "        self.next = None\n",
    "\n",
    "class SinglyLinkedList:\n",
    "    def __init__(self):\n",
    "        self.head = None\n",
    "\n",
    "    def append(self, value):\n",
    "        if not self.head:\n",
    "            self.head = Node(value)\n",
    "        else:\n",
    "            current = self.head\n",
    "            while current.next:\n",
    "                current = current.next\n",
    "            current.next = Node(value)\n",
    "\n",
    "    def print_list(self):\n",
    "        current = self.head\n",
    "        while current:\n",
    "            print(current.value, end=\" -> \")\n",
    "            current = current.next\n",
    "        print(\"None\")\n",
    "\n",
    "ll = SinglyLinkedList()\n",
    "ll.append(1)\n",
    "ll.append(2)\n",
    "ll.append(3)\n",
    "ll.print_list()"
   ]
  },
  {
   "cell_type": "code",
   "execution_count": 14,
   "metadata": {},
   "outputs": [
    {
     "name": "stdout",
     "output_type": "stream",
     "text": [
      "1=2=3=4=5\n"
     ]
    }
   ],
   "source": [
    "print(1, 2, 3, 4, 5, sep = \"=\")"
   ]
  }
 ],
 "metadata": {
  "kernelspec": {
   "display_name": "Python 3",
   "language": "python",
   "name": "python3"
  },
  "language_info": {
   "codemirror_mode": {
    "name": "ipython",
    "version": 3
   },
   "file_extension": ".py",
   "mimetype": "text/x-python",
   "name": "python",
   "nbconvert_exporter": "python",
   "pygments_lexer": "ipython3",
   "version": "3.8.10"
  }
 },
 "nbformat": 4,
 "nbformat_minor": 2
}
