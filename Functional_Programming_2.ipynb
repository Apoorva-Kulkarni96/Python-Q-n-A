{
  "cells": [
    {
      "cell_type": "markdown",
      "id": "67ce2b34",
      "metadata": {
        "id": "67ce2b34"
      },
      "source": [
        "**Decorators**\n",
        "\n",
        "Decorators are powerful tools in Python, especially valuable in Data Science and Machine Learning (DSML) for improving code readability and reusability. They enable you to modify function behavior without changing the core code, enhancing modularity.\n",
        "\n",
        "**What Are Decorators?**\n",
        "\n",
        "Decorators are functions that take other functions as input and modify their behavior. In DSML, decorators are essential because they:\n",
        "\n",
        "1. **Promote Modularity:** Separate concerns, making it easy to apply specific functionality to different functions or methods.\n",
        "\n",
        "2. **Enhance Readability:** Streamline code by abstracting repetitive or non-essential logic, resulting in cleaner, focused functions.\n",
        "\n",
        "**Creating and Applying Decorators**\n",
        "\n",
        "To use decorators effectively:\n",
        "\n",
        "1. **Define the Decorator Function:** Create a regular Python function that takes another function as an argument. Customize the code inside the decorator function to enhance the behavior of the input function.\n",
        "\n",
        "2. **Apply the Decorator:** Prefix a function definition with \"@\" followed by the decorator name. This tells Python to apply the decorator to the function.\n",
        "\n",
        "3. **Use Decorated Functions:** Call the decorated function like any regular function. The decorator's code runs alongside the original function's code.\n",
        "\n",
        "**Logging Decorator**\n",
        "\n",
        "```python\n",
        "def log_function_call(func):\n",
        "    def wrapper(*args, **kwargs):\n",
        "        result = func(*args, **kwargs)\n",
        "        print(f\"Calling {func.__name__} with arguments {args} and keyword arguments {kwargs}\")\n",
        "        return result\n",
        "    return wrapper\n",
        "\n",
        "@log_function_call\n",
        "def add(a, b):\n",
        "    return a + b\n",
        "\n",
        "result = add(3, 4)\n",
        "```\n",
        "\n",
        "**Output:**\n",
        "\n",
        "```\n",
        "Calling add with arguments (3, 4) and keyword arguments {}\n",
        "```\n",
        "\n",
        "In this example, the `log_function_call` decorator logs function calls without changing the core `add` function's logic."
      ]
    },
    {
      "cell_type": "markdown",
      "id": "407d25bb",
      "metadata": {
        "id": "407d25bb"
      },
      "source": []
    },
    {
      "cell_type": "code",
      "execution_count": null,
      "id": "744820fa",
      "metadata": {
        "id": "744820fa",
        "outputId": "078de9b8-7a9d-45f6-97df-008f44469519"
      },
      "outputs": [
        {
          "name": "stdout",
          "output_type": "stream",
          "text": [
            "Executing add with arguments (5, 3) and keword arguments {}\n",
            "add has returned 8\n",
            "8\n"
          ]
        }
      ],
      "source": [
        "def log_execution(func):\n",
        "    def wrapper(*args , **kwargs):\n",
        "        print(f\"Executing {func.__name__} with arguments {args} and keword arguments {kwargs}\")\n",
        "        result = func(*args , **kwargs)\n",
        "\n",
        "        print(f\"{func.__name__} has returned {result}\")\n",
        "        return result\n",
        "    return wrapper\n",
        "\n",
        "@log_execution\n",
        "def add(a,b):\n",
        "    return a+b\n",
        "\n",
        "print(add(5,3))"
      ]
    },
    {
      "cell_type": "markdown",
      "id": "b7add3b9",
      "metadata": {
        "id": "b7add3b9"
      },
      "source": [
        "## Timing Decorator"
      ]
    },
    {
      "cell_type": "code",
      "execution_count": null,
      "id": "b503b602",
      "metadata": {
        "id": "b503b602"
      },
      "outputs": [],
      "source": [
        "import time\n",
        "\n",
        "def timing(func):\n",
        "    def wrapper1(*args , **kwargs):\n",
        "        start_time = time.time()\n",
        "        result = func(*args , **kwargs)\n",
        "        end_time = time.time()\n",
        "\n",
        "        print(f\"{func.__name__} took {end_time - start_time:.4f} seconds to execute\")\n",
        "        return result\n",
        "    return wrapper1"
      ]
    },
    {
      "cell_type": "code",
      "execution_count": null,
      "id": "14d5c4e9",
      "metadata": {
        "id": "14d5c4e9"
      },
      "outputs": [],
      "source": [
        "def debug(func):\n",
        "    def wrapper1(*args , **kwargs):\n",
        "        print(f\"Executing {func.__name__} with arguments {args} and keword arguments {kwargs}\")\n",
        "        result = func(*args , **kwargs)\n",
        "        print(f\"{func.__name__} has returned {result}\")\n",
        "        return result\n",
        "    return wrapper1"
      ]
    },
    {
      "cell_type": "code",
      "execution_count": null,
      "id": "69610ce5",
      "metadata": {
        "id": "69610ce5",
        "outputId": "1b3d3ad1-3626-4529-f2be-fea0924758c7"
      },
      "outputs": [
        {
          "name": "stdout",
          "output_type": "stream",
          "text": [
            "Executing compute_seq with arguments (3,) and keword arguments {}\n",
            "compute_seq has returned DONE\n",
            "wrapper1 took 10.0033 seconds to execute\n"
          ]
        },
        {
          "data": {
            "text/plain": [
              "'DONE'"
            ]
          },
          "execution_count": 5,
          "metadata": {},
          "output_type": "execute_result"
        }
      ],
      "source": [
        "\n",
        "@timing\n",
        "@debug\n",
        "def compute_seq(n):\n",
        "    @timing\n",
        "    def inner_func(x):\n",
        "        return x+1\n",
        "\n",
        "    time.sleep(10)\n",
        "    return \"DONE\"\n",
        "\n",
        "\n",
        "compute_seq(3)"
      ]
    },
    {
      "cell_type": "markdown",
      "id": "fabdcf44",
      "metadata": {
        "id": "fabdcf44"
      },
      "source": [
        "## GENERATORS"
      ]
    },
    {
      "cell_type": "code",
      "execution_count": null,
      "id": "74b00b0b",
      "metadata": {
        "id": "74b00b0b",
        "outputId": "f187633b-a368-4823-f70f-426333f5ba4c"
      },
      "outputs": [
        {
          "data": {
            "text/plain": [
              "1"
            ]
          },
          "execution_count": 6,
          "metadata": {},
          "output_type": "execute_result"
        }
      ],
      "source": [
        "def simple_generator():\n",
        "    return 1\n",
        "    return 2\n",
        "    return 3\n",
        "\n",
        "simple_generator()"
      ]
    },
    {
      "cell_type": "code",
      "execution_count": null,
      "id": "666c18e2",
      "metadata": {
        "id": "666c18e2"
      },
      "outputs": [],
      "source": [
        "def simple_generator():\n",
        "    yield 1\n",
        "    yield 2\n",
        "    yield 3"
      ]
    },
    {
      "cell_type": "code",
      "execution_count": null,
      "id": "f34d085c",
      "metadata": {
        "id": "f34d085c"
      },
      "outputs": [],
      "source": [
        "gen = simple_generator()"
      ]
    },
    {
      "cell_type": "code",
      "execution_count": null,
      "id": "c379eec2",
      "metadata": {
        "id": "c379eec2",
        "outputId": "970d3f09-9981-4acb-e494-5d4a456166b9"
      },
      "outputs": [
        {
          "data": {
            "text/plain": [
              "generator"
            ]
          },
          "execution_count": 30,
          "metadata": {},
          "output_type": "execute_result"
        }
      ],
      "source": [
        "type(gen)"
      ]
    },
    {
      "cell_type": "code",
      "execution_count": null,
      "id": "7044f997",
      "metadata": {
        "id": "7044f997",
        "outputId": "6c07abe1-364c-4454-8cff-cccdfaedf904"
      },
      "outputs": [
        {
          "data": {
            "text/plain": [
              "1"
            ]
          },
          "execution_count": 31,
          "metadata": {},
          "output_type": "execute_result"
        }
      ],
      "source": [
        "next(gen)"
      ]
    },
    {
      "cell_type": "code",
      "execution_count": null,
      "id": "17a577ed",
      "metadata": {
        "id": "17a577ed",
        "outputId": "792cc64f-8a19-436f-9341-e345522cf770"
      },
      "outputs": [
        {
          "data": {
            "text/plain": [
              "2"
            ]
          },
          "execution_count": 32,
          "metadata": {},
          "output_type": "execute_result"
        }
      ],
      "source": [
        "next(gen)"
      ]
    },
    {
      "cell_type": "code",
      "execution_count": null,
      "id": "a43cd643",
      "metadata": {
        "id": "a43cd643",
        "outputId": "4acce89e-0c46-470a-897a-337d2cf1d310"
      },
      "outputs": [
        {
          "data": {
            "text/plain": [
              "3"
            ]
          },
          "execution_count": 33,
          "metadata": {},
          "output_type": "execute_result"
        }
      ],
      "source": [
        "next(gen)"
      ]
    },
    {
      "cell_type": "code",
      "execution_count": null,
      "id": "ce6465e7",
      "metadata": {
        "id": "ce6465e7",
        "outputId": "938b612a-6c8d-4639-bbd8-13c1f4e84bba"
      },
      "outputs": [
        {
          "ename": "StopIteration",
          "evalue": "",
          "output_type": "error",
          "traceback": [
            "\u001b[0;31m---------------------------------------------------------------------------\u001b[0m",
            "\u001b[0;31mStopIteration\u001b[0m                             Traceback (most recent call last)",
            "Cell \u001b[0;32mIn[34], line 1\u001b[0m\n\u001b[0;32m----> 1\u001b[0m \u001b[38;5;28mnext\u001b[39m(gen)\n",
            "\u001b[0;31mStopIteration\u001b[0m: "
          ]
        }
      ],
      "source": [
        "next(gen)"
      ]
    },
    {
      "cell_type": "code",
      "execution_count": null,
      "id": "aaff2654",
      "metadata": {
        "id": "aaff2654"
      },
      "outputs": [],
      "source": [
        "def fibonacci_generator():\n",
        "    a,b = 0,1\n",
        "    while True:\n",
        "        yield a\n",
        "        a , b = b,a +b"
      ]
    },
    {
      "cell_type": "code",
      "execution_count": null,
      "id": "dc934530",
      "metadata": {
        "id": "dc934530",
        "outputId": "5eedce08-28c6-44ad-b6e3-64ec8f4abfe1"
      },
      "outputs": [
        {
          "data": {
            "text/plain": [
              "generator"
            ]
          },
          "execution_count": 15,
          "metadata": {},
          "output_type": "execute_result"
        }
      ],
      "source": [
        "fib_gen = fibonacci_generator()\n",
        "type(fib_gen)"
      ]
    },
    {
      "cell_type": "code",
      "execution_count": null,
      "id": "d35df9d4",
      "metadata": {
        "id": "d35df9d4",
        "outputId": "7995536e-1570-4cc0-e952-9972b4a0919f"
      },
      "outputs": [
        {
          "name": "stdout",
          "output_type": "stream",
          "text": [
            "6765\n",
            "10946\n",
            "17711\n",
            "28657\n",
            "46368\n",
            "75025\n",
            "121393\n",
            "196418\n",
            "317811\n",
            "514229\n"
          ]
        }
      ],
      "source": [
        "for _ in range(10):\n",
        "    print(next(fib_gen))"
      ]
    },
    {
      "cell_type": "code",
      "execution_count": null,
      "id": "90708707",
      "metadata": {
        "id": "90708707",
        "outputId": "51f88584-52ff-4027-b5b0-ee5d77825b2e"
      },
      "outputs": [
        {
          "name": "stdout",
          "output_type": "stream",
          "text": [
            "55\n"
          ]
        }
      ],
      "source": [
        "def squares(n):\n",
        "    for i in range(1,n+1):\n",
        "        yield i**2\n",
        "\n",
        "print(sum(squares(5)))\n"
      ]
    },
    {
      "cell_type": "code",
      "execution_count": null,
      "id": "33f358c2",
      "metadata": {
        "id": "33f358c2",
        "outputId": "9e3e03cd-fe32-4df0-b7e7-da8807f7374e"
      },
      "outputs": [
        {
          "name": "stdout",
          "output_type": "stream",
          "text": [
            "25\n"
          ]
        }
      ],
      "source": [
        "print(max(squares(5)))"
      ]
    },
    {
      "cell_type": "code",
      "execution_count": null,
      "id": "bcfcfffa",
      "metadata": {
        "id": "bcfcfffa",
        "outputId": "9e770036-3c0a-44c7-8409-0ac041b1192a"
      },
      "outputs": [
        {
          "name": "stdout",
          "output_type": "stream",
          "text": [
            "1\n"
          ]
        }
      ],
      "source": [
        "print(min(squares(5)))"
      ]
    },
    {
      "cell_type": "code",
      "execution_count": null,
      "id": "7ba3a0f0",
      "metadata": {
        "id": "7ba3a0f0",
        "outputId": "d639bdc2-28a5-436f-f126-daecac64ca4c"
      },
      "outputs": [
        {
          "data": {
            "text/plain": [
              "40320"
            ]
          },
          "execution_count": 27,
          "metadata": {},
          "output_type": "execute_result"
        }
      ],
      "source": [
        "## factorial using yield\n",
        "\n",
        "def fact():\n",
        "    fact = 1\n",
        "    n = 0\n",
        "\n",
        "    while True:\n",
        "        if n==0:\n",
        "            yield 1\n",
        "\n",
        "        else:\n",
        "            fact = fact * n\n",
        "            yield fact\n",
        "\n",
        "        n+=1\n",
        "\n",
        "def get_nth_value(gen_func , n):\n",
        "    gen = gen_func()\n",
        "    value = None\n",
        "    for _ in range(n):\n",
        "        value = next(gen)\n",
        "\n",
        "    return value\n",
        "\n",
        "\n",
        "get_nth_value(fact , 9)"
      ]
    },
    {
      "cell_type": "code",
      "execution_count": null,
      "id": "3abc3ee8",
      "metadata": {
        "id": "3abc3ee8",
        "outputId": "2de54274-3ec5-41b3-8322-b64d9c1eb0a7"
      },
      "outputs": [
        {
          "data": {
            "text/plain": [
              "<generator object fact at 0x1067d9e50>"
            ]
          },
          "execution_count": 24,
          "metadata": {},
          "output_type": "execute_result"
        }
      ],
      "source": [
        "fact_gen"
      ]
    },
    {
      "cell_type": "code",
      "execution_count": null,
      "id": "feca9c59",
      "metadata": {
        "id": "feca9c59",
        "outputId": "e578c1e1-f27b-44cc-c346-6e166e85bfee"
      },
      "outputs": [
        {
          "name": "stdout",
          "output_type": "stream",
          "text": [
            "3628800\n",
            "39916800\n",
            "479001600\n",
            "6227020800\n",
            "87178291200\n",
            "1307674368000\n",
            "20922789888000\n",
            "355687428096000\n",
            "6402373705728000\n",
            "121645100408832000\n"
          ]
        }
      ],
      "source": [
        "for i in range(10):\n",
        "    print(next(fact_gen))"
      ]
    },
    {
      "cell_type": "code",
      "execution_count": null,
      "id": "a0ed55cb",
      "metadata": {
        "id": "a0ed55cb",
        "outputId": "f04bfd69-7a9c-441a-cba3-c15915420d39"
      },
      "outputs": [
        {
          "name": "stdout",
          "output_type": "stream",
          "text": [
            "2\n",
            "The generator does not have enough values.\n"
          ]
        }
      ],
      "source": [
        "def simple_generator():\n",
        "    yield 1\n",
        "    yield 2\n",
        "    yield 3\n",
        "\n",
        "# Function to get the nth value from the generator\n",
        "def get_nth_value(generator_func, n):\n",
        "    gen = generator_func()\n",
        "    try:\n",
        "        for _ in range(n):\n",
        "            value = next(gen)\n",
        "        return value\n",
        "    except StopIteration:\n",
        "        return \"The generator does not have enough values.\"\n",
        "\n",
        "# Using the simple generator\n",
        "print(get_nth_value(simple_generator, 2))  # Output: 2 (second value)\n",
        "print(get_nth_value(simple_generator, 5))  # Output: The generator does not have enough values.\n"
      ]
    },
    {
      "cell_type": "markdown",
      "id": "ec1b5a3b",
      "metadata": {
        "id": "ec1b5a3b"
      },
      "source": [
        "## Zip"
      ]
    },
    {
      "cell_type": "code",
      "execution_count": null,
      "id": "195bbaaf",
      "metadata": {
        "id": "195bbaaf"
      },
      "outputs": [],
      "source": [
        "# zip(iterable1, iterable2 , .....)"
      ]
    },
    {
      "cell_type": "code",
      "execution_count": null,
      "id": "ed4d33d1",
      "metadata": {
        "id": "ed4d33d1",
        "outputId": "77aafaf4-f465-4aff-a9b8-d76b8e3a690e"
      },
      "outputs": [
        {
          "data": {
            "text/plain": [
              "<zip at 0x106fd1080>"
            ]
          },
          "execution_count": 36,
          "metadata": {},
          "output_type": "execute_result"
        }
      ],
      "source": [
        "list1 = [1,2,3]\n",
        "list2 = ['a' , 'b','c']\n",
        "\n",
        "zipped = zip(list1 , list2)\n",
        "zipped"
      ]
    },
    {
      "cell_type": "code",
      "execution_count": null,
      "id": "66fa2c85",
      "metadata": {
        "id": "66fa2c85",
        "outputId": "9ef6dc7a-a3d2-48be-8003-5e77b43c7fe9"
      },
      "outputs": [
        {
          "data": {
            "text/plain": [
              "[(1, 'a'), (2, 'b'), (3, 'c')]"
            ]
          },
          "execution_count": 37,
          "metadata": {},
          "output_type": "execute_result"
        }
      ],
      "source": [
        "list(zipped)"
      ]
    },
    {
      "cell_type": "code",
      "execution_count": null,
      "id": "0905992e",
      "metadata": {
        "id": "0905992e",
        "outputId": "0f8f60bf-46fd-451f-8aa2-147413f1874c"
      },
      "outputs": [
        {
          "data": {
            "text/plain": [
              "[(1, 'a', True), (2, 'b', False), (3, 'c', True)]"
            ]
          },
          "execution_count": 38,
          "metadata": {},
          "output_type": "execute_result"
        }
      ],
      "source": [
        "list1 = [1,2,3]\n",
        "list2 = ['a' , 'b','c']\n",
        "list3 = [True , False , True]\n",
        "\n",
        "zipped = zip(list1 , list2 , list3)\n",
        "list(zipped)"
      ]
    },
    {
      "cell_type": "code",
      "execution_count": null,
      "id": "cb517723",
      "metadata": {
        "id": "cb517723",
        "outputId": "e3a062a6-591d-407a-93df-a5bce470312b"
      },
      "outputs": [
        {
          "data": {
            "text/plain": [
              "[(1, 'a'), (2, 'b')]"
            ]
          },
          "execution_count": 39,
          "metadata": {},
          "output_type": "execute_result"
        }
      ],
      "source": [
        "list1 = [1,2,3]\n",
        "list2 = ['a' , 'b']\n",
        "\n",
        "zipped = zip(list1 , list2)\n",
        "list(zipped)"
      ]
    },
    {
      "cell_type": "code",
      "execution_count": null,
      "id": "448a184c",
      "metadata": {
        "id": "448a184c",
        "outputId": "79705587-47bf-43b3-fc04-8425630d559e"
      },
      "outputs": [
        {
          "data": {
            "text/plain": [
              "[(1, 'a'), (2, 'b'), (3, None)]"
            ]
          },
          "execution_count": 40,
          "metadata": {},
          "output_type": "execute_result"
        }
      ],
      "source": [
        "from itertools import zip_longest\n",
        "\n",
        "list1 = [1,2,3]\n",
        "list2 = ['a' , 'b']\n",
        "\n",
        "zipped = zip_longest(list1 , list2)\n",
        "list(zipped)"
      ]
    },
    {
      "cell_type": "markdown",
      "id": "0240e83a",
      "metadata": {
        "id": "0240e83a"
      },
      "source": [
        "## Database connectivity and operations Python"
      ]
    },
    {
      "cell_type": "code",
      "execution_count": null,
      "id": "5d0e6aa3",
      "metadata": {
        "id": "5d0e6aa3"
      },
      "outputs": [],
      "source": [
        "import sqlite3\n",
        "\n",
        "db =sqlite3.connect(\"my_database.db\")"
      ]
    },
    {
      "cell_type": "code",
      "execution_count": null,
      "id": "094d7b65",
      "metadata": {
        "id": "094d7b65",
        "outputId": "3c5ea61e-3fb9-415d-fe5b-3bbd48778bd3"
      },
      "outputs": [
        {
          "data": {
            "text/plain": [
              "<sqlite3.Cursor at 0x1070b4140>"
            ]
          },
          "execution_count": 43,
          "metadata": {},
          "output_type": "execute_result"
        }
      ],
      "source": [
        "db.execute(\"create table grades(id int , name text , marks int)\")\n",
        "\n",
        "db.execute(\"insert into grades(id , name , marks) values (101 , 'John' , 99)\")\n",
        "\n",
        "db.execute(\"insert into grades(id , name , marks) values (102 , 'Akash' , 50)\")\n",
        "\n",
        "db.execute(\"insert into grades(id , name , marks) values (103 , 'Rahul' , 11)\")\n",
        "\n",
        "db.execute(\"insert into grades(id , name , marks) values (104 , 'Amit' , 85)\")"
      ]
    },
    {
      "cell_type": "code",
      "execution_count": null,
      "id": "22bffe55",
      "metadata": {
        "id": "22bffe55"
      },
      "outputs": [],
      "source": [
        "db.commit()"
      ]
    },
    {
      "cell_type": "code",
      "execution_count": null,
      "id": "ed698a1e",
      "metadata": {
        "id": "ed698a1e",
        "outputId": "8252e3f7-6b0b-49a0-e5e9-88de0f1c8056"
      },
      "outputs": [
        {
          "name": "stdout",
          "output_type": "stream",
          "text": [
            "(101, 'John', 99)\n",
            "(102, 'Akash', 50)\n",
            "(103, 'Rahul', 11)\n",
            "(104, 'Amit', 85)\n"
          ]
        }
      ],
      "source": [
        "results = db.execute(\"select * from grades\")\n",
        "\n",
        "for row in results:\n",
        "    print(row)"
      ]
    },
    {
      "cell_type": "code",
      "execution_count": null,
      "id": "1e52e05d",
      "metadata": {
        "id": "1e52e05d",
        "outputId": "10a519ae-d693-4ee2-a4b6-e40410f0c884"
      },
      "outputs": [
        {
          "name": "stdout",
          "output_type": "stream",
          "text": [
            "(101, 'John', 99)\n",
            "(102, 'Akash', 50)\n",
            "(104, 'Amit', 85)\n"
          ]
        }
      ],
      "source": [
        "results = db.execute(\"select * from grades where marks >30\")\n",
        "\n",
        "for row in results:\n",
        "    print(row)"
      ]
    },
    {
      "cell_type": "code",
      "execution_count": null,
      "id": "f127d1d1",
      "metadata": {
        "id": "f127d1d1"
      },
      "outputs": [],
      "source": []
    }
  ],
  "metadata": {
    "kernelspec": {
      "display_name": "Python 3 (ipykernel)",
      "language": "python",
      "name": "python3"
    },
    "language_info": {
      "codemirror_mode": {
        "name": "ipython",
        "version": 3
      },
      "file_extension": ".py",
      "mimetype": "text/x-python",
      "name": "python",
      "nbconvert_exporter": "python",
      "pygments_lexer": "ipython3",
      "version": "3.11.5"
    },
    "colab": {
      "provenance": []
    }
  },
  "nbformat": 4,
  "nbformat_minor": 5
}