{
 "cells": [
  {
   "cell_type": "code",
   "execution_count": 1,
   "metadata": {},
   "outputs": [
    {
     "name": "stdout",
     "output_type": "stream",
     "text": [
      "[0.0, 20.0, 30.0, 40.0, 50.0]\n"
     ]
    }
   ],
   "source": [
    "fahrenheit_temperatures = [32, 68, 86, 104, 122]\n",
    "celsius_temperatures = list(map(lambda f: (f - 32) * 5/9, fahrenheit_temperatures))\n",
    "print(celsius_temperatures)"
   ]
  },
  {
   "cell_type": "code",
   "execution_count": 4,
   "metadata": {},
   "outputs": [
    {
     "name": "stdout",
     "output_type": "stream",
     "text": [
      "[90, 85, 95]\n"
     ]
    }
   ],
   "source": [
    "exam_scores = [78, 90, 62, 85, 95, 72]\n",
    "passing_scores=list(filter(lambda score: score >=80, exam_scores))\n",
    "print(passing_scores)"
   ]
  },
  {
   "cell_type": "code",
   "execution_count": 6,
   "metadata": {},
   "outputs": [
    {
     "data": {
      "text/plain": [
       "[1, 4, 9, 16]"
      ]
     },
     "execution_count": 6,
     "metadata": {},
     "output_type": "execute_result"
    }
   ],
   "source": [
    "num=[1,2,3,4]\n",
    "sqaures=list(map(lambda x:x**2, num))\n",
    "sqaures"
   ]
  },
  {
   "cell_type": "code",
   "execution_count": 13,
   "metadata": {},
   "outputs": [
    {
     "data": {
      "text/plain": [
       "[{'name': 'Laptop', 'price': 1200, 'is_expensive': True},\n",
       " {'name': 'Phone', 'price': 800, 'is_expensive': True},\n",
       " {'name': 'Headphones', 'price': 50, 'is_expensive': False}]"
      ]
     },
     "execution_count": 13,
     "metadata": {},
     "output_type": "execute_result"
    }
   ],
   "source": [
    "products = [\n",
    "    {\"name\": \"Laptop\", \"price\": 1200},\n",
    "    {\"name\": \"Phone\", \"price\": 800},\n",
    "    {\"name\": \"Headphones\", \"price\": 50}\n",
    "]\n",
    "\n",
    "\n",
    "\n",
    "expensive= list(map(lambda product: {**product, \"is_expensive\":product[\"price\"]>100}, products))\n",
    "expensive"
   ]
  },
  {
   "cell_type": "code",
   "execution_count": 24,
   "metadata": {},
   "outputs": [
    {
     "name": "stdout",
     "output_type": "stream",
     "text": [
      "Product: Laptop, Price: 1200, Is Expensive: True\n"
     ]
    }
   ],
   "source": [
    "def print_product_details(name, price, is_expensive):\n",
    "    print(f\"Product: {name}, Price: {price}, Is Expensive: {is_expensive}\")\n",
    "\n",
    "product = {\"name\": \"Laptop\", \"price\": 1200}\n",
    "print_product_details(**product, is_expensive=True)"
   ]
  },
  {
   "cell_type": "code",
   "execution_count": 21,
   "metadata": {},
   "outputs": [
    {
     "data": {
      "text/plain": [
       "[200, 500, 1000]"
      ]
     },
     "execution_count": 21,
     "metadata": {},
     "output_type": "execute_result"
    }
   ],
   "source": [
    "products=[200,500, 50, 1000]\n",
    "\n",
    "expensive = list(filter(lambda product: product > 100, products))\n",
    "expensive"
   ]
  },
  {
   "cell_type": "code",
   "execution_count": 102,
   "metadata": {},
   "outputs": [
    {
     "ename": "TypeError",
     "evalue": "'<' not supported between instances of 'dict' and 'dict'",
     "output_type": "error",
     "traceback": [
      "\u001b[0;31m---------------------------------------------------------------------------\u001b[0m",
      "\u001b[0;31mTypeError\u001b[0m                                 Traceback (most recent call last)",
      "Input \u001b[0;32mIn [102]\u001b[0m, in \u001b[0;36m<cell line: 9>\u001b[0;34m()\u001b[0m\n\u001b[1;32m      1\u001b[0m students \u001b[38;5;241m=\u001b[39m [\n\u001b[1;32m      2\u001b[0m     {\u001b[38;5;124m\"\u001b[39m\u001b[38;5;124mname\u001b[39m\u001b[38;5;124m\"\u001b[39m: \u001b[38;5;124m\"\u001b[39m\u001b[38;5;124mA\u001b[39m\u001b[38;5;124m\"\u001b[39m, \u001b[38;5;124m\"\u001b[39m\u001b[38;5;124mmarks\u001b[39m\u001b[38;5;124m\"\u001b[39m: \u001b[38;5;241m60\u001b[39m},\n\u001b[1;32m      3\u001b[0m     {\u001b[38;5;124m\"\u001b[39m\u001b[38;5;124mname\u001b[39m\u001b[38;5;124m\"\u001b[39m: \u001b[38;5;124m\"\u001b[39m\u001b[38;5;124mB\u001b[39m\u001b[38;5;124m\"\u001b[39m, \u001b[38;5;124m\"\u001b[39m\u001b[38;5;124mmarks\u001b[39m\u001b[38;5;124m\"\u001b[39m: \u001b[38;5;241m90\u001b[39m},\n\u001b[0;32m   (...)\u001b[0m\n\u001b[1;32m      7\u001b[0m \n\u001b[1;32m      8\u001b[0m ]\n\u001b[0;32m----> 9\u001b[0m \u001b[38;5;28;43msorted\u001b[39;49m\u001b[43m(\u001b[49m\u001b[43mstudents\u001b[49m\u001b[43m)\u001b[49m\n",
      "\u001b[0;31mTypeError\u001b[0m: '<' not supported between instances of 'dict' and 'dict'"
     ]
    }
   ],
   "source": [
    "students = [\n",
    "    {\"name\": \"A\", \"marks\": 60},\n",
    "    {\"name\": \"B\", \"marks\": 90},\n",
    "    {\"name\": \"C\", \"marks\": 50},\n",
    "    {\"name\": \"D\", \"marks\": 80},\n",
    "    {\"name\": \"E\", \"marks\": 70},\n",
    "\n",
    "]\n",
    "sorted(students)"
   ]
  },
  {
   "cell_type": "code",
   "execution_count": 103,
   "metadata": {},
   "outputs": [
    {
     "data": {
      "text/plain": [
       "[{'name': 'C', 'marks': 50},\n",
       " {'name': 'A', 'marks': 60},\n",
       " {'name': 'E', 'marks': 70},\n",
       " {'name': 'D', 'marks': 80},\n",
       " {'name': 'B', 'marks': 90}]"
      ]
     },
     "execution_count": 103,
     "metadata": {},
     "output_type": "execute_result"
    }
   ],
   "source": [
    "sorted(students, key = lambda x: x[\"marks\"])"
   ]
  },
  {
   "cell_type": "code",
   "execution_count": 104,
   "metadata": {},
   "outputs": [
    {
     "data": {
      "text/plain": [
       "[{'name': 'A', 'marks': 60},\n",
       " {'name': 'B', 'marks': 90},\n",
       " {'name': 'C', 'marks': 50},\n",
       " {'name': 'D', 'marks': 80},\n",
       " {'name': 'E', 'marks': 70}]"
      ]
     },
     "execution_count": 104,
     "metadata": {},
     "output_type": "execute_result"
    }
   ],
   "source": [
    "sorted(students, key=lambda x:x[\"name\"])"
   ]
  },
  {
   "cell_type": "code",
   "execution_count": 120,
   "metadata": {},
   "outputs": [
    {
     "data": {
      "text/plain": [
       "[{'name': 'A', 'marks': 60, 'Good Student': False},\n",
       " {'name': 'B', 'marks': 90, 'Good Student': True},\n",
       " {'name': 'C', 'marks': 50, 'Good Student': False},\n",
       " {'name': 'D', 'marks': 80, 'Good Student': True},\n",
       " {'name': 'E', 'marks': 70, 'Good Student': False}]"
      ]
     },
     "execution_count": 120,
     "metadata": {},
     "output_type": "execute_result"
    }
   ],
   "source": [
    "sort_dict= list(map(lambda student : {**student, \"Good Student\" :student[\"marks\"]>75}, students))\n",
    "sort_dict"
   ]
  },
  {
   "cell_type": "code",
   "execution_count": 125,
   "metadata": {},
   "outputs": [
    {
     "data": {
      "text/plain": [
       "[{'name': 'B', 'marks': 90, 'Good Student': True},\n",
       " {'name': 'D', 'marks': 80, 'Good Student': True}]"
      ]
     },
     "execution_count": 125,
     "metadata": {},
     "output_type": "execute_result"
    }
   ],
   "source": [
    "good_students = list(filter(lambda student: student[\"Good Student\"], sort_dict))\n",
    "good_students"
   ]
  },
  {
   "cell_type": "code",
   "execution_count": 129,
   "metadata": {},
   "outputs": [
    {
     "data": {
      "text/plain": [
       "[{'name': 'B', 'marks': 90, 'Good Student': True},\n",
       " {'name': 'D', 'marks': 80, 'Good Student': True}]"
      ]
     },
     "execution_count": 129,
     "metadata": {},
     "output_type": "execute_result"
    }
   ],
   "source": [
    "good_students = list(filter(lambda student: student[\"marks\"]>=80, sort_dict))\n",
    "good_students"
   ]
  },
  {
   "cell_type": "code",
   "execution_count": 105,
   "metadata": {},
   "outputs": [
    {
     "data": {
      "text/plain": [
       "{'name': 'B', 'marks': 90}"
      ]
     },
     "execution_count": 105,
     "metadata": {},
     "output_type": "execute_result"
    }
   ],
   "source": [
    "max(students, key=lambda x :x[\"marks\"])"
   ]
  },
  {
   "cell_type": "code",
   "execution_count": 88,
   "metadata": {},
   "outputs": [
    {
     "data": {
      "text/plain": [
       "{'name': 'C', 'marks': 50}"
      ]
     },
     "execution_count": 88,
     "metadata": {},
     "output_type": "execute_result"
    }
   ],
   "source": [
    "min(students, key=lambda x :x[\"marks\"])"
   ]
  },
  {
   "cell_type": "code",
   "execution_count": 108,
   "metadata": {},
   "outputs": [],
   "source": [
    "students = [\n",
    "    {\"name\": \"A\", \"marks\": 60},\n",
    "    {\"name\": \"B\", \"marks\": 90},\n",
    "    {\"name\": \"C\", \"marks\": 50},\n",
    "    {\"name\": \"D\", \"marks\": 80},\n",
    "    {\"name\": \"E\", \"marks\": 70},\n",
    "\n",
    "]"
   ]
  },
  {
   "cell_type": "code",
   "execution_count": 7,
   "metadata": {},
   "outputs": [],
   "source": [
    "list1 = [1, 2, 3]\n",
    "list2 = ['a', 'b', 'c']\n",
    "zipped = zip(list1, list2)"
   ]
  },
  {
   "cell_type": "code",
   "execution_count": 17,
   "metadata": {},
   "outputs": [
    {
     "data": {
      "text/plain": [
       "'randomstrings'"
      ]
     },
     "execution_count": 17,
     "metadata": {},
     "output_type": "execute_result"
    }
   ],
   "source": [
    "concat=lambda x,y:x+y\n",
    "concat(\"random\", \"strings\")"
   ]
  },
  {
   "cell_type": "code",
   "execution_count": 19,
   "metadata": {},
   "outputs": [
    {
     "data": {
      "text/plain": [
       "14.8"
      ]
     },
     "execution_count": 19,
     "metadata": {},
     "output_type": "execute_result"
    }
   ],
   "source": [
    "concat(9,5.8)"
   ]
  },
  {
   "cell_type": "code",
   "execution_count": 6,
   "metadata": {},
   "outputs": [
    {
     "name": "stdout",
     "output_type": "stream",
     "text": [
      "Calling add with arguments (3, 4) and keyword arguments {}\n"
     ]
    }
   ],
   "source": [
    "def log_function(func):\n",
    "    def wrapper(*args, **kwargs):\n",
    "        results=func(*args,**kwargs)\n",
    "        print(f'Calling {func.__name__} with arguments {args} and keyword arguments {kwargs}')\n",
    "        return results\n",
    "    return wrapper\n",
    "              \n",
    "@log_function\n",
    "def add(a,b):\n",
    "    return a+b\n",
    "reults=add(3,4)"
   ]
  },
  {
   "cell_type": "code",
   "execution_count": 8,
   "metadata": {},
   "outputs": [],
   "source": [
    "def pretty(func):\n",
    "    def wrapper():\n",
    "        print(\"---\"*20)\n",
    "        func()\n",
    "        print(\"---\"*20)\n",
    "    return wrapper"
   ]
  },
  {
   "cell_type": "code",
   "execution_count": 9,
   "metadata": {},
   "outputs": [],
   "source": [
    "@pretty\n",
    "def say_hello():\n",
    "    print(\"Hello\")"
   ]
  },
  {
   "cell_type": "code",
   "execution_count": 10,
   "metadata": {},
   "outputs": [
    {
     "name": "stdout",
     "output_type": "stream",
     "text": [
      "------------------------------------------------------------\n",
      "Hello\n",
      "------------------------------------------------------------\n"
     ]
    }
   ],
   "source": [
    "say_hello()"
   ]
  },
  {
   "cell_type": "code",
   "execution_count": 16,
   "metadata": {},
   "outputs": [
    {
     "name": "stdout",
     "output_type": "stream",
     "text": [
      "------------------------------------------------------------\n",
      "AMAZING!\n",
      "------------------------------------------------------------\n"
     ]
    }
   ],
   "source": [
    "@pretty\n",
    "def say_amazing():\n",
    "    print(\"AMAZING!\")\n",
    "say_amazing()"
   ]
  },
  {
   "cell_type": "code",
   "execution_count": 27,
   "metadata": {},
   "outputs": [
    {
     "name": "stdout",
     "output_type": "stream",
     "text": [
      "What\n"
     ]
    }
   ],
   "source": [
    "a = [print, 56, 78, \"random\"]\n",
    "a[0]('What')"
   ]
  },
  {
   "cell_type": "markdown",
   "metadata": {},
   "source": [
    "In this code snippet, you're creating a list a that contains different types of elements, including the print function. When you access a[0], you're actually accessing the print function. So, a0 is equivalent to calling print('What')."
   ]
  },
  {
   "cell_type": "code",
   "execution_count": 28,
   "metadata": {},
   "outputs": [],
   "source": [
    "a = {\n",
    "    \"print\": print\n",
    "}"
   ]
  },
  {
   "cell_type": "code",
   "execution_count": 29,
   "metadata": {},
   "outputs": [
    {
     "name": "stdout",
     "output_type": "stream",
     "text": [
      "WHATTTT?\n"
     ]
    }
   ],
   "source": [
    "a[\"print\"](\"WHATTTT?\")"
   ]
  },
  {
   "cell_type": "code",
   "execution_count": null,
   "metadata": {},
   "outputs": [],
   "source": []
  },
  {
   "cell_type": "code",
   "execution_count": null,
   "metadata": {},
   "outputs": [],
   "source": []
  },
  {
   "cell_type": "code",
   "execution_count": null,
   "metadata": {},
   "outputs": [],
   "source": []
  },
  {
   "cell_type": "code",
   "execution_count": null,
   "metadata": {},
   "outputs": [],
   "source": []
  }
 ],
 "metadata": {
  "kernelspec": {
   "display_name": "Python 3",
   "language": "python",
   "name": "python3"
  },
  "language_info": {
   "codemirror_mode": {
    "name": "ipython",
    "version": 3
   },
   "file_extension": ".py",
   "mimetype": "text/x-python",
   "name": "python",
   "nbconvert_exporter": "python",
   "pygments_lexer": "ipython3",
   "version": "3.8.10"
  }
 },
 "nbformat": 4,
 "nbformat_minor": 2
}
