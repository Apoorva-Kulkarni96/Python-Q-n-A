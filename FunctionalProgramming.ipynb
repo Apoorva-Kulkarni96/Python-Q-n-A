{
  "cells": [
    {
      "cell_type": "markdown",
      "id": "aXPLmHy5jZo-",
      "metadata": {
        "id": "aXPLmHy5jZo-"
      },
      "source": [
        "#DSML - Functional Programming\n",
        "**Agenda**\n",
        "1. Introduction to Functional Programming\n",
        "2. Lambda Functions\n",
        "3. Decorators\n",
        "4. Functional Programming Techniques\n",
        "5. Handling Multiple Arguments with args and kwargs"
      ]
    },
    {
      "cell_type": "markdown",
      "id": "WpQzq7R17qNe",
      "metadata": {
        "id": "WpQzq7R17qNe"
      },
      "source": [
        "#Introduction to Functional Programming"
      ]
    },
    {
      "cell_type": "markdown",
      "id": "Q3satcO17WkS",
      "metadata": {
        "id": "Q3satcO17WkS"
      },
      "source": [
        "**Introduction to Functional Programming**\n",
        "\n",
        "Functional programming is a coding approach that treats computation as the evaluation of mathematical functions. It prioritizes using *pure functions* that consistently provide the same output for a given input without side effects. In simple terms, functional programming focuses on functions as primary building blocks.\n",
        "\n",
        "Functional programming has gained significance in Data Science and Machine Learning (DSML) for these reasons:\n",
        "\n",
        "1. **Readability and Maintenance:** Functional code is concise and easy to understand, which is crucial in DSML with complex models and data pipelines.\n",
        "\n",
        "2. **Reproducibility:** Functional programming's emphasis on pure functions ensures consistent results, vital for reproducibility in research and analysis.\n",
        "\n",
        "3. **Data Transformation:** Functional tools like mapping, filtering, and reducing are perfect for data transformation, aligning with DSML's needs.\n",
        "\n",
        "4. **Testing and Debugging:** Functional code is test-friendly, aiding debugging in DSML projects.\n",
        "\n",
        "5. **Scalability:** Functional code handles complexity as datasets grow, optimizing performance in DSML.\n",
        "\n",
        "6. **Algorithmic Clarity:** Functional code often represents complex algorithms intuitively, improving understanding in DSML."
      ]
    },
    {
      "cell_type": "markdown",
      "id": "q3ch1I3B7wye",
      "metadata": {
        "id": "q3ch1I3B7wye"
      },
      "source": [
        "#Lambda Functions"
      ]
    },
    {
      "cell_type": "markdown",
      "id": "Gc8PS2HF70kE",
      "metadata": {
        "id": "Gc8PS2HF70kE"
      },
      "source": [
        "**Lambda Functions**\n",
        "\n",
        "Lambda functions, often called anonymous functions, are a concise way to create small, inline functions without the need for a formal function definition. They are an essential tool in functional programming and find various use cases in Data Science and Machine Learning (DSML) for tasks such as data preprocessing.\n",
        "\n",
        "**Explanation of Lambda Functions**\n",
        "\n",
        "Lambda functions are small, unnamed functions defined using the lambda keyword. They are typically used for simple operations and are often employed when a function is required for a short period and doesn't need a formal name. The general syntax of a lambda function is as follows:\n",
        "\n",
        "```python\n",
        "lambda arguments: expression\n",
        "```\n",
        "\n",
        "Lambda functions have the following characteristics:\n",
        "\n",
        "- They can take any number of arguments but can contain only a single expression.\n",
        "- They are concise and primarily used for simple operations.\n",
        "- Lambda functions are often used in combination with higher-order functions like map, filter, and reduce.\n",
        "\n",
        "**Use Cases in Data Preprocessing**\n",
        "\n",
        "Lambda functions play a significant role in data preprocessing in DSML. Here are some common use cases:\n",
        "\n",
        "1. **Data Transformation**: Lambda functions are used with functions like map and apply to transform data. For instance, you can use a lambda function to convert data types, apply mathematical operations, or perform text manipulation.\n",
        "\n",
        "2. **Filtering Data**: In data cleaning and filtering tasks, lambda functions are employed with filter to select specific data points that meet certain conditions. For example, filtering out outliers from a dataset.\n",
        "\n",
        "3. **Feature Engineering**: Lambda functions assist in creating new features or variables by combining or transforming existing ones. They can be used to calculate ratios, perform mathematical operations, or apply custom logic to create new features.\n",
        "\n",
        "4. **Sorting and Aggregating**: Lambda functions can be used as keys for sorting data, especially when you want to sort based on a specific attribute or criterion. They are also useful when aggregating data using functions like groupby in Pandas.\n",
        "\n",
        "**Python Code Examples and Outputs**\n",
        "\n",
        "**Example 1: Data Transformation**\n",
        "\n",
        "Suppose you have a list of temperatures in Fahrenheit, and you want to convert them to Celsius using a lambda function:\n",
        "\n",
        "```python\n",
        "fahrenheit_temperatures = [32, 68, 86, 104, 122]\n",
        "celsius_temperatures = list(map(lambda f: (f - 32) * 5/9, fahrenheit_temperatures))\n",
        "print(celsius_temperatures)\n",
        "```\n",
        "\n",
        "**Output:**\n",
        "\n",
        "```\n",
        "[0.0, 20.0, 30.0, 40.0, 50.0]\n",
        "```\n",
        "\n",
        "**Example 2: Filtering Data**\n",
        "\n",
        "You have a list of exam scores, and you want to filter out scores above a certain threshold:\n",
        "\n",
        "```python\n",
        "exam_scores = [78, 90, 62, 85, 95, 72]\n",
        "passing_scores = list(filter(lambda score: score >= 80, exam_scores))\n",
        "print(passing_scores)\n",
        "```\n",
        "\n",
        "**Output:**\n",
        "\n",
        "```\n",
        "[90, 85, 95]\n",
        "```\n",
        "\n",
        "**Example 3: Feature Engineering**\n",
        "\n",
        "Suppose you have a dataset of products with prices, and you want to add a new column indicating whether a product is expensive (price > 100) or not:\n",
        "\n",
        "```python\n",
        "products = [\n",
        "    {\"name\": \"Laptop\", \"price\": 1200},\n",
        "    {\"name\": \"Phone\", \"price\": 800},\n",
        "    {\"name\": \"Headphones\", \"price\": 50}\n",
        "]\n",
        "\n",
        "expensive_products = list(map(lambda product: {**product, \"is_expensive\": product[\"price\"] > 100}, products))\n",
        "print(expensive_products)\n",
        "```\n",
        "\n",
        "**Output:**\n",
        "\n",
        "```\n",
        "[\n",
        "    {'name': 'Laptop', 'price': 1200, 'is_expensive': True},\n",
        "    {'name': 'Phone', 'price': 800, 'is_expensive': True},\n",
        "    {'name': 'Headphones', 'price': 50, 'is_expensive': False}\n",
        "]\n",
        "```"
      ]
    },
    {
      "cell_type": "code",
      "execution_count": null,
      "id": "34cf343f",
      "metadata": {
        "id": "34cf343f"
      },
      "outputs": [],
      "source": [
        "def square(a):\n",
        "    return a**2"
      ]
    },
    {
      "cell_type": "code",
      "execution_count": null,
      "id": "81654d7f",
      "metadata": {
        "id": "81654d7f"
      },
      "outputs": [],
      "source": [
        "square2 = lambda a: a**2"
      ]
    },
    {
      "cell_type": "code",
      "execution_count": null,
      "id": "5a3c33f8",
      "metadata": {
        "colab": {
          "base_uri": "https://localhost:8080/"
        },
        "id": "5a3c33f8",
        "outputId": "dc7956b1-09f2-4137-ece6-cfbb476d7b0a"
      },
      "outputs": [
        {
          "data": {
            "text/plain": [
              "16"
            ]
          },
          "execution_count": 3,
          "metadata": {},
          "output_type": "execute_result"
        }
      ],
      "source": [
        "square2(4)"
      ]
    },
    {
      "cell_type": "code",
      "execution_count": null,
      "id": "f210c46a",
      "metadata": {
        "colab": {
          "base_uri": "https://localhost:8080/"
        },
        "id": "f210c46a",
        "outputId": "f7a0f17d-1749-499b-d9ca-3345730db80d"
      },
      "outputs": [
        {
          "data": {
            "text/plain": [
              "function"
            ]
          },
          "execution_count": 4,
          "metadata": {},
          "output_type": "execute_result"
        }
      ],
      "source": [
        "type(square2)"
      ]
    },
    {
      "cell_type": "code",
      "execution_count": null,
      "id": "e2bf6c57",
      "metadata": {
        "id": "e2bf6c57"
      },
      "outputs": [],
      "source": [
        "concat = lambda x, y: x + y\n",
        "# Accept multiple arguments"
      ]
    },
    {
      "cell_type": "code",
      "execution_count": null,
      "id": "0f96b78b",
      "metadata": {
        "colab": {
          "base_uri": "https://localhost:8080/",
          "height": 36
        },
        "id": "0f96b78b",
        "outputId": "f31f8917-c77b-45d9-d793-611d08b3945f"
      },
      "outputs": [
        {
          "data": {
            "application/vnd.google.colaboratory.intrinsic+json": {
              "type": "string"
            },
            "text/plain": [
              "'randomstrings'"
            ]
          },
          "execution_count": 6,
          "metadata": {},
          "output_type": "execute_result"
        }
      ],
      "source": [
        "concat(\"random\", \"strings\")"
      ]
    },
    {
      "cell_type": "code",
      "execution_count": null,
      "id": "98c8ba99",
      "metadata": {
        "colab": {
          "base_uri": "https://localhost:8080/"
        },
        "id": "98c8ba99",
        "outputId": "cb98a17f-6dca-4ecc-8e74-3b7b0fa5fc9d"
      },
      "outputs": [
        {
          "data": {
            "text/plain": [
              "343"
            ]
          },
          "execution_count": 7,
          "metadata": {},
          "output_type": "execute_result"
        }
      ],
      "source": [
        "(lambda x: x**3)(7) # Anonymous Functions"
      ]
    },
    {
      "cell_type": "code",
      "execution_count": null,
      "id": "c4234049",
      "metadata": {
        "id": "c4234049"
      },
      "outputs": [],
      "source": [
        "max_2 = lambda x, y: x if x > y else y"
      ]
    },
    {
      "cell_type": "code",
      "execution_count": null,
      "id": "c97b4023",
      "metadata": {
        "id": "c97b4023"
      },
      "outputs": [],
      "source": [
        "a = [5,6,7,2,3,1,9,0]"
      ]
    },
    {
      "cell_type": "code",
      "execution_count": null,
      "id": "27436642",
      "metadata": {
        "colab": {
          "base_uri": "https://localhost:8080/"
        },
        "id": "27436642",
        "outputId": "787316e4-6390-4a9b-eabd-fcfea5bd3489"
      },
      "outputs": [
        {
          "data": {
            "text/plain": [
              "[0, 1, 2, 3, 5, 6, 7, 9]"
            ]
          },
          "execution_count": 10,
          "metadata": {},
          "output_type": "execute_result"
        }
      ],
      "source": [
        "sorted(a)"
      ]
    },
    {
      "cell_type": "code",
      "execution_count": null,
      "id": "fe00bba8",
      "metadata": {
        "id": "fe00bba8"
      },
      "outputs": [],
      "source": [
        "# sorted? -> HINT"
      ]
    },
    {
      "cell_type": "code",
      "execution_count": null,
      "id": "9ac6bbce",
      "metadata": {
        "id": "9ac6bbce"
      },
      "outputs": [],
      "source": [
        "students = [\n",
        "    {\"name\": \"A\", \"marks\": 60},\n",
        "    {\"name\": \"B\", \"marks\": 90},\n",
        "    {\"name\": \"C\", \"marks\": 50},\n",
        "    {\"name\": \"D\", \"marks\": 80},\n",
        "    {\"name\": \"E\", \"marks\": 70},\n",
        "]"
      ]
    },
    {
      "cell_type": "code",
      "execution_count": null,
      "id": "bb3bbe2b",
      "metadata": {
        "colab": {
          "base_uri": "https://localhost:8080/",
          "height": 176
        },
        "id": "bb3bbe2b",
        "outputId": "5ddceb4e-eddb-4d3b-e717-bcc977ad33b9"
      },
      "outputs": [
        {
          "ename": "TypeError",
          "evalue": "ignored",
          "output_type": "error",
          "traceback": [
            "\u001b[0;31m---------------------------------------------------------------------------\u001b[0m",
            "\u001b[0;31mTypeError\u001b[0m                                 Traceback (most recent call last)",
            "\u001b[0;32m<ipython-input-13-7d3dd5d8afa9>\u001b[0m in \u001b[0;36m<cell line: 1>\u001b[0;34m()\u001b[0m\n\u001b[0;32m----> 1\u001b[0;31m \u001b[0msorted\u001b[0m\u001b[0;34m(\u001b[0m\u001b[0mstudents\u001b[0m\u001b[0;34m)\u001b[0m\u001b[0;34m\u001b[0m\u001b[0;34m\u001b[0m\u001b[0m\n\u001b[0m",
            "\u001b[0;31mTypeError\u001b[0m: '<' not supported between instances of 'dict' and 'dict'"
          ]
        }
      ],
      "source": [
        "sorted(students)"
      ]
    },
    {
      "cell_type": "code",
      "execution_count": null,
      "id": "7244a4cb",
      "metadata": {
        "colab": {
          "base_uri": "https://localhost:8080/"
        },
        "id": "7244a4cb",
        "outputId": "7d45a447-fdf1-4451-9f17-3c72159a63ad"
      },
      "outputs": [
        {
          "data": {
            "text/plain": [
              "[{'name': 'C', 'marks': 50},\n",
              " {'name': 'A', 'marks': 60},\n",
              " {'name': 'E', 'marks': 70},\n",
              " {'name': 'D', 'marks': 80},\n",
              " {'name': 'B', 'marks': 90}]"
            ]
          },
          "execution_count": 14,
          "metadata": {},
          "output_type": "execute_result"
        }
      ],
      "source": [
        "sorted(students, key = lambda x: x[\"marks\"])"
      ]
    },
    {
      "cell_type": "code",
      "execution_count": null,
      "id": "a41e05f3",
      "metadata": {
        "id": "a41e05f3",
        "outputId": "5345c551-9df8-4693-be73-d671bf340584"
      },
      "outputs": [
        {
          "data": {
            "text/plain": [
              "'\\nHOMEWORK!\\n\\n-> Modify current sorting codes so that they can accept a key and sort any DS on the basis of that key.\\n'"
            ]
          },
          "execution_count": 24,
          "metadata": {},
          "output_type": "execute_result"
        }
      ],
      "source": [
        "'''\n",
        "HOMEWORK!\n",
        "\n",
        "-> Modify current sorting codes so that they can accept a key and sort any DS on the basis of that key.\n",
        "'''"
      ]
    },
    {
      "cell_type": "code",
      "execution_count": null,
      "id": "5a53fea0",
      "metadata": {
        "id": "5a53fea0"
      },
      "outputs": [],
      "source": [
        "def sum2(a, b):\n",
        "    return a + b"
      ]
    },
    {
      "cell_type": "code",
      "execution_count": null,
      "id": "24f2d8c9",
      "metadata": {
        "id": "24f2d8c9"
      },
      "outputs": [],
      "source": [
        "sum3 = sum2"
      ]
    },
    {
      "cell_type": "code",
      "execution_count": null,
      "id": "b5fb4818",
      "metadata": {
        "id": "b5fb4818"
      },
      "outputs": [],
      "source": [
        "def gen_exp(n):\n",
        "    def exp(x):\n",
        "        return x**n\n",
        "\n",
        "    return exp"
      ]
    },
    {
      "cell_type": "code",
      "execution_count": null,
      "id": "e50ba2b9",
      "metadata": {
        "id": "e50ba2b9"
      },
      "outputs": [],
      "source": [
        "exp_5 = gen_exp(5)"
      ]
    },
    {
      "cell_type": "code",
      "execution_count": null,
      "id": "95b4cd19",
      "metadata": {
        "id": "95b4cd19",
        "outputId": "ab1b102d-c98d-4c5a-8832-97f9ff737a36"
      },
      "outputs": [
        {
          "data": {
            "text/plain": [
              "32"
            ]
          },
          "execution_count": 29,
          "metadata": {},
          "output_type": "execute_result"
        }
      ],
      "source": [
        "exp_5(2)"
      ]
    },
    {
      "cell_type": "code",
      "execution_count": null,
      "id": "f6255596",
      "metadata": {
        "id": "f6255596"
      },
      "outputs": [],
      "source": [
        "exp_4 = gen_exp(4)"
      ]
    },
    {
      "cell_type": "code",
      "execution_count": null,
      "id": "36b48b29",
      "metadata": {
        "id": "36b48b29",
        "outputId": "6b04521b-1d95-4142-f2ce-780e5527076d"
      },
      "outputs": [
        {
          "data": {
            "text/plain": [
              "81"
            ]
          },
          "execution_count": 31,
          "metadata": {},
          "output_type": "execute_result"
        }
      ],
      "source": [
        "exp_4(3)"
      ]
    },
    {
      "cell_type": "markdown",
      "id": "0FG-r5Na8RUF",
      "metadata": {
        "id": "0FG-r5Na8RUF"
      },
      "source": [
        "#Decorators\n"
      ]
    },
    {
      "cell_type": "markdown",
      "id": "EnZJAQoB8U6W",
      "metadata": {
        "id": "EnZJAQoB8U6W"
      },
      "source": [
        "**Decorators**\n",
        "\n",
        "Decorators are powerful tools in Python, especially valuable in Data Science and Machine Learning (DSML) for improving code readability and reusability. They enable you to modify function behavior without changing the core code, enhancing modularity.\n",
        "\n",
        "**What Are Decorators?**\n",
        "\n",
        "Decorators are functions that take other functions as input and modify their behavior. In DSML, decorators are essential because they:\n",
        "\n",
        "1. **Promote Modularity:** Separate concerns, making it easy to apply specific functionality to different functions or methods.\n",
        "\n",
        "2. **Enhance Readability:** Streamline code by abstracting repetitive or non-essential logic, resulting in cleaner, focused functions.\n",
        "\n",
        "**Creating and Applying Decorators**\n",
        "\n",
        "To use decorators effectively:\n",
        "\n",
        "1. **Define the Decorator Function:** Create a regular Python function that takes another function as an argument. Customize the code inside the decorator function to enhance the behavior of the input function.\n",
        "\n",
        "2. **Apply the Decorator:** Prefix a function definition with \"@\" followed by the decorator name. This tells Python to apply the decorator to the function.\n",
        "\n",
        "3. **Use Decorated Functions:** Call the decorated function like any regular function. The decorator's code runs alongside the original function's code.\n",
        "\n",
        "**Logging Decorator**\n",
        "\n",
        "```python\n",
        "def log_function_call(func):\n",
        "    def wrapper(*args, **kwargs):\n",
        "        result = func(*args, **kwargs)\n",
        "        print(f\"Calling {func.__name__} with arguments {args} and keyword arguments {kwargs}\")\n",
        "        return result\n",
        "    return wrapper\n",
        "\n",
        "@log_function_call\n",
        "def add(a, b):\n",
        "    return a + b\n",
        "\n",
        "result = add(3, 4)\n",
        "```\n",
        "\n",
        "**Output:**\n",
        "\n",
        "```\n",
        "Calling add with arguments (3, 4) and keyword arguments {}\n",
        "```\n",
        "\n",
        "In this example, the `log_function_call` decorator logs function calls without changing the core `add` function's logic."
      ]
    },
    {
      "cell_type": "code",
      "execution_count": null,
      "id": "0881917f",
      "metadata": {
        "id": "0881917f"
      },
      "outputs": [],
      "source": [
        "def say_hello():\n",
        "    print(\"Hello!\")"
      ]
    },
    {
      "cell_type": "code",
      "execution_count": null,
      "id": "39678cdf",
      "metadata": {
        "id": "39678cdf"
      },
      "outputs": [],
      "source": [
        "def say_bye():\n",
        "    print(\"Bye!\")"
      ]
    },
    {
      "cell_type": "code",
      "execution_count": null,
      "id": "946540ab",
      "metadata": {
        "id": "946540ab"
      },
      "outputs": [],
      "source": [
        "def say_random():\n",
        "    print(\"Random!\")"
      ]
    },
    {
      "cell_type": "code",
      "execution_count": null,
      "id": "a102eb24",
      "metadata": {
        "id": "a102eb24",
        "outputId": "48e17e3a-dd07-4bb9-c4bd-c2a73d3b7bbf"
      },
      "outputs": [
        {
          "name": "stdout",
          "output_type": "stream",
          "text": [
            "Hello!\n"
          ]
        }
      ],
      "source": [
        "say_hello()"
      ]
    },
    {
      "cell_type": "code",
      "execution_count": null,
      "id": "80be7696",
      "metadata": {
        "id": "80be7696"
      },
      "outputs": [],
      "source": [
        "def say_hello():\n",
        "    print(\"-\"*20)\n",
        "    print(\"Hello!\")\n",
        "    print(\"-\"*20)"
      ]
    },
    {
      "cell_type": "code",
      "execution_count": null,
      "id": "2c0899de",
      "metadata": {
        "id": "2c0899de",
        "outputId": "d214e685-71f9-443f-c606-62672080cd10"
      },
      "outputs": [
        {
          "name": "stdout",
          "output_type": "stream",
          "text": [
            "--------------------\n",
            "Hello!\n",
            "--------------------\n"
          ]
        }
      ],
      "source": [
        "say_hello()"
      ]
    },
    {
      "cell_type": "code",
      "execution_count": null,
      "id": "de1e30d6",
      "metadata": {
        "id": "de1e30d6"
      },
      "outputs": [],
      "source": [
        "def pretty(func):\n",
        "    def wrapper():\n",
        "        print(\"-\"*20) # any amount of logic\n",
        "        func()\n",
        "        print(\"-\"*20) # any amount of logic\n",
        "\n",
        "    return wrapper"
      ]
    },
    {
      "cell_type": "code",
      "execution_count": null,
      "id": "3b7430a8",
      "metadata": {
        "id": "3b7430a8"
      },
      "outputs": [],
      "source": [
        "hello_pretty = pretty(say_hello)"
      ]
    },
    {
      "cell_type": "code",
      "execution_count": null,
      "id": "2c7a5a86",
      "metadata": {
        "id": "2c7a5a86"
      },
      "outputs": [],
      "source": [
        "# hello_pretty()"
      ]
    },
    {
      "cell_type": "code",
      "execution_count": null,
      "id": "175e6913",
      "metadata": {
        "id": "175e6913"
      },
      "outputs": [],
      "source": [
        "bye_pretty = pretty(say_bye)"
      ]
    },
    {
      "cell_type": "code",
      "execution_count": null,
      "id": "d08790f5",
      "metadata": {
        "id": "d08790f5"
      },
      "outputs": [],
      "source": [
        "# bye_pretty()"
      ]
    },
    {
      "cell_type": "code",
      "execution_count": null,
      "id": "d1a1a744",
      "metadata": {
        "id": "d1a1a744"
      },
      "outputs": [],
      "source": [
        "@pretty\n",
        "def say_amazing():\n",
        "    print(\"AMAZING!\")"
      ]
    },
    {
      "cell_type": "code",
      "execution_count": null,
      "id": "b5495d17",
      "metadata": {
        "id": "b5495d17",
        "outputId": "dac6587a-1707-471c-c486-c40ca6e8fa42"
      },
      "outputs": [
        {
          "name": "stdout",
          "output_type": "stream",
          "text": [
            "--------------------\n",
            "AMAZING!\n",
            "--------------------\n"
          ]
        }
      ],
      "source": [
        "say_amazing()"
      ]
    },
    {
      "cell_type": "code",
      "execution_count": null,
      "id": "ae1720dc",
      "metadata": {
        "id": "ae1720dc"
      },
      "outputs": [],
      "source": [
        "a = [print, 56, 78, \"random\"]"
      ]
    },
    {
      "cell_type": "code",
      "execution_count": null,
      "id": "9f83f2ce",
      "metadata": {
        "id": "9f83f2ce",
        "outputId": "3f0baf73-0223-4e1c-e17d-28d6605e15ff"
      },
      "outputs": [
        {
          "name": "stdout",
          "output_type": "stream",
          "text": [
            "WHAT?\n"
          ]
        }
      ],
      "source": [
        "a[0](\"WHAT?\")"
      ]
    },
    {
      "cell_type": "code",
      "execution_count": null,
      "id": "80d8ed0d",
      "metadata": {
        "id": "80d8ed0d"
      },
      "outputs": [],
      "source": [
        "a = {\n",
        "    \"print\": print\n",
        "}"
      ]
    },
    {
      "cell_type": "code",
      "execution_count": null,
      "id": "fad6a394",
      "metadata": {
        "id": "fad6a394",
        "outputId": "f3205d8e-009f-4be6-dcae-da799f4f1328"
      },
      "outputs": [
        {
          "name": "stdout",
          "output_type": "stream",
          "text": [
            "WHATTTT?\n"
          ]
        }
      ],
      "source": [
        "a[\"print\"](\"WHATTTT?\")"
      ]
    },
    {
      "cell_type": "code",
      "execution_count": null,
      "id": "c15d19d4",
      "metadata": {
        "id": "c15d19d4"
      },
      "outputs": [],
      "source": []
    },
    {
      "cell_type": "markdown",
      "id": "cf28ffdf",
      "metadata": {
        "id": "cf28ffdf"
      },
      "source": [
        "#MAPS"
      ]
    },
    {
      "cell_type": "markdown",
      "id": "h2edCsqY8k9l",
      "metadata": {
        "id": "h2edCsqY8k9l"
      },
      "source": [
        "The map function applies a given function to each item in an iterable (e.g., a list) and returns a new iterable with the results.\n",
        "It's an efficient way to transform data, applying the same operation to multiple elements."
      ]
    },
    {
      "cell_type": "code",
      "execution_count": null,
      "id": "ad317441",
      "metadata": {
        "id": "ad317441"
      },
      "outputs": [],
      "source": [
        "a = [1, 3, 2, 5, 4]"
      ]
    },
    {
      "cell_type": "code",
      "execution_count": null,
      "id": "e8272607",
      "metadata": {
        "id": "e8272607"
      },
      "outputs": [],
      "source": [
        "m = list(map(lambda x: x**2, a))"
      ]
    },
    {
      "cell_type": "code",
      "execution_count": null,
      "id": "a27ce2a9",
      "metadata": {
        "id": "a27ce2a9",
        "outputId": "ab4e5598-2498-4878-c4f7-3e0fb222ac63"
      },
      "outputs": [
        {
          "data": {
            "text/plain": [
              "[1, 9, 4, 25, 16]"
            ]
          },
          "execution_count": 8,
          "metadata": {},
          "output_type": "execute_result"
        }
      ],
      "source": [
        "m"
      ]
    },
    {
      "cell_type": "code",
      "execution_count": null,
      "id": "ec69b366",
      "metadata": {
        "id": "ec69b366",
        "outputId": "45d95460-f685-46f4-cbae-e6664b3fd092"
      },
      "outputs": [
        {
          "data": {
            "text/plain": [
              "'\\nQuestion 1 ->\\n\\nMap a list of heights to a list of T-Shirt sizes!\\nheights -> [150, 165, 182, 140, 155, 170]\\n\\nh <= 150 -> S\\nh > 150 and h <= 180 -> M\\nh > 180 -> L\\n\\noutput -> [S, M, L, S, M, M]\\n'"
            ]
          },
          "execution_count": 9,
          "metadata": {},
          "output_type": "execute_result"
        }
      ],
      "source": [
        "'''\n",
        "Question 1 ->\n",
        "\n",
        "Map a list of heights to a list of T-Shirt sizes!\n",
        "heights -> [150, 165, 182, 140, 155, 170]\n",
        "\n",
        "h <= 150 -> S\n",
        "h > 150 and h <= 180 -> M\n",
        "h > 180 -> L\n",
        "\n",
        "output -> [S, M, L, S, M, M]\n",
        "'''"
      ]
    },
    {
      "cell_type": "code",
      "execution_count": null,
      "id": "a6473eca",
      "metadata": {
        "id": "a6473eca"
      },
      "outputs": [],
      "source": [
        "heights = [150, 165, 182, 140, 155, 170]"
      ]
    },
    {
      "cell_type": "code",
      "execution_count": null,
      "id": "7bba376b",
      "metadata": {
        "id": "7bba376b",
        "outputId": "293007de-188a-4de8-f061-25a0f3ad3498"
      },
      "outputs": [
        {
          "data": {
            "text/plain": [
              "['S', 'M', 'L', 'S', 'M', 'M']"
            ]
          },
          "execution_count": 11,
          "metadata": {},
          "output_type": "execute_result"
        }
      ],
      "source": [
        "list(map(lambda x: \"S\" if x <= 150 else \"M\" if x > 150 and x <= 180 else \"L\", heights))"
      ]
    },
    {
      "cell_type": "code",
      "execution_count": null,
      "id": "9700c708",
      "metadata": {
        "id": "9700c708"
      },
      "outputs": [],
      "source": [
        "def sizing_logic(x):\n",
        "    if x <= 150:\n",
        "        return \"S\"\n",
        "    elif x > 150 and x <= 180:\n",
        "        return \"M\"\n",
        "    else:\n",
        "        return \"L\""
      ]
    },
    {
      "cell_type": "code",
      "execution_count": null,
      "id": "43be52e2",
      "metadata": {
        "id": "43be52e2",
        "outputId": "0539c88b-bfb9-4802-da64-f0e82a7da574",
        "scrolled": true
      },
      "outputs": [
        {
          "data": {
            "text/plain": [
              "['S', 'M', 'L', 'S', 'M', 'M']"
            ]
          },
          "execution_count": 13,
          "metadata": {},
          "output_type": "execute_result"
        }
      ],
      "source": [
        "list(map(sizing_logic, heights))"
      ]
    },
    {
      "cell_type": "code",
      "execution_count": null,
      "id": "6b164278",
      "metadata": {
        "id": "6b164278",
        "outputId": "2b8773b2-646e-4d5b-9016-2e3d6c8f3aba"
      },
      "outputs": [
        {
          "data": {
            "text/plain": [
              "'\\nQuestion 2 ->\\n\\nA = [0,0,1,1,0]\\nB = [1,0,0,1,1]\\n\\nResult = [False, True, False, True, False]\\n'"
            ]
          },
          "execution_count": 14,
          "metadata": {},
          "output_type": "execute_result"
        }
      ],
      "source": [
        "'''\n",
        "Question 2 ->\n",
        "\n",
        "A = [0,0,1,1,0]\n",
        "B = [1,0,0,1,1]\n",
        "\n",
        "Result = [False, True, False, True, False]\n",
        "'''"
      ]
    },
    {
      "cell_type": "code",
      "execution_count": null,
      "id": "37b14144",
      "metadata": {
        "id": "37b14144"
      },
      "outputs": [],
      "source": [
        "A = [0,0,1,1,0]\n",
        "B = [1,0,0,1,1,0,0,0,0,0]"
      ]
    },
    {
      "cell_type": "code",
      "execution_count": null,
      "id": "5bd465fe",
      "metadata": {
        "id": "5bd465fe",
        "outputId": "8bbddac9-98a3-4b68-9728-6d7235ab7e36"
      },
      "outputs": [
        {
          "data": {
            "text/plain": [
              "[False, True, False, True, False]"
            ]
          },
          "execution_count": 29,
          "metadata": {},
          "output_type": "execute_result"
        }
      ],
      "source": [
        "list(map(lambda x, y: x == y, A, B))"
      ]
    },
    {
      "cell_type": "markdown",
      "id": "5b0534f0",
      "metadata": {
        "id": "5b0534f0"
      },
      "source": [
        "#FILTERS"
      ]
    },
    {
      "cell_type": "markdown",
      "id": "XPMQQTex8qsQ",
      "metadata": {
        "id": "XPMQQTex8qsQ"
      },
      "source": [
        "The filter function filters elements from an iterable based on a specified condition.\n",
        "It's useful for selecting specific data points that meet certain criteria."
      ]
    },
    {
      "cell_type": "code",
      "execution_count": null,
      "id": "70e6c86a",
      "metadata": {
        "id": "70e6c86a"
      },
      "outputs": [],
      "source": [
        "a = [1, 2, 3, 4, 5, 6, 7, 8, 9, 10]"
      ]
    },
    {
      "cell_type": "code",
      "execution_count": null,
      "id": "bc50e4f3",
      "metadata": {
        "id": "bc50e4f3"
      },
      "outputs": [],
      "source": [
        "f = list(filter(lambda x: x % 2 == 1, a))"
      ]
    },
    {
      "cell_type": "code",
      "execution_count": null,
      "id": "6c006602",
      "metadata": {
        "id": "6c006602",
        "outputId": "e63c02eb-8ffb-4b17-b656-9a89eaf3e65c"
      },
      "outputs": [
        {
          "data": {
            "text/plain": [
              "[1, 3, 5, 7, 9]"
            ]
          },
          "execution_count": 21,
          "metadata": {},
          "output_type": "execute_result"
        }
      ],
      "source": [
        "f"
      ]
    },
    {
      "cell_type": "markdown",
      "id": "e0c49530",
      "metadata": {
        "id": "e0c49530"
      },
      "source": [
        "#ZIP"
      ]
    },
    {
      "cell_type": "markdown",
      "id": "NmoTlmPw85IG",
      "metadata": {
        "id": "NmoTlmPw85IG"
      },
      "source": [
        "The zip function in Python is a versatile tool for combining multiple iterables into a single iterable, creating pairs or tuples from corresponding elements of the input sequences. It takes two or more sequences as input and returns an iterator that generates tuples, where each tuple contains elements from the input sequences at the same index."
      ]
    },
    {
      "cell_type": "code",
      "execution_count": null,
      "id": "6ae8e52a",
      "metadata": {
        "id": "6ae8e52a"
      },
      "outputs": [],
      "source": [
        "a = [1, 2, 3, 4, 5]\n",
        "b = [\"a\", \"b\", \"c\", \"d\", \"e\"]"
      ]
    },
    {
      "cell_type": "code",
      "execution_count": null,
      "id": "84adf968",
      "metadata": {
        "id": "84adf968",
        "outputId": "7c10d05a-e5ec-4098-c225-bf9e142817a7"
      },
      "outputs": [
        {
          "data": {
            "text/plain": [
              "[(1, 'a'), (2, 'b'), (3, 'c'), (4, 'd'), (5, 'e')]"
            ]
          },
          "execution_count": 23,
          "metadata": {},
          "output_type": "execute_result"
        }
      ],
      "source": [
        "list(zip(a, b))"
      ]
    },
    {
      "cell_type": "code",
      "execution_count": null,
      "id": "c329f8bb",
      "metadata": {
        "id": "c329f8bb"
      },
      "outputs": [],
      "source": [
        "a = [1, 2, 3, 4, 5, 6, 7, 8, 9, 10]\n",
        "b = [\"a\", \"b\", \"c\", \"d\", \"e\"]"
      ]
    },
    {
      "cell_type": "code",
      "execution_count": null,
      "id": "400b1e23",
      "metadata": {
        "id": "400b1e23",
        "outputId": "0c8a9083-2ce5-4128-ce4f-87ca2c2ad413"
      },
      "outputs": [
        {
          "data": {
            "text/plain": [
              "[(1, 'a'), (2, 'b'), (3, 'c'), (4, 'd'), (5, 'e')]"
            ]
          },
          "execution_count": 25,
          "metadata": {},
          "output_type": "execute_result"
        }
      ],
      "source": [
        "list(zip(a, b))"
      ]
    },
    {
      "cell_type": "code",
      "execution_count": null,
      "id": "4d8d8df3",
      "metadata": {
        "id": "4d8d8df3"
      },
      "outputs": [],
      "source": [
        "a = [1, 2, 3, 4]\n",
        "b = [\"a\", \"b\", \"c\", \"d\", \"e\"]"
      ]
    },
    {
      "cell_type": "code",
      "execution_count": null,
      "id": "3f58d77a",
      "metadata": {
        "id": "3f58d77a"
      },
      "outputs": [],
      "source": [
        "result = list(zip(a, b))"
      ]
    },
    {
      "cell_type": "code",
      "execution_count": null,
      "id": "081d13ca",
      "metadata": {
        "id": "081d13ca",
        "outputId": "4b6b8fea-47f4-4521-cc75-a494dc1be306"
      },
      "outputs": [
        {
          "data": {
            "text/plain": [
              "[(1, 'a'), (2, 'b'), (3, 'c'), (4, 'd')]"
            ]
          },
          "execution_count": 31,
          "metadata": {},
          "output_type": "execute_result"
        }
      ],
      "source": [
        "result"
      ]
    },
    {
      "cell_type": "code",
      "execution_count": null,
      "id": "bfa98780",
      "metadata": {
        "id": "bfa98780",
        "outputId": "04434d89-0ba2-4a12-ed1f-450c0cba3de0"
      },
      "outputs": [
        {
          "data": {
            "text/plain": [
              "{1: 'a', 2: 'b', 3: 'c', 4: 'd'}"
            ]
          },
          "execution_count": 32,
          "metadata": {},
          "output_type": "execute_result"
        }
      ],
      "source": [
        "dict(result)"
      ]
    },
    {
      "cell_type": "code",
      "execution_count": null,
      "id": "f3631e31",
      "metadata": {
        "id": "f3631e31"
      },
      "outputs": [],
      "source": [
        "a = [1, 2, 3, 4]\n",
        "b = [\"a\", \"b\", \"c\", \"d\", \"e\"]\n",
        "c = [True, False, False, True, True, True]\n",
        "d = [5.6, 2.2, 1.3]"
      ]
    },
    {
      "cell_type": "code",
      "execution_count": null,
      "id": "dd67bbca",
      "metadata": {
        "id": "dd67bbca",
        "outputId": "f2fd7f55-5077-471c-ca87-f89a07db3dc4"
      },
      "outputs": [
        {
          "data": {
            "text/plain": [
              "[(1, 'a', True, 5.6), (2, 'b', False, 2.2), (3, 'c', False, 1.3)]"
            ]
          },
          "execution_count": 36,
          "metadata": {},
          "output_type": "execute_result"
        }
      ],
      "source": [
        "list(zip(a, b, c, d))"
      ]
    },
    {
      "cell_type": "markdown",
      "id": "1b9f8fe3",
      "metadata": {
        "id": "1b9f8fe3"
      },
      "source": [
        "#REDUCE"
      ]
    },
    {
      "cell_type": "markdown",
      "id": "pBbOQKfL86rM",
      "metadata": {
        "id": "pBbOQKfL86rM"
      },
      "source": [
        "The reduce function (from the functools module) aggregates elements in an iterable using a specified function.\n",
        "It's often used for cumulative operations, like summing all elements in a list."
      ]
    },
    {
      "cell_type": "code",
      "execution_count": null,
      "id": "261b24ed",
      "metadata": {
        "id": "261b24ed"
      },
      "outputs": [],
      "source": [
        "from functools import reduce"
      ]
    },
    {
      "cell_type": "code",
      "execution_count": null,
      "id": "44d118ab",
      "metadata": {
        "id": "44d118ab"
      },
      "outputs": [],
      "source": [
        "a = [1, 2, 3, 4, 5]"
      ]
    },
    {
      "cell_type": "code",
      "execution_count": null,
      "id": "e6a8f0b5",
      "metadata": {
        "id": "e6a8f0b5"
      },
      "outputs": [],
      "source": [
        "result = reduce(lambda x, y: x + y, a)"
      ]
    },
    {
      "cell_type": "code",
      "execution_count": null,
      "id": "a64a9054",
      "metadata": {
        "id": "a64a9054",
        "outputId": "6c1b9a59-b5ca-449f-ae8d-198a5b89cd6b"
      },
      "outputs": [
        {
          "data": {
            "text/plain": [
              "15"
            ]
          },
          "execution_count": 48,
          "metadata": {},
          "output_type": "execute_result"
        }
      ],
      "source": [
        "result"
      ]
    },
    {
      "cell_type": "code",
      "execution_count": null,
      "id": "cf9042c4",
      "metadata": {
        "id": "cf9042c4",
        "outputId": "e1696933-b500-4f1d-ad42-0a0401d31f21"
      },
      "outputs": [
        {
          "name": "stdout",
          "output_type": "stream",
          "text": [
            "-13\n"
          ]
        }
      ],
      "source": [
        "print(reduce(lambda x, y: x - y, a))"
      ]
    },
    {
      "cell_type": "code",
      "execution_count": null,
      "id": "8f2d3001",
      "metadata": {
        "id": "8f2d3001",
        "outputId": "9659a5d5-759f-469f-f800-321e6745ff0f"
      },
      "outputs": [
        {
          "data": {
            "text/plain": [
              "True"
            ]
          },
          "execution_count": 50,
          "metadata": {},
          "output_type": "execute_result"
        }
      ],
      "source": [
        "a = list(range(1, 11))\n",
        "b = reversed(a)\n",
        "\n",
        "reduce(lambda x, y: x * y, a) == reduce(lambda x, y: x * y, b)"
      ]
    },
    {
      "cell_type": "code",
      "execution_count": null,
      "id": "21d457af",
      "metadata": {
        "id": "21d457af"
      },
      "outputs": [],
      "source": [
        "a = [\"this\", \"is\", \"so\", \"cooolllll!!!\"]"
      ]
    },
    {
      "cell_type": "code",
      "execution_count": null,
      "id": "56d1f41e",
      "metadata": {
        "id": "56d1f41e",
        "outputId": "3c271358-01ad-4181-f5c1-565ddf7e88fa"
      },
      "outputs": [
        {
          "data": {
            "text/plain": [
              "'this is so cooolllll!!!'"
            ]
          },
          "execution_count": 52,
          "metadata": {},
          "output_type": "execute_result"
        }
      ],
      "source": [
        "reduce(lambda x, y: f\"{x} {y}\", a)"
      ]
    },
    {
      "cell_type": "code",
      "execution_count": null,
      "id": "6ad9de9f",
      "metadata": {
        "id": "6ad9de9f"
      },
      "outputs": [],
      "source": [
        "a = [10, 20, 5, 18, 50, 90, 70, 65]"
      ]
    },
    {
      "cell_type": "code",
      "execution_count": null,
      "id": "382fb369",
      "metadata": {
        "id": "382fb369",
        "outputId": "c58763e4-837f-4914-9ee0-38d3b25df0d2"
      },
      "outputs": [
        {
          "data": {
            "text/plain": [
              "90"
            ]
          },
          "execution_count": 55,
          "metadata": {},
          "output_type": "execute_result"
        }
      ],
      "source": [
        "reduce(lambda x, y: x if x > y else y, a)"
      ]
    },
    {
      "cell_type": "code",
      "execution_count": null,
      "id": "f235b6ad",
      "metadata": {
        "id": "f235b6ad"
      },
      "outputs": [],
      "source": [
        "def reduction_visualisation(x, y):\n",
        "    print(f\"Currently comparing {x} and {y}\")\n",
        "\n",
        "    return x if x > y else y"
      ]
    },
    {
      "cell_type": "code",
      "execution_count": null,
      "id": "c5508123",
      "metadata": {
        "id": "c5508123",
        "outputId": "615876cb-555f-4cf4-9cbe-f60e92a08d00"
      },
      "outputs": [
        {
          "name": "stdout",
          "output_type": "stream",
          "text": [
            "Currently comparing 10 and 20\n",
            "Currently comparing 20 and 5\n",
            "Currently comparing 20 and 18\n",
            "Currently comparing 20 and 50\n",
            "Currently comparing 50 and 90\n",
            "Currently comparing 90 and 70\n",
            "Currently comparing 90 and 65\n"
          ]
        },
        {
          "data": {
            "text/plain": [
              "90"
            ]
          },
          "execution_count": 57,
          "metadata": {},
          "output_type": "execute_result"
        }
      ],
      "source": [
        "reduce(reduction_visualisation, a)"
      ]
    },
    {
      "cell_type": "markdown",
      "id": "7837035c",
      "metadata": {
        "id": "7837035c"
      },
      "source": [
        "#ARGS AND KWARGS"
      ]
    },
    {
      "cell_type": "markdown",
      "id": "nhoMJEgC9AId",
      "metadata": {
        "id": "nhoMJEgC9AId"
      },
      "source": [
        "In Python, you can handle variable-length arguments, both positional and keyword, using *args and **kwargs. These features allow you to create flexible functions that can accept a variable number of arguments, making your code more versatile.\n",
        "\n"
      ]
    },
    {
      "cell_type": "markdown",
      "id": "bBF4IR9d9G9Z",
      "metadata": {
        "id": "bBF4IR9d9G9Z"
      },
      "source": [
        "**Using *args for Variable-Length Positional Arguments**\n",
        "\n",
        "The *args syntax in a function definition allows you to pass a variable number of positional arguments. These arguments are collected into a tuple, which you can then iterate over or process within the function."
      ]
    },
    {
      "cell_type": "markdown",
      "id": "XX3jqDmP9PK0",
      "metadata": {
        "id": "XX3jqDmP9PK0"
      },
      "source": [
        "**Using **kwargs for Variable-Length Keyword Arguments**\n",
        "\n",
        "The **kwargs syntax in a function definition allows you to pass a variable number of keyword arguments. These arguments are collected into a dictionary, enabling you to access them by their keys within the function."
      ]
    },
    {
      "cell_type": "code",
      "execution_count": null,
      "id": "e690b59d",
      "metadata": {
        "id": "e690b59d"
      },
      "outputs": [],
      "source": [
        "def sum_custom(a, b):\n",
        "    return a + b"
      ]
    },
    {
      "cell_type": "code",
      "execution_count": null,
      "id": "50b5a8a2",
      "metadata": {
        "id": "50b5a8a2",
        "outputId": "7428d4ca-545d-4d53-a268-746b9470025f"
      },
      "outputs": [
        {
          "data": {
            "text/plain": [
              "9"
            ]
          },
          "execution_count": 59,
          "metadata": {},
          "output_type": "execute_result"
        }
      ],
      "source": [
        "sum_custom(4,5)"
      ]
    },
    {
      "cell_type": "code",
      "execution_count": null,
      "id": "4c98ccc5",
      "metadata": {
        "id": "4c98ccc5"
      },
      "outputs": [],
      "source": [
        "# PROBLEM -\n",
        "# - A sum function should take minimum 2 arguments\n",
        "# - But max arguments should be unlimited"
      ]
    },
    {
      "cell_type": "code",
      "execution_count": null,
      "id": "890df260",
      "metadata": {
        "id": "890df260"
      },
      "outputs": [],
      "source": [
        "def sum_custom(a, b, *args):\n",
        "    print(a)\n",
        "    print(b)\n",
        "    print(args)"
      ]
    },
    {
      "cell_type": "code",
      "execution_count": null,
      "id": "2aba5c56",
      "metadata": {
        "id": "2aba5c56",
        "outputId": "9d8e1efe-36d7-4c05-f78b-3e4232e5e648"
      },
      "outputs": [
        {
          "name": "stdout",
          "output_type": "stream",
          "text": [
            "4\n",
            "5\n",
            "(6, 7, 8, 9, 10)\n"
          ]
        }
      ],
      "source": [
        "sum_custom(4, 5, 6, 7, 8, 9, 10)"
      ]
    },
    {
      "cell_type": "code",
      "execution_count": null,
      "id": "db2a4dde",
      "metadata": {
        "id": "db2a4dde"
      },
      "outputs": [],
      "source": [
        "def sum_custom(a, b, *any_variable_name):\n",
        "    return a + b + sum(any_variable_name)"
      ]
    },
    {
      "cell_type": "code",
      "execution_count": null,
      "id": "36fafe34",
      "metadata": {
        "id": "36fafe34",
        "outputId": "60ba78c7-c658-4191-cbd5-d47e4d374372"
      },
      "outputs": [
        {
          "data": {
            "text/plain": [
              "9"
            ]
          },
          "execution_count": 70,
          "metadata": {},
          "output_type": "execute_result"
        }
      ],
      "source": [
        "sum_custom(4, 5)"
      ]
    },
    {
      "cell_type": "code",
      "execution_count": null,
      "id": "e9a553d9",
      "metadata": {
        "id": "e9a553d9",
        "outputId": "a57775d3-f778-4f4c-804d-025cfcd722e7"
      },
      "outputs": [
        {
          "ename": "TypeError",
          "evalue": "sum_custom() missing 1 required positional argument: 'b'",
          "output_type": "error",
          "traceback": [
            "\u001b[0;31m---------------------------------------------------------------------------\u001b[0m",
            "\u001b[0;31mTypeError\u001b[0m                                 Traceback (most recent call last)",
            "\u001b[0;32m/var/folders/nn/c52y0d3j0gq59dpsswchkt2r0000gn/T/ipykernel_92438/3823228276.py\u001b[0m in \u001b[0;36m<module>\u001b[0;34m\u001b[0m\n\u001b[0;32m----> 1\u001b[0;31m \u001b[0msum_custom\u001b[0m\u001b[0;34m(\u001b[0m\u001b[0;36m4\u001b[0m\u001b[0;34m)\u001b[0m\u001b[0;34m\u001b[0m\u001b[0;34m\u001b[0m\u001b[0m\n\u001b[0m",
            "\u001b[0;31mTypeError\u001b[0m: sum_custom() missing 1 required positional argument: 'b'"
          ]
        }
      ],
      "source": [
        "sum_custom(4)"
      ]
    },
    {
      "cell_type": "code",
      "execution_count": null,
      "id": "bd1261ec",
      "metadata": {
        "id": "bd1261ec",
        "outputId": "72b5d301-9e81-4625-e3a1-2ad94f05b982"
      },
      "outputs": [
        {
          "data": {
            "text/plain": [
              "30"
            ]
          },
          "execution_count": 72,
          "metadata": {},
          "output_type": "execute_result"
        }
      ],
      "source": [
        "sum_custom(4, 5, 6, 7, 8)"
      ]
    },
    {
      "cell_type": "code",
      "execution_count": null,
      "id": "b2c058ed",
      "metadata": {
        "id": "b2c058ed"
      },
      "outputs": [],
      "source": [
        "def random():\n",
        "    return 200, 300, 400, 500, 600"
      ]
    },
    {
      "cell_type": "code",
      "execution_count": null,
      "id": "f6a40b21",
      "metadata": {
        "id": "f6a40b21"
      },
      "outputs": [],
      "source": [
        "a, b, *c = random()"
      ]
    },
    {
      "cell_type": "code",
      "execution_count": null,
      "id": "1c60021e",
      "metadata": {
        "id": "1c60021e",
        "outputId": "b91033cf-fe01-4322-899c-e0279be10bc5"
      },
      "outputs": [
        {
          "data": {
            "text/plain": [
              "200"
            ]
          },
          "execution_count": 79,
          "metadata": {},
          "output_type": "execute_result"
        }
      ],
      "source": [
        "a"
      ]
    },
    {
      "cell_type": "code",
      "execution_count": null,
      "id": "c8e8b694",
      "metadata": {
        "id": "c8e8b694",
        "outputId": "c7c18d1c-df17-451c-ea84-e0f46ad2111a"
      },
      "outputs": [
        {
          "data": {
            "text/plain": [
              "300"
            ]
          },
          "execution_count": 80,
          "metadata": {},
          "output_type": "execute_result"
        }
      ],
      "source": [
        "b"
      ]
    },
    {
      "cell_type": "code",
      "execution_count": null,
      "id": "fafb62dc",
      "metadata": {
        "id": "fafb62dc",
        "outputId": "44780f18-3e8d-404b-ec75-9fc61820a578"
      },
      "outputs": [
        {
          "data": {
            "text/plain": [
              "[400, 500, 600]"
            ]
          },
          "execution_count": 81,
          "metadata": {},
          "output_type": "execute_result"
        }
      ],
      "source": [
        "c"
      ]
    },
    {
      "cell_type": "code",
      "execution_count": null,
      "id": "2538ecba",
      "metadata": {
        "id": "2538ecba"
      },
      "outputs": [],
      "source": [
        "def create_person(name, age, gender):\n",
        "    Person = {\n",
        "        \"name\": name,\n",
        "        \"age\": age,\n",
        "        \"gender\": gender\n",
        "    }\n",
        "\n",
        "    return Person"
      ]
    },
    {
      "cell_type": "code",
      "execution_count": null,
      "id": "83f1a91f",
      "metadata": {
        "id": "83f1a91f",
        "outputId": "05337fa2-a3ba-435e-efa9-eea690602a1d"
      },
      "outputs": [
        {
          "data": {
            "text/plain": [
              "{'name': 'Bipin', 'age': 5000, 'gender': 'Male'}"
            ]
          },
          "execution_count": 83,
          "metadata": {},
          "output_type": "execute_result"
        }
      ],
      "source": [
        "create_person(name = \"Bipin\", age = 5000, gender = \"Male\")"
      ]
    },
    {
      "cell_type": "code",
      "execution_count": null,
      "id": "b1355df2",
      "metadata": {
        "id": "b1355df2"
      },
      "outputs": [],
      "source": [
        "def create_person(name, age, gender, **kwargs):\n",
        "    print(kwargs)"
      ]
    },
    {
      "cell_type": "code",
      "execution_count": null,
      "id": "cec61ed7",
      "metadata": {
        "id": "cec61ed7",
        "outputId": "0c9eb740-50f1-4e1f-c10f-1e3506581012"
      },
      "outputs": [
        {
          "name": "stdout",
          "output_type": "stream",
          "text": [
            "{'subject': ['Computer Science', 'Physics'], 'height': 182, 'weight': False}\n"
          ]
        }
      ],
      "source": [
        "create_person(name = \"Bipin\", age = 5000, gender = \"Male\", subject = [\"Computer Science\", \"Physics\"], height = 182, weight = False)"
      ]
    },
    {
      "cell_type": "code",
      "execution_count": null,
      "id": "c940d058",
      "metadata": {
        "id": "c940d058"
      },
      "outputs": [],
      "source": [
        "def create_person(name, age, gender, **extra_info):\n",
        "    Person = {\n",
        "        \"name\": name,\n",
        "        \"age\": age,\n",
        "        \"gender\": gender\n",
        "    }\n",
        "\n",
        "    Person.update(extra_info)\n",
        "\n",
        "    return Person"
      ]
    },
    {
      "cell_type": "code",
      "execution_count": null,
      "id": "c93581c7",
      "metadata": {
        "id": "c93581c7",
        "outputId": "e742c06d-0f07-4c81-9436-2db43d7708a1"
      },
      "outputs": [
        {
          "data": {
            "text/plain": [
              "{'name': 'Bipin',\n",
              " 'age': 5000,\n",
              " 'gender': 'Male',\n",
              " 'subject': ['Computer Science', 'Physics'],\n",
              " 'height': 182,\n",
              " 'weight': False}"
            ]
          },
          "execution_count": 87,
          "metadata": {},
          "output_type": "execute_result"
        }
      ],
      "source": [
        "create_person(name = \"Bipin\", age = 5000, gender = \"Male\", subject = [\"Computer Science\", \"Physics\"], height = 182, weight = False)"
      ]
    },
    {
      "cell_type": "code",
      "execution_count": null,
      "id": "1f7d847f",
      "metadata": {
        "id": "1f7d847f"
      },
      "outputs": [],
      "source": [
        "# positional -> args -> keyworded -> kwargs"
      ]
    },
    {
      "cell_type": "code",
      "execution_count": null,
      "id": "8c6a4033",
      "metadata": {
        "id": "8c6a4033"
      },
      "outputs": [],
      "source": []
    }
  ],
  "metadata": {
    "colab": {
      "collapsed_sections": [
        "WpQzq7R17qNe",
        "q3ch1I3B7wye",
        "0FG-r5Na8RUF",
        "cf28ffdf",
        "5b0534f0",
        "e0c49530",
        "1b9f8fe3",
        "7837035c"
      ],
      "provenance": []
    },
    "kernelspec": {
      "display_name": "Python 3 (ipykernel)",
      "language": "python",
      "name": "python3"
    },
    "language_info": {
      "codemirror_mode": {
        "name": "ipython",
        "version": 3
      },
      "file_extension": ".py",
      "mimetype": "text/x-python",
      "name": "python",
      "nbconvert_exporter": "python",
      "pygments_lexer": "ipython3",
      "version": "3.11.5"
    }
  },
  "nbformat": 4,
  "nbformat_minor": 5
}