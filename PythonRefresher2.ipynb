{
  "cells": [
    {
      "cell_type": "markdown",
      "id": "fOHEMIqYiTNs",
      "metadata": {
        "id": "fOHEMIqYiTNs"
      },
      "source": [
        "# DSML-Python Refresher 2\n",
        "\n",
        "**Agenda**\n",
        "1. Control Flow\n",
        "2. Functions\n",
        "3. Lists\n",
        "4. Strings\n",
        "5. Tuples\n",
        "6. Sets\n",
        "7. Dictionaries\n",
        "8. Linked List\n",
        "9. Loops\n",
        "10. Conditional statements"
      ]
    },
    {
      "cell_type": "markdown",
      "id": "9e65b8eb",
      "metadata": {
        "id": "9e65b8eb"
      },
      "source": [
        "#**`Control Flow`**"
      ]
    },
    {
      "cell_type": "markdown",
      "id": "6JkxkH5z3R2n",
      "metadata": {
        "id": "6JkxkH5z3R2n"
      },
      "source": []
    },
    {
      "cell_type": "code",
      "execution_count": null,
      "id": "364a6ac4",
      "metadata": {
        "id": "364a6ac4"
      },
      "outputs": [],
      "source": [
        "x = 60"
      ]
    },
    {
      "cell_type": "code",
      "execution_count": null,
      "id": "5d2169d2",
      "metadata": {
        "id": "5d2169d2",
        "outputId": "8a866c7e-c204-48a5-aec8-3be28e6c495e"
      },
      "outputs": [
        {
          "name": "stdout",
          "output_type": "stream",
          "text": [
            "After the if block!\n"
          ]
        }
      ],
      "source": [
        "if x < 50:\n",
        "    print(\"random\")\n",
        "    y = 10\n",
        "    y += 5\n",
        "    print(y)\n",
        "\n",
        "print(\"After the if block!\")"
      ]
    },
    {
      "cell_type": "code",
      "execution_count": null,
      "id": "ec6dd96e",
      "metadata": {
        "id": "ec6dd96e",
        "outputId": "3e0ebeba-705c-4e33-e249-f8f1c80acdb1"
      },
      "outputs": [
        {
          "name": "stdout",
          "output_type": "stream",
          "text": [
            "0\n",
            "1\n",
            "2\n",
            "3\n",
            "4\n"
          ]
        }
      ],
      "source": [
        "print(\"0\")\n",
        "\n",
        "if 50 > 40:\n",
        "    print(\"1\")\n",
        "    print(\"2\")\n",
        "    print(\"3\")\n",
        "\n",
        "print(\"4\")"
      ]
    },
    {
      "cell_type": "code",
      "execution_count": null,
      "id": "7e281ff3",
      "metadata": {
        "id": "7e281ff3",
        "outputId": "0165b02b-5849-4f4c-aaa0-123466695e6e"
      },
      "outputs": [
        {
          "name": "stdout",
          "output_type": "stream",
          "text": [
            "0\n",
            "4\n"
          ]
        }
      ],
      "source": [
        "print(\"0\")\n",
        "\n",
        "if 50 < 40:\n",
        "    print(\"1\")\n",
        "    print(\"2\")\n",
        "    print(\"3\")\n",
        "\n",
        "print(\"4\")"
      ]
    },
    {
      "cell_type": "code",
      "execution_count": null,
      "id": "88898c66",
      "metadata": {
        "id": "88898c66",
        "outputId": "f2ba073f-6aea-44cb-fece-5ac2cb4454e4"
      },
      "outputs": [
        {
          "data": {
            "text/plain": [
              "'\\nLINES BEFORE THE IF-ELSE BLOCK WILL ALWAYS EXECUTE.\\n\\nif <condition>:\\n    IF BLOCK EXECUTES IF THE CONDITION IS TRUE.\\n    SECOND LINE.\\n    THIRD LINE.\\nelse:\\n    ELSE BLOCK EXECUTES IF THE CONDITION IS FALSE.\\n    SECOND LINE.\\n    THIRD LINE.\\n\\nLINES AFTER THE IF-ELSE BLOCK WILL ALWAYS EXECUTE.\\n'"
            ]
          },
          "execution_count": 3,
          "metadata": {},
          "output_type": "execute_result"
        }
      ],
      "source": [
        "'''\n",
        "LINES BEFORE THE IF-ELSE BLOCK WILL ALWAYS EXECUTE.\n",
        "\n",
        "if <condition>:\n",
        "    IF BLOCK EXECUTES IF THE CONDITION IS TRUE.\n",
        "    SECOND LINE.\n",
        "    THIRD LINE.\n",
        "else:\n",
        "    ELSE BLOCK EXECUTES IF THE CONDITION IS FALSE.\n",
        "    SECOND LINE.\n",
        "    THIRD LINE.\n",
        "\n",
        "LINES AFTER THE IF-ELSE BLOCK WILL ALWAYS EXECUTE.\n",
        "'''"
      ]
    },
    {
      "cell_type": "code",
      "execution_count": null,
      "id": "3c066d65",
      "metadata": {
        "id": "3c066d65",
        "outputId": "d62eded9-152f-43eb-fd1b-2ff1934e89d6"
      },
      "outputs": [
        {
          "data": {
            "text/plain": [
              "'\\nQuestion 1 - \\n1. Take an integer as input from the user.\\n2. Calculate cube of the input.\\n3. If result > 50 print \"Massive Number\" else print \"Small Number\".\\n4. After this, print \"EXECUTION COMPLETE!\"\\n'"
            ]
          },
          "execution_count": 4,
          "metadata": {},
          "output_type": "execute_result"
        }
      ],
      "source": [
        "'''\n",
        "Question 1 -\n",
        "1. Take an integer as input from the user.\n",
        "2. Calculate cube of the input.\n",
        "3. If result > 50 print \"Massive Number\" else print \"Small Number\".\n",
        "4. After this, print \"EXECUTION COMPLETE!\"\n",
        "'''"
      ]
    },
    {
      "cell_type": "code",
      "execution_count": null,
      "id": "4f9dd5b8",
      "metadata": {
        "id": "4f9dd5b8",
        "outputId": "ad521dc4-272c-4317-c0e0-a04e5b593c68"
      },
      "outputs": [
        {
          "name": "stdout",
          "output_type": "stream",
          "text": [
            "3\n",
            "Small Number!\n",
            "EXECUTION COMPLETE!\n"
          ]
        }
      ],
      "source": [
        "n = int(input())\n",
        "\n",
        "result = n ** 3\n",
        "\n",
        "if result > 50:\n",
        "    print(\"Massive Number!\")\n",
        "else:\n",
        "    print(\"Small Number!\")\n",
        "\n",
        "print(\"EXECUTION COMPLETE!\")"
      ]
    },
    {
      "cell_type": "code",
      "execution_count": null,
      "id": "a2312531",
      "metadata": {
        "id": "a2312531",
        "outputId": "83fd7efe-6ebb-45f0-c76a-38af0e8edce3"
      },
      "outputs": [
        {
          "data": {
            "text/plain": [
              "'\\nQuestion 2 -\\n1. Take a password as input from User.\\n2. Take another input to verify password.\\n3. Print \"Successfully Verified!\" if both passwords are same.\\n4. Print \"Verification Failed!\" otherwise.\\n'"
            ]
          },
          "execution_count": 7,
          "metadata": {},
          "output_type": "execute_result"
        }
      ],
      "source": [
        "'''\n",
        "Question 2 -\n",
        "1. Take a password as input from User.\n",
        "2. Take another input to verify password.\n",
        "3. Print \"Successfully Verified!\" if both passwords are same.\n",
        "4. Print \"Verification Failed!\" otherwise.\n",
        "'''"
      ]
    },
    {
      "cell_type": "code",
      "execution_count": null,
      "id": "567d4069",
      "metadata": {
        "id": "567d4069",
        "outputId": "8e4571b8-43a2-489e-a07c-849890b61412"
      },
      "outputs": [
        {
          "name": "stdout",
          "output_type": "stream",
          "text": [
            "Enter your password - password\n",
            "Enter your password again - random123\n",
            "Verification Failed!\n"
          ]
        }
      ],
      "source": [
        "password_1 = input(\"Enter your password - \")\n",
        "password_2 = input(\"Enter your password again - \")\n",
        "\n",
        "if password_1 == password_2:\n",
        "    print(\"Successfully Verified!\")\n",
        "else:\n",
        "    print(\"Verification Failed!\")"
      ]
    },
    {
      "cell_type": "code",
      "execution_count": null,
      "id": "84520601",
      "metadata": {
        "id": "84520601",
        "outputId": "1d2ea2d6-c790-4c51-ad24-be21358d1c52"
      },
      "outputs": [
        {
          "name": "stdout",
          "output_type": "stream",
          "text": [
            "14\n",
            "Good Afternoon :|\n"
          ]
        }
      ],
      "source": [
        "time = int(input())\n",
        "\n",
        "if time > 9 and time <= 12:\n",
        "    print(\"Good Morning :)\")\n",
        "else:\n",
        "    if time > 12 and time <= 17:\n",
        "        print(\"Good Afternoon :|\")\n",
        "    else:\n",
        "        if time > 17 and time <= 20:\n",
        "            print(\"Good Evening :(\")\n",
        "        else:\n",
        "            print(\"Good Night >:(\")"
      ]
    },
    {
      "cell_type": "code",
      "execution_count": null,
      "id": "8c34262a",
      "metadata": {
        "id": "8c34262a",
        "outputId": "42fe95d4-4833-42ed-dc29-1d851d545a79"
      },
      "outputs": [
        {
          "name": "stdout",
          "output_type": "stream",
          "text": [
            "14\n",
            "Good Afternoon :)\n"
          ]
        }
      ],
      "source": [
        "time = int(input())\n",
        "\n",
        "if time > 9 and time <= 12:\n",
        "    print(\"Good Morning :)\")\n",
        "elif time > 12 and time <= 17:\n",
        "    print(\"Good Afternoon :)\")\n",
        "elif time > 17 and time <= 20:\n",
        "    print(\"Good Evening :)\")\n",
        "else:\n",
        "    print(\"Good Night :)\")"
      ]
    },
    {
      "cell_type": "code",
      "execution_count": null,
      "id": "6923b950",
      "metadata": {
        "id": "6923b950"
      },
      "outputs": [],
      "source": []
    },
    {
      "cell_type": "markdown",
      "id": "d7cf8ae2",
      "metadata": {
        "id": "d7cf8ae2"
      },
      "source": [
        "### Pass statement\n",
        "\\\n",
        "pass in Python is a null statement which the interpreter simply 'moves over' while executing the code. It can be used in a variety of scenarios where you want to leave parts of your code undefined (such as if-else, loops, classes or methods) but the Python syntax doesn't allow it."
      ]
    },
    {
      "cell_type": "code",
      "execution_count": null,
      "id": "48d9123f",
      "metadata": {
        "id": "48d9123f",
        "outputId": "b25bcfa3-72c2-4e7b-a2b0-19e204b2497a"
      },
      "outputs": [
        {
          "ename": "IndentationError",
          "evalue": "expected an indented block (387309564.py, line 4)",
          "output_type": "error",
          "traceback": [
            "\u001b[0;36m  File \u001b[0;32m\"/var/folders/jn/1bsrct314hv5xmfm7vrcdrzc0000gn/T/ipykernel_7040/387309564.py\"\u001b[0;36m, line \u001b[0;32m4\u001b[0m\n\u001b[0;31m    \u001b[0m\n\u001b[0m    ^\u001b[0m\n\u001b[0;31mIndentationError\u001b[0m\u001b[0;31m:\u001b[0m expected an indented block\n"
          ]
        }
      ],
      "source": [
        "x = 10\n",
        "\n",
        "if x % 4 == 0:\n"
      ]
    },
    {
      "cell_type": "code",
      "execution_count": null,
      "id": "fe48c476",
      "metadata": {
        "id": "fe48c476"
      },
      "outputs": [],
      "source": [
        "x = 10\n",
        "\n",
        "if x % 4 == 0:\n",
        "    pass"
      ]
    },
    {
      "cell_type": "code",
      "execution_count": null,
      "id": "8498224c",
      "metadata": {
        "id": "8498224c",
        "outputId": "c66a4786-2658-4669-f747-a03b5b4008a1"
      },
      "outputs": [
        {
          "ename": "IndentationError",
          "evalue": "expected an indented block (4155345654.py, line 2)",
          "output_type": "error",
          "traceback": [
            "\u001b[0;36m  File \u001b[0;32m\"/var/folders/jn/1bsrct314hv5xmfm7vrcdrzc0000gn/T/ipykernel_7040/4155345654.py\"\u001b[0;36m, line \u001b[0;32m2\u001b[0m\n\u001b[0;31m    \u001b[0m\n\u001b[0m    ^\u001b[0m\n\u001b[0;31mIndentationError\u001b[0m\u001b[0;31m:\u001b[0m expected an indented block\n"
          ]
        }
      ],
      "source": [
        "for i in range(10):\n"
      ]
    },
    {
      "cell_type": "code",
      "execution_count": null,
      "id": "ba5aca86",
      "metadata": {
        "id": "ba5aca86"
      },
      "outputs": [],
      "source": [
        "for i in range(10):\n",
        "    pass"
      ]
    },
    {
      "cell_type": "markdown",
      "id": "894177bb",
      "metadata": {
        "id": "894177bb"
      },
      "source": [
        "#**`Break Statement`**\n",
        "Stop / Interrupt / Destroy the loop. Works with both for and while loop.\n"
      ]
    },
    {
      "cell_type": "markdown",
      "id": "ztJyknUb6gGU",
      "metadata": {
        "id": "ztJyknUb6gGU"
      },
      "source": [
        "**Usage:** The `break` statement is utilized within a loop, often accompanied by a conditional statement (such as an `if` statement) that checks a specific condition.\n",
        "\n",
        "**Purpose:** When the `break` statement is executed, the loop is immediately terminated, and the program proceeds with the next statement after the loop.\n",
        "\n",
        "**Example:**\n",
        "```python\n",
        "for i in range(5):\n",
        "    if i == 3:\n",
        "        break\n",
        "```\n",
        "\n",
        "In this example, the loop stops when `i` equals 3, and the remaining numbers (4 and 5) are not iterated over. The `break` statement is a valuable tool for controlling the flow of loops and prematurely exiting a loop when a certain condition is met."
      ]
    },
    {
      "cell_type": "code",
      "execution_count": null,
      "id": "1a038d75",
      "metadata": {
        "id": "1a038d75",
        "outputId": "e679e4db-42db-4c72-f855-8c844ed9a7ff"
      },
      "outputs": [
        {
          "name": "stdout",
          "output_type": "stream",
          "text": [
            "0\n",
            "After the if\n",
            "1\n",
            "After the if\n",
            "2\n",
            "After the if\n",
            "3\n",
            "After the if\n",
            "4\n",
            "After the if\n",
            "5\n",
            "\n",
            "Outside the loop\n"
          ]
        }
      ],
      "source": [
        "for i in range(10):\n",
        "    print(i)\n",
        "\n",
        "    if i == 5:\n",
        "        break\n",
        "\n",
        "    print(\"After the if\")\n",
        "\n",
        "print(\"\\nOutside the loop\")"
      ]
    },
    {
      "cell_type": "markdown",
      "id": "5349052a",
      "metadata": {
        "id": "5349052a"
      },
      "source": [
        "#**`Continue Statement`**\n",
        "\n",
        "Skips an iteration.\n",
        "Works with both for loops and while loops"
      ]
    },
    {
      "cell_type": "markdown",
      "id": "nzMIl8pH6S9G",
      "metadata": {
        "id": "nzMIl8pH6S9G"
      },
      "source": [
        "**Usage:** The `continue` statement is employed within a loop, typically within an `if` statement that checks a specific condition.\n",
        "\n",
        "**Purpose:** When the `continue` statement is executed, the current iteration is prematurely terminated, and the loop immediately proceeds to the next iteration.\n",
        "\n",
        "**Example:**\n",
        "```python\n",
        "for i in range(5):\n",
        "    if i == 3:\n",
        "        continue\n",
        "```\n",
        "\n",
        "In this example, when `i` equals 3, the current iteration is skipped, and the loop continues with the next value of `i` (4 and 5). The `continue` statement is a useful tool for controlling the flow of loops and skipping specific iterations based on a condition."
      ]
    },
    {
      "cell_type": "code",
      "execution_count": null,
      "id": "8f147b70",
      "metadata": {
        "id": "8f147b70",
        "outputId": "28768c10-2659-421d-f6e1-067960938174"
      },
      "outputs": [
        {
          "name": "stdout",
          "output_type": "stream",
          "text": [
            "1 2 3 4 5 6 8 9 "
          ]
        }
      ],
      "source": [
        "for i in range(1, 10):\n",
        "    if i == 7:\n",
        "        continue\n",
        "\n",
        "    print(i, end=' ')"
      ]
    },
    {
      "cell_type": "markdown",
      "id": "eaef6f0c",
      "metadata": {
        "id": "eaef6f0c"
      },
      "source": [
        "#### Question\n",
        "- Write a program that continuously asks the user to provide an input number.\n",
        "- Print the square of that input number.\n",
        "- The program should stop if the user enters 5.\n",
        "- In case user enters any multiple of 4, skip it."
      ]
    },
    {
      "cell_type": "code",
      "execution_count": null,
      "id": "ffa9676a",
      "metadata": {
        "id": "ffa9676a"
      },
      "outputs": [],
      "source": [
        "while True:\n",
        "    x = int(input())\n",
        "\n",
        "    if x == 5:\n",
        "        break\n",
        "\n",
        "    if x % 4 == 0:\n",
        "        continue\n",
        "\n",
        "    print(x ** 2)"
      ]
    },
    {
      "cell_type": "markdown",
      "id": "d9080db3",
      "metadata": {
        "id": "d9080db3"
      },
      "source": [
        "#**`Nested Loops`**"
      ]
    },
    {
      "cell_type": "markdown",
      "id": "9CSTl7hC6Gfi",
      "metadata": {
        "id": "9CSTl7hC6Gfi"
      },
      "source": [
        "**Usage:** Nested loops involve placing one loop inside another, providing a powerful way to iterate through complex data structures, such as multi-dimensional lists or matrices.\n",
        "\n",
        "**Purpose:** Nested loops are commonly used for tasks like traversing rows and columns in a 2D array or searching for elements in a grid.\n",
        "\n",
        "**Example:**\n",
        "```python\n",
        "for i in range(3):\n",
        "    for j in range(2):\n",
        "        print(i, j)\n",
        "```\n",
        "In this example, two nested `for` loops are used. The outer loop iterates three times (i = 0, 1, 2), and for each iteration of the outer loop, the inner loop iterates twice (j = 0, 1). This results in a total of six combinations of `i` and `j` being printed."
      ]
    },
    {
      "cell_type": "code",
      "execution_count": null,
      "id": "a8b1c613",
      "metadata": {
        "id": "a8b1c613",
        "outputId": "6d421266-4dbd-431f-c21a-f0aab6f0203e"
      },
      "outputs": [
        {
          "name": "stdout",
          "output_type": "stream",
          "text": [
            "*****"
          ]
        }
      ],
      "source": [
        "for j in range(5):\n",
        "    print(\"*\", end='')"
      ]
    },
    {
      "cell_type": "code",
      "execution_count": null,
      "id": "0c70ce39",
      "metadata": {
        "id": "0c70ce39",
        "outputId": "e3e538a1-0bb2-4f9f-d959-485c5329b838"
      },
      "outputs": [
        {
          "name": "stdout",
          "output_type": "stream",
          "text": [
            "*****\n",
            "*****\n",
            "*****"
          ]
        }
      ],
      "source": [
        "for j in range(5):\n",
        "    print(\"*\", end='')\n",
        "\n",
        "print()\n",
        "\n",
        "for j in range(5):\n",
        "    print(\"*\", end='')\n",
        "\n",
        "print()\n",
        "\n",
        "for j in range(5):\n",
        "    print(\"*\", end='')"
      ]
    },
    {
      "cell_type": "code",
      "execution_count": null,
      "id": "cb49fed8",
      "metadata": {
        "id": "cb49fed8",
        "outputId": "56d69630-729d-4e79-9424-b0905ae22087"
      },
      "outputs": [
        {
          "name": "stdout",
          "output_type": "stream",
          "text": [
            "*****\n",
            "*****\n",
            "*****\n"
          ]
        }
      ],
      "source": [
        "for i in range(3):\n",
        "    for j in range(5):\n",
        "        print(\"*\", end='')\n",
        "    print()"
      ]
    },
    {
      "cell_type": "markdown",
      "id": "5c4a806e",
      "metadata": {
        "id": "5c4a806e"
      },
      "source": [
        "##### **Question**: Write a program to print a `N x M` matrix of `*`"
      ]
    },
    {
      "cell_type": "code",
      "execution_count": null,
      "id": "f8030a9a",
      "metadata": {
        "id": "f8030a9a"
      },
      "outputs": [],
      "source": [
        "N = 4 # no of rows\n",
        "M = 2 # no of cols\n",
        "\n",
        "**\n",
        "**\n",
        "**\n",
        "**"
      ]
    },
    {
      "cell_type": "code",
      "execution_count": null,
      "id": "9b4ba86c",
      "metadata": {
        "id": "9b4ba86c",
        "outputId": "fdb1c78b-3a7e-452d-cdd6-e8f33d1f0a43"
      },
      "outputs": [
        {
          "name": "stdout",
          "output_type": "stream",
          "text": [
            "6\n",
            "10\n",
            "**********\n",
            "**********\n",
            "**********\n",
            "**********\n",
            "**********\n",
            "**********\n"
          ]
        }
      ],
      "source": [
        "N = int(input())\n",
        "M = int(input())\n",
        "\n",
        "for i in range(N):\n",
        "    for j in range(M):\n",
        "        print('*', end='')\n",
        "    print()"
      ]
    },
    {
      "cell_type": "code",
      "execution_count": null,
      "id": "b6851c51",
      "metadata": {
        "id": "b6851c51"
      },
      "outputs": [],
      "source": []
    },
    {
      "cell_type": "code",
      "execution_count": null,
      "id": "9a20960a",
      "metadata": {
        "id": "9a20960a",
        "outputId": "60c98bef-6b56-4831-a4b0-ddd9c8bb44ba"
      },
      "outputs": [
        {
          "name": "stdout",
          "output_type": "stream",
          "text": [
            "**"
          ]
        }
      ],
      "source": [
        "M = 2\n",
        "for j in range(M):\n",
        "    print('*', end='')"
      ]
    },
    {
      "cell_type": "code",
      "execution_count": null,
      "id": "d5702c72",
      "metadata": {
        "id": "d5702c72",
        "outputId": "e718e357-b3af-4943-f35f-4de5d590a9aa"
      },
      "outputs": [
        {
          "data": {
            "text/plain": [
              "'hsaka'"
            ]
          },
          "execution_count": 1,
          "metadata": {},
          "output_type": "execute_result"
        }
      ],
      "source": [
        "str1 = \"akash\"\n",
        "str1[::-1]"
      ]
    },
    {
      "cell_type": "code",
      "execution_count": null,
      "id": "7535f117",
      "metadata": {
        "id": "7535f117"
      },
      "outputs": [],
      "source": []
    },
    {
      "cell_type": "code",
      "execution_count": null,
      "id": "b4de8a97",
      "metadata": {
        "id": "b4de8a97",
        "outputId": "1312f9a3-9ada-457c-8820-246a052ddad9"
      },
      "outputs": [
        {
          "name": "stdout",
          "output_type": "stream",
          "text": [
            "h\n",
            "s\n",
            "a\n",
            "k\n",
            "a\n"
          ]
        }
      ],
      "source": [
        "for i in range (len(str1)-1, -1, -1):\n",
        "    print(str1[i])\n",
        "#     print(i)"
      ]
    },
    {
      "cell_type": "code",
      "execution_count": null,
      "id": "abdcf261",
      "metadata": {
        "id": "abdcf261",
        "outputId": "4d1fd648-5ce3-433a-a36c-36028f23d48f"
      },
      "outputs": [
        {
          "name": "stdout",
          "output_type": "stream",
          "text": [
            "0\n",
            "-1\n",
            "-2\n",
            "-3\n",
            "-4\n",
            "-5\n",
            "-6\n",
            "-7\n",
            "-8\n",
            "-9\n",
            "-10\n",
            "-11\n",
            "-12\n",
            "-13\n",
            "-14\n",
            "-15\n",
            "-16\n",
            "-17\n",
            "-18\n",
            "-19\n"
          ]
        }
      ],
      "source": [
        "for i in range(0,-20, -1):\n",
        "    print(i)"
      ]
    },
    {
      "cell_type": "code",
      "execution_count": null,
      "id": "fc45bfce",
      "metadata": {
        "id": "fc45bfce"
      },
      "outputs": [],
      "source": []
    },
    {
      "cell_type": "code",
      "execution_count": null,
      "id": "c08050cd",
      "metadata": {
        "id": "c08050cd"
      },
      "outputs": [],
      "source": []
    },
    {
      "cell_type": "markdown",
      "id": "65ba49cb",
      "metadata": {
        "id": "65ba49cb"
      },
      "source": [
        "## Stair Pattern"
      ]
    },
    {
      "cell_type": "code",
      "execution_count": null,
      "id": "cd09bde8",
      "metadata": {
        "id": "cd09bde8",
        "outputId": "8c1a15e3-0d7b-41d8-a0f6-d2f4a9025705"
      },
      "outputs": [
        {
          "name": "stdout",
          "output_type": "stream",
          "text": [
            "*\n",
            "**\n",
            "***\n",
            "****\n",
            "*****\n"
          ]
        }
      ],
      "source": [
        "N = 5\n",
        "\n",
        "for i in range(1, N+1):\n",
        "    for j in range(i):\n",
        "        print(\"*\", end='')\n",
        "    print()"
      ]
    },
    {
      "cell_type": "markdown",
      "id": "f85cc60c",
      "metadata": {
        "id": "f85cc60c"
      },
      "source": [
        "## Reverse Stair Pattern"
      ]
    },
    {
      "cell_type": "code",
      "execution_count": null,
      "id": "2ce21e3d",
      "metadata": {
        "id": "2ce21e3d",
        "outputId": "3045e95d-8795-4012-cfba-d8d758ef8766"
      },
      "outputs": [
        {
          "name": "stdout",
          "output_type": "stream",
          "text": [
            "***************\n",
            "**************\n",
            "*************\n",
            "************\n",
            "***********\n",
            "**********\n",
            "*********\n",
            "********\n",
            "*******\n",
            "******\n",
            "*****\n",
            "****\n",
            "***\n",
            "**\n",
            "*\n"
          ]
        }
      ],
      "source": [
        "N = 15\n",
        "\n",
        "for i in range(1, N+1):\n",
        "    # For each row, print (N-i+1) cols\n",
        "    for j in range(N-i+1):\n",
        "        print('*', end='')\n",
        "    print()\n"
      ]
    },
    {
      "cell_type": "markdown",
      "id": "61e367f3",
      "metadata": {
        "id": "61e367f3"
      },
      "source": [
        "# GCD\n",
        "Given two integer inputs, write a program to calculate GCD of these two numbers.\n"
      ]
    },
    {
      "cell_type": "code",
      "execution_count": null,
      "id": "d7e1e1a7",
      "metadata": {
        "id": "d7e1e1a7",
        "outputId": "9e683cc2-4e36-4b36-adc2-53985f02b313"
      },
      "outputs": [
        {
          "name": "stdout",
          "output_type": "stream",
          "text": [
            "40\n"
          ]
        }
      ],
      "source": [
        "A = 200\n",
        "B = 80\n",
        "\n",
        "# Smallest = 1\n",
        "# Largest = min(a, b)\n",
        "# I am looking for the highest common factor\n",
        "\n",
        "for i in range(min(A, B), 0, -1):\n",
        "    # We wish to find a common factor of A & B\n",
        "    # Check if (i is a factor of A) and (i is a factor of B)\n",
        "    if (A % i == 0) and (B % i == 0):\n",
        "        gcd = i\n",
        "        break\n",
        "\n",
        "print(gcd)"
      ]
    },
    {
      "cell_type": "code",
      "execution_count": null,
      "id": "776938a6",
      "metadata": {
        "id": "776938a6",
        "outputId": "d4136a33-6192-47b2-f5c6-c190eb08ee28"
      },
      "outputs": [
        {
          "data": {
            "text/plain": [
              "10"
            ]
          },
          "execution_count": 21,
          "metadata": {},
          "output_type": "execute_result"
        }
      ],
      "source": [
        "min(10, 20)"
      ]
    },
    {
      "cell_type": "code",
      "execution_count": null,
      "id": "f9318235",
      "metadata": {
        "id": "f9318235",
        "outputId": "71a5fedf-ae1d-4267-b93b-18523738f252"
      },
      "outputs": [
        {
          "data": {
            "text/plain": [
              "10"
            ]
          },
          "execution_count": 23,
          "metadata": {},
          "output_type": "execute_result"
        }
      ],
      "source": [
        "min(10, 10)"
      ]
    },
    {
      "cell_type": "code",
      "execution_count": null,
      "id": "e82096db",
      "metadata": {
        "id": "e82096db",
        "outputId": "484371c3-f6bd-4109-d125-ded54f160c17"
      },
      "outputs": [
        {
          "data": {
            "text/plain": [
              "24"
            ]
          },
          "execution_count": 22,
          "metadata": {},
          "output_type": "execute_result"
        }
      ],
      "source": [
        "min(30, 24)"
      ]
    },
    {
      "cell_type": "code",
      "execution_count": null,
      "id": "07d7f405",
      "metadata": {
        "id": "07d7f405",
        "outputId": "d82d4e5e-d720-42de-da96-35e8aaf6c64a"
      },
      "outputs": [
        {
          "data": {
            "text/plain": [
              "20"
            ]
          },
          "execution_count": 24,
          "metadata": {},
          "output_type": "execute_result"
        }
      ],
      "source": [
        "max(10, 20)"
      ]
    },
    {
      "cell_type": "markdown",
      "id": "U3fv3uUV4gsM",
      "metadata": {
        "id": "U3fv3uUV4gsM"
      },
      "source": [
        "\n",
        "#**`Python Functions`**"
      ]
    },
    {
      "cell_type": "markdown",
      "id": "PibuHLeJ5Vad",
      "metadata": {
        "id": "PibuHLeJ5Vad"
      },
      "source": [
        "Functions in Python are fundamental for organizing and structuring your code. They serve as reusable blocks of code designed to execute specific tasks or computations. Let's explore the key aspects of functions:\n",
        "\n",
        "- **Function Definition**: Functions are defined using the `def` keyword, followed by the function name, a pair of parentheses, and a colon. The code block that follows is the function body, which contains the instructions to be executed when the function is called.\n",
        "\n",
        "  Example:\n",
        "  ```python\n",
        "  def greet(name):\n",
        "      print(f\"Hello, {name}!\")\n",
        "  ```\n",
        "  In this example, `greet` is the function name, and it takes a single argument, `name`.\n",
        "\n",
        "- **Function Call**: To execute a function, you call it by using its name followed by a pair of parentheses. You can pass arguments to the function within the parentheses.\n",
        "\n",
        "  Example:\n",
        "  ```python\n",
        "  greet(\"Alice\")\n",
        "  ```\n",
        "  Calling the `greet` function with the argument \"Alice\" will print \"Hello, Alice!\" to the console.\n",
        "\n",
        "- **Return Statement**: Functions can return values using the `return` statement. The returned value can be used in other parts of your program.\n",
        "\n",
        "  Example:\n",
        "  ```python\n",
        "  def add(a, b):\n",
        "      result = a + b\n",
        "      return result\n",
        "  ```\n",
        "\n",
        "- **Function Parameters**: Functions can accept one or more parameters (also known as arguments) that provide input values to the function. These parameters are defined within the parentheses in the function header.\n",
        "\n",
        "- **Function Signature**: The function signature is a combination of the function name and the number and types of parameters it accepts. It's a way to uniquely identify a function.\n",
        "\n",
        "- **Function Reusability**: One of the primary benefits of functions is reusability. You can call the same function multiple times with different arguments, making your code more efficient and easier to maintain.\n"
      ]
    },
    {
      "cell_type": "code",
      "execution_count": null,
      "id": "d9be6ab8",
      "metadata": {
        "id": "d9be6ab8"
      },
      "outputs": [],
      "source": [
        "# FUNCTION DEFINITION -> \"def\" is the keyword\n",
        "\n",
        "def prepare_for_guests():\n",
        "    print(\"Dust all the rooms!\")\n",
        "    print(\"Arrange the living area!\")\n",
        "    print(\"Go out and get cold drinks and chips!\")\n",
        "    print(\"Take out the fancy dinner set!\")\n",
        "    print(\"Touch their feet when you see them!\")"
      ]
    },
    {
      "cell_type": "code",
      "execution_count": null,
      "id": "51b2d218",
      "metadata": {
        "id": "51b2d218",
        "outputId": "29c2a4a5-acb5-4412-b4c2-7fe3d6633bc6"
      },
      "outputs": [
        {
          "name": "stdout",
          "output_type": "stream",
          "text": [
            "Dust all the rooms!\n",
            "Arrange the living area!\n",
            "Go out and get cold drinks and chips!\n",
            "Take out the fancy dinner set!\n",
            "Touch their feet when you see them!\n"
          ]
        }
      ],
      "source": [
        "prepare_for_guests()"
      ]
    },
    {
      "cell_type": "code",
      "execution_count": null,
      "id": "92a6467b",
      "metadata": {
        "id": "92a6467b"
      },
      "outputs": [],
      "source": [
        "def sheldon_knock():\n",
        "    print(\"knock knock knock Penny!\")\n",
        "    print(\"knock knock knock Penny!\")\n",
        "    print(\"knock knock knock Penny!\")"
      ]
    },
    {
      "cell_type": "code",
      "execution_count": null,
      "id": "ea4da8aa",
      "metadata": {
        "id": "ea4da8aa",
        "outputId": "43fe0f98-6c06-43ae-916a-2a10981090cf"
      },
      "outputs": [
        {
          "name": "stdout",
          "output_type": "stream",
          "text": [
            "knock knock knock Penny!\n",
            "knock knock knock Penny!\n",
            "knock knock knock Penny!\n"
          ]
        }
      ],
      "source": [
        "sheldon_knock()"
      ]
    },
    {
      "cell_type": "code",
      "execution_count": null,
      "id": "a698e5c9",
      "metadata": {
        "id": "a698e5c9"
      },
      "outputs": [],
      "source": [
        "# FUNCTIONS CAN ACCEPT ARGUMENTS!\n",
        "\n",
        "def sheldon_knock(name):\n",
        "    print(\"knock knock knock\", name)\n",
        "    print(\"knock knock knock\", name)\n",
        "    print(\"knock knock knock\", name)"
      ]
    },
    {
      "cell_type": "code",
      "execution_count": null,
      "id": "5085e020",
      "metadata": {
        "id": "5085e020",
        "outputId": "dcb5b1fa-485c-45e7-a5c4-9b3403a1fbba"
      },
      "outputs": [
        {
          "name": "stdout",
          "output_type": "stream",
          "text": [
            "knock knock knock Swapnil\n",
            "knock knock knock Swapnil\n",
            "knock knock knock Swapnil\n"
          ]
        }
      ],
      "source": [
        "sheldon_knock(\"Swapnil\")"
      ]
    },
    {
      "cell_type": "code",
      "execution_count": null,
      "id": "5a93b1bb",
      "metadata": {
        "id": "5a93b1bb",
        "outputId": "5cf55be6-fe59-46b7-b624-5dfd336d993c"
      },
      "outputs": [
        {
          "name": "stdout",
          "output_type": "stream",
          "text": [
            "knock knock knock Deepak\n",
            "knock knock knock Deepak\n",
            "knock knock knock Deepak\n"
          ]
        }
      ],
      "source": [
        "sheldon_knock(\"Deepak\")"
      ]
    },
    {
      "cell_type": "code",
      "execution_count": null,
      "id": "5be58aaf",
      "metadata": {
        "id": "5be58aaf"
      },
      "outputs": [],
      "source": [
        "student = \"Vijaylaxmi\""
      ]
    },
    {
      "cell_type": "code",
      "execution_count": null,
      "id": "09127de8",
      "metadata": {
        "id": "09127de8",
        "outputId": "7ac14ac4-daee-4b3e-ccd2-30b41ae013e2"
      },
      "outputs": [
        {
          "name": "stdout",
          "output_type": "stream",
          "text": [
            "knock knock knock Vijaylaxmi\n",
            "knock knock knock Vijaylaxmi\n",
            "knock knock knock Vijaylaxmi\n"
          ]
        }
      ],
      "source": [
        "sheldon_knock(student)"
      ]
    },
    {
      "cell_type": "code",
      "execution_count": null,
      "id": "8082fb76",
      "metadata": {
        "id": "8082fb76"
      },
      "outputs": [],
      "source": [
        "a = None\n",
        "b = \"Random\""
      ]
    },
    {
      "cell_type": "code",
      "execution_count": null,
      "id": "8825fa08",
      "metadata": {
        "id": "8825fa08"
      },
      "outputs": [],
      "source": [
        "a = b"
      ]
    },
    {
      "cell_type": "code",
      "execution_count": null,
      "id": "94c10d16",
      "metadata": {
        "id": "94c10d16",
        "outputId": "e05c6eaf-2bb7-4146-a7b8-4fa51ce538a3"
      },
      "outputs": [
        {
          "data": {
            "text/plain": [
              "'Random'"
            ]
          },
          "execution_count": 20,
          "metadata": {},
          "output_type": "execute_result"
        }
      ],
      "source": [
        "a"
      ]
    },
    {
      "cell_type": "code",
      "execution_count": null,
      "id": "563e221a",
      "metadata": {
        "id": "563e221a",
        "outputId": "644563ef-8c6c-48b5-faf6-23d0191149c8"
      },
      "outputs": [
        {
          "name": "stdout",
          "output_type": "stream",
          "text": [
            "Akash\n"
          ]
        }
      ],
      "source": [
        "user_input = input()"
      ]
    },
    {
      "cell_type": "code",
      "execution_count": null,
      "id": "00ee7ba0",
      "metadata": {
        "id": "00ee7ba0",
        "outputId": "16b6ebec-8839-429d-d583-655d412c7f25"
      },
      "outputs": [
        {
          "data": {
            "text/plain": [
              "'Akash'"
            ]
          },
          "execution_count": 22,
          "metadata": {},
          "output_type": "execute_result"
        }
      ],
      "source": [
        "user_input"
      ]
    },
    {
      "cell_type": "code",
      "execution_count": null,
      "id": "f0d7bf15",
      "metadata": {
        "id": "f0d7bf15",
        "outputId": "4992e104-17b7-4457-8416-a9192d12f1d1"
      },
      "outputs": [
        {
          "name": "stdout",
          "output_type": "stream",
          "text": [
            "knock knock knock Akash\n",
            "knock knock knock Akash\n",
            "knock knock knock Akash\n"
          ]
        }
      ],
      "source": [
        "sheldon_knock(user_input)"
      ]
    },
    {
      "cell_type": "code",
      "execution_count": null,
      "id": "db6ec33d",
      "metadata": {
        "id": "db6ec33d"
      },
      "outputs": [],
      "source": [
        "# A FUNCTION CAN ACCEPT MULTIPLE ARGUMENTS!"
      ]
    },
    {
      "cell_type": "code",
      "execution_count": null,
      "id": "3f0d2b80",
      "metadata": {
        "id": "3f0d2b80"
      },
      "outputs": [],
      "source": [
        "def introduce_family(father, mother, sibling, myself):\n",
        "    print(\"Father's Name -\", father)\n",
        "    print(\"Mother's Name -\", mother)\n",
        "    print(\"Sibling's Name -\", sibling)\n",
        "    print(\"My Name -\", myself)"
      ]
    },
    {
      "cell_type": "code",
      "execution_count": null,
      "id": "edf39dc7",
      "metadata": {
        "id": "edf39dc7",
        "outputId": "5103677f-44bf-46ac-c37d-9f3895f245cb"
      },
      "outputs": [
        {
          "name": "stdout",
          "output_type": "stream",
          "text": [
            "Father's Name - Brad Pitt\n",
            "Mother's Name - Angelina Jolie\n",
            "Sibling's Name - Stormi\n",
            "My Name - Bipin Kalra\n"
          ]
        }
      ],
      "source": [
        "introduce_family(\"Brad Pitt\", \"Angelina Jolie\", \"Stormi\", \"Bipin Kalra\")"
      ]
    },
    {
      "cell_type": "code",
      "execution_count": null,
      "id": "9e2955ad",
      "metadata": {
        "id": "9e2955ad",
        "outputId": "39e8b4e5-a8e6-4cc3-e71a-387b15812fca"
      },
      "outputs": [
        {
          "name": "stdout",
          "output_type": "stream",
          "text": [
            "Father's Name - Angelina Jolie\n",
            "Mother's Name - Brad Pitt\n",
            "Sibling's Name - Stormi\n",
            "My Name - Bipin Kalra\n"
          ]
        }
      ],
      "source": [
        "introduce_family(\"Angelina Jolie\", \"Brad Pitt\", \"Stormi\", \"Bipin Kalra\")"
      ]
    },
    {
      "cell_type": "code",
      "execution_count": null,
      "id": "85e52b02",
      "metadata": {
        "id": "85e52b02",
        "outputId": "1d4872db-bee0-492b-bbdd-2687fff7aef0"
      },
      "outputs": [
        {
          "ename": "TypeError",
          "evalue": "introduce_family() missing 1 required positional argument: 'myself'",
          "output_type": "error",
          "traceback": [
            "\u001b[0;31m---------------------------------------------------------------------------\u001b[0m",
            "\u001b[0;31mTypeError\u001b[0m                                 Traceback (most recent call last)",
            "Cell \u001b[0;32mIn[34], line 1\u001b[0m\n\u001b[0;32m----> 1\u001b[0m \u001b[43mintroduce_family\u001b[49m\u001b[43m(\u001b[49m\u001b[38;5;124;43m\"\u001b[39;49m\u001b[38;5;124;43mA\u001b[39;49m\u001b[38;5;124;43m\"\u001b[39;49m\u001b[43m,\u001b[49m\u001b[43m \u001b[49m\u001b[38;5;124;43m\"\u001b[39;49m\u001b[38;5;124;43mB\u001b[39;49m\u001b[38;5;124;43m\"\u001b[39;49m\u001b[43m,\u001b[49m\u001b[43m \u001b[49m\u001b[38;5;124;43m\"\u001b[39;49m\u001b[38;5;124;43mC\u001b[39;49m\u001b[38;5;124;43m\"\u001b[39;49m\u001b[43m)\u001b[49m\n",
            "\u001b[0;31mTypeError\u001b[0m: introduce_family() missing 1 required positional argument: 'myself'"
          ]
        }
      ],
      "source": [
        "introduce_family(\"A\", \"B\", \"C\")"
      ]
    },
    {
      "cell_type": "code",
      "execution_count": null,
      "id": "97aade41",
      "metadata": {
        "id": "97aade41",
        "outputId": "483736e1-7b13-42e5-8379-16d6e58e70a4"
      },
      "outputs": [
        {
          "ename": "TypeError",
          "evalue": "introduce_family() takes 4 positional arguments but 5 were given",
          "output_type": "error",
          "traceback": [
            "\u001b[0;31m---------------------------------------------------------------------------\u001b[0m",
            "\u001b[0;31mTypeError\u001b[0m                                 Traceback (most recent call last)",
            "Cell \u001b[0;32mIn[35], line 1\u001b[0m\n\u001b[0;32m----> 1\u001b[0m \u001b[43mintroduce_family\u001b[49m\u001b[43m(\u001b[49m\u001b[38;5;124;43m\"\u001b[39;49m\u001b[38;5;124;43mA\u001b[39;49m\u001b[38;5;124;43m\"\u001b[39;49m\u001b[43m,\u001b[49m\u001b[43m \u001b[49m\u001b[38;5;124;43m\"\u001b[39;49m\u001b[38;5;124;43mB\u001b[39;49m\u001b[38;5;124;43m\"\u001b[39;49m\u001b[43m,\u001b[49m\u001b[43m \u001b[49m\u001b[38;5;124;43m\"\u001b[39;49m\u001b[38;5;124;43mC\u001b[39;49m\u001b[38;5;124;43m\"\u001b[39;49m\u001b[43m,\u001b[49m\u001b[43m \u001b[49m\u001b[38;5;124;43m\"\u001b[39;49m\u001b[38;5;124;43mD\u001b[39;49m\u001b[38;5;124;43m\"\u001b[39;49m\u001b[43m,\u001b[49m\u001b[43m \u001b[49m\u001b[38;5;124;43m\"\u001b[39;49m\u001b[38;5;124;43mE\u001b[39;49m\u001b[38;5;124;43m\"\u001b[39;49m\u001b[43m)\u001b[49m\n",
            "\u001b[0;31mTypeError\u001b[0m: introduce_family() takes 4 positional arguments but 5 were given"
          ]
        }
      ],
      "source": [
        "introduce_family(\"A\", \"B\", \"C\", \"D\", \"E\")"
      ]
    },
    {
      "cell_type": "code",
      "execution_count": null,
      "id": "dbc70294",
      "metadata": {
        "id": "dbc70294"
      },
      "outputs": [],
      "source": [
        "s1 = 'this string uses single quotes!'"
      ]
    },
    {
      "cell_type": "code",
      "execution_count": null,
      "id": "a6292363",
      "metadata": {
        "id": "a6292363"
      },
      "outputs": [],
      "source": [
        "s2 = \"this string uses double quotes!\""
      ]
    },
    {
      "cell_type": "code",
      "execution_count": null,
      "id": "5210d8db",
      "metadata": {
        "id": "5210d8db"
      },
      "outputs": [],
      "source": [
        "s3 = '''this is a special string that uses triple single quotes! -> DOCSTRING'''"
      ]
    },
    {
      "cell_type": "code",
      "execution_count": null,
      "id": "210f0e0e",
      "metadata": {
        "id": "210f0e0e",
        "outputId": "2f654a03-473f-4663-8db0-15ce6009386d"
      },
      "outputs": [
        {
          "data": {
            "text/plain": [
              "'\\nThis string\\n            maintains white spaces\\n            \\n            \\n            which\\n        include tabs, spaces and newline characters!\\n'"
            ]
          },
          "execution_count": 43,
          "metadata": {},
          "output_type": "execute_result"
        }
      ],
      "source": [
        "'''\n",
        "This string\n",
        "            maintains white spaces\n",
        "\n",
        "\n",
        "            which\n",
        "        include tabs, spaces and newline characters!\n",
        "'''"
      ]
    },
    {
      "cell_type": "code",
      "execution_count": null,
      "id": "51e75aae",
      "metadata": {
        "id": "51e75aae"
      },
      "outputs": [],
      "source": [
        "def random(a, b):\n",
        "    '''\n",
        "    This function takes two arguments -\n",
        "    a and b can be of any type\n",
        "\n",
        "    Output - Prints both the arguments separated by a space.\n",
        "    '''\n",
        "\n",
        "    print(a, b)"
      ]
    },
    {
      "cell_type": "code",
      "execution_count": null,
      "id": "eb69ad69",
      "metadata": {
        "id": "eb69ad69",
        "outputId": "5cb2fbcb-3789-4995-9d43-6a9b748160a5"
      },
      "outputs": [
        {
          "name": "stdout",
          "output_type": "stream",
          "text": [
            "Help on function random in module __main__:\n",
            "\n",
            "random(a, b)\n",
            "    This function takes two arguments -\n",
            "    a and b can be of any type\n",
            "    \n",
            "    Output - Prints both the arguments separated by a space.\n",
            "\n"
          ]
        }
      ],
      "source": [
        "help(random)"
      ]
    },
    {
      "cell_type": "code",
      "execution_count": null,
      "id": "552f739a",
      "metadata": {
        "id": "552f739a"
      },
      "outputs": [],
      "source": [
        "# help(print)"
      ]
    },
    {
      "cell_type": "code",
      "execution_count": null,
      "id": "48b686ea",
      "metadata": {
        "id": "48b686ea",
        "outputId": "fb30c503-bf05-4cb6-cda3-ad175328c765"
      },
      "outputs": [
        {
          "data": {
            "text/plain": [
              "9"
            ]
          },
          "execution_count": 50,
          "metadata": {},
          "output_type": "execute_result"
        }
      ],
      "source": [
        "4 + 5"
      ]
    },
    {
      "cell_type": "code",
      "execution_count": null,
      "id": "abaf7343",
      "metadata": {
        "id": "abaf7343",
        "outputId": "d51be87c-1004-41f4-8fb5-fc91f6490613"
      },
      "outputs": [
        {
          "data": {
            "text/plain": [
              "'string1string2'"
            ]
          },
          "execution_count": 51,
          "metadata": {},
          "output_type": "execute_result"
        }
      ],
      "source": [
        "\"string1\" + \"string2\""
      ]
    },
    {
      "cell_type": "code",
      "execution_count": null,
      "id": "ac0bd066",
      "metadata": {
        "id": "ac0bd066",
        "outputId": "9faef5e6-864c-4a9d-cc61-05bd487933fb"
      },
      "outputs": [
        {
          "ename": "TypeError",
          "evalue": "can only concatenate str (not \"int\") to str",
          "output_type": "error",
          "traceback": [
            "\u001b[0;31m---------------------------------------------------------------------------\u001b[0m",
            "\u001b[0;31mTypeError\u001b[0m                                 Traceback (most recent call last)",
            "Cell \u001b[0;32mIn[52], line 1\u001b[0m\n\u001b[0;32m----> 1\u001b[0m \u001b[38;5;124;43m\"\u001b[39;49m\u001b[38;5;124;43mstring\u001b[39;49m\u001b[38;5;124;43m\"\u001b[39;49m\u001b[43m \u001b[49m\u001b[38;5;241;43m+\u001b[39;49m\u001b[43m \u001b[49m\u001b[38;5;241;43m1\u001b[39;49m\n",
            "\u001b[0;31mTypeError\u001b[0m: can only concatenate str (not \"int\") to str"
          ]
        }
      ],
      "source": [
        "\"string\" + 1"
      ]
    },
    {
      "cell_type": "code",
      "execution_count": null,
      "id": "74a2c4f5",
      "metadata": {
        "id": "74a2c4f5"
      },
      "outputs": [],
      "source": [
        "def add_two(a, b):\n",
        "    '''\n",
        "    Arguments -\n",
        "    a: Number or String\n",
        "    b: Number or String\n",
        "\n",
        "    Note - Please do not enter mixed data types i.e. both a and b should be of the same type.\n",
        "\n",
        "    Output -\n",
        "    String + String -> Concatenation\n",
        "    Number + Number -> Addition\n",
        "    '''\n",
        "\n",
        "    result = a + b\n",
        "    print(result)"
      ]
    },
    {
      "cell_type": "code",
      "execution_count": null,
      "id": "e0265834",
      "metadata": {
        "id": "e0265834",
        "outputId": "f8b9dce8-419d-4c82-ce25-45a41a09da4a"
      },
      "outputs": [
        {
          "name": "stdout",
          "output_type": "stream",
          "text": [
            "Help on function add_two in module __main__:\n",
            "\n",
            "add_two(a, b)\n",
            "    Arguments - \n",
            "    a: Number or String\n",
            "    b: Number or String\n",
            "    \n",
            "    Note - Please do not enter mixed data types i.e. both a and b should be of the same type.\n",
            "    \n",
            "    Output - \n",
            "    String + String -> Concatenation\n",
            "    Number + Number -> Addition\n",
            "\n"
          ]
        }
      ],
      "source": [
        "help(add_two)"
      ]
    },
    {
      "cell_type": "code",
      "execution_count": null,
      "id": "82d3a30e",
      "metadata": {
        "id": "82d3a30e"
      },
      "outputs": [],
      "source": [
        "def add_two_numbers(a, b):\n",
        "    print(a + b)"
      ]
    },
    {
      "cell_type": "code",
      "execution_count": null,
      "id": "72e28170",
      "metadata": {
        "id": "72e28170",
        "outputId": "72112f8d-34ab-4cd3-b7ca-4e5216fbdc83"
      },
      "outputs": [
        {
          "name": "stdout",
          "output_type": "stream",
          "text": [
            "15\n"
          ]
        }
      ],
      "source": [
        "add_two_numbers(10, 5)"
      ]
    },
    {
      "cell_type": "code",
      "execution_count": null,
      "id": "d87eb1d3",
      "metadata": {
        "id": "d87eb1d3",
        "outputId": "b46fbb05-fad8-4851-84b4-194dcd141532"
      },
      "outputs": [
        {
          "name": "stdout",
          "output_type": "stream",
          "text": [
            "15\n"
          ]
        }
      ],
      "source": [
        "result = add_two_numbers(10, 5)"
      ]
    },
    {
      "cell_type": "code",
      "execution_count": null,
      "id": "5d5c9685",
      "metadata": {
        "id": "5d5c9685",
        "outputId": "8e71da9e-e7a7-488b-bf73-98e4afeca9e0"
      },
      "outputs": [
        {
          "name": "stdout",
          "output_type": "stream",
          "text": [
            "None\n"
          ]
        }
      ],
      "source": [
        "print(result)"
      ]
    },
    {
      "cell_type": "code",
      "execution_count": null,
      "id": "027626bc",
      "metadata": {
        "id": "027626bc"
      },
      "outputs": [],
      "source": [
        "def add_two_numbers(a, b):\n",
        "    return a + b"
      ]
    },
    {
      "cell_type": "code",
      "execution_count": null,
      "id": "46647151",
      "metadata": {
        "id": "46647151"
      },
      "outputs": [],
      "source": [
        "result = add_two_numbers(10, 5)"
      ]
    },
    {
      "cell_type": "code",
      "execution_count": null,
      "id": "567de53d",
      "metadata": {
        "id": "567de53d",
        "outputId": "1191e58a-b0bb-4a5c-e511-2dd6518f437e"
      },
      "outputs": [
        {
          "name": "stdout",
          "output_type": "stream",
          "text": [
            "15\n"
          ]
        }
      ],
      "source": [
        "print(result)"
      ]
    },
    {
      "cell_type": "code",
      "execution_count": null,
      "id": "d84247dc",
      "metadata": {
        "id": "d84247dc"
      },
      "outputs": [],
      "source": [
        "def add_two_numbers_with_print(a, b):\n",
        "    print(a + b)\n",
        "\n",
        "def add_two_numbers_with_return(a, b):\n",
        "    return a + b"
      ]
    },
    {
      "cell_type": "code",
      "execution_count": null,
      "id": "22b4b8f4",
      "metadata": {
        "id": "22b4b8f4",
        "outputId": "2228db95-783d-4018-b5f6-3833652a72d7",
        "scrolled": true
      },
      "outputs": [
        {
          "name": "stdout",
          "output_type": "stream",
          "text": [
            "15\n"
          ]
        }
      ],
      "source": [
        "add_two_numbers_with_print(10, 5)"
      ]
    },
    {
      "cell_type": "code",
      "execution_count": null,
      "id": "37bc4b14",
      "metadata": {
        "id": "37bc4b14",
        "outputId": "a8d87524-aa53-4123-ae84-5836aa03f5b8"
      },
      "outputs": [
        {
          "data": {
            "text/plain": [
              "15"
            ]
          },
          "execution_count": 65,
          "metadata": {},
          "output_type": "execute_result"
        }
      ],
      "source": [
        "add_two_numbers_with_return(10, 5)"
      ]
    },
    {
      "cell_type": "code",
      "execution_count": null,
      "id": "baa695d9",
      "metadata": {
        "id": "baa695d9"
      },
      "outputs": [],
      "source": [
        "def add_two_numbers_with_both(a, b):\n",
        "    value = a + b\n",
        "\n",
        "    print(value)\n",
        "    return value"
      ]
    },
    {
      "cell_type": "code",
      "execution_count": null,
      "id": "3f523747",
      "metadata": {
        "id": "3f523747",
        "outputId": "d9ce33ae-65bb-47fa-d22a-1294047f2b18"
      },
      "outputs": [
        {
          "name": "stdout",
          "output_type": "stream",
          "text": [
            "15\n"
          ]
        }
      ],
      "source": [
        "result = add_two_numbers_with_both(10, 5)"
      ]
    },
    {
      "cell_type": "code",
      "execution_count": null,
      "id": "3547b61b",
      "metadata": {
        "id": "3547b61b",
        "outputId": "023c8918-6bdd-40bc-d211-892363a07c72"
      },
      "outputs": [
        {
          "name": "stdout",
          "output_type": "stream",
          "text": [
            "15\n"
          ]
        }
      ],
      "source": [
        "print(result)"
      ]
    },
    {
      "cell_type": "code",
      "execution_count": null,
      "id": "837a52a8",
      "metadata": {
        "id": "837a52a8"
      },
      "outputs": [],
      "source": [
        "def random():\n",
        "    print(\"CODE BEFORE RETURN!\")\n",
        "    return 1\n",
        "    print(\"CODE AFTER RETURN!\")"
      ]
    },
    {
      "cell_type": "code",
      "execution_count": null,
      "id": "28fd6937",
      "metadata": {
        "id": "28fd6937",
        "outputId": "2653e624-aa8a-4bc4-9147-7875e83edf31",
        "scrolled": false
      },
      "outputs": [
        {
          "name": "stdout",
          "output_type": "stream",
          "text": [
            "CODE BEFORE RETURN!\n"
          ]
        },
        {
          "data": {
            "text/plain": [
              "1"
            ]
          },
          "execution_count": 71,
          "metadata": {},
          "output_type": "execute_result"
        }
      ],
      "source": [
        "random()"
      ]
    },
    {
      "cell_type": "code",
      "execution_count": null,
      "id": "15fddc30",
      "metadata": {
        "id": "15fddc30"
      },
      "outputs": [],
      "source": [
        "# FUNCTION DEFINITION\n",
        "def function_name():\n",
        "    x = 10\n",
        "    print(\"Inside function!\")\n",
        "    print(x)"
      ]
    },
    {
      "cell_type": "code",
      "execution_count": null,
      "id": "94ea7b30",
      "metadata": {
        "id": "94ea7b30",
        "outputId": "9b31dcac-e2f6-4911-8401-2aba99f4bf5c"
      },
      "outputs": [
        {
          "name": "stdout",
          "output_type": "stream",
          "text": [
            "Inside function!\n",
            "10\n"
          ]
        }
      ],
      "source": [
        "# FUNCTION CALL / EXECUTION\n",
        "function_name()"
      ]
    },
    {
      "cell_type": "code",
      "execution_count": null,
      "id": "d278e61f",
      "metadata": {
        "id": "d278e61f"
      },
      "outputs": [],
      "source": [
        "def random1():\n",
        "    return True\n",
        "\n",
        "def random2():\n",
        "    print(True)"
      ]
    },
    {
      "cell_type": "code",
      "execution_count": null,
      "id": "90b24872",
      "metadata": {
        "id": "90b24872",
        "outputId": "ae0f0ea1-a66f-46e4-f768-32c2569644db"
      },
      "outputs": [
        {
          "data": {
            "text/plain": [
              "True"
            ]
          },
          "execution_count": 5,
          "metadata": {},
          "output_type": "execute_result"
        }
      ],
      "source": [
        "random1()"
      ]
    },
    {
      "cell_type": "code",
      "execution_count": null,
      "id": "3227c442",
      "metadata": {
        "id": "3227c442",
        "outputId": "315bb7df-5148-4cf7-c79f-d37636478215"
      },
      "outputs": [
        {
          "name": "stdout",
          "output_type": "stream",
          "text": [
            "True\n"
          ]
        }
      ],
      "source": [
        "random2()"
      ]
    },
    {
      "cell_type": "code",
      "execution_count": null,
      "id": "9d5cdb57",
      "metadata": {
        "id": "9d5cdb57",
        "outputId": "3545c14a-1316-46f3-a1a2-5ce7e1291b87"
      },
      "outputs": [
        {
          "name": "stdout",
          "output_type": "stream",
          "text": [
            "True\n"
          ]
        }
      ],
      "source": [
        "result1 = random1()\n",
        "result2 = random2()"
      ]
    },
    {
      "cell_type": "code",
      "execution_count": null,
      "id": "bbdd4005",
      "metadata": {
        "id": "bbdd4005",
        "outputId": "1b11d0b2-2a25-42a2-e55d-5956cec0c2a7"
      },
      "outputs": [
        {
          "name": "stdout",
          "output_type": "stream",
          "text": [
            "True\n",
            "None\n"
          ]
        }
      ],
      "source": [
        "print(result1, result2, sep = \"\\n\")"
      ]
    },
    {
      "cell_type": "code",
      "execution_count": null,
      "id": "1bf76e4c",
      "metadata": {
        "id": "1bf76e4c"
      },
      "outputs": [],
      "source": [
        "def simple_interest(p, r, t):\n",
        "    interest = (p * r * t) / 100\n",
        "\n",
        "    return interest"
      ]
    },
    {
      "cell_type": "code",
      "execution_count": null,
      "id": "b10326fa",
      "metadata": {
        "id": "b10326fa",
        "outputId": "7412478a-dc57-43b2-8825-139d53e83e30"
      },
      "outputs": [
        {
          "data": {
            "text/plain": [
              "2500.0"
            ]
          },
          "execution_count": 11,
          "metadata": {},
          "output_type": "execute_result"
        }
      ],
      "source": [
        "simple_interest(10000, 5, 5)"
      ]
    },
    {
      "cell_type": "code",
      "execution_count": null,
      "id": "c7064581",
      "metadata": {
        "id": "c7064581"
      },
      "outputs": [],
      "source": [
        "def simple_interest(p, r, t = 10):\n",
        "    interest = (p * r * t) / 100\n",
        "\n",
        "    return interest"
      ]
    },
    {
      "cell_type": "code",
      "execution_count": null,
      "id": "95c04c59",
      "metadata": {
        "id": "95c04c59",
        "outputId": "caf8cbb1-f5c5-43df-9932-326ce0f2be45"
      },
      "outputs": [
        {
          "data": {
            "text/plain": [
              "5000.0"
            ]
          },
          "execution_count": 13,
          "metadata": {},
          "output_type": "execute_result"
        }
      ],
      "source": [
        "simple_interest(10000, 5)"
      ]
    },
    {
      "cell_type": "code",
      "execution_count": null,
      "id": "719dba75",
      "metadata": {
        "id": "719dba75",
        "outputId": "8a15cf4c-f3ea-4003-eff8-a165e495a5d9"
      },
      "outputs": [
        {
          "data": {
            "text/plain": [
              "10000.0"
            ]
          },
          "execution_count": 14,
          "metadata": {},
          "output_type": "execute_result"
        }
      ],
      "source": [
        "simple_interest(10000, 5, 20)"
      ]
    },
    {
      "cell_type": "code",
      "execution_count": null,
      "id": "6448de13",
      "metadata": {
        "id": "6448de13",
        "outputId": "a246dffc-2a9b-4f11-9034-0c037ea717db"
      },
      "outputs": [
        {
          "ename": "SyntaxError",
          "evalue": "non-default argument follows default argument (21423845.py, line 1)",
          "output_type": "error",
          "traceback": [
            "\u001b[0;36m  Cell \u001b[0;32mIn[15], line 1\u001b[0;36m\u001b[0m\n\u001b[0;31m    def simple_interest(p, r = 5, t):\u001b[0m\n\u001b[0m                                   ^\u001b[0m\n\u001b[0;31mSyntaxError\u001b[0m\u001b[0;31m:\u001b[0m non-default argument follows default argument\n"
          ]
        }
      ],
      "source": [
        "def simple_interest(p, r = 5, t):\n",
        "    interest = (p * r * t) / 100\n",
        "\n",
        "    return interest\n",
        "\n",
        "'''\n",
        "Python does not allow the creation of functions\n",
        "where there are optional arguments before required arguments!\n",
        "The order should always be -> REQUIRED followed by OPTIONAL (DEFAULT)\n",
        "'''"
      ]
    },
    {
      "cell_type": "code",
      "execution_count": null,
      "id": "1452f79f",
      "metadata": {
        "id": "1452f79f"
      },
      "outputs": [],
      "source": [
        "def simple_interest(p, r = 5, t = 10):\n",
        "    interest = (p * r * t) / 100\n",
        "\n",
        "    return interest"
      ]
    },
    {
      "cell_type": "code",
      "execution_count": null,
      "id": "597fcae3",
      "metadata": {
        "id": "597fcae3",
        "outputId": "a6c63e4f-72fb-4fe4-afef-0234a437a5f3"
      },
      "outputs": [
        {
          "data": {
            "text/plain": [
              "5000.0"
            ]
          },
          "execution_count": 17,
          "metadata": {},
          "output_type": "execute_result"
        }
      ],
      "source": [
        "simple_interest(10000)"
      ]
    },
    {
      "cell_type": "code",
      "execution_count": null,
      "id": "5631e3bf",
      "metadata": {
        "id": "5631e3bf",
        "outputId": "83e3767a-5d68-430c-dc20-376caf77dc12"
      },
      "outputs": [
        {
          "data": {
            "text/plain": [
              "10000.0"
            ]
          },
          "execution_count": 19,
          "metadata": {},
          "output_type": "execute_result"
        }
      ],
      "source": [
        "simple_interest(10000, 10)"
      ]
    },
    {
      "cell_type": "code",
      "execution_count": null,
      "id": "c283d5f5",
      "metadata": {
        "id": "c283d5f5",
        "outputId": "0e33eefd-99eb-42ae-9bda-4ee8a7847c08"
      },
      "outputs": [
        {
          "data": {
            "text/plain": [
              "20000.0"
            ]
          },
          "execution_count": 20,
          "metadata": {},
          "output_type": "execute_result"
        }
      ],
      "source": [
        "simple_interest(10000, 10, 20)"
      ]
    },
    {
      "cell_type": "code",
      "execution_count": null,
      "id": "85085e85",
      "metadata": {
        "id": "85085e85",
        "outputId": "287fb123-d559-40ca-be82-b4a61b3151f2"
      },
      "outputs": [
        {
          "name": "stdout",
          "output_type": "stream",
          "text": [
            "Inside random1 - 10\n",
            "Inside random2 - 20\n",
            "Outside - 10\n"
          ]
        }
      ],
      "source": [
        "a = 10 # global variable\n",
        "\n",
        "def random1():\n",
        "    print(\"Inside random1 -\", a)\n",
        "\n",
        "def random2():\n",
        "    a = 20 # local variable\n",
        "    print(\"Inside random2 -\", a)\n",
        "\n",
        "random1()\n",
        "random2()\n",
        "\n",
        "print(\"Outside -\", a)"
      ]
    },
    {
      "cell_type": "markdown",
      "id": "twA06iza7T_-",
      "metadata": {
        "id": "twA06iza7T_-"
      },
      "source": [
        "**Lambda Functions**"
      ]
    },
    {
      "cell_type": "markdown",
      "id": "wR343cMY5ZzQ",
      "metadata": {
        "id": "wR343cMY5ZzQ"
      },
      "source": [
        "Lambda functions, also known as anonymous functions, provide a concise way to define small, single-expression functions without using the `def` keyword. They are often used for simple operations or when you need a quick function for a short task.\n",
        "\n",
        "**Syntax:** Lambda functions are defined using the `lambda` keyword, followed by the input parameters, a colon, and the expression to be evaluated.\n",
        "\n",
        "Example:\n",
        "```python\n",
        "square = lambda x: x**2\n",
        "```\n",
        "\n",
        "**Usage:** Lambda functions are often used when you need a function for a short-lived task, like sorting a list or performing a simple operation on elements in a list.\n",
        "\n",
        "Example:\n",
        "```python\n",
        "numbers = [1, 2, 3, 4, 5]\n",
        "squared_numbers = list(map(lambda x: x**2, numbers))\n",
        "```\n",
        "\n",
        "**Advantages:** Lambda functions are concise and can be defined in a single line of code. They are particularly useful in functional programming and as arguments for functions like `map()`, `filter()`, and `sort()`.\n",
        "\n",
        "**Limitations:** Lambda functions are restricted to simple expressions and cannot contain multiple statements or complex logic."
      ]
    },
    {
      "cell_type": "code",
      "execution_count": null,
      "id": "b3cf4bbb",
      "metadata": {
        "id": "b3cf4bbb"
      },
      "outputs": [],
      "source": [
        "def random1(x):\n",
        "    return x + 10\n",
        "\n",
        "# A function that only contains a single statement which is a return value"
      ]
    },
    {
      "cell_type": "code",
      "execution_count": null,
      "id": "ba82aa9f",
      "metadata": {
        "id": "ba82aa9f"
      },
      "outputs": [],
      "source": [
        "random2 = lambda x : x + 10"
      ]
    },
    {
      "cell_type": "code",
      "execution_count": null,
      "id": "35f609b9",
      "metadata": {
        "id": "35f609b9",
        "outputId": "9b87dac6-6756-4a82-c894-d48c58b6c518"
      },
      "outputs": [
        {
          "data": {
            "text/plain": [
              "15"
            ]
          },
          "execution_count": 44,
          "metadata": {},
          "output_type": "execute_result"
        }
      ],
      "source": [
        "random1(5)"
      ]
    },
    {
      "cell_type": "code",
      "execution_count": null,
      "id": "013c5ca7",
      "metadata": {
        "id": "013c5ca7",
        "outputId": "d423fa85-347e-4932-d89a-0f08a4ef6fbc"
      },
      "outputs": [
        {
          "data": {
            "text/plain": [
              "15"
            ]
          },
          "execution_count": 45,
          "metadata": {},
          "output_type": "execute_result"
        }
      ],
      "source": [
        "random2(5)"
      ]
    },
    {
      "cell_type": "code",
      "execution_count": null,
      "id": "6f6b6db4",
      "metadata": {
        "id": "6f6b6db4"
      },
      "outputs": [],
      "source": [
        "hello = lambda : \"HELLO\" # Lambda function without arguments"
      ]
    },
    {
      "cell_type": "code",
      "execution_count": null,
      "id": "eb044c75",
      "metadata": {
        "id": "eb044c75",
        "outputId": "8a5bd8e1-902f-469c-e89c-c4b643198c2c"
      },
      "outputs": [
        {
          "data": {
            "text/plain": [
              "'HELLO'"
            ]
          },
          "execution_count": 49,
          "metadata": {},
          "output_type": "execute_result"
        }
      ],
      "source": [
        "hello()"
      ]
    },
    {
      "cell_type": "code",
      "execution_count": null,
      "id": "7a65abfb",
      "metadata": {
        "id": "7a65abfb"
      },
      "outputs": [],
      "source": [
        "sum_2 = lambda x, y : x + y # Multiple Arguments"
      ]
    },
    {
      "cell_type": "code",
      "execution_count": null,
      "id": "32d7ad66",
      "metadata": {
        "id": "32d7ad66",
        "outputId": "d2e699d2-3c8d-4a01-e564-d2e598d323b5"
      },
      "outputs": [
        {
          "data": {
            "text/plain": [
              "15"
            ]
          },
          "execution_count": 51,
          "metadata": {},
          "output_type": "execute_result"
        }
      ],
      "source": [
        "sum_2(10, 5)"
      ]
    },
    {
      "cell_type": "code",
      "execution_count": null,
      "id": "ee943ec2",
      "metadata": {
        "id": "ee943ec2"
      },
      "outputs": [],
      "source": [
        "simple_interest = lambda p, r = 5, t = 10 : (p * r * t) / 100"
      ]
    },
    {
      "cell_type": "code",
      "execution_count": null,
      "id": "9313c364",
      "metadata": {
        "id": "9313c364",
        "outputId": "89215842-bdda-400d-9a5b-821b2462e2c9"
      },
      "outputs": [
        {
          "data": {
            "text/plain": [
              "2500.0"
            ]
          },
          "execution_count": 53,
          "metadata": {},
          "output_type": "execute_result"
        }
      ],
      "source": [
        "simple_interest(5000)"
      ]
    },
    {
      "cell_type": "code",
      "execution_count": null,
      "id": "1fbd8a86",
      "metadata": {
        "id": "1fbd8a86"
      },
      "outputs": [],
      "source": [
        "# Lambda functions can be anonymous"
      ]
    },
    {
      "cell_type": "code",
      "execution_count": null,
      "id": "d635f5aa",
      "metadata": {
        "id": "d635f5aa"
      },
      "outputs": [],
      "source": [
        "random = lambda x : x + 10"
      ]
    },
    {
      "cell_type": "code",
      "execution_count": null,
      "id": "934d5d07",
      "metadata": {
        "id": "934d5d07",
        "outputId": "6ef788cd-4c15-4ac9-db1b-7192da9f836a"
      },
      "outputs": [
        {
          "data": {
            "text/plain": [
              "15"
            ]
          },
          "execution_count": 56,
          "metadata": {},
          "output_type": "execute_result"
        }
      ],
      "source": [
        "random(5)"
      ]
    },
    {
      "cell_type": "code",
      "execution_count": null,
      "id": "0da251e1",
      "metadata": {
        "id": "0da251e1",
        "outputId": "83477013-aabd-4254-ccbe-712e294a2045"
      },
      "outputs": [
        {
          "data": {
            "text/plain": [
              "15"
            ]
          },
          "execution_count": 58,
          "metadata": {},
          "output_type": "execute_result"
        }
      ],
      "source": [
        "(lambda x : x + 10)(5) # Anonymous - do not need a name to be called!"
      ]
    },
    {
      "cell_type": "code",
      "execution_count": null,
      "id": "20e85e9d",
      "metadata": {
        "id": "20e85e9d"
      },
      "outputs": [],
      "source": [
        "import math"
      ]
    },
    {
      "cell_type": "code",
      "execution_count": null,
      "id": "1f672027",
      "metadata": {
        "id": "1f672027"
      },
      "outputs": [],
      "source": [
        "r = 5"
      ]
    },
    {
      "cell_type": "code",
      "execution_count": null,
      "id": "a9bb52cc",
      "metadata": {
        "id": "a9bb52cc"
      },
      "outputs": [],
      "source": [
        "area = math.pi * (r ** 2)"
      ]
    },
    {
      "cell_type": "code",
      "execution_count": null,
      "id": "a98c60ab",
      "metadata": {
        "id": "a98c60ab",
        "outputId": "75ae636c-0bc4-4b06-dd0c-f5152563acab"
      },
      "outputs": [
        {
          "data": {
            "text/plain": [
              "78.53981633974483"
            ]
          },
          "execution_count": 62,
          "metadata": {},
          "output_type": "execute_result"
        }
      ],
      "source": [
        "area"
      ]
    },
    {
      "cell_type": "code",
      "execution_count": null,
      "id": "47c3e3aa",
      "metadata": {
        "id": "47c3e3aa",
        "outputId": "daf0f0f3-fd5a-4498-c046-b464c1111a5b"
      },
      "outputs": [
        {
          "data": {
            "text/plain": [
              "3.141592653589793"
            ]
          },
          "execution_count": 63,
          "metadata": {},
          "output_type": "execute_result"
        }
      ],
      "source": [
        "math.pi"
      ]
    },
    {
      "cell_type": "code",
      "execution_count": null,
      "id": "f13e5098",
      "metadata": {
        "id": "f13e5098",
        "outputId": "1c41aa60-c32f-4fc7-abca-cf2e9fea04f5"
      },
      "outputs": [
        {
          "data": {
            "text/plain": [
              "6"
            ]
          },
          "execution_count": 64,
          "metadata": {},
          "output_type": "execute_result"
        }
      ],
      "source": [
        "math.ceil(5.6)"
      ]
    },
    {
      "cell_type": "markdown",
      "id": "RNR-jTnF7fdM",
      "metadata": {
        "id": "RNR-jTnF7fdM"
      },
      "source": [
        "#**`Python Lists`**"
      ]
    },
    {
      "cell_type": "markdown",
      "id": "GlzA1XSv4m6v",
      "metadata": {
        "id": "GlzA1XSv4m6v"
      },
      "source": [
        "A list is a versatile data structure in Python, used for storing ordered and mutable elements.\n",
        "\n",
        "| List Operation  | Description                                                         | Example                                        | Output               |\n",
        "|-----------------|---------------------------------------------------------------------|------------------------------------------------|-----------------------|\n",
        "| **append()**    | Used to add an element to the end of the list.                      | `my_list = [1, 2, 3]`<br>`my_list.append(4)`    | `[1, 2, 3, 4]`       |\n",
        "| **pop()**       | Used to remove and return the last element of the list.             | `my_list = [1, 2, 3]`<br>`last_element = my_list.pop()` | `last_element = 3`  |\n",
        "| **len()**       | Used to get the length of the list.                                 | `my_list = [1, 2, 3]`<br>`length = len(my_list)`  | `length = 3`         |\n",
        "| **sort()**      | Used to sort the list in ascending order.                            | `my_list = [3, 1, 2]`<br>`my_list.sort()`          | `[1, 2, 3]`          |"
      ]
    },
    {
      "cell_type": "code",
      "execution_count": null,
      "id": "257ebc20",
      "metadata": {
        "id": "257ebc20"
      },
      "outputs": [],
      "source": [
        "# CRUD -> CREATE, READ, UPDATE, DELETE"
      ]
    },
    {
      "cell_type": "code",
      "execution_count": null,
      "id": "086d9bc3",
      "metadata": {
        "id": "086d9bc3"
      },
      "outputs": [],
      "source": [
        "# CREATE\n",
        "\n",
        "runs_virat = [67, 54, 12, 34, 77, 89, 101, 92]\n",
        "\n",
        "# The list can theoritically be infinitely sized - PYTHON HAS NO LIMIT ON LIST SIZE!"
      ]
    },
    {
      "cell_type": "code",
      "execution_count": null,
      "id": "64b6a1c4",
      "metadata": {
        "id": "64b6a1c4",
        "outputId": "000601f5-07cd-46c6-a2c0-bde72b4b6b4b"
      },
      "outputs": [
        {
          "data": {
            "text/plain": [
              "[67, 54, 12, 34, 77, 89, 101, 92]"
            ]
          },
          "execution_count": 4,
          "metadata": {},
          "output_type": "execute_result"
        }
      ],
      "source": [
        "runs_virat"
      ]
    },
    {
      "cell_type": "code",
      "execution_count": null,
      "id": "712f9756",
      "metadata": {
        "id": "712f9756",
        "outputId": "36581c9d-262d-49c4-e64c-bf85346c2823"
      },
      "outputs": [
        {
          "data": {
            "text/plain": [
              "list"
            ]
          },
          "execution_count": 5,
          "metadata": {},
          "output_type": "execute_result"
        }
      ],
      "source": [
        "type(runs_virat)"
      ]
    },
    {
      "cell_type": "code",
      "execution_count": null,
      "id": "3ad792b4",
      "metadata": {
        "id": "3ad792b4"
      },
      "outputs": [],
      "source": [
        "# READ\n",
        "# Values are accessible using indexes which start at 0"
      ]
    },
    {
      "cell_type": "code",
      "execution_count": null,
      "id": "ecd880ba",
      "metadata": {
        "id": "ecd880ba",
        "outputId": "077da70c-dcdb-4749-90b6-4efdf5c42750"
      },
      "outputs": [
        {
          "data": {
            "text/plain": [
              "67"
            ]
          },
          "execution_count": 7,
          "metadata": {},
          "output_type": "execute_result"
        }
      ],
      "source": [
        "runs_virat[0] # Runs scored in the first match - 0th index"
      ]
    },
    {
      "cell_type": "code",
      "execution_count": null,
      "id": "d8551236",
      "metadata": {
        "id": "d8551236",
        "outputId": "7dde369a-f1e1-4701-9230-9ad6f5b53275"
      },
      "outputs": [
        {
          "data": {
            "text/plain": [
              "77"
            ]
          },
          "execution_count": 8,
          "metadata": {},
          "output_type": "execute_result"
        }
      ],
      "source": [
        "runs_virat[4] # Runs scored in the 5th match - 4th index"
      ]
    },
    {
      "cell_type": "code",
      "execution_count": null,
      "id": "8884522f",
      "metadata": {
        "id": "8884522f",
        "outputId": "f3aebf53-77b1-451d-bd36-222ea876fc61"
      },
      "outputs": [
        {
          "data": {
            "text/plain": [
              "8"
            ]
          },
          "execution_count": 9,
          "metadata": {},
          "output_type": "execute_result"
        }
      ],
      "source": [
        "len(runs_virat) # number of elements inside a list"
      ]
    },
    {
      "cell_type": "code",
      "execution_count": null,
      "id": "99d537e3",
      "metadata": {
        "id": "99d537e3"
      },
      "outputs": [],
      "source": [
        "# HOW WOULD YOU GET THE RUNS SCORED IN THE LAST MATCH?"
      ]
    },
    {
      "cell_type": "code",
      "execution_count": null,
      "id": "c351b039",
      "metadata": {
        "id": "c351b039",
        "outputId": "2a6b0677-5665-4ca2-d9ab-20b159db5444"
      },
      "outputs": [
        {
          "data": {
            "text/plain": [
              "[67, 54, 12, 34, 77, 89, 101, 92]"
            ]
          },
          "execution_count": 11,
          "metadata": {},
          "output_type": "execute_result"
        }
      ],
      "source": [
        "runs_virat"
      ]
    },
    {
      "cell_type": "code",
      "execution_count": null,
      "id": "99b7221a",
      "metadata": {
        "id": "99b7221a",
        "outputId": "1e5b8a1c-166f-4b4c-9298-dc9fefe52bd1"
      },
      "outputs": [
        {
          "data": {
            "text/plain": [
              "92"
            ]
          },
          "execution_count": 14,
          "metadata": {},
          "output_type": "execute_result"
        }
      ],
      "source": [
        "n = len(runs_virat)\n",
        "\n",
        "runs_virat[n - 1] # last element"
      ]
    },
    {
      "cell_type": "code",
      "execution_count": null,
      "id": "4405a077",
      "metadata": {
        "id": "4405a077",
        "outputId": "3689e1c2-12c0-45b8-ee2c-6588592d4fa8"
      },
      "outputs": [
        {
          "data": {
            "text/plain": [
              "92"
            ]
          },
          "execution_count": 15,
          "metadata": {},
          "output_type": "execute_result"
        }
      ],
      "source": [
        "runs_virat[len(runs_virat) - 1]"
      ]
    },
    {
      "cell_type": "code",
      "execution_count": null,
      "id": "3438f41e",
      "metadata": {
        "id": "3438f41e",
        "outputId": "d5f7cf3d-040c-4118-b467-496b827ab606"
      },
      "outputs": [
        {
          "data": {
            "text/plain": [
              "101"
            ]
          },
          "execution_count": 16,
          "metadata": {},
          "output_type": "execute_result"
        }
      ],
      "source": [
        "runs_virat[n - 2]"
      ]
    },
    {
      "cell_type": "code",
      "execution_count": null,
      "id": "df92d327",
      "metadata": {
        "id": "df92d327"
      },
      "outputs": [],
      "source": [
        "# NEGATIVE INDEXING"
      ]
    },
    {
      "cell_type": "code",
      "execution_count": null,
      "id": "08403648",
      "metadata": {
        "id": "08403648",
        "outputId": "d5d744fd-6f23-47ab-fdf8-1a594ba28e07"
      },
      "outputs": [
        {
          "data": {
            "text/plain": [
              "92"
            ]
          },
          "execution_count": 19,
          "metadata": {},
          "output_type": "execute_result"
        }
      ],
      "source": [
        "runs_virat[-1]"
      ]
    },
    {
      "cell_type": "code",
      "execution_count": null,
      "id": "053e90e4",
      "metadata": {
        "id": "053e90e4",
        "outputId": "43b63641-f427-48b5-9cda-3b0cc736fdb5"
      },
      "outputs": [
        {
          "data": {
            "text/plain": [
              "101"
            ]
          },
          "execution_count": 20,
          "metadata": {},
          "output_type": "execute_result"
        }
      ],
      "source": [
        "runs_virat[-2]"
      ]
    },
    {
      "cell_type": "code",
      "execution_count": null,
      "id": "a5387840",
      "metadata": {
        "id": "a5387840",
        "outputId": "b0a75ca2-5ddb-4ca1-8a19-7aa62ad331d4"
      },
      "outputs": [
        {
          "data": {
            "text/plain": [
              "67"
            ]
          },
          "execution_count": 22,
          "metadata": {},
          "output_type": "execute_result"
        }
      ],
      "source": [
        "runs_virat[-n] # n here is the length as calculated above!"
      ]
    },
    {
      "cell_type": "code",
      "execution_count": null,
      "id": "16f6db9c",
      "metadata": {
        "id": "16f6db9c",
        "outputId": "f4667062-c64d-4468-828b-cef78e1ac3d5"
      },
      "outputs": [
        {
          "ename": "IndexError",
          "evalue": "list index out of range",
          "output_type": "error",
          "traceback": [
            "\u001b[0;31m---------------------------------------------------------------------------\u001b[0m",
            "\u001b[0;31mIndexError\u001b[0m                                Traceback (most recent call last)",
            "Cell \u001b[0;32mIn[23], line 1\u001b[0m\n\u001b[0;32m----> 1\u001b[0m \u001b[43mruns_virat\u001b[49m\u001b[43m[\u001b[49m\u001b[38;5;241;43m100000\u001b[39;49m\u001b[43m]\u001b[49m \u001b[38;5;66;03m# These many elements are not present\u001b[39;00m\n",
            "\u001b[0;31mIndexError\u001b[0m: list index out of range"
          ]
        }
      ],
      "source": [
        "runs_virat[100000] # These many elements are not present"
      ]
    },
    {
      "cell_type": "code",
      "execution_count": null,
      "id": "ffe2ed7a",
      "metadata": {
        "id": "ffe2ed7a",
        "outputId": "14a6551e-2c99-4a45-b0d0-d80158bef417"
      },
      "outputs": [
        {
          "data": {
            "text/plain": [
              "[67, 54, 12, 34, 77, 89, 101, 92]"
            ]
          },
          "execution_count": 24,
          "metadata": {},
          "output_type": "execute_result"
        }
      ],
      "source": [
        "runs_virat"
      ]
    },
    {
      "cell_type": "code",
      "execution_count": null,
      "id": "8ba5d207",
      "metadata": {
        "id": "8ba5d207"
      },
      "outputs": [],
      "source": [
        "# UPDATE"
      ]
    },
    {
      "cell_type": "code",
      "execution_count": null,
      "id": "49788299",
      "metadata": {
        "id": "49788299"
      },
      "outputs": [],
      "source": [
        "# Adding elements to the list"
      ]
    },
    {
      "cell_type": "code",
      "execution_count": null,
      "id": "7c93a97b",
      "metadata": {
        "id": "7c93a97b"
      },
      "outputs": [],
      "source": [
        "# 1. Append\n",
        "\n",
        "runs_virat.append(123)"
      ]
    },
    {
      "cell_type": "code",
      "execution_count": null,
      "id": "a0eca129",
      "metadata": {
        "id": "a0eca129",
        "outputId": "c3dad72e-dabe-4794-c410-5434fa39bae5"
      },
      "outputs": [
        {
          "data": {
            "text/plain": [
              "[67, 54, 12, 34, 77, 89, 101, 92, 123]"
            ]
          },
          "execution_count": 28,
          "metadata": {},
          "output_type": "execute_result"
        }
      ],
      "source": [
        "runs_virat"
      ]
    },
    {
      "cell_type": "code",
      "execution_count": null,
      "id": "a37fc384",
      "metadata": {
        "id": "a37fc384",
        "outputId": "e1d1df78-53a5-443f-b576-9049fee7a7fd"
      },
      "outputs": [
        {
          "ename": "TypeError",
          "evalue": "can only concatenate list (not \"int\") to list",
          "output_type": "error",
          "traceback": [
            "\u001b[0;31m---------------------------------------------------------------------------\u001b[0m",
            "\u001b[0;31mTypeError\u001b[0m                                 Traceback (most recent call last)",
            "Cell \u001b[0;32mIn[29], line 1\u001b[0m\n\u001b[0;32m----> 1\u001b[0m runs_virat \u001b[38;5;241m=\u001b[39m \u001b[43mruns_virat\u001b[49m\u001b[43m \u001b[49m\u001b[38;5;241;43m+\u001b[39;49m\u001b[43m \u001b[49m\u001b[38;5;241;43m45\u001b[39;49m\n",
            "\u001b[0;31mTypeError\u001b[0m: can only concatenate list (not \"int\") to list"
          ]
        }
      ],
      "source": [
        "runs_virat = runs_virat + 45"
      ]
    },
    {
      "cell_type": "code",
      "execution_count": null,
      "id": "b99ddd32",
      "metadata": {
        "id": "b99ddd32"
      },
      "outputs": [],
      "source": [
        "runs_virat = runs_virat + [45]"
      ]
    },
    {
      "cell_type": "code",
      "execution_count": null,
      "id": "c39facf0",
      "metadata": {
        "id": "c39facf0",
        "outputId": "50493a31-0663-474f-c10d-047882881e65"
      },
      "outputs": [
        {
          "data": {
            "text/plain": [
              "[67, 54, 12, 34, 77, 89, 101, 92, 123, 45]"
            ]
          },
          "execution_count": 33,
          "metadata": {},
          "output_type": "execute_result"
        }
      ],
      "source": [
        "runs_virat # The above operation is similar to a append operation"
      ]
    },
    {
      "cell_type": "code",
      "execution_count": null,
      "id": "36912287",
      "metadata": {
        "id": "36912287"
      },
      "outputs": [],
      "source": [
        "# 2. Insert"
      ]
    },
    {
      "cell_type": "code",
      "execution_count": null,
      "id": "a44c04e2",
      "metadata": {
        "id": "a44c04e2"
      },
      "outputs": [],
      "source": [
        "# list.insert(index, value)"
      ]
    },
    {
      "cell_type": "code",
      "execution_count": null,
      "id": "4e290f4c",
      "metadata": {
        "id": "4e290f4c"
      },
      "outputs": [],
      "source": [
        "runs_virat.insert(2, 55)"
      ]
    },
    {
      "cell_type": "code",
      "execution_count": null,
      "id": "5bde9723",
      "metadata": {
        "id": "5bde9723",
        "outputId": "5ee6a689-a1c5-436e-e725-e407df396586"
      },
      "outputs": [
        {
          "data": {
            "text/plain": [
              "[67, 54, 55, 12, 34, 77, 89, 101, 92, 123, 45]"
            ]
          },
          "execution_count": 37,
          "metadata": {},
          "output_type": "execute_result"
        }
      ],
      "source": [
        "runs_virat"
      ]
    },
    {
      "cell_type": "code",
      "execution_count": null,
      "id": "dacc5de7",
      "metadata": {
        "id": "dacc5de7"
      },
      "outputs": [],
      "source": [
        "# 3. Extend"
      ]
    },
    {
      "cell_type": "code",
      "execution_count": null,
      "id": "83eb1a66",
      "metadata": {
        "id": "83eb1a66"
      },
      "outputs": [],
      "source": [
        "runs_virat.extend([15, 19, 88])"
      ]
    },
    {
      "cell_type": "code",
      "execution_count": null,
      "id": "b4a3f23e",
      "metadata": {
        "id": "b4a3f23e",
        "outputId": "6b1893d7-fc53-433c-96dd-4f5dfbba8d2e"
      },
      "outputs": [
        {
          "data": {
            "text/plain": [
              "[67, 54, 55, 12, 34, 77, 89, 101, 92, 123, 45, 15, 19, 88]"
            ]
          },
          "execution_count": 40,
          "metadata": {},
          "output_type": "execute_result"
        }
      ],
      "source": [
        "runs_virat"
      ]
    },
    {
      "cell_type": "code",
      "execution_count": null,
      "id": "e2b62c72",
      "metadata": {
        "id": "e2b62c72"
      },
      "outputs": [],
      "source": [
        "runs_virat += [1, 2, 3]"
      ]
    },
    {
      "cell_type": "code",
      "execution_count": null,
      "id": "fec98459",
      "metadata": {
        "id": "fec98459",
        "outputId": "d0adddcb-0fd5-47a8-d183-1b9dadb3565e"
      },
      "outputs": [
        {
          "data": {
            "text/plain": [
              "[67, 54, 55, 12, 34, 77, 89, 101, 92, 123, 45, 15, 19, 88, 1, 2, 3, 1, 2, 3]"
            ]
          },
          "execution_count": 45,
          "metadata": {},
          "output_type": "execute_result"
        }
      ],
      "source": [
        "runs_virat # The above operation is similar to the extend operation"
      ]
    },
    {
      "cell_type": "code",
      "execution_count": null,
      "id": "af618334",
      "metadata": {
        "id": "af618334",
        "outputId": "0afd058a-fa9b-4ade-9dd9-9553aa7c80f3"
      },
      "outputs": [
        {
          "data": {
            "text/plain": [
              "'\\nlist.append(value) -> Add one value at the end of the list\\n    - list += [value]\\n    \\nlist.insert(index, value) -> Add one value at the specified index in the list\\n\\nlist.extend([value1, value2, value3...]) -> Add multiple values at the end of the list\\n    - list += [value1, value2, value3...]\\n'"
            ]
          },
          "execution_count": 46,
          "metadata": {},
          "output_type": "execute_result"
        }
      ],
      "source": [
        "'''\n",
        "list.append(value) -> Add one value at the end of the list\n",
        "    - list += [value]\n",
        "\n",
        "list.insert(index, value) -> Add one value at the specified index in the list\n",
        "\n",
        "list.extend([value1, value2, value3...]) -> Add multiple values at the end of the list\n",
        "    - list += [value1, value2, value3...]\n",
        "'''"
      ]
    },
    {
      "cell_type": "code",
      "execution_count": null,
      "id": "c7ebebd1",
      "metadata": {
        "id": "c7ebebd1"
      },
      "outputs": [],
      "source": [
        "# Iteration on Lists"
      ]
    },
    {
      "cell_type": "code",
      "execution_count": null,
      "id": "3c5ec447",
      "metadata": {
        "id": "3c5ec447",
        "outputId": "b89e9b08-8623-42eb-cd07-6f9748f713b6"
      },
      "outputs": [
        {
          "name": "stdout",
          "output_type": "stream",
          "text": [
            "p\n",
            "y\n",
            "t\n",
            "h\n",
            "o\n",
            "n\n"
          ]
        }
      ],
      "source": [
        "a = \"python\"\n",
        "\n",
        "for i in a:\n",
        "    print(i)"
      ]
    },
    {
      "cell_type": "code",
      "execution_count": null,
      "id": "4fec71c0",
      "metadata": {
        "id": "4fec71c0"
      },
      "outputs": [],
      "source": [
        "a = [10, 20, 30, 40, 50, 60]"
      ]
    },
    {
      "cell_type": "code",
      "execution_count": null,
      "id": "8269fd34",
      "metadata": {
        "id": "8269fd34",
        "outputId": "06309f0e-dba7-4908-fd98-ce50ef7e80c0"
      },
      "outputs": [
        {
          "name": "stdout",
          "output_type": "stream",
          "text": [
            "10\n",
            "20\n",
            "30\n",
            "40\n",
            "50\n",
            "60\n"
          ]
        }
      ],
      "source": [
        "# TRAVERSAL METHOD 1 -> Directly traverse over the elements\n",
        "for i in a:\n",
        "    print(i)"
      ]
    },
    {
      "cell_type": "code",
      "execution_count": null,
      "id": "3798b127",
      "metadata": {
        "id": "3798b127",
        "outputId": "db6da8dc-1657-45a0-f676-cac6f063752f"
      },
      "outputs": [
        {
          "name": "stdout",
          "output_type": "stream",
          "text": [
            "0 -> 10\n",
            "1 -> 20\n",
            "2 -> 30\n",
            "3 -> 40\n",
            "4 -> 50\n",
            "5 -> 60\n"
          ]
        }
      ],
      "source": [
        "# TRAVERSAL METHOD 2 -> Using indexes\n",
        "for i in range(len(a)):\n",
        "    print(i, \"->\",a[i])"
      ]
    },
    {
      "cell_type": "code",
      "execution_count": null,
      "id": "fdd59d0f",
      "metadata": {
        "id": "fdd59d0f",
        "outputId": "0e87290f-fc33-4cf1-ac60-07648be10e0a"
      },
      "outputs": [
        {
          "name": "stdout",
          "output_type": "stream",
          "text": [
            "10\n",
            "20\n",
            "30\n",
            "40\n",
            "50\n",
            "60\n"
          ]
        }
      ],
      "source": [
        "# TRAVERSAL METHOD 3 -> Also possible using while loops\n",
        "\n",
        "i = 0\n",
        "\n",
        "while i < len(a):\n",
        "    print(a[i])\n",
        "    i += 1"
      ]
    },
    {
      "cell_type": "code",
      "execution_count": null,
      "id": "f7423b14",
      "metadata": {
        "id": "f7423b14"
      },
      "outputs": [],
      "source": [
        "# LISTS ARE MUTABLE"
      ]
    },
    {
      "cell_type": "code",
      "execution_count": null,
      "id": "ae6e32e3",
      "metadata": {
        "id": "ae6e32e3"
      },
      "outputs": [],
      "source": [
        "a = [1,2,3,4,5]"
      ]
    },
    {
      "cell_type": "code",
      "execution_count": null,
      "id": "23f061d8",
      "metadata": {
        "id": "23f061d8"
      },
      "outputs": [],
      "source": [
        "a[0] = 10"
      ]
    },
    {
      "cell_type": "code",
      "execution_count": null,
      "id": "a8f81fd0",
      "metadata": {
        "id": "a8f81fd0",
        "outputId": "1dcbe7f5-8a85-46d7-a501-2034f8219f98"
      },
      "outputs": [
        {
          "data": {
            "text/plain": [
              "[10, 2, 3, 4, 5]"
            ]
          },
          "execution_count": 87,
          "metadata": {},
          "output_type": "execute_result"
        }
      ],
      "source": [
        "a"
      ]
    },
    {
      "cell_type": "code",
      "execution_count": null,
      "id": "a9821f54",
      "metadata": {
        "id": "a9821f54"
      },
      "outputs": [],
      "source": [
        "# DELETE"
      ]
    },
    {
      "cell_type": "code",
      "execution_count": null,
      "id": "96cdb3e5",
      "metadata": {
        "id": "96cdb3e5"
      },
      "outputs": [],
      "source": [
        "a = [10, 20, 30, 40, 50, 60]"
      ]
    },
    {
      "cell_type": "code",
      "execution_count": null,
      "id": "17f7a6ff",
      "metadata": {
        "id": "17f7a6ff"
      },
      "outputs": [],
      "source": [
        "# 1. Delete by index -> list.pop(index)"
      ]
    },
    {
      "cell_type": "code",
      "execution_count": null,
      "id": "72a43ae3",
      "metadata": {
        "id": "72a43ae3",
        "outputId": "34dda9a4-ab29-47e7-9e36-6d9c5f2eb629"
      },
      "outputs": [
        {
          "data": {
            "text/plain": [
              "30"
            ]
          },
          "execution_count": 91,
          "metadata": {},
          "output_type": "execute_result"
        }
      ],
      "source": [
        "a.pop(2)"
      ]
    },
    {
      "cell_type": "code",
      "execution_count": null,
      "id": "6ad54bb3",
      "metadata": {
        "id": "6ad54bb3",
        "outputId": "33281daf-29a7-40c4-960d-e447841b96ad"
      },
      "outputs": [
        {
          "data": {
            "text/plain": [
              "[10, 20, 40, 50, 60]"
            ]
          },
          "execution_count": 92,
          "metadata": {},
          "output_type": "execute_result"
        }
      ],
      "source": [
        "a"
      ]
    },
    {
      "cell_type": "code",
      "execution_count": null,
      "id": "11675b8f",
      "metadata": {
        "id": "11675b8f",
        "outputId": "89fed1ce-d27b-4922-86b8-4eec0ac225bb"
      },
      "outputs": [
        {
          "data": {
            "text/plain": [
              "60"
            ]
          },
          "execution_count": 93,
          "metadata": {},
          "output_type": "execute_result"
        }
      ],
      "source": [
        "a.pop() # Automatically deletes the last element"
      ]
    },
    {
      "cell_type": "code",
      "execution_count": null,
      "id": "e3ed8773",
      "metadata": {
        "id": "e3ed8773",
        "outputId": "535c3e3d-0d29-46eb-aaa4-99d529211494"
      },
      "outputs": [
        {
          "data": {
            "text/plain": [
              "[10, 20, 40, 50]"
            ]
          },
          "execution_count": 94,
          "metadata": {},
          "output_type": "execute_result"
        }
      ],
      "source": [
        "a"
      ]
    },
    {
      "cell_type": "code",
      "execution_count": null,
      "id": "00884c67",
      "metadata": {
        "id": "00884c67"
      },
      "outputs": [],
      "source": [
        "# 2. Delete by value -> list.remove(value)"
      ]
    },
    {
      "cell_type": "code",
      "execution_count": null,
      "id": "6ce27aa1",
      "metadata": {
        "id": "6ce27aa1"
      },
      "outputs": [],
      "source": [
        "a = [10, 20, 30, 40, 50, 60]"
      ]
    },
    {
      "cell_type": "code",
      "execution_count": null,
      "id": "9167bad4",
      "metadata": {
        "id": "9167bad4"
      },
      "outputs": [],
      "source": [
        "a.remove(40)"
      ]
    },
    {
      "cell_type": "code",
      "execution_count": null,
      "id": "2d9257fe",
      "metadata": {
        "id": "2d9257fe",
        "outputId": "3fe2c28d-52ee-4976-c78f-e42d77dbe6ca"
      },
      "outputs": [
        {
          "data": {
            "text/plain": [
              "[10, 20, 30, 50, 60]"
            ]
          },
          "execution_count": 99,
          "metadata": {},
          "output_type": "execute_result"
        }
      ],
      "source": [
        "a"
      ]
    },
    {
      "cell_type": "code",
      "execution_count": null,
      "id": "a6980620",
      "metadata": {
        "id": "a6980620",
        "outputId": "bd32f4b3-9bfc-497b-841a-9a89f7d62a26"
      },
      "outputs": [
        {
          "ename": "ValueError",
          "evalue": "list.remove(x): x not in list",
          "output_type": "error",
          "traceback": [
            "\u001b[0;31m---------------------------------------------------------------------------\u001b[0m",
            "\u001b[0;31mValueError\u001b[0m                                Traceback (most recent call last)",
            "Cell \u001b[0;32mIn[100], line 1\u001b[0m\n\u001b[0;32m----> 1\u001b[0m \u001b[43ma\u001b[49m\u001b[38;5;241;43m.\u001b[39;49m\u001b[43mremove\u001b[49m\u001b[43m(\u001b[49m\u001b[38;5;241;43m100\u001b[39;49m\u001b[43m)\u001b[49m\n",
            "\u001b[0;31mValueError\u001b[0m: list.remove(x): x not in list"
          ]
        }
      ],
      "source": [
        "a.remove(100)"
      ]
    },
    {
      "cell_type": "code",
      "execution_count": null,
      "id": "49d7e4cd",
      "metadata": {
        "id": "49d7e4cd"
      },
      "outputs": [],
      "source": [
        "a = [10, 20, 30, 40, 50, 40, 60, 40]"
      ]
    },
    {
      "cell_type": "code",
      "execution_count": null,
      "id": "9186ddb0",
      "metadata": {
        "id": "9186ddb0"
      },
      "outputs": [],
      "source": [
        "a.remove(40) # remove only deletes the first instance of a repeated value"
      ]
    },
    {
      "cell_type": "code",
      "execution_count": null,
      "id": "7653384d",
      "metadata": {
        "id": "7653384d",
        "outputId": "0062ed6d-e601-4b05-bc90-e1d139023fc0"
      },
      "outputs": [
        {
          "data": {
            "text/plain": [
              "[10, 20, 30, 50, 40, 60, 40]"
            ]
          },
          "execution_count": 103,
          "metadata": {},
          "output_type": "execute_result"
        }
      ],
      "source": [
        "a"
      ]
    },
    {
      "cell_type": "code",
      "execution_count": null,
      "id": "c8dd5dc8",
      "metadata": {
        "id": "c8dd5dc8",
        "outputId": "37652bce-0fd9-4904-8e16-c3bc4c987b6b"
      },
      "outputs": [
        {
          "data": {
            "text/plain": [
              "True"
            ]
          },
          "execution_count": 107,
          "metadata": {},
          "output_type": "execute_result"
        }
      ],
      "source": [
        "50 in a # MEMBERSHIP OPERATOR"
      ]
    },
    {
      "cell_type": "code",
      "execution_count": null,
      "id": "43e13343",
      "metadata": {
        "id": "43e13343",
        "outputId": "29349fa4-f98d-4768-9039-c854687a101b"
      },
      "outputs": [
        {
          "data": {
            "text/plain": [
              "False"
            ]
          },
          "execution_count": 106,
          "metadata": {},
          "output_type": "execute_result"
        }
      ],
      "source": [
        "100 in a"
      ]
    },
    {
      "cell_type": "code",
      "execution_count": null,
      "id": "ca1c0361",
      "metadata": {
        "id": "ca1c0361"
      },
      "outputs": [],
      "source": [
        "# LISTS ARE HETEROGENEOUS"
      ]
    },
    {
      "cell_type": "code",
      "execution_count": null,
      "id": "e9bbf75f",
      "metadata": {
        "id": "e9bbf75f"
      },
      "outputs": [],
      "source": [
        "a = [\"bipin\", 4.5, -9, True, [1,2,3,4]] # VALID LIST"
      ]
    },
    {
      "cell_type": "code",
      "execution_count": null,
      "id": "dcf9b63a",
      "metadata": {
        "id": "dcf9b63a"
      },
      "outputs": [],
      "source": [
        "# LISTS SLICING"
      ]
    },
    {
      "cell_type": "code",
      "execution_count": null,
      "id": "9814d050",
      "metadata": {
        "id": "9814d050",
        "outputId": "a6c4b117-2aa8-40cc-d240-460a242b5c99"
      },
      "outputs": [
        {
          "data": {
            "text/plain": [
              "'\\nQuestion 1 -\\nGiven a list of all runs,\\nprint runs made in odd numbered (position) matches.\\n'"
            ]
          },
          "execution_count": 1,
          "metadata": {},
          "output_type": "execute_result"
        }
      ],
      "source": [
        "'''\n",
        "Question 1 -\n",
        "Given a list of all runs,\n",
        "print runs made in odd numbered (position) matches.\n",
        "'''"
      ]
    },
    {
      "cell_type": "code",
      "execution_count": null,
      "id": "0ec3d8c5",
      "metadata": {
        "id": "0ec3d8c5"
      },
      "outputs": [],
      "source": [
        "runs = [62, 85, 77, 10, 101, 122, 99, 81, 15, 36]"
      ]
    },
    {
      "cell_type": "code",
      "execution_count": null,
      "id": "79e88334",
      "metadata": {
        "id": "79e88334"
      },
      "outputs": [],
      "source": [
        "# position n -> index n - 1"
      ]
    },
    {
      "cell_type": "code",
      "execution_count": null,
      "id": "d25161c8",
      "metadata": {
        "id": "d25161c8"
      },
      "outputs": [],
      "source": [
        "# Odd numbered matches will occur on even indexes -\n",
        "# 1st match - 0\n",
        "# 3rd match - 2\n",
        "# 5th match - 4\n",
        "# .\n",
        "# .\n",
        "# ."
      ]
    },
    {
      "cell_type": "code",
      "execution_count": null,
      "id": "ba28d321",
      "metadata": {
        "id": "ba28d321",
        "outputId": "eed15a4f-0576-4d66-b63d-1202e9d3a4c8"
      },
      "outputs": [
        {
          "name": "stdout",
          "output_type": "stream",
          "text": [
            "62 77 101 99 15 "
          ]
        }
      ],
      "source": [
        "for i in range(len(runs)):\n",
        "    if i % 2 == 0:\n",
        "        print(runs[i], end = \" \")"
      ]
    },
    {
      "cell_type": "code",
      "execution_count": null,
      "id": "f27e6b40",
      "metadata": {
        "id": "f27e6b40",
        "outputId": "c166cb08-2a09-4cdb-8e35-24a06ecd333e"
      },
      "outputs": [
        {
          "name": "stdout",
          "output_type": "stream",
          "text": [
            "62 77 101 99 15 "
          ]
        }
      ],
      "source": [
        "for i in range(0, len(runs), 2):\n",
        "    print(runs[i], end = \" \")"
      ]
    },
    {
      "cell_type": "code",
      "execution_count": null,
      "id": "bf84c53f",
      "metadata": {
        "id": "bf84c53f",
        "outputId": "d10e2a07-8991-4bc3-99ad-c9e617781ac1"
      },
      "outputs": [
        {
          "data": {
            "text/plain": [
              "[62, 85, 77, 10, 101]"
            ]
          },
          "execution_count": 35,
          "metadata": {},
          "output_type": "execute_result"
        }
      ],
      "source": [
        "runs[:5] # start value is set at 0 by default"
      ]
    },
    {
      "cell_type": "code",
      "execution_count": null,
      "id": "9a20e2a3",
      "metadata": {
        "id": "9a20e2a3",
        "outputId": "a7f273ae-f676-498a-fb1d-d444c4141873"
      },
      "outputs": [
        {
          "data": {
            "text/plain": [
              "[99, 81, 15, 36]"
            ]
          },
          "execution_count": 36,
          "metadata": {},
          "output_type": "execute_result"
        }
      ],
      "source": [
        "runs[6:] # end value is set at len(list) by default"
      ]
    },
    {
      "cell_type": "code",
      "execution_count": null,
      "id": "e288e9ab",
      "metadata": {
        "id": "e288e9ab",
        "outputId": "486e6b42-b347-49ed-e318-d1c0031a20fc"
      },
      "outputs": [
        {
          "data": {
            "text/plain": [
              "[62, 85, 77, 10, 101, 122, 99, 81, 15, 36]"
            ]
          },
          "execution_count": 37,
          "metadata": {},
          "output_type": "execute_result"
        }
      ],
      "source": [
        "runs[:]"
      ]
    },
    {
      "cell_type": "code",
      "execution_count": null,
      "id": "f697b6a7",
      "metadata": {
        "id": "f697b6a7",
        "outputId": "5ee50c5f-4f7d-4830-8325-4d2122e47c59"
      },
      "outputs": [
        {
          "ename": "IndexError",
          "evalue": "list index out of range",
          "output_type": "error",
          "traceback": [
            "\u001b[0;31m---------------------------------------------------------------------------\u001b[0m",
            "\u001b[0;31mIndexError\u001b[0m                                Traceback (most recent call last)",
            "Cell \u001b[0;32mIn[38], line 1\u001b[0m\n\u001b[0;32m----> 1\u001b[0m \u001b[43mruns\u001b[49m\u001b[43m[\u001b[49m\u001b[38;5;241;43m4000\u001b[39;49m\u001b[43m]\u001b[49m\n",
            "\u001b[0;31mIndexError\u001b[0m: list index out of range"
          ]
        }
      ],
      "source": [
        "runs[4000]"
      ]
    },
    {
      "cell_type": "code",
      "execution_count": null,
      "id": "62209bb4",
      "metadata": {
        "id": "62209bb4",
        "outputId": "37661ce8-b7d2-4039-915c-6d76167cf5be"
      },
      "outputs": [
        {
          "data": {
            "text/plain": [
              "[]"
            ]
          },
          "execution_count": 39,
          "metadata": {},
          "output_type": "execute_result"
        }
      ],
      "source": [
        "runs[4000:5000]"
      ]
    },
    {
      "cell_type": "code",
      "execution_count": null,
      "id": "45a18dab",
      "metadata": {
        "id": "45a18dab",
        "outputId": "8a38e691-7b76-482c-fc25-b8e78e0c6c4a"
      },
      "outputs": [
        {
          "data": {
            "text/plain": [
              "[77, 10, 101, 122, 99, 81, 15, 36]"
            ]
          },
          "execution_count": 40,
          "metadata": {},
          "output_type": "execute_result"
        }
      ],
      "source": [
        "runs[2:4000]"
      ]
    },
    {
      "cell_type": "code",
      "execution_count": null,
      "id": "12e85beb",
      "metadata": {
        "id": "12e85beb",
        "outputId": "3411223d-0def-4898-f0c3-e48d3219ed77"
      },
      "outputs": [
        {
          "data": {
            "text/plain": [
              "[85, 10, 122, 81, 36]"
            ]
          },
          "execution_count": 43,
          "metadata": {},
          "output_type": "execute_result"
        }
      ],
      "source": [
        "# Runs in even numbered matches -> Odd Indexes\n",
        "runs[1::2]"
      ]
    },
    {
      "cell_type": "code",
      "execution_count": null,
      "id": "777ba4a3",
      "metadata": {
        "id": "777ba4a3",
        "outputId": "ca500011-66b0-408b-d3d4-c78115458e5f"
      },
      "outputs": [
        {
          "data": {
            "text/plain": [
              "[]"
            ]
          },
          "execution_count": 44,
          "metadata": {},
          "output_type": "execute_result"
        }
      ],
      "source": [
        "runs[5:0]"
      ]
    },
    {
      "cell_type": "code",
      "execution_count": null,
      "id": "a4e1810a",
      "metadata": {
        "id": "a4e1810a",
        "outputId": "805a9e26-b7b5-4e31-b721-c8b6a2bf8aa7"
      },
      "outputs": [
        {
          "data": {
            "text/plain": [
              "[122, 101, 10, 77, 85]"
            ]
          },
          "execution_count": 45,
          "metadata": {},
          "output_type": "execute_result"
        }
      ],
      "source": [
        "runs[5:0:-1]"
      ]
    },
    {
      "cell_type": "code",
      "execution_count": null,
      "id": "ebb30817",
      "metadata": {
        "id": "ebb30817",
        "outputId": "2ee625da-8419-4944-81e0-b13a8dfbad10"
      },
      "outputs": [
        {
          "data": {
            "text/plain": [
              "'\\nresult = []\\n\\nfor i in range(-1, -len(runs) - 1, -1):\\n    result.append(runs[i])\\n'"
            ]
          },
          "execution_count": 46,
          "metadata": {},
          "output_type": "execute_result"
        }
      ],
      "source": [
        "'''\n",
        "result = []\n",
        "\n",
        "for i in range(-1, -len(runs) - 1, -1):\n",
        "    result.append(runs[i])\n",
        "'''"
      ]
    },
    {
      "cell_type": "code",
      "execution_count": null,
      "id": "263cd951",
      "metadata": {
        "id": "263cd951",
        "outputId": "3328458a-cb4d-4114-9f03-623b795c728d"
      },
      "outputs": [
        {
          "data": {
            "text/plain": [
              "'\\nDefault values - \\n1. When jump / step size is positive - \\n    - start = 0\\n    - end = len(list)\\n2. When jump / step size is negative - \\n    - start = -1\\n    - end = -len(runs) - 1\\n'"
            ]
          },
          "execution_count": 48,
          "metadata": {},
          "output_type": "execute_result"
        }
      ],
      "source": [
        "'''\n",
        "Default values -\n",
        "1. When jump / step size is positive -\n",
        "    - start = 0\n",
        "    - end = len(list)\n",
        "2. When jump / step size is negative -\n",
        "    - start = -1\n",
        "    - end = -len(runs) - 1\n",
        "'''"
      ]
    },
    {
      "cell_type": "code",
      "execution_count": null,
      "id": "1a21eee3",
      "metadata": {
        "id": "1a21eee3",
        "outputId": "73536a20-4113-438d-cb41-c05b3ee23832"
      },
      "outputs": [
        {
          "data": {
            "text/plain": [
              "[36, 15, 81, 99, 122, 101, 10, 77, 85, 62]"
            ]
          },
          "execution_count": 50,
          "metadata": {},
          "output_type": "execute_result"
        }
      ],
      "source": [
        "#TO REVERSE ANY LIST IN PYTHON\n",
        "runs[::-1]"
      ]
    },
    {
      "cell_type": "code",
      "execution_count": null,
      "id": "3821b237",
      "metadata": {
        "id": "3821b237"
      },
      "outputs": [],
      "source": [
        "squares = [] # 1. Creating a result list\n",
        "\n",
        "for i in range(1, 11): # 2. Writing a loop\n",
        "    squares.append(i ** 2) #3.  Appending a value"
      ]
    },
    {
      "cell_type": "code",
      "execution_count": null,
      "id": "49cf4772",
      "metadata": {
        "id": "49cf4772",
        "outputId": "7cab5a3a-5737-4393-ca0d-97fd14b3a7b5"
      },
      "outputs": [
        {
          "data": {
            "text/plain": [
              "[1, 4, 9, 16, 25, 36, 49, 64, 81, 100]"
            ]
          },
          "execution_count": 86,
          "metadata": {},
          "output_type": "execute_result"
        }
      ],
      "source": [
        "squares"
      ]
    },
    {
      "cell_type": "code",
      "execution_count": null,
      "id": "75707061",
      "metadata": {
        "id": "75707061"
      },
      "outputs": [],
      "source": [
        "squares_amazing = [ i**2 for i in range(1, 11) ]\n",
        "# variable_name = [ value_to_be_apended for i in range(start, end) ]"
      ]
    },
    {
      "cell_type": "code",
      "execution_count": null,
      "id": "4d67436c",
      "metadata": {
        "id": "4d67436c",
        "outputId": "a123ef09-a4fe-4482-e1ea-aa842c6fcd8f"
      },
      "outputs": [
        {
          "data": {
            "text/plain": [
              "[1, 4, 9, 16, 25, 36, 49, 64, 81, 100]"
            ]
          },
          "execution_count": 89,
          "metadata": {},
          "output_type": "execute_result"
        }
      ],
      "source": [
        "squares_amazing"
      ]
    },
    {
      "cell_type": "code",
      "execution_count": null,
      "id": "493e8087",
      "metadata": {
        "id": "493e8087"
      },
      "outputs": [],
      "source": [
        "table = []\n",
        "\n",
        "for i in range(1, 11):\n",
        "    row = []\n",
        "\n",
        "    for j in range(1, 11):\n",
        "        row.append(i*j)\n",
        "\n",
        "    table.append(row)"
      ]
    },
    {
      "cell_type": "code",
      "execution_count": null,
      "id": "897a1658",
      "metadata": {
        "id": "897a1658",
        "outputId": "bfd0e087-fe7c-418a-8585-1c3087d619c6"
      },
      "outputs": [
        {
          "data": {
            "text/plain": [
              "[[1, 2, 3, 4, 5, 6, 7, 8, 9, 10],\n",
              " [2, 4, 6, 8, 10, 12, 14, 16, 18, 20],\n",
              " [3, 6, 9, 12, 15, 18, 21, 24, 27, 30],\n",
              " [4, 8, 12, 16, 20, 24, 28, 32, 36, 40],\n",
              " [5, 10, 15, 20, 25, 30, 35, 40, 45, 50],\n",
              " [6, 12, 18, 24, 30, 36, 42, 48, 54, 60],\n",
              " [7, 14, 21, 28, 35, 42, 49, 56, 63, 70],\n",
              " [8, 16, 24, 32, 40, 48, 56, 64, 72, 80],\n",
              " [9, 18, 27, 36, 45, 54, 63, 72, 81, 90],\n",
              " [10, 20, 30, 40, 50, 60, 70, 80, 90, 100]]"
            ]
          },
          "execution_count": 91,
          "metadata": {},
          "output_type": "execute_result"
        }
      ],
      "source": [
        "table"
      ]
    },
    {
      "cell_type": "code",
      "execution_count": null,
      "id": "2d6156a2",
      "metadata": {
        "id": "2d6156a2"
      },
      "outputs": [],
      "source": [
        "t = [ [ i*j for j in range(1,11) ] for i in range(1,11) ]"
      ]
    },
    {
      "cell_type": "code",
      "execution_count": null,
      "id": "74489e7b",
      "metadata": {
        "id": "74489e7b",
        "outputId": "cc8cdaeb-01de-4095-c5f2-d48ac033f9de"
      },
      "outputs": [
        {
          "data": {
            "text/plain": [
              "[[1, 2, 3, 4, 5, 6, 7, 8, 9, 10],\n",
              " [2, 4, 6, 8, 10, 12, 14, 16, 18, 20],\n",
              " [3, 6, 9, 12, 15, 18, 21, 24, 27, 30],\n",
              " [4, 8, 12, 16, 20, 24, 28, 32, 36, 40],\n",
              " [5, 10, 15, 20, 25, 30, 35, 40, 45, 50],\n",
              " [6, 12, 18, 24, 30, 36, 42, 48, 54, 60],\n",
              " [7, 14, 21, 28, 35, 42, 49, 56, 63, 70],\n",
              " [8, 16, 24, 32, 40, 48, 56, 64, 72, 80],\n",
              " [9, 18, 27, 36, 45, 54, 63, 72, 81, 90],\n",
              " [10, 20, 30, 40, 50, 60, 70, 80, 90, 100]]"
            ]
          },
          "execution_count": 93,
          "metadata": {},
          "output_type": "execute_result"
        }
      ],
      "source": [
        "t"
      ]
    },
    {
      "cell_type": "markdown",
      "id": "fAAQnVhZ8lMN",
      "metadata": {
        "id": "fAAQnVhZ8lMN"
      },
      "source": [
        "#**`Python Strings`**"
      ]
    },
    {
      "cell_type": "markdown",
      "id": "maLm8YAG4TCv",
      "metadata": {
        "id": "maLm8YAG4TCv"
      },
      "source": [
        "Strings are sequences of characters in Python, and they have various methods for manipulation.\n",
        "\n",
        "**Glossary of string methods**\n",
        "\n",
        "1. __split__ -> `\"this is a string\".split(\" \")` -> string to a list\n",
        "\n",
        "2. __join__ -> `\" \".join([\"list\", \"of\", \"strings\"])` -> list of strings to a string\n",
        "\n",
        "3. __replace__ -> `\"this is a string\".replace(\" \", \"_\")` -> replaces all occurences of the first character by the second character. __IMP__ - _CREATES A NEW STRING_\n",
        "\n",
        "4. __find__ -> `\"this is a string\".find(\" a \")` -> Finds the exact sequence or substring in the original string and returns the starting index of that substring.\n",
        "\n",
        "5. __count__ -> `\"this is a string\".count(\"a\")` -> Counts the number of times a character or substring is present within a string\n",
        "\n",
        "6. __isdigit__ -> True if content inside the string is only digits.\n",
        "7. __isalpha__ -> True if content inside the string is only alphabets.\n",
        "8. __islower__ / __isupper__ -> True if content inside the string is all lower case / all upper case\n",
        "9. __isspace__ -> True if the character is a space\n",
        "10. __lower__ / __upper__ -> Converts a string to lowercase / uppercase\n",
        "\n",
        "__Special Mention__\n",
        "- `\"random\" in \"this is random!\"` -> MEMBERSHIP OPERATOR - True if operand1 is present inside operand2."
      ]
    },
    {
      "cell_type": "code",
      "execution_count": null,
      "id": "02de71a9",
      "metadata": {
        "id": "02de71a9"
      },
      "outputs": [],
      "source": [
        "a = \"double quotes!\""
      ]
    },
    {
      "cell_type": "code",
      "execution_count": null,
      "id": "b56b8632",
      "metadata": {
        "id": "b56b8632"
      },
      "outputs": [],
      "source": [
        "b = 'single quotes!'"
      ]
    },
    {
      "cell_type": "code",
      "execution_count": null,
      "id": "edf1f9e2",
      "metadata": {
        "id": "edf1f9e2"
      },
      "outputs": [],
      "source": [
        "c = '''triple quotes! -> DOCSTRINGS'''"
      ]
    },
    {
      "cell_type": "code",
      "execution_count": null,
      "id": "be951eb5",
      "metadata": {
        "id": "be951eb5"
      },
      "outputs": [],
      "source": [
        "d = \"\"\"triple double quotes! -> DOCSTRINGS\"\"\""
      ]
    },
    {
      "cell_type": "code",
      "execution_count": null,
      "id": "7f0cb7a0",
      "metadata": {
        "id": "7f0cb7a0",
        "outputId": "4656aed3-6338-4519-994a-8e507be35945"
      },
      "outputs": [
        {
          "data": {
            "text/plain": [
              "str"
            ]
          },
          "execution_count": 9,
          "metadata": {},
          "output_type": "execute_result"
        }
      ],
      "source": [
        "type(d)"
      ]
    },
    {
      "cell_type": "code",
      "execution_count": null,
      "id": "4167c9ca",
      "metadata": {
        "id": "4167c9ca"
      },
      "outputs": [],
      "source": [
        "randoom = \"Whatever we write, UPPERCASE, lowercase, 12345678908765432@#$%^&*(*&^%$#@#$%^)\""
      ]
    },
    {
      "cell_type": "code",
      "execution_count": null,
      "id": "ba96d767",
      "metadata": {
        "id": "ba96d767",
        "outputId": "3bf409f0-c8db-43d9-d110-5dfd0eb8bece"
      },
      "outputs": [
        {
          "data": {
            "text/plain": [
              "'Whatever we write, UPPERCASE, lowercase, 12345678908765432@#$%^&*(*&^%$#@#$%^)'"
            ]
          },
          "execution_count": 11,
          "metadata": {},
          "output_type": "execute_result"
        }
      ],
      "source": [
        "randoom"
      ]
    },
    {
      "cell_type": "code",
      "execution_count": null,
      "id": "23afb3f2",
      "metadata": {
        "id": "23afb3f2",
        "outputId": "37655153-5d8f-4d27-977d-6a4e66482f2d"
      },
      "outputs": [
        {
          "ename": "SyntaxError",
          "evalue": "EOL while scanning string literal (4111874266.py, line 1)",
          "output_type": "error",
          "traceback": [
            "\u001b[0;36m  Cell \u001b[0;32mIn[13], line 1\u001b[0;36m\u001b[0m\n\u001b[0;31m    random = \"a' # Mixed quotations are not allowed\u001b[0m\n\u001b[0m                                                   ^\u001b[0m\n\u001b[0;31mSyntaxError\u001b[0m\u001b[0;31m:\u001b[0m EOL while scanning string literal\n"
          ]
        }
      ],
      "source": [
        "random = \"a' # Mixed quotations are not allowed"
      ]
    },
    {
      "cell_type": "code",
      "execution_count": null,
      "id": "83fee368",
      "metadata": {
        "id": "83fee368",
        "outputId": "cda246f1-faf3-4acf-9912-2d717250e138"
      },
      "outputs": [
        {
          "ename": "SyntaxError",
          "evalue": "invalid syntax (3829515004.py, line 3)",
          "output_type": "error",
          "traceback": [
            "\u001b[0;36m  Cell \u001b[0;32mIn[14], line 3\u001b[0;36m\u001b[0m\n\u001b[0;31m    y = \"something \"random\" which is highlight!\"\u001b[0m\n\u001b[0m                    ^\u001b[0m\n\u001b[0;31mSyntaxError\u001b[0m\u001b[0;31m:\u001b[0m invalid syntax\n"
          ]
        }
      ],
      "source": [
        "# What if your string itself contains quotes inside it\n",
        "\n",
        "y = \"something \"random\" which is highlight!\"\n",
        "\n",
        "# If you want to use double quotes inside a string\n",
        "# -> Use single quotes to form the string!\n",
        "# And vice versa"
      ]
    },
    {
      "cell_type": "code",
      "execution_count": null,
      "id": "d435c90f",
      "metadata": {
        "id": "d435c90f"
      },
      "outputs": [],
      "source": [
        "y = 'something \"random\" which is highlighted!'"
      ]
    },
    {
      "cell_type": "code",
      "execution_count": null,
      "id": "1feab988",
      "metadata": {
        "id": "1feab988",
        "outputId": "ae158476-8870-47ad-dc3d-bdf366ecd1fa"
      },
      "outputs": [
        {
          "data": {
            "text/plain": [
              "'something \"random\" which is highlighted!'"
            ]
          },
          "execution_count": 20,
          "metadata": {},
          "output_type": "execute_result"
        }
      ],
      "source": [
        "y"
      ]
    },
    {
      "cell_type": "code",
      "execution_count": null,
      "id": "a71b3f6a",
      "metadata": {
        "id": "a71b3f6a"
      },
      "outputs": [],
      "source": [
        "z = \"something 'random' which is highlighted!\""
      ]
    },
    {
      "cell_type": "code",
      "execution_count": null,
      "id": "38332934",
      "metadata": {
        "id": "38332934",
        "outputId": "47e56519-f62a-4d78-dce9-fc6d2f947e9c"
      },
      "outputs": [
        {
          "data": {
            "text/plain": [
              "\"something 'random' which is highlighted!\""
            ]
          },
          "execution_count": 22,
          "metadata": {},
          "output_type": "execute_result"
        }
      ],
      "source": [
        "z"
      ]
    },
    {
      "cell_type": "code",
      "execution_count": null,
      "id": "fadc75ac",
      "metadata": {
        "id": "fadc75ac",
        "outputId": "c7385d8c-32ee-4fab-dac3-d73723259ae6"
      },
      "outputs": [
        {
          "ename": "SyntaxError",
          "evalue": "invalid syntax (3506376244.py, line 1)",
          "output_type": "error",
          "traceback": [
            "\u001b[0;36m  Cell \u001b[0;32mIn[23], line 1\u001b[0;36m\u001b[0m\n\u001b[0;31m    a = 'can't' # THIS HAS A LOT OF ISSUES!\u001b[0m\n\u001b[0m             ^\u001b[0m\n\u001b[0;31mSyntaxError\u001b[0m\u001b[0;31m:\u001b[0m invalid syntax\n"
          ]
        }
      ],
      "source": [
        "a = 'can't' # THIS HAS A LOT OF ISSUES!"
      ]
    },
    {
      "cell_type": "code",
      "execution_count": null,
      "id": "314dbc6f",
      "metadata": {
        "id": "314dbc6f"
      },
      "outputs": [],
      "source": [
        "a = 'can\\'t' # Escape character"
      ]
    },
    {
      "cell_type": "code",
      "execution_count": null,
      "id": "9a6ec0aa",
      "metadata": {
        "id": "9a6ec0aa",
        "outputId": "38bb699a-ae2b-4140-af85-1e869c28417f"
      },
      "outputs": [
        {
          "data": {
            "text/plain": [
              "\"can't\""
            ]
          },
          "execution_count": 25,
          "metadata": {},
          "output_type": "execute_result"
        }
      ],
      "source": [
        "a"
      ]
    },
    {
      "cell_type": "code",
      "execution_count": null,
      "id": "848476a3",
      "metadata": {
        "id": "848476a3"
      },
      "outputs": [],
      "source": [
        "random = \"this string is \\\"random\\\" which can't work properly without \\\"escape characters!\\\"\""
      ]
    },
    {
      "cell_type": "code",
      "execution_count": null,
      "id": "b8bd27d6",
      "metadata": {
        "id": "b8bd27d6",
        "outputId": "fca212cc-c6f9-4b02-cfbe-835c8c4cf3b0"
      },
      "outputs": [
        {
          "data": {
            "text/plain": [
              "'this string is \"random\" which can\\'t work properly without \"escape characters!\"'"
            ]
          },
          "execution_count": 35,
          "metadata": {},
          "output_type": "execute_result"
        }
      ],
      "source": [
        "random"
      ]
    },
    {
      "cell_type": "code",
      "execution_count": null,
      "id": "35bed9b6",
      "metadata": {
        "id": "35bed9b6",
        "outputId": "9d6086ca-d172-4a02-97c9-142a1c237efd"
      },
      "outputs": [
        {
          "data": {
            "text/plain": [
              "True"
            ]
          },
          "execution_count": 37,
          "metadata": {},
          "output_type": "execute_result"
        }
      ],
      "source": [
        "\"zebra\" > \"aaaaaahgfshjfgjhchsdudadhgafgdadaajdghdja\"\n",
        "# LEXICOGRAPHICAL - Order in a dictionary"
      ]
    },
    {
      "cell_type": "code",
      "execution_count": null,
      "id": "1bf5f4ba",
      "metadata": {
        "id": "1bf5f4ba",
        "outputId": "c5d3fc12-861c-4fd2-a41c-659e8e1948b7"
      },
      "outputs": [
        {
          "data": {
            "text/plain": [
              "False"
            ]
          },
          "execution_count": 39,
          "metadata": {},
          "output_type": "execute_result"
        }
      ],
      "source": [
        "\"abc\" > \"agh\""
      ]
    },
    {
      "cell_type": "code",
      "execution_count": null,
      "id": "7867121f",
      "metadata": {
        "id": "7867121f"
      },
      "outputs": [],
      "source": [
        "# This comparison is enabled via mapping in programming!"
      ]
    },
    {
      "cell_type": "code",
      "execution_count": null,
      "id": "ac0a1de2",
      "metadata": {
        "id": "ac0a1de2",
        "outputId": "0fce7a2c-426d-4f6e-d303-1ff8e854ce33"
      },
      "outputs": [
        {
          "data": {
            "text/plain": [
              "True"
            ]
          },
          "execution_count": 42,
          "metadata": {},
          "output_type": "execute_result"
        }
      ],
      "source": [
        "\"a\" > \"A\" # THIS IS BECAUSE OF ASCII!"
      ]
    },
    {
      "cell_type": "code",
      "execution_count": null,
      "id": "47e72aeb",
      "metadata": {
        "id": "47e72aeb",
        "outputId": "6584279e-651b-41a3-cc95-524896b21488"
      },
      "outputs": [
        {
          "data": {
            "text/plain": [
              "True"
            ]
          },
          "execution_count": 43,
          "metadata": {},
          "output_type": "execute_result"
        }
      ],
      "source": [
        "\"zebra\" > \"ZEBRA\""
      ]
    },
    {
      "cell_type": "code",
      "execution_count": null,
      "id": "78488b3c",
      "metadata": {
        "id": "78488b3c",
        "outputId": "151c4ab1-0160-435d-bb45-c61f0e562579"
      },
      "outputs": [
        {
          "data": {
            "text/plain": [
              "'random1random2'"
            ]
          },
          "execution_count": 44,
          "metadata": {},
          "output_type": "execute_result"
        }
      ],
      "source": [
        "\"random1\" + \"random2\" # Concatenation"
      ]
    },
    {
      "cell_type": "code",
      "execution_count": null,
      "id": "09fce5ad",
      "metadata": {
        "id": "09fce5ad",
        "outputId": "00e1f6e9-bf1c-46b0-cc14-783781193c81"
      },
      "outputs": [
        {
          "data": {
            "text/plain": [
              "'randomrandomrandomrandomrandomrandom'"
            ]
          },
          "execution_count": 45,
          "metadata": {},
          "output_type": "execute_result"
        }
      ],
      "source": [
        "\"random\" * 2 * 3"
      ]
    },
    {
      "cell_type": "code",
      "execution_count": null,
      "id": "c4180e62",
      "metadata": {
        "id": "c4180e62",
        "outputId": "5e561fa8-1722-42aa-8713-c985ea8a84e0"
      },
      "outputs": [
        {
          "data": {
            "text/plain": [
              "97"
            ]
          },
          "execution_count": 71,
          "metadata": {},
          "output_type": "execute_result"
        }
      ],
      "source": [
        "ord(\"a\") # Corresponding ASCII (mapping) value"
      ]
    },
    {
      "cell_type": "code",
      "execution_count": null,
      "id": "394fdbee",
      "metadata": {
        "id": "394fdbee",
        "outputId": "5651a627-8fa9-4ead-d21c-24f3c801e721"
      },
      "outputs": [
        {
          "data": {
            "text/plain": [
              "122"
            ]
          },
          "execution_count": 72,
          "metadata": {},
          "output_type": "execute_result"
        }
      ],
      "source": [
        "ord(\"z\")"
      ]
    },
    {
      "cell_type": "code",
      "execution_count": null,
      "id": "e53bb68e",
      "metadata": {
        "id": "e53bb68e",
        "outputId": "efc6e932-31fd-42c4-e0f9-2eafc4ec3d1c"
      },
      "outputs": [
        {
          "data": {
            "text/plain": [
              "65"
            ]
          },
          "execution_count": 74,
          "metadata": {},
          "output_type": "execute_result"
        }
      ],
      "source": [
        "ord(\"A\")"
      ]
    },
    {
      "cell_type": "code",
      "execution_count": null,
      "id": "cda70774",
      "metadata": {
        "id": "cda70774",
        "outputId": "289fdd95-441b-4977-e9b2-0c858617b3bf"
      },
      "outputs": [
        {
          "data": {
            "text/plain": [
              "37"
            ]
          },
          "execution_count": 75,
          "metadata": {},
          "output_type": "execute_result"
        }
      ],
      "source": [
        "ord(\"%\")"
      ]
    },
    {
      "cell_type": "code",
      "execution_count": null,
      "id": "5d5a2514",
      "metadata": {
        "id": "5d5a2514",
        "outputId": "3e18630a-7bc7-4653-8577-0e3230bd563e"
      },
      "outputs": [
        {
          "data": {
            "text/plain": [
              "48"
            ]
          },
          "execution_count": 76,
          "metadata": {},
          "output_type": "execute_result"
        }
      ],
      "source": [
        "ord(\"0\")"
      ]
    },
    {
      "cell_type": "code",
      "execution_count": null,
      "id": "ad16eb19",
      "metadata": {
        "id": "ad16eb19",
        "outputId": "4db4275d-1210-4081-d805-a5f2b8ccac57"
      },
      "outputs": [
        {
          "data": {
            "text/plain": [
              "'a'"
            ]
          },
          "execution_count": 79,
          "metadata": {},
          "output_type": "execute_result"
        }
      ],
      "source": [
        "chr(97) # Corresponding character acc to mapping"
      ]
    },
    {
      "cell_type": "code",
      "execution_count": null,
      "id": "2ee3136f",
      "metadata": {
        "id": "2ee3136f"
      },
      "outputs": [],
      "source": [
        "a = \"a string with a few words separated by space.\""
      ]
    },
    {
      "cell_type": "code",
      "execution_count": null,
      "id": "520b25bb",
      "metadata": {
        "id": "520b25bb",
        "outputId": "739477a6-6b1c-45f4-beb6-5b4277821e44"
      },
      "outputs": [
        {
          "data": {
            "text/plain": [
              "['a', 'string', 'with', 'a', 'few', 'words', 'separated', 'by', 'space.']"
            ]
          },
          "execution_count": 3,
          "metadata": {},
          "output_type": "execute_result"
        }
      ],
      "source": [
        "a.split(\" \") # A delimiter is provided as an argument"
      ]
    },
    {
      "cell_type": "code",
      "execution_count": null,
      "id": "c14698c3",
      "metadata": {
        "id": "c14698c3",
        "outputId": "38e75717-1916-445e-c929-bf64320a8a93"
      },
      "outputs": [
        {
          "data": {
            "text/plain": [
              "['a ', 'tring with a few word', ' ', 'eparated by ', 'pace.']"
            ]
          },
          "execution_count": 4,
          "metadata": {},
          "output_type": "execute_result"
        }
      ],
      "source": [
        "a.split(\"s\")"
      ]
    },
    {
      "cell_type": "code",
      "execution_count": null,
      "id": "49a5ab83",
      "metadata": {
        "id": "49a5ab83"
      },
      "outputs": [],
      "source": [
        "a = \"this+is+random\""
      ]
    },
    {
      "cell_type": "code",
      "execution_count": null,
      "id": "3f5bea5c",
      "metadata": {
        "id": "3f5bea5c",
        "outputId": "31cc3136-230c-4948-8fdf-9b64f692a9ab"
      },
      "outputs": [
        {
          "data": {
            "text/plain": [
              "['this', 'is', 'random']"
            ]
          },
          "execution_count": 6,
          "metadata": {},
          "output_type": "execute_result"
        }
      ],
      "source": [
        "a.split(\"+\")"
      ]
    },
    {
      "cell_type": "code",
      "execution_count": null,
      "id": "bc8f9dfb",
      "metadata": {
        "id": "bc8f9dfb"
      },
      "outputs": [],
      "source": [
        "a = \"thisRANDOMisRANDOMveryRANDOMrandom!\""
      ]
    },
    {
      "cell_type": "code",
      "execution_count": null,
      "id": "92ff442e",
      "metadata": {
        "id": "92ff442e",
        "outputId": "81e98b4e-fc5b-400b-b145-a27ba59e045e"
      },
      "outputs": [
        {
          "data": {
            "text/plain": [
              "['this', 'is', 'very', 'random!']"
            ]
          },
          "execution_count": 8,
          "metadata": {},
          "output_type": "execute_result"
        }
      ],
      "source": [
        "a.split(\"RANDOM\")"
      ]
    },
    {
      "cell_type": "code",
      "execution_count": null,
      "id": "5ebc986b",
      "metadata": {
        "id": "5ebc986b",
        "outputId": "677b9be5-b741-4252-c1f8-8e59d2d1360e"
      },
      "outputs": [
        {
          "data": {
            "text/plain": [
              "'\\nUsing split,\\nwe split a string into a list of strings, delimited at a character(s).\\n\\nUsing join,\\nwe join a list of strings into one string using a joining character(s).\\n'"
            ]
          },
          "execution_count": 15,
          "metadata": {},
          "output_type": "execute_result"
        }
      ],
      "source": [
        "'''\n",
        "Using split,\n",
        "we split a string into a list of strings, delimited at a character(s).\n",
        "\n",
        "Using join,\n",
        "we join a list of strings into one string using a joining character(s).\n",
        "'''"
      ]
    },
    {
      "cell_type": "code",
      "execution_count": null,
      "id": "6b366d34",
      "metadata": {
        "id": "6b366d34"
      },
      "outputs": [],
      "source": [
        "a = ['a', 'string', 'with', 'a', 'few', 'words', 'separated', 'by', 'space.']"
      ]
    },
    {
      "cell_type": "code",
      "execution_count": null,
      "id": "b9f513e6",
      "metadata": {
        "id": "b9f513e6",
        "outputId": "2d708e7c-568f-4837-f840-bc57aa5f25c6"
      },
      "outputs": [
        {
          "data": {
            "text/plain": [
              "['a', 'string', 'with', 'a', 'few', 'words', 'separated', 'by', 'space.']"
            ]
          },
          "execution_count": 17,
          "metadata": {},
          "output_type": "execute_result"
        }
      ],
      "source": [
        "a"
      ]
    },
    {
      "cell_type": "code",
      "execution_count": null,
      "id": "ebca68b8",
      "metadata": {
        "id": "ebca68b8",
        "outputId": "1f18f422-4843-4601-cf43-8733c0fe96ff"
      },
      "outputs": [
        {
          "data": {
            "text/plain": [
              "'a string with a few words separated by space.'"
            ]
          },
          "execution_count": 18,
          "metadata": {},
          "output_type": "execute_result"
        }
      ],
      "source": [
        "\" \".join(a) # \"delimter\".join(list_of_strings)"
      ]
    },
    {
      "cell_type": "code",
      "execution_count": null,
      "id": "a9180c59",
      "metadata": {
        "id": "a9180c59",
        "outputId": "11d67950-98c5-4e26-a456-9740e16664a3"
      },
      "outputs": [
        {
          "data": {
            "text/plain": [
              "'a_+_string_+_with_+_a_+_few_+_words_+_separated_+_by_+_space.'"
            ]
          },
          "execution_count": 19,
          "metadata": {},
          "output_type": "execute_result"
        }
      ],
      "source": [
        "\"_+_\".join(a)"
      ]
    },
    {
      "cell_type": "code",
      "execution_count": null,
      "id": "8393eff1",
      "metadata": {
        "id": "8393eff1"
      },
      "outputs": [],
      "source": [
        "a = [\"random\", 23, 5.6, True]"
      ]
    },
    {
      "cell_type": "code",
      "execution_count": null,
      "id": "bcead9a1",
      "metadata": {
        "id": "bcead9a1"
      },
      "outputs": [],
      "source": [
        "a = \"this is a random string!\""
      ]
    },
    {
      "cell_type": "code",
      "execution_count": null,
      "id": "b3220922",
      "metadata": {
        "id": "b3220922",
        "outputId": "3fc91686-14df-4911-88e7-96161687932c"
      },
      "outputs": [
        {
          "data": {
            "text/plain": [
              "2"
            ]
          },
          "execution_count": 38,
          "metadata": {},
          "output_type": "execute_result"
        }
      ],
      "source": [
        "a.find(\"is\") # It would return the first index of the substring in the string"
      ]
    },
    {
      "cell_type": "code",
      "execution_count": null,
      "id": "3c72577d",
      "metadata": {
        "id": "3c72577d",
        "outputId": "e2e1e837-2528-4cb1-94c9-8ef8167a2e0e"
      },
      "outputs": [
        {
          "data": {
            "text/plain": [
              "10"
            ]
          },
          "execution_count": 39,
          "metadata": {},
          "output_type": "execute_result"
        }
      ],
      "source": [
        "a.find(\"random\")"
      ]
    },
    {
      "cell_type": "code",
      "execution_count": null,
      "id": "9ddefe5f",
      "metadata": {
        "id": "9ddefe5f",
        "outputId": "dafbe186-d024-4112-edd1-0ef0f3b62d9b"
      },
      "outputs": [
        {
          "data": {
            "text/plain": [
              "'random'"
            ]
          },
          "execution_count": 41,
          "metadata": {},
          "output_type": "execute_result"
        }
      ],
      "source": [
        "a[a.find(\"random\"):a.find(\"random\")+len(\"random\")]"
      ]
    },
    {
      "cell_type": "code",
      "execution_count": null,
      "id": "105b5fd0",
      "metadata": {
        "id": "105b5fd0",
        "outputId": "b8e3f542-083f-49de-b43e-eabea19124c3"
      },
      "outputs": [
        {
          "data": {
            "text/plain": [
              "'this is a string!'"
            ]
          },
          "execution_count": 42,
          "metadata": {},
          "output_type": "execute_result"
        }
      ],
      "source": [
        "a[:a.find(\"random\")] + a[a.find(\"random\") + len(\"random\") + 1:]"
      ]
    },
    {
      "cell_type": "code",
      "execution_count": null,
      "id": "869ff681",
      "metadata": {
        "id": "869ff681",
        "outputId": "52337a39-75e2-4fc2-a33f-03d86f671903"
      },
      "outputs": [
        {
          "data": {
            "text/plain": [
              "-1"
            ]
          },
          "execution_count": 44,
          "metadata": {},
          "output_type": "execute_result"
        }
      ],
      "source": [
        "a.find(\"not present!\")\n",
        "# Returns -1 if the substring can't be found"
      ]
    },
    {
      "cell_type": "code",
      "execution_count": null,
      "id": "5216b5c8",
      "metadata": {
        "id": "5216b5c8"
      },
      "outputs": [],
      "source": [
        "# 4. REPLACE"
      ]
    },
    {
      "cell_type": "code",
      "execution_count": null,
      "id": "62ae2f9d",
      "metadata": {
        "id": "62ae2f9d"
      },
      "outputs": [],
      "source": [
        "a = \"this is a random string with very random random words arranged in a random order which is random!\""
      ]
    },
    {
      "cell_type": "code",
      "execution_count": null,
      "id": "807b3291",
      "metadata": {
        "id": "807b3291",
        "outputId": "390ea6e5-cc4e-4794-b21e-5e76b6cd8713"
      },
      "outputs": [
        {
          "data": {
            "text/plain": [
              "'this is a random string with very random random words arranged in a random order which is random!'"
            ]
          },
          "execution_count": 47,
          "metadata": {},
          "output_type": "execute_result"
        }
      ],
      "source": [
        "a"
      ]
    },
    {
      "cell_type": "code",
      "execution_count": null,
      "id": "6d667ed2",
      "metadata": {
        "id": "6d667ed2",
        "outputId": "598f4d4b-87a2-4c75-bf05-3851ab73a0ea"
      },
      "outputs": [
        {
          "data": {
            "text/plain": [
              "'this is a SUPERB string with very SUPERB SUPERB words arranged in a SUPERB order which is SUPERB!'"
            ]
          },
          "execution_count": 48,
          "metadata": {},
          "output_type": "execute_result"
        }
      ],
      "source": [
        "a.replace(\"random\", \"SUPERB\")"
      ]
    },
    {
      "cell_type": "code",
      "execution_count": null,
      "id": "f461d95e",
      "metadata": {
        "id": "f461d95e",
        "outputId": "815132ef-5891-4339-94e4-00b9e2baa27d"
      },
      "outputs": [
        {
          "data": {
            "text/plain": [
              "'this is a random string with very random random words arranged in a random order which is random!'"
            ]
          },
          "execution_count": 50,
          "metadata": {},
          "output_type": "execute_result"
        }
      ],
      "source": [
        "a # Does not modify the original string"
      ]
    },
    {
      "cell_type": "code",
      "execution_count": null,
      "id": "60b1fa21",
      "metadata": {
        "id": "60b1fa21"
      },
      "outputs": [],
      "source": [
        "a_replaced = a.replace(\"random\", \"SUPERB\")"
      ]
    },
    {
      "cell_type": "code",
      "execution_count": null,
      "id": "c18f400a",
      "metadata": {
        "id": "c18f400a",
        "outputId": "002e1a0e-4522-4958-f1a9-990f5e795791"
      },
      "outputs": [
        {
          "data": {
            "text/plain": [
              "'this is a SUPERB string with very SUPERB SUPERB words arranged in a SUPERB order which is SUPERB!'"
            ]
          },
          "execution_count": 52,
          "metadata": {},
          "output_type": "execute_result"
        }
      ],
      "source": [
        "a_replaced"
      ]
    },
    {
      "cell_type": "code",
      "execution_count": null,
      "id": "5e50813c",
      "metadata": {
        "id": "5e50813c"
      },
      "outputs": [],
      "source": [
        "# 5. MEMBERSHIP OPERATOR"
      ]
    },
    {
      "cell_type": "code",
      "execution_count": null,
      "id": "747f663a",
      "metadata": {
        "id": "747f663a"
      },
      "outputs": [],
      "source": [
        "a = \"this is a random string!\""
      ]
    },
    {
      "cell_type": "code",
      "execution_count": null,
      "id": "20312c0d",
      "metadata": {
        "id": "20312c0d",
        "outputId": "5d963852-6b74-4acd-983e-2a7c7e07ecc0"
      },
      "outputs": [
        {
          "data": {
            "text/plain": [
              "True"
            ]
          },
          "execution_count": 55,
          "metadata": {},
          "output_type": "execute_result"
        }
      ],
      "source": [
        "\"random\" in a"
      ]
    },
    {
      "cell_type": "code",
      "execution_count": null,
      "id": "289df71c",
      "metadata": {
        "id": "289df71c",
        "outputId": "0de42859-0eed-4b66-976e-706457d13b4d"
      },
      "outputs": [
        {
          "data": {
            "text/plain": [
              "False"
            ]
          },
          "execution_count": 56,
          "metadata": {},
          "output_type": "execute_result"
        }
      ],
      "source": [
        "\"RANDOM\" in a"
      ]
    },
    {
      "cell_type": "code",
      "execution_count": null,
      "id": "a7948b28",
      "metadata": {
        "id": "a7948b28",
        "outputId": "c3480976-f826-47cd-b2cf-7995db3ab0de"
      },
      "outputs": [
        {
          "data": {
            "text/plain": [
              "False"
            ]
          },
          "execution_count": 57,
          "metadata": {},
          "output_type": "execute_result"
        }
      ],
      "source": [
        "\"something else\" in a"
      ]
    },
    {
      "cell_type": "code",
      "execution_count": null,
      "id": "e7cdc8b8",
      "metadata": {
        "id": "e7cdc8b8",
        "outputId": "80cc7334-9c5a-4004-a767-eb0f600ab118"
      },
      "outputs": [
        {
          "data": {
            "text/plain": [
              "True"
            ]
          },
          "execution_count": 58,
          "metadata": {},
          "output_type": "execute_result"
        }
      ],
      "source": [
        "\"random string\" in a"
      ]
    },
    {
      "cell_type": "code",
      "execution_count": null,
      "id": "d19d3df9",
      "metadata": {
        "id": "d19d3df9",
        "outputId": "234d7ad4-78f5-42b8-b9bb-540b29dcc0e8"
      },
      "outputs": [
        {
          "data": {
            "text/plain": [
              "False"
            ]
          },
          "execution_count": 70,
          "metadata": {},
          "output_type": "execute_result"
        }
      ],
      "source": [
        "\"56.7\".isdigit()\n",
        "# This string contains \".\" also which is not a number"
      ]
    },
    {
      "cell_type": "code",
      "execution_count": null,
      "id": "d0f5f3a4",
      "metadata": {
        "id": "d0f5f3a4",
        "outputId": "9e5ac721-1e09-4d22-b67c-cca0837e7dcb"
      },
      "outputs": [
        {
          "data": {
            "text/plain": [
              "True"
            ]
          },
          "execution_count": 80,
          "metadata": {},
          "output_type": "execute_result"
        }
      ],
      "source": [
        "\"smallCAPITAL\".isalpha()"
      ]
    },
    {
      "cell_type": "code",
      "execution_count": null,
      "id": "551bda76",
      "metadata": {
        "id": "551bda76",
        "outputId": "5447490b-9b70-4b1d-acd3-ba266956eb16"
      },
      "outputs": [
        {
          "data": {
            "text/plain": [
              "True"
            ]
          },
          "execution_count": 84,
          "metadata": {},
          "output_type": "execute_result"
        }
      ],
      "source": [
        "\"sdhfgs23456789\".isalnum()\n",
        "# Returns True if the string only contains alphabets / numbers"
      ]
    },
    {
      "cell_type": "code",
      "execution_count": null,
      "id": "fd640b82",
      "metadata": {
        "id": "fd640b82",
        "outputId": "bacdf7ce-4b18-4e32-9d05-dc2bbbd160cf"
      },
      "outputs": [
        {
          "data": {
            "text/plain": [
              "False"
            ]
          },
          "execution_count": 86,
          "metadata": {},
          "output_type": "execute_result"
        }
      ],
      "source": [
        "\"a\".isupper()"
      ]
    },
    {
      "cell_type": "code",
      "execution_count": null,
      "id": "313b48eb",
      "metadata": {
        "id": "313b48eb",
        "outputId": "8334d83b-7bb3-4cfc-90a3-4f92ba52d77b"
      },
      "outputs": [
        {
          "data": {
            "text/plain": [
              "False"
            ]
          },
          "execution_count": 87,
          "metadata": {},
          "output_type": "execute_result"
        }
      ],
      "source": [
        "\"A\".islower()"
      ]
    },
    {
      "cell_type": "code",
      "execution_count": null,
      "id": "69b4fe12",
      "metadata": {
        "id": "69b4fe12",
        "outputId": "59d27362-a0e2-4bb7-c820-e2f01a3eada4"
      },
      "outputs": [
        {
          "data": {
            "text/plain": [
              "'THIS IS A RANDOM STRING!'"
            ]
          },
          "execution_count": 96,
          "metadata": {},
          "output_type": "execute_result"
        }
      ],
      "source": [
        "\"This IS A random STRing!\".upper()"
      ]
    },
    {
      "cell_type": "code",
      "execution_count": null,
      "id": "034b0401",
      "metadata": {
        "id": "034b0401",
        "outputId": "449be1eb-eef7-4d64-922b-fd9aac0023dd"
      },
      "outputs": [
        {
          "data": {
            "text/plain": [
              "'this is a random string!'"
            ]
          },
          "execution_count": 97,
          "metadata": {},
          "output_type": "execute_result"
        }
      ],
      "source": [
        "\"This IS A random STRing!\".lower()"
      ]
    },
    {
      "cell_type": "code",
      "execution_count": null,
      "id": "28780fa8",
      "metadata": {
        "id": "28780fa8",
        "outputId": "6a7cea7d-4e21-474c-9bb5-d06cba95fc73"
      },
      "outputs": [
        {
          "data": {
            "text/plain": [
              "True"
            ]
          },
          "execution_count": 98,
          "metadata": {},
          "output_type": "execute_result"
        }
      ],
      "source": [
        "\" \".isspace()"
      ]
    },
    {
      "cell_type": "markdown",
      "id": "5c1991fc",
      "metadata": {
        "id": "5c1991fc"
      },
      "source": [
        "#**`Python Tuples`**"
      ]
    },
    {
      "cell_type": "markdown",
      "id": "SDIB2DkF4EbK",
      "metadata": {
        "id": "SDIB2DkF4EbK"
      },
      "source": [
        "Tuples are similar to lists but have a key distinction: they are immutable. This means that once you create a tuple, you cannot change its elements. Tuples are created using parentheses. Here's more detail:\n",
        "\n",
        "\n",
        "| Aspect              | Description                                                       | Example                                        |\n",
        "|---------------------|-------------------------------------------------------------------|------------------------------------------------|\n",
        "| **Creation**        | Tuples are defined using parentheses and can contain various data types. | `my_tuple = (1, \"apple\", 3.14)` |\n",
        "| **Accessing Elements** | Elements in a tuple can be accessed using indexing, similar to lists. | `print(my_tuple[0])` # Access the first element |\n",
        "| **Immutability**    | Tuples are immutable, meaning their elements cannot be modified or changed after creation. | Once created, the tuple cannot be modified. |\n",
        "| **Tuple Methods**   | Tuples have methods like `count()` and `index()` for counting occurrences of an element and finding the index of an element, respectively. | `my_tuple = (1, 2, 2, 3, 4)`<br>`count = my_tuple.count(2)` # Counts how many times 2 appears<br>`index = my_tuple.index(3)` # Finds the index of 3 |\n"
      ]
    },
    {
      "cell_type": "code",
      "execution_count": null,
      "id": "13a96e0c",
      "metadata": {
        "id": "13a96e0c"
      },
      "outputs": [],
      "source": [
        "a = [1, 2, 3, 4]"
      ]
    },
    {
      "cell_type": "code",
      "execution_count": null,
      "id": "3189cded",
      "metadata": {
        "id": "3189cded"
      },
      "outputs": [],
      "source": [
        "a.append(5)"
      ]
    },
    {
      "cell_type": "code",
      "execution_count": null,
      "id": "d944a061",
      "metadata": {
        "id": "d944a061",
        "outputId": "0353b413-54ab-478d-e1aa-bccd4c926b96"
      },
      "outputs": [
        {
          "data": {
            "text/plain": [
              "[1, 2, 3, 4, 5]"
            ]
          },
          "execution_count": 3,
          "metadata": {},
          "output_type": "execute_result"
        }
      ],
      "source": [
        "a"
      ]
    },
    {
      "cell_type": "code",
      "execution_count": null,
      "id": "5faba55e",
      "metadata": {
        "id": "5faba55e"
      },
      "outputs": [],
      "source": [
        "# The size of the list is not fixed"
      ]
    },
    {
      "cell_type": "code",
      "execution_count": null,
      "id": "3b18e804",
      "metadata": {
        "id": "3b18e804"
      },
      "outputs": [],
      "source": [
        "a[0] = 1.0"
      ]
    },
    {
      "cell_type": "code",
      "execution_count": null,
      "id": "9e05984d",
      "metadata": {
        "id": "9e05984d",
        "outputId": "b5cab36b-7a2e-4859-e584-f260e43b7635"
      },
      "outputs": [
        {
          "data": {
            "text/plain": [
              "[1.0, 2, 3, 4, 5]"
            ]
          },
          "execution_count": 6,
          "metadata": {},
          "output_type": "execute_result"
        }
      ],
      "source": [
        "a"
      ]
    },
    {
      "cell_type": "code",
      "execution_count": null,
      "id": "a372c22f",
      "metadata": {
        "id": "a372c22f"
      },
      "outputs": [],
      "source": [
        "# List elements are not fixed either"
      ]
    },
    {
      "cell_type": "code",
      "execution_count": null,
      "id": "d666eb7d",
      "metadata": {
        "id": "d666eb7d"
      },
      "outputs": [],
      "source": [
        "# DEFINING A TUPLE - Use paranthesis\n",
        "a = (1, 2, 3, 4)"
      ]
    },
    {
      "cell_type": "code",
      "execution_count": null,
      "id": "a8c3a45e",
      "metadata": {
        "id": "a8c3a45e",
        "outputId": "c3c6763f-ed83-4d55-ed71-e92124bf307a"
      },
      "outputs": [
        {
          "ename": "AttributeError",
          "evalue": "'tuple' object has no attribute 'append'",
          "output_type": "error",
          "traceback": [
            "\u001b[0;31m---------------------------------------------------------------------------\u001b[0m",
            "\u001b[0;31mAttributeError\u001b[0m                            Traceback (most recent call last)",
            "Cell \u001b[0;32mIn[10], line 1\u001b[0m\n\u001b[0;32m----> 1\u001b[0m \u001b[43ma\u001b[49m\u001b[38;5;241;43m.\u001b[39;49m\u001b[43mappend\u001b[49m(\u001b[38;5;241m5\u001b[39m)\n",
            "\u001b[0;31mAttributeError\u001b[0m: 'tuple' object has no attribute 'append'"
          ]
        }
      ],
      "source": [
        "a.append(5)"
      ]
    },
    {
      "cell_type": "code",
      "execution_count": null,
      "id": "1798ff62",
      "metadata": {
        "id": "1798ff62",
        "outputId": "b50d0f4b-ca48-4a2a-a43a-14fab4fdcf94"
      },
      "outputs": [
        {
          "ename": "AttributeError",
          "evalue": "'tuple' object has no attribute 'remove'",
          "output_type": "error",
          "traceback": [
            "\u001b[0;31m---------------------------------------------------------------------------\u001b[0m",
            "\u001b[0;31mAttributeError\u001b[0m                            Traceback (most recent call last)",
            "Cell \u001b[0;32mIn[11], line 1\u001b[0m\n\u001b[0;32m----> 1\u001b[0m \u001b[43ma\u001b[49m\u001b[38;5;241;43m.\u001b[39;49m\u001b[43mremove\u001b[49m(\u001b[38;5;241m4\u001b[39m)\n",
            "\u001b[0;31mAttributeError\u001b[0m: 'tuple' object has no attribute 'remove'"
          ]
        }
      ],
      "source": [
        "a.remove(4)"
      ]
    },
    {
      "cell_type": "code",
      "execution_count": null,
      "id": "82d855cb",
      "metadata": {
        "id": "82d855cb",
        "outputId": "862f6911-526a-44da-d1da-1bc3e4f642c0"
      },
      "outputs": [
        {
          "ename": "TypeError",
          "evalue": "'tuple' object does not support item assignment",
          "output_type": "error",
          "traceback": [
            "\u001b[0;31m---------------------------------------------------------------------------\u001b[0m",
            "\u001b[0;31mTypeError\u001b[0m                                 Traceback (most recent call last)",
            "Cell \u001b[0;32mIn[12], line 1\u001b[0m\n\u001b[0;32m----> 1\u001b[0m \u001b[43ma\u001b[49m\u001b[43m[\u001b[49m\u001b[38;5;241;43m0\u001b[39;49m\u001b[43m]\u001b[49m \u001b[38;5;241m=\u001b[39m \u001b[38;5;241m100\u001b[39m\n",
            "\u001b[0;31mTypeError\u001b[0m: 'tuple' object does not support item assignment"
          ]
        }
      ],
      "source": [
        "a[0] = 100"
      ]
    },
    {
      "cell_type": "code",
      "execution_count": null,
      "id": "64ef0d6e",
      "metadata": {
        "id": "64ef0d6e"
      },
      "outputs": [],
      "source": [
        "a = tuple(range(1, 11))"
      ]
    },
    {
      "cell_type": "code",
      "execution_count": null,
      "id": "90ee5952",
      "metadata": {
        "id": "90ee5952",
        "outputId": "6c6d64a4-59d7-4ad4-d862-e1919e61e12b"
      },
      "outputs": [
        {
          "data": {
            "text/plain": [
              "(1, 2, 3, 4, 5, 6, 7, 8, 9, 10)"
            ]
          },
          "execution_count": 14,
          "metadata": {},
          "output_type": "execute_result"
        }
      ],
      "source": [
        "a"
      ]
    },
    {
      "cell_type": "code",
      "execution_count": null,
      "id": "c5917a87",
      "metadata": {
        "id": "c5917a87",
        "outputId": "018ee6a6-eb24-4660-a25a-c0ebac231e5b"
      },
      "outputs": [
        {
          "data": {
            "text/plain": [
              "7"
            ]
          },
          "execution_count": 15,
          "metadata": {},
          "output_type": "execute_result"
        }
      ],
      "source": [
        "a[6]"
      ]
    },
    {
      "cell_type": "code",
      "execution_count": null,
      "id": "80a84751",
      "metadata": {
        "id": "80a84751",
        "outputId": "9907bf76-484d-4b9d-decc-33e760f6c3bd"
      },
      "outputs": [
        {
          "data": {
            "text/plain": [
              "10"
            ]
          },
          "execution_count": 16,
          "metadata": {},
          "output_type": "execute_result"
        }
      ],
      "source": [
        "a[-1]"
      ]
    },
    {
      "cell_type": "code",
      "execution_count": null,
      "id": "a349fbbc",
      "metadata": {
        "id": "a349fbbc",
        "outputId": "cfad9cff-42bf-4f35-e804-090b0ff4ccd3"
      },
      "outputs": [
        {
          "data": {
            "text/plain": [
              "(4, 5, 6, 7)"
            ]
          },
          "execution_count": 17,
          "metadata": {},
          "output_type": "execute_result"
        }
      ],
      "source": [
        "a[3:7]"
      ]
    },
    {
      "cell_type": "code",
      "execution_count": null,
      "id": "ee8af639",
      "metadata": {
        "id": "ee8af639",
        "outputId": "5f991f2e-610f-404b-8a84-be7a4a931a80"
      },
      "outputs": [
        {
          "name": "stdout",
          "output_type": "stream",
          "text": [
            "1 2 3 4 5 6 7 8 9 10 "
          ]
        }
      ],
      "source": [
        "for i in a:\n",
        "    print(i, end = \" \")"
      ]
    },
    {
      "cell_type": "code",
      "execution_count": null,
      "id": "0ec8e0e0",
      "metadata": {
        "id": "0ec8e0e0",
        "outputId": "654195ae-eccc-4e8f-901d-8dba830314ad"
      },
      "outputs": [
        {
          "data": {
            "text/plain": [
              "(1, 2, 3, 4, 5, 6, 7, 8, 9, 10)"
            ]
          },
          "execution_count": 19,
          "metadata": {},
          "output_type": "execute_result"
        }
      ],
      "source": [
        "a"
      ]
    },
    {
      "cell_type": "code",
      "execution_count": null,
      "id": "16042103",
      "metadata": {
        "id": "16042103",
        "outputId": "7ed10fb6-ab7c-4a57-a428-98ac6f2d32f6"
      },
      "outputs": [
        {
          "data": {
            "text/plain": [
              "tuple"
            ]
          },
          "execution_count": 20,
          "metadata": {},
          "output_type": "execute_result"
        }
      ],
      "source": [
        "type(a)"
      ]
    },
    {
      "cell_type": "code",
      "execution_count": null,
      "id": "0fd33aab",
      "metadata": {
        "id": "0fd33aab"
      },
      "outputs": [],
      "source": [
        "l = []"
      ]
    },
    {
      "cell_type": "code",
      "execution_count": null,
      "id": "01a17628",
      "metadata": {
        "id": "01a17628",
        "outputId": "43436c44-0292-4bef-fc93-e75dc1059313"
      },
      "outputs": [
        {
          "data": {
            "text/plain": [
              "list"
            ]
          },
          "execution_count": 26,
          "metadata": {},
          "output_type": "execute_result"
        }
      ],
      "source": [
        "type(l)"
      ]
    },
    {
      "cell_type": "code",
      "execution_count": null,
      "id": "157e15f5",
      "metadata": {
        "id": "157e15f5"
      },
      "outputs": [],
      "source": [
        "t = ()"
      ]
    },
    {
      "cell_type": "code",
      "execution_count": null,
      "id": "81a244c7",
      "metadata": {
        "id": "81a244c7",
        "outputId": "83ca5887-807f-4596-a60c-9c8cf51b6f38"
      },
      "outputs": [
        {
          "data": {
            "text/plain": [
              "tuple"
            ]
          },
          "execution_count": 28,
          "metadata": {},
          "output_type": "execute_result"
        }
      ],
      "source": [
        "type(t)"
      ]
    },
    {
      "cell_type": "code",
      "execution_count": null,
      "id": "2d5d176a",
      "metadata": {
        "id": "2d5d176a"
      },
      "outputs": [],
      "source": [
        "l = [1]"
      ]
    },
    {
      "cell_type": "code",
      "execution_count": null,
      "id": "2be558a0",
      "metadata": {
        "id": "2be558a0",
        "outputId": "5efd9063-c116-46b6-b768-727a68d19d3f"
      },
      "outputs": [
        {
          "data": {
            "text/plain": [
              "list"
            ]
          },
          "execution_count": 30,
          "metadata": {},
          "output_type": "execute_result"
        }
      ],
      "source": [
        "type(l)"
      ]
    },
    {
      "cell_type": "code",
      "execution_count": null,
      "id": "77dc730b",
      "metadata": {
        "id": "77dc730b"
      },
      "outputs": [],
      "source": [
        "t = (1)"
      ]
    },
    {
      "cell_type": "code",
      "execution_count": null,
      "id": "cc2bc2d6",
      "metadata": {
        "id": "cc2bc2d6",
        "outputId": "840d83c2-3ba0-4d9a-f997-9b88aa972e33"
      },
      "outputs": [
        {
          "data": {
            "text/plain": [
              "int"
            ]
          },
          "execution_count": 32,
          "metadata": {},
          "output_type": "execute_result"
        }
      ],
      "source": [
        "type(t)"
      ]
    },
    {
      "cell_type": "code",
      "execution_count": null,
      "id": "80341519",
      "metadata": {
        "id": "80341519"
      },
      "outputs": [],
      "source": [
        "t = ((45 + 56) * 2) // 3 # paranthesis are used to build mathematical equations"
      ]
    },
    {
      "cell_type": "code",
      "execution_count": null,
      "id": "20abd4b9",
      "metadata": {
        "id": "20abd4b9"
      },
      "outputs": [],
      "source": [
        "t = (1,) # This extra comma tells python that it is a tuple"
      ]
    },
    {
      "cell_type": "code",
      "execution_count": null,
      "id": "5a35f911",
      "metadata": {
        "id": "5a35f911",
        "outputId": "6981d57d-ddfa-4678-8702-e83ebefb2370"
      },
      "outputs": [
        {
          "data": {
            "text/plain": [
              "tuple"
            ]
          },
          "execution_count": 36,
          "metadata": {},
          "output_type": "execute_result"
        }
      ],
      "source": [
        "type(t)"
      ]
    },
    {
      "cell_type": "code",
      "execution_count": null,
      "id": "552c1239",
      "metadata": {
        "id": "552c1239",
        "outputId": "0b658a29-8d90-427a-90d8-16324e170c41"
      },
      "outputs": [
        {
          "data": {
            "text/plain": [
              "(1,)"
            ]
          },
          "execution_count": 37,
          "metadata": {},
          "output_type": "execute_result"
        }
      ],
      "source": [
        "t"
      ]
    },
    {
      "cell_type": "code",
      "execution_count": null,
      "id": "53c7326a",
      "metadata": {
        "id": "53c7326a",
        "outputId": "dc5052ea-1ca2-4d6d-811e-be8d293b9300"
      },
      "outputs": [
        {
          "name": "stdout",
          "output_type": "stream",
          "text": [
            "1\n"
          ]
        }
      ],
      "source": [
        "for i in t:\n",
        "    print(i)"
      ]
    },
    {
      "cell_type": "code",
      "execution_count": null,
      "id": "7eaf25b7",
      "metadata": {
        "id": "7eaf25b7"
      },
      "outputs": [],
      "source": [
        "a = [1, 2, 3, 4, 5]"
      ]
    },
    {
      "cell_type": "code",
      "execution_count": null,
      "id": "9fab02b6",
      "metadata": {
        "id": "9fab02b6",
        "outputId": "7dcbe4b1-54d7-4250-fcb0-220317e71488"
      },
      "outputs": [
        {
          "data": {
            "text/plain": [
              "(1, 2, 3, 4, 5)"
            ]
          },
          "execution_count": 41,
          "metadata": {},
          "output_type": "execute_result"
        }
      ],
      "source": [
        "tuple(a)"
      ]
    },
    {
      "cell_type": "code",
      "execution_count": null,
      "id": "19eb8f8a",
      "metadata": {
        "id": "19eb8f8a"
      },
      "outputs": [],
      "source": [
        "t1 = (1,2,3)\n",
        "t2 = (4,5,6)"
      ]
    },
    {
      "cell_type": "code",
      "execution_count": null,
      "id": "b688211c",
      "metadata": {
        "id": "b688211c",
        "outputId": "877c7a2d-0e29-4e8c-b22f-d3e911a5154a"
      },
      "outputs": [
        {
          "data": {
            "text/plain": [
              "140628798051136"
            ]
          },
          "execution_count": 43,
          "metadata": {},
          "output_type": "execute_result"
        }
      ],
      "source": [
        "id(t1)"
      ]
    },
    {
      "cell_type": "code",
      "execution_count": null,
      "id": "fe949ef7",
      "metadata": {
        "id": "fe949ef7",
        "outputId": "33ec273a-7930-4641-d679-ac704d3ae031"
      },
      "outputs": [
        {
          "data": {
            "text/plain": [
              "140628239723136"
            ]
          },
          "execution_count": 44,
          "metadata": {},
          "output_type": "execute_result"
        }
      ],
      "source": [
        "id(t2)"
      ]
    },
    {
      "cell_type": "code",
      "execution_count": null,
      "id": "aefa522b",
      "metadata": {
        "id": "aefa522b"
      },
      "outputs": [],
      "source": [
        "t3 = t1 + t2"
      ]
    },
    {
      "cell_type": "code",
      "execution_count": null,
      "id": "eaf056a8",
      "metadata": {
        "id": "eaf056a8",
        "outputId": "0ea063d9-dbe4-444f-a08d-00670ba97ae4"
      },
      "outputs": [
        {
          "data": {
            "text/plain": [
              "(1, 2, 3, 4, 5, 6)"
            ]
          },
          "execution_count": 46,
          "metadata": {},
          "output_type": "execute_result"
        }
      ],
      "source": [
        "t3"
      ]
    },
    {
      "cell_type": "code",
      "execution_count": null,
      "id": "80198d52",
      "metadata": {
        "id": "80198d52",
        "outputId": "da7d255f-bb7d-4e0d-d153-a059639e46a8"
      },
      "outputs": [
        {
          "data": {
            "text/plain": [
              "140628798017152"
            ]
          },
          "execution_count": 47,
          "metadata": {},
          "output_type": "execute_result"
        }
      ],
      "source": [
        "id(t3)"
      ]
    },
    {
      "cell_type": "code",
      "execution_count": null,
      "id": "04e379b6",
      "metadata": {
        "id": "04e379b6",
        "outputId": "2d9d354d-762a-4bc5-b47e-6db425997a7b"
      },
      "outputs": [
        {
          "data": {
            "text/plain": [
              "'\\nQuestion 1 - \\nWhat will be the output of the following?\\n(4) + (1,2,3)\\n'"
            ]
          },
          "execution_count": 48,
          "metadata": {},
          "output_type": "execute_result"
        }
      ],
      "source": [
        "'''\n",
        "Question 1 -\n",
        "What will be the output of the following?\n",
        "(4) + (1,2,3)\n",
        "'''"
      ]
    },
    {
      "cell_type": "code",
      "execution_count": null,
      "id": "6e8f2d13",
      "metadata": {
        "id": "6e8f2d13",
        "outputId": "ec68ee8a-aa79-41cd-fe5f-cc2a4af1fa93"
      },
      "outputs": [
        {
          "ename": "TypeError",
          "evalue": "unsupported operand type(s) for +: 'int' and 'tuple'",
          "output_type": "error",
          "traceback": [
            "\u001b[0;31m---------------------------------------------------------------------------\u001b[0m",
            "\u001b[0;31mTypeError\u001b[0m                                 Traceback (most recent call last)",
            "Cell \u001b[0;32mIn[49], line 1\u001b[0m\n\u001b[0;32m----> 1\u001b[0m \u001b[43m(\u001b[49m\u001b[38;5;241;43m4\u001b[39;49m\u001b[43m)\u001b[49m\u001b[43m \u001b[49m\u001b[38;5;241;43m+\u001b[39;49m\u001b[43m \u001b[49m\u001b[43m(\u001b[49m\u001b[38;5;241;43m1\u001b[39;49m\u001b[43m,\u001b[49m\u001b[38;5;241;43m2\u001b[39;49m\u001b[43m,\u001b[49m\u001b[38;5;241;43m3\u001b[39;49m\u001b[43m)\u001b[49m\n",
            "\u001b[0;31mTypeError\u001b[0m: unsupported operand type(s) for +: 'int' and 'tuple'"
          ]
        }
      ],
      "source": [
        "(4) + (1,2,3)"
      ]
    },
    {
      "cell_type": "code",
      "execution_count": null,
      "id": "b7275bea",
      "metadata": {
        "id": "b7275bea",
        "outputId": "bd02c637-7c5e-44ec-902b-ec1a46c735e5"
      },
      "outputs": [
        {
          "data": {
            "text/plain": [
              "'\\nQuestion 2 - \\nWhat will be the output of the following?\\ntype((\"random?\"))\\n'"
            ]
          },
          "execution_count": 50,
          "metadata": {},
          "output_type": "execute_result"
        }
      ],
      "source": [
        "'''\n",
        "Question 2 -\n",
        "What will be the output of the following?\n",
        "type((\"random?\"))\n",
        "'''"
      ]
    },
    {
      "cell_type": "code",
      "execution_count": null,
      "id": "d6344352",
      "metadata": {
        "id": "d6344352",
        "outputId": "6feb608f-e54b-4d0f-d414-a7327f42f313"
      },
      "outputs": [
        {
          "data": {
            "text/plain": [
              "str"
            ]
          },
          "execution_count": 51,
          "metadata": {},
          "output_type": "execute_result"
        }
      ],
      "source": [
        "type((\"random?\"))"
      ]
    },
    {
      "cell_type": "code",
      "execution_count": null,
      "id": "bcd7ca07",
      "metadata": {
        "id": "bcd7ca07",
        "outputId": "31ac0f90-986f-4c4e-e6f6-3529731854c2"
      },
      "outputs": [
        {
          "data": {
            "text/plain": [
              "tuple"
            ]
          },
          "execution_count": 52,
          "metadata": {},
          "output_type": "execute_result"
        }
      ],
      "source": [
        "type((\"random?\",))"
      ]
    },
    {
      "cell_type": "code",
      "execution_count": null,
      "id": "af6c35b4",
      "metadata": {
        "id": "af6c35b4"
      },
      "outputs": [],
      "source": [
        "# PACKING AND UNPACKING!"
      ]
    },
    {
      "cell_type": "code",
      "execution_count": null,
      "id": "a28eca01",
      "metadata": {
        "id": "a28eca01"
      },
      "outputs": [],
      "source": [
        "a = (1, 2, 3)"
      ]
    },
    {
      "cell_type": "code",
      "execution_count": null,
      "id": "010f0aa4",
      "metadata": {
        "id": "010f0aa4"
      },
      "outputs": [],
      "source": [
        "x, y, z = a # UNPACKING tuple a into variables x, y and z"
      ]
    },
    {
      "cell_type": "code",
      "execution_count": null,
      "id": "c15018f4",
      "metadata": {
        "id": "c15018f4",
        "outputId": "9fcf7e9b-de5d-4184-e0bf-3dd3262af213"
      },
      "outputs": [
        {
          "data": {
            "text/plain": [
              "1"
            ]
          },
          "execution_count": 63,
          "metadata": {},
          "output_type": "execute_result"
        }
      ],
      "source": [
        "x"
      ]
    },
    {
      "cell_type": "code",
      "execution_count": null,
      "id": "3573bb2f",
      "metadata": {
        "id": "3573bb2f",
        "outputId": "229c7105-ca03-4277-f7fc-06105bd2be88"
      },
      "outputs": [
        {
          "data": {
            "text/plain": [
              "2"
            ]
          },
          "execution_count": 64,
          "metadata": {},
          "output_type": "execute_result"
        }
      ],
      "source": [
        "y"
      ]
    },
    {
      "cell_type": "code",
      "execution_count": null,
      "id": "602cc132",
      "metadata": {
        "id": "602cc132",
        "outputId": "83bcedf9-2cf0-4d50-e2d0-75b2ba0ec8b5"
      },
      "outputs": [
        {
          "data": {
            "text/plain": [
              "3"
            ]
          },
          "execution_count": 65,
          "metadata": {},
          "output_type": "execute_result"
        }
      ],
      "source": [
        "z"
      ]
    },
    {
      "cell_type": "code",
      "execution_count": null,
      "id": "d8067fc2",
      "metadata": {
        "id": "d8067fc2",
        "outputId": "b5b3446c-12bb-4795-e15e-2a851d6f0e92",
        "scrolled": true
      },
      "outputs": [
        {
          "ename": "ValueError",
          "evalue": "too many values to unpack (expected 2)",
          "output_type": "error",
          "traceback": [
            "\u001b[0;31m---------------------------------------------------------------------------\u001b[0m",
            "\u001b[0;31mValueError\u001b[0m                                Traceback (most recent call last)",
            "Cell \u001b[0;32mIn[68], line 1\u001b[0m\n\u001b[0;32m----> 1\u001b[0m x, y \u001b[38;5;241m=\u001b[39m a\n\u001b[1;32m      3\u001b[0m \u001b[38;5;66;03m# THERE IS A SOLUTION TO THIS WHICH WE WILL LEARN IN \"ADVANCE PYTHON\"\u001b[39;00m\n",
            "\u001b[0;31mValueError\u001b[0m: too many values to unpack (expected 2)"
          ]
        }
      ],
      "source": [
        "x, y = a\n",
        "\n",
        "# THERE IS A SOLUTION TO THIS WHICH WE WILL LEARN IN \"ADVANCE PYTHON\""
      ]
    },
    {
      "cell_type": "code",
      "execution_count": null,
      "id": "fb857bbb",
      "metadata": {
        "id": "fb857bbb",
        "outputId": "4ecb1251-fd87-4852-df5e-362e3865f5ba"
      },
      "outputs": [
        {
          "ename": "ValueError",
          "evalue": "not enough values to unpack (expected 4, got 3)",
          "output_type": "error",
          "traceback": [
            "\u001b[0;31m---------------------------------------------------------------------------\u001b[0m",
            "\u001b[0;31mValueError\u001b[0m                                Traceback (most recent call last)",
            "Cell \u001b[0;32mIn[69], line 1\u001b[0m\n\u001b[0;32m----> 1\u001b[0m w, x, y, z \u001b[38;5;241m=\u001b[39m a\n",
            "\u001b[0;31mValueError\u001b[0m: not enough values to unpack (expected 4, got 3)"
          ]
        }
      ],
      "source": [
        "w, x, y, z = a"
      ]
    },
    {
      "cell_type": "code",
      "execution_count": null,
      "id": "4ad3042f",
      "metadata": {
        "id": "4ad3042f"
      },
      "outputs": [],
      "source": [
        "t = (\"string\", 5, 5.6, True, (1,2,3), [1,2,3]) # HETEROGENEOUS!"
      ]
    },
    {
      "cell_type": "code",
      "execution_count": null,
      "id": "0ad4429d",
      "metadata": {
        "id": "0ad4429d",
        "outputId": "77ecf0d0-3f99-4f34-fbcc-2478f67539bd"
      },
      "outputs": [
        {
          "data": {
            "text/plain": [
              "('string', 5, 5.6, True, (1, 2, 3), [1, 2, 3])"
            ]
          },
          "execution_count": 95,
          "metadata": {},
          "output_type": "execute_result"
        }
      ],
      "source": [
        "t"
      ]
    },
    {
      "cell_type": "markdown",
      "id": "wHSCVOhU-Dud",
      "metadata": {
        "id": "wHSCVOhU-Dud"
      },
      "source": [
        "#**`Python Dictionaries`**"
      ]
    },
    {
      "cell_type": "markdown",
      "id": "f30b137d",
      "metadata": {
        "id": "f30b137d"
      },
      "source": [
        "#**`Python Sets`**"
      ]
    },
    {
      "cell_type": "markdown",
      "id": "VMnfbcGM30Zk",
      "metadata": {
        "id": "VMnfbcGM30Zk"
      },
      "source": [
        "Sets are collections of unique elements. They are defined using curly braces or the set() constructor. Here's more about sets:\n",
        "\n",
        "\n",
        "| Aspect              | Description                                                       | Example                                        |\n",
        "|---------------------|-------------------------------------------------------------------|------------------------------------------------|\n",
        "| **Creation**        | Sets can be defined using curly braces or the `set()` constructor.  | `my_set = {1, 2, 3}`<br>`another_set = set([3, 4, 5])` |\n",
        "| **Uniqueness**      | Sets do not allow duplicate elements. If you try to add an element that already exists in the set, it will not be added again. | `my_set = {1, 2, 2, 3}` results in `my_set` being `{1, 2, 3}` |\n",
        "| **Set Operations**  | Sets support various set operations like union, intersection, difference, and symmetric difference. These operations allow you to manipulate sets efficiently. | `set1 = {1, 2, 3}`<br>`set2 = {3, 4, 5}`<br>`union_set = set1.union(set2)`<br>`intersection_set = set1.intersection(set2)`<br>`difference_set = set1.difference(set2)` |\n"
      ]
    },
    {
      "cell_type": "code",
      "execution_count": null,
      "id": "9d6ab351",
      "metadata": {
        "id": "9d6ab351"
      },
      "outputs": [],
      "source": [
        "# SETS ARE A COLLECTION OF UNIQUE VALUES"
      ]
    },
    {
      "cell_type": "code",
      "execution_count": null,
      "id": "8d937d1c",
      "metadata": {
        "id": "8d937d1c"
      },
      "outputs": [],
      "source": [
        "a = {1,2,2,2,2,2,3,3,3,3,3,4,4,4,4,5,5,5,5,6,6,6,6,7,7,7,7,8,8,9,9}"
      ]
    },
    {
      "cell_type": "code",
      "execution_count": null,
      "id": "6aa1ddfa",
      "metadata": {
        "id": "6aa1ddfa",
        "outputId": "e2b577f7-fb3c-42bd-93f8-3c8e4f5d71a6"
      },
      "outputs": [
        {
          "data": {
            "text/plain": [
              "{1, 2, 3, 4, 5, 6, 7, 8, 9}"
            ]
          },
          "execution_count": 98,
          "metadata": {},
          "output_type": "execute_result"
        }
      ],
      "source": [
        "a"
      ]
    },
    {
      "cell_type": "code",
      "execution_count": null,
      "id": "e0426657",
      "metadata": {
        "id": "e0426657",
        "outputId": "3e05ff1d-3e41-46a7-d729-075dfa95abc0"
      },
      "outputs": [
        {
          "ename": "TypeError",
          "evalue": "'set' object is not subscriptable",
          "output_type": "error",
          "traceback": [
            "\u001b[0;31m---------------------------------------------------------------------------\u001b[0m",
            "\u001b[0;31mTypeError\u001b[0m                                 Traceback (most recent call last)",
            "Cell \u001b[0;32mIn[99], line 1\u001b[0m\n\u001b[0;32m----> 1\u001b[0m \u001b[43ma\u001b[49m\u001b[43m[\u001b[49m\u001b[38;5;241;43m0\u001b[39;49m\u001b[43m]\u001b[49m\n",
            "\u001b[0;31mTypeError\u001b[0m: 'set' object is not subscriptable"
          ]
        }
      ],
      "source": [
        "a[0]"
      ]
    },
    {
      "cell_type": "code",
      "execution_count": null,
      "id": "ce7f5203",
      "metadata": {
        "id": "ce7f5203"
      },
      "outputs": [],
      "source": [
        "a = {}"
      ]
    },
    {
      "cell_type": "code",
      "execution_count": null,
      "id": "92ad6043",
      "metadata": {
        "id": "92ad6043",
        "outputId": "68fa1558-1339-4aca-b025-14e401b713ff"
      },
      "outputs": [
        {
          "data": {
            "text/plain": [
              "dict"
            ]
          },
          "execution_count": 101,
          "metadata": {},
          "output_type": "execute_result"
        }
      ],
      "source": [
        "type(a)"
      ]
    },
    {
      "cell_type": "code",
      "execution_count": null,
      "id": "60bdfc5e",
      "metadata": {
        "id": "60bdfc5e"
      },
      "outputs": [],
      "source": [
        "a = set() # ONLY WAY TO CREATE AN EMPTY SET!"
      ]
    },
    {
      "cell_type": "code",
      "execution_count": null,
      "id": "9015fb3d",
      "metadata": {
        "id": "9015fb3d"
      },
      "outputs": [],
      "source": [
        "a = {4, 3, 1, 2, 7}"
      ]
    },
    {
      "cell_type": "code",
      "execution_count": null,
      "id": "ae8f653a",
      "metadata": {
        "id": "ae8f653a",
        "outputId": "9429db89-7033-473c-c80d-948fcb13da9c"
      },
      "outputs": [
        {
          "data": {
            "text/plain": [
              "{1, 2, 3, 4, 7}"
            ]
          },
          "execution_count": 104,
          "metadata": {},
          "output_type": "execute_result"
        }
      ],
      "source": [
        "a"
      ]
    },
    {
      "cell_type": "code",
      "execution_count": null,
      "id": "8157ac1c",
      "metadata": {
        "id": "8157ac1c"
      },
      "outputs": [],
      "source": [
        "a = {1, 2, 3}"
      ]
    },
    {
      "cell_type": "code",
      "execution_count": null,
      "id": "ee079738",
      "metadata": {
        "id": "ee079738"
      },
      "outputs": [],
      "source": [
        "a.add(5)"
      ]
    },
    {
      "cell_type": "code",
      "execution_count": null,
      "id": "b73b9a87",
      "metadata": {
        "id": "b73b9a87",
        "outputId": "b45d4d27-49a1-4f46-9913-31a493aec0ac"
      },
      "outputs": [
        {
          "data": {
            "text/plain": [
              "{1, 2, 3, 5}"
            ]
          },
          "execution_count": 107,
          "metadata": {},
          "output_type": "execute_result"
        }
      ],
      "source": [
        "a"
      ]
    },
    {
      "cell_type": "code",
      "execution_count": null,
      "id": "98fab0de",
      "metadata": {
        "id": "98fab0de"
      },
      "outputs": [],
      "source": [
        "a.remove(3)"
      ]
    },
    {
      "cell_type": "code",
      "execution_count": null,
      "id": "636dbe93",
      "metadata": {
        "id": "636dbe93",
        "outputId": "cd715b38-a317-4d97-f6b1-5716b2bb1d40"
      },
      "outputs": [
        {
          "data": {
            "text/plain": [
              "{1, 2, 5}"
            ]
          },
          "execution_count": 109,
          "metadata": {},
          "output_type": "execute_result"
        }
      ],
      "source": [
        "a"
      ]
    },
    {
      "cell_type": "code",
      "execution_count": null,
      "id": "456a7a22",
      "metadata": {
        "id": "456a7a22"
      },
      "outputs": [],
      "source": [
        "a.update([1,2,3,4,4,5,5,6,6,8,9,0,10])"
      ]
    },
    {
      "cell_type": "code",
      "execution_count": null,
      "id": "e690c55e",
      "metadata": {
        "id": "e690c55e",
        "outputId": "61e1f6f6-b2f2-41ee-e3b5-478edaea2216"
      },
      "outputs": [
        {
          "data": {
            "text/plain": [
              "{0, 1, 2, 3, 4, 5, 6, 8, 9, 10}"
            ]
          },
          "execution_count": 111,
          "metadata": {},
          "output_type": "execute_result"
        }
      ],
      "source": [
        "a"
      ]
    },
    {
      "cell_type": "code",
      "execution_count": null,
      "id": "887d86ac",
      "metadata": {
        "id": "887d86ac"
      },
      "outputs": [],
      "source": [
        "l = [1, 2, 3, 4, 5]"
      ]
    },
    {
      "cell_type": "code",
      "execution_count": null,
      "id": "9756b55d",
      "metadata": {
        "id": "9756b55d"
      },
      "outputs": [],
      "source": [
        "t = tuple(l)"
      ]
    },
    {
      "cell_type": "code",
      "execution_count": null,
      "id": "da2b64c4",
      "metadata": {
        "id": "da2b64c4",
        "outputId": "d7d86e27-2d72-4682-d8c4-655605099de3"
      },
      "outputs": [
        {
          "data": {
            "text/plain": [
              "(1, 2, 3, 4, 5)"
            ]
          },
          "execution_count": 114,
          "metadata": {},
          "output_type": "execute_result"
        }
      ],
      "source": [
        "t"
      ]
    },
    {
      "cell_type": "code",
      "execution_count": null,
      "id": "279abcf2",
      "metadata": {
        "id": "279abcf2"
      },
      "outputs": [],
      "source": [
        "s = set(l)"
      ]
    },
    {
      "cell_type": "code",
      "execution_count": null,
      "id": "ebe9f1b3",
      "metadata": {
        "id": "ebe9f1b3",
        "outputId": "a8dce835-a762-4ecc-fb97-7f2899c878b6"
      },
      "outputs": [
        {
          "data": {
            "text/plain": [
              "{1, 2, 3, 4, 5}"
            ]
          },
          "execution_count": 116,
          "metadata": {},
          "output_type": "execute_result"
        }
      ],
      "source": [
        "s"
      ]
    },
    {
      "cell_type": "code",
      "execution_count": null,
      "id": "deddd954",
      "metadata": {
        "id": "deddd954"
      },
      "outputs": [],
      "source": [
        "t1 = tuple(s)"
      ]
    },
    {
      "cell_type": "code",
      "execution_count": null,
      "id": "9d0d3ed6",
      "metadata": {
        "id": "9d0d3ed6",
        "outputId": "ce61e397-c170-426a-9324-3ffeba3c479f"
      },
      "outputs": [
        {
          "data": {
            "text/plain": [
              "(1, 2, 3, 4, 5)"
            ]
          },
          "execution_count": 118,
          "metadata": {},
          "output_type": "execute_result"
        }
      ],
      "source": [
        "t1"
      ]
    },
    {
      "cell_type": "code",
      "execution_count": null,
      "id": "e02695ad",
      "metadata": {
        "id": "e02695ad",
        "outputId": "9da7e25d-015c-4d1d-c2f7-00eb9c7a89ed"
      },
      "outputs": [
        {
          "data": {
            "text/plain": [
              "'\\nQuestion 6 - \\nTake a string as input.\\nPrint the number of unique characters present inside that string.\\n\\n\"aabbcccd\" -> 4\\n'"
            ]
          },
          "execution_count": 119,
          "metadata": {},
          "output_type": "execute_result"
        }
      ],
      "source": [
        "'''\n",
        "Question 6 -\n",
        "Take a string as input.\n",
        "Print the number of unique characters present inside that string.\n",
        "\n",
        "\"aabbcccd\" -> 4\n",
        "'''"
      ]
    },
    {
      "cell_type": "code",
      "execution_count": null,
      "id": "2a0f431a",
      "metadata": {
        "id": "2a0f431a"
      },
      "outputs": [],
      "source": [
        "a = \"this is a random string with very random randomness!\""
      ]
    },
    {
      "cell_type": "code",
      "execution_count": null,
      "id": "f85509c3",
      "metadata": {
        "id": "f85509c3",
        "outputId": "7eee60ef-99e4-4fcc-a396-61db38479847"
      },
      "outputs": [
        {
          "data": {
            "text/plain": [
              "{' ',\n",
              " '!',\n",
              " 'a',\n",
              " 'd',\n",
              " 'e',\n",
              " 'g',\n",
              " 'h',\n",
              " 'i',\n",
              " 'm',\n",
              " 'n',\n",
              " 'o',\n",
              " 'r',\n",
              " 's',\n",
              " 't',\n",
              " 'v',\n",
              " 'w',\n",
              " 'y'}"
            ]
          },
          "execution_count": 121,
          "metadata": {},
          "output_type": "execute_result"
        }
      ],
      "source": [
        "set(a)"
      ]
    },
    {
      "cell_type": "code",
      "execution_count": null,
      "id": "c416cde8",
      "metadata": {
        "id": "c416cde8",
        "outputId": "c17c82ad-2c6a-440b-b00a-da2a325b6514"
      },
      "outputs": [
        {
          "data": {
            "text/plain": [
              "17"
            ]
          },
          "execution_count": 123,
          "metadata": {},
          "output_type": "execute_result"
        }
      ],
      "source": [
        "len(set(a)) # COMPLETE SOLUTION!"
      ]
    },
    {
      "cell_type": "code",
      "execution_count": null,
      "id": "6d09799c",
      "metadata": {
        "id": "6d09799c"
      },
      "outputs": [],
      "source": [
        "s1 = {2, 3, 4}\n",
        "s2 = {1, 2, 4, 5, 6}"
      ]
    },
    {
      "cell_type": "code",
      "execution_count": null,
      "id": "66380be7",
      "metadata": {
        "id": "66380be7",
        "outputId": "289ea6fb-bbfd-4895-fa29-1c7c298d069b"
      },
      "outputs": [
        {
          "data": {
            "text/plain": [
              "{2, 4}"
            ]
          },
          "execution_count": 125,
          "metadata": {},
          "output_type": "execute_result"
        }
      ],
      "source": [
        "s1.intersection(s2)"
      ]
    },
    {
      "cell_type": "code",
      "execution_count": null,
      "id": "ffdde17e",
      "metadata": {
        "id": "ffdde17e",
        "outputId": "e37a673b-b0f3-492c-9a7f-b3d8f389f9d0"
      },
      "outputs": [
        {
          "data": {
            "text/plain": [
              "{2, 4}"
            ]
          },
          "execution_count": 126,
          "metadata": {},
          "output_type": "execute_result"
        }
      ],
      "source": [
        "s1 & s2"
      ]
    },
    {
      "cell_type": "code",
      "execution_count": null,
      "id": "b8e04216",
      "metadata": {
        "id": "b8e04216",
        "outputId": "c7b3fadc-3f4c-448d-b5a7-8e3c4e286237"
      },
      "outputs": [
        {
          "data": {
            "text/plain": [
              "{1, 2, 3, 4, 5, 6}"
            ]
          },
          "execution_count": 127,
          "metadata": {},
          "output_type": "execute_result"
        }
      ],
      "source": [
        "s1.union(s2)"
      ]
    },
    {
      "cell_type": "code",
      "execution_count": null,
      "id": "fdf0189b",
      "metadata": {
        "id": "fdf0189b",
        "outputId": "944554ba-f7e5-411b-b8ed-9be3272f3335"
      },
      "outputs": [
        {
          "data": {
            "text/plain": [
              "{1, 2, 3, 4, 5, 6}"
            ]
          },
          "execution_count": 128,
          "metadata": {},
          "output_type": "execute_result"
        }
      ],
      "source": [
        "s1 | s2"
      ]
    },
    {
      "cell_type": "code",
      "execution_count": null,
      "id": "d76503b9",
      "metadata": {
        "id": "d76503b9",
        "outputId": "7d18541f-e778-4eff-c50b-62e1cbbb8c13"
      },
      "outputs": [
        {
          "data": {
            "text/plain": [
              "{3}"
            ]
          },
          "execution_count": 129,
          "metadata": {},
          "output_type": "execute_result"
        }
      ],
      "source": [
        "s1.difference(s2)"
      ]
    },
    {
      "cell_type": "code",
      "execution_count": null,
      "id": "0450cc74",
      "metadata": {
        "id": "0450cc74",
        "outputId": "755a222a-84b4-42dc-db73-87cde63367ec"
      },
      "outputs": [
        {
          "data": {
            "text/plain": [
              "{3}"
            ]
          },
          "execution_count": 130,
          "metadata": {},
          "output_type": "execute_result"
        }
      ],
      "source": [
        "s1 - s2"
      ]
    },
    {
      "cell_type": "code",
      "execution_count": null,
      "id": "77eada07",
      "metadata": {
        "id": "77eada07",
        "outputId": "7c59d48c-b605-488a-b305-ce154e28c6e8"
      },
      "outputs": [
        {
          "data": {
            "text/plain": [
              "{1, 3, 5, 6}"
            ]
          },
          "execution_count": 131,
          "metadata": {},
          "output_type": "execute_result"
        }
      ],
      "source": [
        "s1.symmetric_difference(s2)"
      ]
    },
    {
      "cell_type": "code",
      "execution_count": null,
      "id": "657bf1e8",
      "metadata": {
        "id": "657bf1e8",
        "outputId": "2d49b26d-3088-4a37-fe99-1ee92434cfda"
      },
      "outputs": [
        {
          "data": {
            "text/plain": [
              "{1, 3, 5, 6}"
            ]
          },
          "execution_count": 132,
          "metadata": {},
          "output_type": "execute_result"
        }
      ],
      "source": [
        "s1 ^ s2"
      ]
    },
    {
      "cell_type": "code",
      "execution_count": null,
      "id": "3dc7e066",
      "metadata": {
        "id": "3dc7e066"
      },
      "outputs": [],
      "source": [
        "# Sets can't contain mutable datatypes\n",
        "# Sets can have everything but -> lists, dictionaries, sets"
      ]
    },
    {
      "cell_type": "code",
      "execution_count": null,
      "id": "83c0fbb5",
      "metadata": {
        "id": "83c0fbb5"
      },
      "outputs": [],
      "source": [
        "a = {1, \"string\", 4.5, True, (1,2,3)}"
      ]
    },
    {
      "cell_type": "code",
      "execution_count": null,
      "id": "bdc3b456",
      "metadata": {
        "id": "bdc3b456",
        "outputId": "b7550b4e-2546-48f1-864e-e41e9f896ffe"
      },
      "outputs": [
        {
          "data": {
            "text/plain": [
              "set"
            ]
          },
          "execution_count": 136,
          "metadata": {},
          "output_type": "execute_result"
        }
      ],
      "source": [
        "type(a)"
      ]
    },
    {
      "cell_type": "code",
      "execution_count": null,
      "id": "9049822d",
      "metadata": {
        "id": "9049822d",
        "outputId": "8190f9cc-29ad-4e6e-9a82-df3cc53a9957"
      },
      "outputs": [
        {
          "ename": "TypeError",
          "evalue": "unhashable type: 'list'",
          "output_type": "error",
          "traceback": [
            "\u001b[0;31m---------------------------------------------------------------------------\u001b[0m",
            "\u001b[0;31mTypeError\u001b[0m                                 Traceback (most recent call last)",
            "Cell \u001b[0;32mIn[137], line 1\u001b[0m\n\u001b[0;32m----> 1\u001b[0m a \u001b[38;5;241m=\u001b[39m {\u001b[38;5;241m1\u001b[39m, \u001b[38;5;124m\"\u001b[39m\u001b[38;5;124mstring\u001b[39m\u001b[38;5;124m\"\u001b[39m, \u001b[38;5;241m4.5\u001b[39m, \u001b[38;5;28;01mTrue\u001b[39;00m, [\u001b[38;5;241m1\u001b[39m,\u001b[38;5;241m2\u001b[39m,\u001b[38;5;241m3\u001b[39m]}\n",
            "\u001b[0;31mTypeError\u001b[0m: unhashable type: 'list'"
          ]
        }
      ],
      "source": [
        "a = {1, \"string\", 4.5, True, [1,2,3]}"
      ]
    },
    {
      "cell_type": "markdown",
      "id": "5AN-l3Mp3qyY",
      "metadata": {
        "id": "5AN-l3Mp3qyY"
      },
      "source": [
        "Dictionaries are collections of key-value pairs. They are used for efficient data retrieval and storage. Here are some details about dictionaries:\n",
        "\n",
        "| Aspect              | Description                                                       | Example                                        |\n",
        "|---------------------|-------------------------------------------------------------------|------------------------------------------------|\n",
        "| **Creation**        | Dictionaries are created using curly braces and key-value pairs.  | `my_dict = {\"name\": \"Alice\", \"age\": 30, \"city\": \"New York\"}` |\n",
        "| **Key-Value Pairs** | Each element in a dictionary consists of a key and its associated value. Keys must be unique within the dictionary. | `\"name\": \"Alice\"`<br>`\"age\": 30`<br>`\"city\": \"New York\"` |\n",
        "| **Accessing Values** | You can access values in a dictionary by using the keys. | `name = my_dict[\"name\"]` |\n",
        "| **Dictionary Methods** | Dictionaries have methods like `keys()`, `values()`, and `items()` for working with the keys, values, and key-value pairs, respectively. | `keys = my_dict.keys()`<br>`values = my_dict.values()`<br>`items = my_dict.items()` |"
      ]
    },
    {
      "cell_type": "code",
      "execution_count": null,
      "id": "bf5a2acb",
      "metadata": {
        "id": "bf5a2acb"
      },
      "outputs": [],
      "source": [
        "s = {\"bipin\", 12, 34, 56, \"random\"}"
      ]
    },
    {
      "cell_type": "code",
      "execution_count": null,
      "id": "078dc004",
      "metadata": {
        "id": "078dc004",
        "outputId": "c74a36fd-80b4-4f17-aac0-5332bbe35775"
      },
      "outputs": [
        {
          "data": {
            "text/plain": [
              "{12, 34, 56, 'bipin', 'random'}"
            ]
          },
          "execution_count": 2,
          "metadata": {},
          "output_type": "execute_result"
        }
      ],
      "source": [
        "s"
      ]
    },
    {
      "cell_type": "code",
      "execution_count": null,
      "id": "9f2f6c68",
      "metadata": {
        "id": "9f2f6c68"
      },
      "outputs": [],
      "source": [
        "d = {\n",
        "    \"key1\" : \"value1\",\n",
        "    \"key2\" : \"value2\",\n",
        "    \"key3\" : \"value3\"\n",
        "}\n",
        "\n",
        "# For keys, we will only use strings for a while - SECOND HALF OF LECTURE\n",
        "# For values, we can use anything!"
      ]
    },
    {
      "cell_type": "code",
      "execution_count": null,
      "id": "2844eaf5",
      "metadata": {
        "id": "2844eaf5"
      },
      "outputs": [],
      "source": [
        "# Approach 1 -> List of tuples\n",
        "state_wise_data = [(\"Delhi\", 15), (\"Haryana\", 35), (\"UP\", 100)]"
      ]
    },
    {
      "cell_type": "code",
      "execution_count": null,
      "id": "b8d01f91",
      "metadata": {
        "id": "b8d01f91",
        "outputId": "c77282db-e8a2-4c60-a6b8-b590d0e9c698"
      },
      "outputs": [
        {
          "data": {
            "text/plain": [
              "15"
            ]
          },
          "execution_count": 9,
          "metadata": {},
          "output_type": "execute_result"
        }
      ],
      "source": [
        "state_wise_data[0][1]"
      ]
    },
    {
      "cell_type": "code",
      "execution_count": null,
      "id": "9c325d8d",
      "metadata": {
        "id": "9c325d8d"
      },
      "outputs": [],
      "source": [
        "# Approach 2 -> Dictionary\n",
        "state_wise_data = {\n",
        "    \"Delhi\" : 15,\n",
        "    \"Haryana\" : 35,\n",
        "    \"UP\" : 100\n",
        "}"
      ]
    },
    {
      "cell_type": "code",
      "execution_count": null,
      "id": "a7bf8cb9",
      "metadata": {
        "id": "a7bf8cb9",
        "outputId": "87d0ae73-7c2e-41e7-cd80-baaaad34fd0a"
      },
      "outputs": [
        {
          "ename": "KeyError",
          "evalue": "0",
          "output_type": "error",
          "traceback": [
            "\u001b[0;31m---------------------------------------------------------------------------\u001b[0m",
            "\u001b[0;31mKeyError\u001b[0m                                  Traceback (most recent call last)",
            "Cell \u001b[0;32mIn[15], line 1\u001b[0m\n\u001b[0;32m----> 1\u001b[0m \u001b[43mstate_wise_data\u001b[49m\u001b[43m[\u001b[49m\u001b[38;5;241;43m0\u001b[39;49m\u001b[43m]\u001b[49m\n\u001b[1;32m      3\u001b[0m \u001b[38;5;66;03m# Similar to sets, dictionaries are not subscriptable via numerical indexes\u001b[39;00m\n\u001b[1;32m      4\u001b[0m \u001b[38;5;66;03m# They can be indexed via keys!\u001b[39;00m\n",
            "\u001b[0;31mKeyError\u001b[0m: 0"
          ]
        }
      ],
      "source": [
        "state_wise_data[0]\n",
        "\n",
        "# Similar to sets, dictionaries are not subscriptable via numerical indexes\n",
        "# They can be indexed via keys!"
      ]
    },
    {
      "cell_type": "code",
      "execution_count": null,
      "id": "71a02249",
      "metadata": {
        "id": "71a02249",
        "outputId": "9ca58469-de36-443a-d3e5-350c46e2dc40"
      },
      "outputs": [
        {
          "data": {
            "text/plain": [
              "15"
            ]
          },
          "execution_count": 13,
          "metadata": {},
          "output_type": "execute_result"
        }
      ],
      "source": [
        "state_wise_data[\"Delhi\"]"
      ]
    },
    {
      "cell_type": "code",
      "execution_count": null,
      "id": "001b810d",
      "metadata": {
        "id": "001b810d",
        "outputId": "4851855c-7b5e-4ea7-c9c2-ff4e9efdf913"
      },
      "outputs": [
        {
          "data": {
            "text/plain": [
              "35"
            ]
          },
          "execution_count": 14,
          "metadata": {},
          "output_type": "execute_result"
        }
      ],
      "source": [
        "state_wise_data[\"Haryana\"]"
      ]
    },
    {
      "cell_type": "code",
      "execution_count": null,
      "id": "b7fab317",
      "metadata": {
        "id": "b7fab317",
        "outputId": "8b689ce0-7739-45a8-fe69-254cb274079f"
      },
      "outputs": [
        {
          "ename": "AttributeError",
          "evalue": "'dict' object has no attribute 'Delhi'",
          "output_type": "error",
          "traceback": [
            "\u001b[0;31m---------------------------------------------------------------------------\u001b[0m",
            "\u001b[0;31mAttributeError\u001b[0m                            Traceback (most recent call last)",
            "Cell \u001b[0;32mIn[16], line 1\u001b[0m\n\u001b[0;32m----> 1\u001b[0m \u001b[43mstate_wise_data\u001b[49m\u001b[38;5;241;43m.\u001b[39;49m\u001b[43mDelhi\u001b[49m\n",
            "\u001b[0;31mAttributeError\u001b[0m: 'dict' object has no attribute 'Delhi'"
          ]
        }
      ],
      "source": [
        "state_wise_data.Delhi"
      ]
    },
    {
      "cell_type": "code",
      "execution_count": null,
      "id": "1371a2e9",
      "metadata": {
        "id": "1371a2e9"
      },
      "outputs": [],
      "source": [
        "a = {}"
      ]
    },
    {
      "cell_type": "code",
      "execution_count": null,
      "id": "51abca36",
      "metadata": {
        "id": "51abca36",
        "outputId": "4201b859-f6af-4076-9b3b-e6b083b95135"
      },
      "outputs": [
        {
          "data": {
            "text/plain": [
              "dict"
            ]
          },
          "execution_count": 18,
          "metadata": {},
          "output_type": "execute_result"
        }
      ],
      "source": [
        "type(a)"
      ]
    },
    {
      "cell_type": "code",
      "execution_count": null,
      "id": "bff38e3c",
      "metadata": {
        "id": "bff38e3c"
      },
      "outputs": [],
      "source": [
        "# KEYS ARE ALWAYS UNIQUE"
      ]
    },
    {
      "cell_type": "code",
      "execution_count": null,
      "id": "cc0f496a",
      "metadata": {
        "id": "cc0f496a"
      },
      "outputs": [],
      "source": [
        "a = {\n",
        "    \"Delhi\" : 15,\n",
        "    \"Delhi\" : 10,\n",
        "    \"Delhi\" : 30,\n",
        "    \"Haryana\" : 36,\n",
        "    \"UP\" : 100,\n",
        "    \"Delhi\" : 20\n",
        "}"
      ]
    },
    {
      "cell_type": "code",
      "execution_count": null,
      "id": "620e05c2",
      "metadata": {
        "id": "620e05c2",
        "outputId": "61644033-03d5-4d20-92e4-d10372737be7"
      },
      "outputs": [
        {
          "data": {
            "text/plain": [
              "{'Delhi': 20, 'Haryana': 36, 'UP': 100}"
            ]
          },
          "execution_count": 23,
          "metadata": {},
          "output_type": "execute_result"
        }
      ],
      "source": [
        "a"
      ]
    },
    {
      "cell_type": "code",
      "execution_count": null,
      "id": "d69013af",
      "metadata": {
        "id": "d69013af"
      },
      "outputs": [],
      "source": [
        "# Keys will never be repeated\n",
        "# The last or latest value that is provided will be kept!"
      ]
    },
    {
      "cell_type": "code",
      "execution_count": null,
      "id": "fa8e0a93",
      "metadata": {
        "id": "fa8e0a93"
      },
      "outputs": [],
      "source": [
        "# ADDING MORE KEY VALUE PAIRS"
      ]
    },
    {
      "cell_type": "code",
      "execution_count": null,
      "id": "6d8c9bd3",
      "metadata": {
        "id": "6d8c9bd3"
      },
      "outputs": [],
      "source": [
        "a[\"Maharashtra\"] = 80"
      ]
    },
    {
      "cell_type": "code",
      "execution_count": null,
      "id": "bb53aa58",
      "metadata": {
        "id": "bb53aa58",
        "outputId": "27bc54bb-4224-4ced-9c05-51c558f7ff52"
      },
      "outputs": [
        {
          "data": {
            "text/plain": [
              "{'Delhi': 20, 'Haryana': 36, 'UP': 100, 'Maharashtra': 80}"
            ]
          },
          "execution_count": 27,
          "metadata": {},
          "output_type": "execute_result"
        }
      ],
      "source": [
        "a"
      ]
    },
    {
      "cell_type": "code",
      "execution_count": null,
      "id": "3482d71f",
      "metadata": {
        "id": "3482d71f",
        "outputId": "214cbcf6-faf1-4d05-fcff-7190df73657e"
      },
      "outputs": [
        {
          "data": {
            "text/plain": [
              "20"
            ]
          },
          "execution_count": 28,
          "metadata": {},
          "output_type": "execute_result"
        }
      ],
      "source": [
        "a[\"Delhi\"]"
      ]
    },
    {
      "cell_type": "code",
      "execution_count": null,
      "id": "cae63ace",
      "metadata": {
        "id": "cae63ace"
      },
      "outputs": [],
      "source": [
        "a[\"delhi\"] = 35"
      ]
    },
    {
      "cell_type": "code",
      "execution_count": null,
      "id": "6b71c121",
      "metadata": {
        "id": "6b71c121",
        "outputId": "87c7ec79-1bf0-4e03-b988-7d713589d2ad"
      },
      "outputs": [
        {
          "data": {
            "text/plain": [
              "{'Delhi': 20, 'Haryana': 36, 'UP': 100, 'Maharashtra': 80, 'delhi': 35}"
            ]
          },
          "execution_count": 30,
          "metadata": {},
          "output_type": "execute_result"
        }
      ],
      "source": [
        "a"
      ]
    },
    {
      "cell_type": "code",
      "execution_count": null,
      "id": "96e11d12",
      "metadata": {
        "id": "96e11d12"
      },
      "outputs": [],
      "source": [
        "Avenger = {\n",
        "    \"name\" : \"Thor\",\n",
        "    \"age\" : 1500,\n",
        "    \"weapon\" : [\"Stormbreaker, Mjolnir\"]\n",
        "}"
      ]
    },
    {
      "cell_type": "code",
      "execution_count": null,
      "id": "295560ce",
      "metadata": {
        "id": "295560ce"
      },
      "outputs": [],
      "source": [
        "Avenger.update({\n",
        "    \"name\" : \"Thor Odinson\",\n",
        "    \"weapon\" : [\"Stormbreaker\"],\n",
        "    \"strongest?\" : True,\n",
        "    \"eyes\" : 1\n",
        "})"
      ]
    },
    {
      "cell_type": "code",
      "execution_count": null,
      "id": "602a70e2",
      "metadata": {
        "id": "602a70e2",
        "outputId": "3a7f7950-ba89-492a-9a27-67365fc9571b"
      },
      "outputs": [
        {
          "data": {
            "text/plain": [
              "{'name': 'Thor Odinson',\n",
              " 'age': 1500,\n",
              " 'weapon': ['Stormbreaker'],\n",
              " 'strongest?': True,\n",
              " 'eyes': 1}"
            ]
          },
          "execution_count": 33,
          "metadata": {},
          "output_type": "execute_result"
        }
      ],
      "source": [
        "Avenger"
      ]
    },
    {
      "cell_type": "code",
      "execution_count": null,
      "id": "d5c8a7f6",
      "metadata": {
        "id": "d5c8a7f6"
      },
      "outputs": [],
      "source": [
        "random = {\n",
        "    \"a\" : 1,\n",
        "    \"b\" : 2,\n",
        "    \"c\" : 3,\n",
        "    \"d\" : None\n",
        "}"
      ]
    },
    {
      "cell_type": "code",
      "execution_count": null,
      "id": "2632a174",
      "metadata": {
        "id": "2632a174",
        "outputId": "b3ab7496-f018-4398-afa2-cbcf7f09b4c9"
      },
      "outputs": [
        {
          "data": {
            "text/plain": [
              "2"
            ]
          },
          "execution_count": 35,
          "metadata": {},
          "output_type": "execute_result"
        }
      ],
      "source": [
        "random[\"b\"]"
      ]
    },
    {
      "cell_type": "code",
      "execution_count": null,
      "id": "0b86d535",
      "metadata": {
        "id": "0b86d535",
        "outputId": "975d78f6-189d-44f6-b09a-7ab4d04d4960"
      },
      "outputs": [
        {
          "ename": "KeyError",
          "evalue": "'e'",
          "output_type": "error",
          "traceback": [
            "\u001b[0;31m---------------------------------------------------------------------------\u001b[0m",
            "\u001b[0;31mKeyError\u001b[0m                                  Traceback (most recent call last)",
            "Cell \u001b[0;32mIn[36], line 1\u001b[0m\n\u001b[0;32m----> 1\u001b[0m \u001b[43mrandom\u001b[49m\u001b[43m[\u001b[49m\u001b[38;5;124;43m\"\u001b[39;49m\u001b[38;5;124;43me\u001b[39;49m\u001b[38;5;124;43m\"\u001b[39;49m\u001b[43m]\u001b[49m\n",
            "\u001b[0;31mKeyError\u001b[0m: 'e'"
          ]
        }
      ],
      "source": [
        "random[\"e\"]"
      ]
    },
    {
      "cell_type": "code",
      "execution_count": null,
      "id": "8c496a9b",
      "metadata": {
        "id": "8c496a9b"
      },
      "outputs": [],
      "source": [
        "# GET FUNCTION"
      ]
    },
    {
      "cell_type": "code",
      "execution_count": null,
      "id": "e7ee8dff",
      "metadata": {
        "id": "e7ee8dff"
      },
      "outputs": [],
      "source": [
        "result = random.get(\"e\")"
      ]
    },
    {
      "cell_type": "code",
      "execution_count": null,
      "id": "4023d7ec",
      "metadata": {
        "id": "4023d7ec",
        "outputId": "61044ee9-8146-4af0-fe28-9ee1ccebcf34"
      },
      "outputs": [
        {
          "name": "stdout",
          "output_type": "stream",
          "text": [
            "None\n"
          ]
        }
      ],
      "source": [
        "print(result) # Returns None instead of throwing an error!"
      ]
    },
    {
      "cell_type": "code",
      "execution_count": null,
      "id": "fef5c9ba",
      "metadata": {
        "id": "fef5c9ba",
        "outputId": "5480c072-8083-44c8-d634-860b93b955b1"
      },
      "outputs": [
        {
          "data": {
            "text/plain": [
              "2"
            ]
          },
          "execution_count": 41,
          "metadata": {},
          "output_type": "execute_result"
        }
      ],
      "source": [
        "random.get(\"b\")"
      ]
    },
    {
      "cell_type": "code",
      "execution_count": null,
      "id": "5a8c7de4",
      "metadata": {
        "id": "5a8c7de4",
        "outputId": "53300b7c-709d-4bbb-8025-1638d2566f0e"
      },
      "outputs": [
        {
          "data": {
            "text/plain": [
              "'NOT FOUND!'"
            ]
          },
          "execution_count": 42,
          "metadata": {},
          "output_type": "execute_result"
        }
      ],
      "source": [
        "random.get(\"e\", \"NOT FOUND!\")"
      ]
    },
    {
      "cell_type": "code",
      "execution_count": null,
      "id": "9bc1b6dd",
      "metadata": {
        "id": "9bc1b6dd",
        "outputId": "a0a86867-67b5-41d9-c937-274497d8a0eb"
      },
      "outputs": [
        {
          "data": {
            "text/plain": [
              "2"
            ]
          },
          "execution_count": 43,
          "metadata": {},
          "output_type": "execute_result"
        }
      ],
      "source": [
        "random.get(\"b\", \"NOT FOUND!\")"
      ]
    },
    {
      "cell_type": "code",
      "execution_count": null,
      "id": "398fa86a",
      "metadata": {
        "id": "398fa86a",
        "outputId": "af11f86d-0f8f-412e-d0b2-fdb5c9644f2b"
      },
      "outputs": [
        {
          "data": {
            "text/plain": [
              "{'a': 1, 'b': 2, 'c': 3, 'd': None}"
            ]
          },
          "execution_count": 44,
          "metadata": {},
          "output_type": "execute_result"
        }
      ],
      "source": [
        "random"
      ]
    },
    {
      "cell_type": "code",
      "execution_count": null,
      "id": "2bc88566",
      "metadata": {
        "id": "2bc88566"
      },
      "outputs": [],
      "source": [
        "random.pop(\"d\") # provide the key as argument"
      ]
    },
    {
      "cell_type": "code",
      "execution_count": null,
      "id": "8a7d8d59",
      "metadata": {
        "id": "8a7d8d59",
        "outputId": "eb59ee38-4f6d-433a-f16f-0b0481837bd8"
      },
      "outputs": [
        {
          "data": {
            "text/plain": [
              "{'a': 1, 'b': 2, 'c': 3}"
            ]
          },
          "execution_count": 46,
          "metadata": {},
          "output_type": "execute_result"
        }
      ],
      "source": [
        "random"
      ]
    },
    {
      "cell_type": "code",
      "execution_count": null,
      "id": "df520723",
      "metadata": {
        "id": "df520723",
        "outputId": "2eaa5852-3382-499f-8d75-bc970cce91be"
      },
      "outputs": [
        {
          "data": {
            "text/plain": [
              "1"
            ]
          },
          "execution_count": 47,
          "metadata": {},
          "output_type": "execute_result"
        }
      ],
      "source": [
        "random.pop(\"a\")"
      ]
    },
    {
      "cell_type": "code",
      "execution_count": null,
      "id": "c9ff56ec",
      "metadata": {
        "id": "c9ff56ec",
        "outputId": "50faa6d7-e7ec-4b99-d31c-dee724afceda"
      },
      "outputs": [
        {
          "data": {
            "text/plain": [
              "{'b': 2, 'c': 3}"
            ]
          },
          "execution_count": 48,
          "metadata": {},
          "output_type": "execute_result"
        }
      ],
      "source": [
        "random"
      ]
    },
    {
      "cell_type": "code",
      "execution_count": null,
      "id": "11af1ff0",
      "metadata": {
        "id": "11af1ff0",
        "outputId": "ac3454fb-5d67-4940-a3b0-c68ed9300683"
      },
      "outputs": [
        {
          "ename": "TypeError",
          "evalue": "pop expected at least 1 argument, got 0",
          "output_type": "error",
          "traceback": [
            "\u001b[0;31m---------------------------------------------------------------------------\u001b[0m",
            "\u001b[0;31mTypeError\u001b[0m                                 Traceback (most recent call last)",
            "Cell \u001b[0;32mIn[49], line 1\u001b[0m\n\u001b[0;32m----> 1\u001b[0m \u001b[43mrandom\u001b[49m\u001b[38;5;241;43m.\u001b[39;49m\u001b[43mpop\u001b[49m\u001b[43m(\u001b[49m\u001b[43m)\u001b[49m\n",
            "\u001b[0;31mTypeError\u001b[0m: pop expected at least 1 argument, got 0"
          ]
        }
      ],
      "source": [
        "random.pop()"
      ]
    },
    {
      "cell_type": "code",
      "execution_count": null,
      "id": "e8fe1ab9",
      "metadata": {
        "id": "e8fe1ab9"
      },
      "outputs": [],
      "source": [
        "random = {1,2,3} | {3,4,5}"
      ]
    },
    {
      "cell_type": "code",
      "execution_count": null,
      "id": "49c916ac",
      "metadata": {
        "id": "49c916ac",
        "outputId": "ddc72adf-d53b-4ce2-cc41-53e7370d65f7"
      },
      "outputs": [
        {
          "data": {
            "text/plain": [
              "{1, 2, 3, 4, 5}"
            ]
          },
          "execution_count": 61,
          "metadata": {},
          "output_type": "execute_result"
        }
      ],
      "source": [
        "random"
      ]
    },
    {
      "cell_type": "code",
      "execution_count": null,
      "id": "b911d761",
      "metadata": {
        "id": "b911d761"
      },
      "outputs": [],
      "source": [
        "result = A | B # Union in dictionaries"
      ]
    },
    {
      "cell_type": "code",
      "execution_count": null,
      "id": "a5ca131d",
      "metadata": {
        "id": "a5ca131d",
        "outputId": "da378fe9-8967-417f-9b12-ec965b372d0d"
      },
      "outputs": [
        {
          "data": {
            "text/plain": [
              "{'a': 4, 'b': 1, 'c': 6, 'd': 20}"
            ]
          },
          "execution_count": 63,
          "metadata": {},
          "output_type": "execute_result"
        }
      ],
      "source": [
        "result"
      ]
    },
    {
      "cell_type": "code",
      "execution_count": null,
      "id": "ba9b8a79",
      "metadata": {
        "id": "ba9b8a79"
      },
      "outputs": [],
      "source": [
        "result = { **A, **B } # Spread Operator"
      ]
    },
    {
      "cell_type": "code",
      "execution_count": null,
      "id": "4343b1d6",
      "metadata": {
        "id": "4343b1d6",
        "outputId": "1489a384-7930-4329-fb16-e1078bb1e40e"
      },
      "outputs": [
        {
          "data": {
            "text/plain": [
              "{'a': 4, 'b': 1, 'c': 6, 'd': 20}"
            ]
          },
          "execution_count": 65,
          "metadata": {},
          "output_type": "execute_result"
        }
      ],
      "source": [
        "result"
      ]
    },
    {
      "cell_type": "code",
      "execution_count": null,
      "id": "b2293006",
      "metadata": {
        "id": "b2293006"
      },
      "outputs": [],
      "source": [
        "# ITERATION IN A DICTIONARY"
      ]
    },
    {
      "cell_type": "code",
      "execution_count": null,
      "id": "079d9eb6",
      "metadata": {
        "id": "079d9eb6"
      },
      "outputs": [],
      "source": [
        "a = Avenger"
      ]
    },
    {
      "cell_type": "code",
      "execution_count": null,
      "id": "1ceb9e1b",
      "metadata": {
        "id": "1ceb9e1b",
        "outputId": "9daf9d36-97e4-4d55-f015-8f1904b3c618"
      },
      "outputs": [
        {
          "data": {
            "text/plain": [
              "{'name': 'Thor Odinson',\n",
              " 'age': 1500,\n",
              " 'weapon': ['Stormbreaker'],\n",
              " 'strongest?': True,\n",
              " 'eyes': 1}"
            ]
          },
          "execution_count": 70,
          "metadata": {},
          "output_type": "execute_result"
        }
      ],
      "source": [
        "a"
      ]
    },
    {
      "cell_type": "code",
      "execution_count": null,
      "id": "3a0c4216",
      "metadata": {
        "id": "3a0c4216",
        "outputId": "73dbee39-c215-4a86-f83c-0dd223c69f87"
      },
      "outputs": [
        {
          "name": "stdout",
          "output_type": "stream",
          "text": [
            "name\n",
            "age\n",
            "weapon\n",
            "strongest?\n",
            "eyes\n"
          ]
        }
      ],
      "source": [
        "for i in a: # by default it iterates over the keys\n",
        "    print(i)"
      ]
    },
    {
      "cell_type": "code",
      "execution_count": null,
      "id": "b3cd8d83",
      "metadata": {
        "id": "b3cd8d83",
        "outputId": "3558d152-8f45-4b52-fe2c-0ca54981f9a0"
      },
      "outputs": [
        {
          "name": "stdout",
          "output_type": "stream",
          "text": [
            "Thor Odinson\n",
            "1500\n",
            "['Stormbreaker']\n",
            "True\n",
            "1\n"
          ]
        }
      ],
      "source": [
        "for i in a: # to go over the values\n",
        "    print(a[i])"
      ]
    },
    {
      "cell_type": "code",
      "execution_count": null,
      "id": "21888ddc",
      "metadata": {
        "id": "21888ddc",
        "outputId": "181dbbf8-63e7-403a-95fd-19fc315deff6"
      },
      "outputs": [
        {
          "name": "stdout",
          "output_type": "stream",
          "text": [
            "name -> Thor Odinson\n",
            "age -> 1500\n",
            "weapon -> ['Stormbreaker']\n",
            "strongest? -> True\n",
            "eyes -> 1\n"
          ]
        }
      ],
      "source": [
        "for i in a:\n",
        "    print(f\"{i} -> {a[i]}\")"
      ]
    },
    {
      "cell_type": "code",
      "execution_count": null,
      "id": "cf5dd911",
      "metadata": {
        "id": "cf5dd911",
        "outputId": "a20e151d-b9bf-4a11-c799-77a8d1cb79c2"
      },
      "outputs": [
        {
          "data": {
            "text/plain": [
              "['name', 'age', 'weapon', 'strongest?', 'eyes']"
            ]
          },
          "execution_count": 75,
          "metadata": {},
          "output_type": "execute_result"
        }
      ],
      "source": [
        "list(a.keys())"
      ]
    },
    {
      "cell_type": "code",
      "execution_count": null,
      "id": "4d83228e",
      "metadata": {
        "id": "4d83228e",
        "outputId": "c30a03d0-b44d-4650-e403-27ae5aec5984"
      },
      "outputs": [
        {
          "data": {
            "text/plain": [
              "['Thor Odinson', 1500, ['Stormbreaker'], True, 1]"
            ]
          },
          "execution_count": 76,
          "metadata": {},
          "output_type": "execute_result"
        }
      ],
      "source": [
        "list(a.values())"
      ]
    },
    {
      "cell_type": "code",
      "execution_count": null,
      "id": "c2531bfd",
      "metadata": {
        "id": "c2531bfd",
        "outputId": "06828dfc-8e56-4631-b247-076f4fc6168a"
      },
      "outputs": [
        {
          "data": {
            "text/plain": [
              "[('name', 'Thor Odinson'),\n",
              " ('age', 1500),\n",
              " ('weapon', ['Stormbreaker']),\n",
              " ('strongest?', True),\n",
              " ('eyes', 1)]"
            ]
          },
          "execution_count": 77,
          "metadata": {},
          "output_type": "execute_result"
        }
      ],
      "source": [
        "list(a.items())"
      ]
    },
    {
      "cell_type": "code",
      "execution_count": null,
      "id": "196ae960",
      "metadata": {
        "id": "196ae960",
        "outputId": "8464df35-cfed-4cef-907a-1e11400c2d59"
      },
      "outputs": [
        {
          "name": "stdout",
          "output_type": "stream",
          "text": [
            "name\n",
            "age\n",
            "weapon\n",
            "strongest?\n",
            "eyes\n"
          ]
        }
      ],
      "source": [
        "for i in a.keys():\n",
        "    print(i)"
      ]
    },
    {
      "cell_type": "code",
      "execution_count": null,
      "id": "20db8e27",
      "metadata": {
        "id": "20db8e27",
        "outputId": "bf10720e-1972-4570-eeb2-befff473c7f4"
      },
      "outputs": [
        {
          "name": "stdout",
          "output_type": "stream",
          "text": [
            "Thor Odinson\n",
            "1500\n",
            "['Stormbreaker']\n",
            "True\n",
            "1\n"
          ]
        }
      ],
      "source": [
        "for i in a.values():\n",
        "    print(i)"
      ]
    },
    {
      "cell_type": "code",
      "execution_count": null,
      "id": "db97027e",
      "metadata": {
        "id": "db97027e",
        "outputId": "f63a8548-9b5c-4e78-cbb0-ad8ec6c892f2"
      },
      "outputs": [
        {
          "name": "stdout",
          "output_type": "stream",
          "text": [
            "('name', 'Thor Odinson')\n",
            "('age', 1500)\n",
            "('weapon', ['Stormbreaker'])\n",
            "('strongest?', True)\n",
            "('eyes', 1)\n"
          ]
        }
      ],
      "source": [
        "for i in a.items():\n",
        "    print(i)"
      ]
    },
    {
      "cell_type": "code",
      "execution_count": null,
      "id": "ed34ab30",
      "metadata": {
        "id": "ed34ab30",
        "outputId": "3f934a7b-1860-4dbe-9fd2-a4b4c4b9e35f"
      },
      "outputs": [
        {
          "name": "stdout",
          "output_type": "stream",
          "text": [
            "name -> Thor Odinson\n",
            "age -> 1500\n",
            "weapon -> ['Stormbreaker']\n",
            "strongest? -> True\n",
            "eyes -> 1\n"
          ]
        }
      ],
      "source": [
        "for key, value in a.items():\n",
        "    print(f\"{key} -> {value}\")"
      ]
    },
    {
      "cell_type": "code",
      "execution_count": null,
      "id": "719a8523",
      "metadata": {
        "id": "719a8523"
      },
      "outputs": [],
      "source": [
        "# random(a) / a.random()"
      ]
    },
    {
      "cell_type": "code",
      "execution_count": null,
      "id": "df91d9a3",
      "metadata": {
        "id": "df91d9a3",
        "outputId": "cb448952-421d-4059-d379-d36ad2358bd1"
      },
      "outputs": [
        {
          "data": {
            "text/plain": [
              "True"
            ]
          },
          "execution_count": 84,
          "metadata": {},
          "output_type": "execute_result"
        }
      ],
      "source": [
        "\"strongest?\" in a"
      ]
    },
    {
      "cell_type": "code",
      "execution_count": null,
      "id": "b3f93032",
      "metadata": {
        "id": "b3f93032",
        "outputId": "7baccfb1-677d-40b9-c9d0-e9f5c453bd88"
      },
      "outputs": [
        {
          "data": {
            "text/plain": [
              "False"
            ]
          },
          "execution_count": 85,
          "metadata": {},
          "output_type": "execute_result"
        }
      ],
      "source": [
        "\"RANDOM\" in a"
      ]
    },
    {
      "cell_type": "code",
      "execution_count": null,
      "id": "16cb0f56",
      "metadata": {
        "id": "16cb0f56",
        "outputId": "9c82a4f3-0594-4c85-d1a5-d30825db6056"
      },
      "outputs": [
        {
          "data": {
            "text/plain": [
              "'\\nHETEROGENEITY ->\\n    - Keys -> Any immutable data structure (Everything other than lists, sets and dictionaries)\\n    - Values -> Any Python Object\\n'"
            ]
          },
          "execution_count": 107,
          "metadata": {},
          "output_type": "execute_result"
        }
      ],
      "source": [
        "'''\n",
        "HETEROGENEITY ->\n",
        "    - Keys -> Any immutable data structure (Everything other than lists, sets and dictionaries)\n",
        "    - Values -> Any Python Object\n",
        "'''"
      ]
    },
    {
      "cell_type": "markdown",
      "id": "c3kANFCvvSZf",
      "metadata": {
        "id": "c3kANFCvvSZf"
      },
      "source": [
        "#**`Linked List`**"
      ]
    },
    {
      "cell_type": "markdown",
      "id": "2mRh-A7TwaCJ",
      "metadata": {
        "id": "2mRh-A7TwaCJ"
      },
      "source": [
        "**Node Class**\n",
        "\n",
        "\n",
        "A node is the basic building block of a linked list. It contains data and a reference to the next node in the sequence."
      ]
    },
    {
      "cell_type": "code",
      "execution_count": null,
      "id": "q7Fs8vCLvl0r",
      "metadata": {
        "id": "q7Fs8vCLvl0r"
      },
      "outputs": [],
      "source": [
        "class Node:\n",
        "    def __init__(self, data):\n",
        "        self.data = data\n",
        "        self.next = None"
      ]
    },
    {
      "cell_type": "markdown",
      "id": "qnKoKeAVxUW1",
      "metadata": {
        "id": "qnKoKeAVxUW1"
      },
      "source": [
        "**Linked List Class:**\n",
        "\n",
        "The linked list class contains methods for managing the linked list, such as appending, prepending, deleting nodes, and displaying the list.\n",
        "\n",
        "**1. Initialization and is_empty Method:**  \n",
        "\n",
        "- **init Method**: Initializes an empty linked list with a head set to None.\n",
        "- **is_empty Method**: Checks if the linked list is empty. Returns True if the head is None, indicating an empty list.\n"
      ]
    },
    {
      "cell_type": "code",
      "execution_count": null,
      "id": "E1clceZjxxCZ",
      "metadata": {
        "id": "E1clceZjxxCZ"
      },
      "outputs": [],
      "source": [
        "class LinkedList:\n",
        "    def __init__(self):\n",
        "        self.head = None\n",
        "\n",
        "    def is_empty(self):\n",
        "        return self.head is None\n"
      ]
    },
    {
      "cell_type": "markdown",
      "id": "ZuSjYhW-yQTw",
      "metadata": {
        "id": "ZuSjYhW-yQTw"
      },
      "source": [
        "**2. Append Method:**  \n",
        "\n",
        "- **append Method**: Adds a new node with the given data to the end of the linked list.\n",
        "- If the list is empty (self.head is None), sets the head to the new node.\n",
        "- Otherwise, traverses the list to find the last node and appends the new node to it.\n"
      ]
    },
    {
      "cell_type": "code",
      "execution_count": null,
      "id": "KaOogsV6yZCg",
      "metadata": {
        "id": "KaOogsV6yZCg"
      },
      "outputs": [],
      "source": [
        "    def append(self, data):\n",
        "        new_node = Node(data)\n",
        "        if self.head is None:\n",
        "            self.head = new_node\n",
        "            return\n",
        "        last_node = self.head\n",
        "        while last_node.next:\n",
        "            last_node = last_node.next\n",
        "        last_node.next = new_node\n"
      ]
    },
    {
      "cell_type": "markdown",
      "id": "bIzaTBOxylEt",
      "metadata": {
        "id": "bIzaTBOxylEt"
      },
      "source": [
        "**3. prepend Method:**  \n",
        "\n",
        "- **prepend Method**: Adds a new node with the given data to the beginning of the linked list.\n",
        "- Creates a new node with the given data.\n",
        "- Sets the next reference of the new node to the current head.\n",
        "- Updates the head to the new node.\n"
      ]
    },
    {
      "cell_type": "code",
      "execution_count": null,
      "id": "wAte3IU6yogh",
      "metadata": {
        "id": "wAte3IU6yogh"
      },
      "outputs": [],
      "source": [
        "    def prepend(self, data):\n",
        "        new_node = Node(data)\n",
        "        new_node.next = self.head\n",
        "        self.head = new_node\n"
      ]
    },
    {
      "cell_type": "markdown",
      "id": "QItSKW22ys7X",
      "metadata": {
        "id": "QItSKW22ys7X"
      },
      "source": [
        "**4. delete_node Method:**  \n",
        "\n",
        "- **delete_node Method**: Deletes the node with the specified data from the linked list.\n",
        "- Handles the case where the node to be deleted is the head.\n",
        "- Traverses the list to find the node with the specified data.\n",
        "- Updates the references to bypass the node to be deleted."
      ]
    },
    {
      "cell_type": "code",
      "execution_count": null,
      "id": "p4UYR3Yfyxcy",
      "metadata": {
        "id": "p4UYR3Yfyxcy"
      },
      "outputs": [],
      "source": [
        "    def delete_node(self, key):\n",
        "        current_node = self.head\n",
        "        if current_node and current_node.data == key:\n",
        "            self.head = current_node.next\n",
        "            current_node = None\n",
        "            return\n",
        "        prev_node = None\n",
        "        while current_node and current_node.data != key:\n",
        "            prev_node = current_node\n",
        "            current_node = current_node.next\n",
        "        if current_node is None:\n",
        "            return\n",
        "        prev_node.next = current_node.next\n",
        "        current_node = None\n"
      ]
    },
    {
      "cell_type": "markdown",
      "id": "hHzL8r_Dy13j",
      "metadata": {
        "id": "hHzL8r_Dy13j"
      },
      "source": [
        "**5. display Method:**  \n",
        "\n",
        "- **display Method**: Displays the elements of the linked list.\n",
        "- Starts from the head and iterates through the list, printing each node's data followed by an arrow (->).\n",
        "- Prints \"None\" at the end to indicate the end of the list.\n",
        "\n",
        "\n",
        "\n",
        "\n"
      ]
    },
    {
      "cell_type": "code",
      "execution_count": null,
      "id": "wkBxnAeUy5UZ",
      "metadata": {
        "id": "wkBxnAeUy5UZ"
      },
      "outputs": [],
      "source": [
        "    def display(self):\n",
        "        current_node = self.head\n",
        "        while current_node:\n",
        "            print(current_node.data, end=\" -> \")\n",
        "            current_node = current_node.next\n",
        "        print(\"None\")\n"
      ]
    }
  ],
  "metadata": {
    "colab": {
      "collapsed_sections": [
        "R_cAwZ2f14Ey",
        "SblGBxS32DYX",
        "m5yL0Dt72SLc",
        "AjFGrvza2oh5",
        "8a2cbb5f",
        "4b96f5c4",
        "f31c7a74",
        "9e65b8eb",
        "894177bb",
        "5349052a",
        "d9080db3",
        "5c4a806e",
        "61e367f3",
        "U3fv3uUV4gsM",
        "RNR-jTnF7fdM",
        "fAAQnVhZ8lMN",
        "5c1991fc",
        "wHSCVOhU-Dud",
        "f30b137d"
      ],
      "provenance": [],
      "toc_visible": true
    },
    "kernelspec": {
      "display_name": "Python 3 (ipykernel)",
      "language": "python",
      "name": "python3"
    },
    "language_info": {
      "codemirror_mode": {
        "name": "ipython",
        "version": 3
      },
      "file_extension": ".py",
      "mimetype": "text/x-python",
      "name": "python",
      "nbconvert_exporter": "python",
      "pygments_lexer": "ipython3",
      "version": "3.11.5"
    }
  },
  "nbformat": 4,
  "nbformat_minor": 5
}