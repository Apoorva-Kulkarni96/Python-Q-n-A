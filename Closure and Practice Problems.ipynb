{
 "cells": [
  {
   "cell_type": "markdown",
   "metadata": {},
   "source": [
    "### Closures\n",
    "\n",
    "**A closure is a function object that has access to variables in its lexical scope, even when the function is called outside that scope. It \"closes over\" the environment in which it was created.**\n"
   ]
  },
  {
   "cell_type": "code",
   "execution_count": 3,
   "metadata": {},
   "outputs": [],
   "source": [
    "def outer_function(x):\n",
    "    def inner_function(y):\n",
    "        return x+y\n",
    "    return inner_function"
   ]
  },
  {
   "cell_type": "code",
   "execution_count": 4,
   "metadata": {},
   "outputs": [],
   "source": [
    "closure=outer_function(10)"
   ]
  },
  {
   "cell_type": "code",
   "execution_count": 5,
   "metadata": {},
   "outputs": [],
   "source": [
    "result=closure(5)"
   ]
  },
  {
   "cell_type": "code",
   "execution_count": 6,
   "metadata": {},
   "outputs": [
    {
     "data": {
      "text/plain": [
       "15"
      ]
     },
     "execution_count": 6,
     "metadata": {},
     "output_type": "execute_result"
    }
   ],
   "source": [
    "result"
   ]
  },
  {
   "cell_type": "markdown",
   "metadata": {},
   "source": [
    "Question 1: Write a Python function that checks if a given string is a palindrome. A palindrome is a word, phrase, number, or other sequence of characters that reads the same forward and backward. The function should return `True` if the string is a palindrome and `False` otherwise.\n",
    "\n",
    "Input: ‘abdba'\n",
    "\n",
    "Expected Output: True"
   ]
  },
  {
   "cell_type": "code",
   "execution_count": 11,
   "metadata": {},
   "outputs": [
    {
     "data": {
      "text/plain": [
       "True"
      ]
     },
     "execution_count": 11,
     "metadata": {},
     "output_type": "execute_result"
    }
   ],
   "source": [
    "def palindrome(text):\n",
    "    if text==text[::-1]:\n",
    "        return True\n",
    "    else:\n",
    "        return False\n",
    "palindrome('abdba')"
   ]
  },
  {
   "cell_type": "code",
   "execution_count": 123,
   "metadata": {},
   "outputs": [
    {
     "data": {
      "text/plain": [
       "True"
      ]
     },
     "execution_count": 123,
     "metadata": {},
     "output_type": "execute_result"
    }
   ],
   "source": [
    "def palindrome_forloop(text):\n",
    "    word=''\n",
    "    for i in range(len(text)-1,-1,-1):\n",
    "        word=word+text[i]\n",
    "    if word==text:\n",
    "        return True\n",
    "    else:\n",
    "        return False\n",
    "palindrome_forloop('abdba')"
   ]
  },
  {
   "cell_type": "markdown",
   "metadata": {},
   "source": [
    "Question 2: Implement a function that computes the factorial of a given integer using recursion. The function should take an integer as input and return its factorial.\n",
    "\n",
    "Input: 8\n",
    "\n",
    "Expected Output: 40320"
   ]
  },
  {
   "cell_type": "code",
   "execution_count": 17,
   "metadata": {},
   "outputs": [
    {
     "data": {
      "text/plain": [
       "40320"
      ]
     },
     "execution_count": 17,
     "metadata": {},
     "output_type": "execute_result"
    }
   ],
   "source": [
    "def factorial(num):\n",
    "    fact=1\n",
    "    for i in range(num,1,-1):\n",
    "        fact*=i\n",
    "    return fact\n",
    "factorial(8)"
   ]
  },
  {
   "cell_type": "code",
   "execution_count": 20,
   "metadata": {},
   "outputs": [
    {
     "data": {
      "text/plain": [
       "40320"
      ]
     },
     "execution_count": 20,
     "metadata": {},
     "output_type": "execute_result"
    }
   ],
   "source": [
    "def fact_recursion(n):\n",
    "    if n==0 or n==1:\n",
    "        return 1\n",
    "    return n*fact_recursion(n-1)\n",
    "fact_recursion(8)"
   ]
  },
  {
   "cell_type": "markdown",
   "metadata": {},
   "source": [
    "Question 3: Write a Python program to check Armstrong’s number. The armstrong number can be defined as n-digit numbers equal to the sum of the nth powers of their digits are called armstrong numbers. Print whether the given number is armstrong number or not\n",
    "\n",
    "Armstrong Numbers: 153, 370, 371, 407, 1634, 8208, 9474\n",
    "\n",
    "Input: 371\n",
    "\n",
    "Expected Output: True"
   ]
  },
  {
   "cell_type": "code",
   "execution_count": 21,
   "metadata": {},
   "outputs": [],
   "source": [
    "def armstrong(n):\n",
    "    sum=0\n",
    "    rem=0\n",
    "    for i in n:\n",
    "        rem=int(n)%10\n",
    "        cube=pow(rem,3)\n",
    "        sum+=cube"
   ]
  },
  {
   "cell_type": "code",
   "execution_count": 23,
   "metadata": {},
   "outputs": [
    {
     "data": {
      "text/plain": [
       "15"
      ]
     },
     "execution_count": 23,
     "metadata": {},
     "output_type": "execute_result"
    }
   ],
   "source": [
    "153//10"
   ]
  },
  {
   "cell_type": "code",
   "execution_count": 33,
   "metadata": {},
   "outputs": [],
   "source": [
    "def armstrong_str(n):\n",
    "    lst=[]\n",
    "    s=len(n)\n",
    "    for i in n:\n",
    "        a=int(i)**s\n",
    "        lst.append(a)\n",
    "    b=sum(lst)\n",
    "    if str(b)==str(n):\n",
    "        return True\n",
    "    return False\n",
    "        "
   ]
  },
  {
   "cell_type": "code",
   "execution_count": 34,
   "metadata": {},
   "outputs": [
    {
     "data": {
      "text/plain": [
       "True"
      ]
     },
     "execution_count": 34,
     "metadata": {},
     "output_type": "execute_result"
    }
   ],
   "source": [
    "armstrong_str('371')"
   ]
  },
  {
   "cell_type": "code",
   "execution_count": 50,
   "metadata": {},
   "outputs": [],
   "source": [
    "def armstrong(n):\n",
    "    temp=n\n",
    "    power=0\n",
    "\n",
    "    while temp>0:\n",
    "        temp//=10\n",
    "        power+=1\n",
    "\n",
    "    total=0\n",
    "    temp=n\n",
    "    while temp>0:\n",
    "        rem=temp%10\n",
    "        total+=pow(rem,power)\n",
    "        temp//=10\n",
    "        \n",
    "    if int(n)==int(total):\n",
    "        return True\n",
    "    return False\n",
    "    "
   ]
  },
  {
   "cell_type": "code",
   "execution_count": 51,
   "metadata": {},
   "outputs": [
    {
     "data": {
      "text/plain": [
       "True"
      ]
     },
     "execution_count": 51,
     "metadata": {},
     "output_type": "execute_result"
    }
   ],
   "source": [
    "armstrong(371)"
   ]
  },
  {
   "cell_type": "markdown",
   "metadata": {},
   "source": [
    "Question 4: Write a Python program to generate the Fibonacci sequence up to a specified number of terms. The program should allow the user to input the number of terms and then print the Fibonacci sequence.\n",
    "\n",
    "Input: 5\n",
    "\n",
    "Expected Output: [0, 1, 1, 2, 3]"
   ]
  },
  {
   "cell_type": "code",
   "execution_count": 76,
   "metadata": {},
   "outputs": [
    {
     "data": {
      "text/plain": [
       "[0, 1, 1, 2, 3]"
      ]
     },
     "execution_count": 76,
     "metadata": {},
     "output_type": "execute_result"
    }
   ],
   "source": [
    "def fibonacci(num):\n",
    "    lst=[]\n",
    "    a,b=0,1\n",
    "    for i in range(num):\n",
    "        lst.append(a)\n",
    "        a,b=b,a+b \n",
    "    return lst\n",
    "fibonacci(5)"
   ]
  },
  {
   "cell_type": "code",
   "execution_count": 83,
   "metadata": {},
   "outputs": [
    {
     "data": {
      "text/plain": [
       "4181"
      ]
     },
     "execution_count": 83,
     "metadata": {},
     "output_type": "execute_result"
    }
   ],
   "source": [
    "def fibonacci_recursion(num):\n",
    "    if num<=1:\n",
    "        return num\n",
    "    else:\n",
    "        return fibonacci_recursion(num-1)+fibonacci_recursion(num-2)\n",
    "fibonacci_recursion(19)"
   ]
  },
  {
   "cell_type": "markdown",
   "metadata": {},
   "source": [
    "Question 5: Create a function that takes a list of integers as input and returns the maximum sum of any contiguous subarray (a subarray is a contiguous portion of the array). The function should have a time complexity of O(n).\n",
    "\n",
    "Input: [1, 2, 4, 9, 8]\n",
    "\n",
    "Expected Output: 24"
   ]
  },
  {
   "cell_type": "code",
   "execution_count": 99,
   "metadata": {},
   "outputs": [
    {
     "name": "stdout",
     "output_type": "stream",
     "text": [
      "1 2 4 9 8\n"
     ]
    }
   ],
   "source": [
    "a=list(map(int, input().split()))\n"
   ]
  },
  {
   "cell_type": "code",
   "execution_count": 140,
   "metadata": {},
   "outputs": [],
   "source": [
    "def sum_subtring(nums):\n",
    "    max_sum=current_sum=nums[0]\n",
    "    for num in nums[1:]:\n",
    "        current_sum=max(num, current_sum+num)\n",
    "        max_sum=max(current_sum,max_sum)\n",
    "    return max_sum"
   ]
  },
  {
   "cell_type": "code",
   "execution_count": 150,
   "metadata": {},
   "outputs": [
    {
     "data": {
      "text/plain": [
       "33"
      ]
     },
     "execution_count": 150,
     "metadata": {},
     "output_type": "execute_result"
    }
   ],
   "source": [
    "sum_subtring([1,-1 ,-2, 9, 8, -17, 11, 22])"
   ]
  },
  {
   "cell_type": "markdown",
   "metadata": {},
   "source": [
    "Question 6: Implement a function to find the first non-repeating character in a given string. If all characters repeat, return None.\n",
    "\n",
    "Input: ‘bosscoder academy’\n",
    "\n",
    "Expected Output: ‘b’"
   ]
  },
  {
   "cell_type": "code",
   "execution_count": 118,
   "metadata": {},
   "outputs": [],
   "source": [
    "def repeat(text):\n",
    "    char_count={}\n",
    "    for char in text:\n",
    "        if char in char_count:\n",
    "            char_count[char]+=1\n",
    "        else:\n",
    "            char_count[char]=1\n",
    "    for char in text:\n",
    "        if char_count[char]==1:\n",
    "            return char\n",
    "    return None\n"
   ]
  },
  {
   "cell_type": "code",
   "execution_count": 157,
   "metadata": {},
   "outputs": [],
   "source": [
    "def repeat(text):\n",
    "    char_count={}\n",
    "    for char in text:\n",
    "        if char in char_count:\n",
    "            char_count[char]+=1\n",
    "        else:\n",
    "            char_count[char]=1\n",
    "    for char in text:\n",
    "        if char_count[char]==1:\n",
    "            return char\n",
    "    return None"
   ]
  },
  {
   "cell_type": "code",
   "execution_count": 158,
   "metadata": {},
   "outputs": [
    {
     "data": {
      "text/plain": [
       "'b'"
      ]
     },
     "execution_count": 158,
     "metadata": {},
     "output_type": "execute_result"
    }
   ],
   "source": [
    "repeat('bosscoder academy') "
   ]
  },
  {
   "cell_type": "code",
   "execution_count": null,
   "metadata": {},
   "outputs": [],
   "source": [
    "Question 7: Given a list of integers, write a Python function to find the maximum sum of a subarray with the constraint that no two elements in the subarray are adjacent.\n",
    "Input: [1, 3, 4, 9, 8]\n",
    "Expected Output: 13"
   ]
  },
  {
   "cell_type": "code",
   "execution_count": 179,
   "metadata": {},
   "outputs": [
    {
     "name": "stdout",
     "output_type": "stream",
     "text": [
      "1\n",
      "10\n"
     ]
    },
    {
     "data": {
      "text/plain": [
       "10"
      ]
     },
     "execution_count": 179,
     "metadata": {},
     "output_type": "execute_result"
    }
   ],
   "source": [
    "def non_adjacent(nums):\n",
    "    max_sum=current_sum=nums[0]\n",
    "    for num in range(1,len(nums),2):\n",
    "        current_sum=max(nums[num],current_sum+nums[num])\n",
    "        print(current_sum)\n",
    "        max_sum=max(max_sum, current_sum)\n",
    "    return max_sum\n",
    "non_adjacent([1, 0, 4, 9, 1])"
   ]
  },
  {
   "cell_type": "code",
   "execution_count": null,
   "metadata": {},
   "outputs": [],
   "source": [
    "def non_adjacent(nums):\n",
    "    max_sum=current_sum=nums[0]\n",
    "    for num in range(0,len(nums),2):\n",
    "        current_sum=max(nums[num],current_sum+nums[num])\n",
    "        print(current_sum)\n",
    "        max_sum=max(max_sum, current_sum)\n",
    "    return max_sum\n",
    "non_adjacent([1, 3, 4, 9, 8])"
   ]
  },
  {
   "cell_type": "markdown",
   "metadata": {},
   "source": [
    "Question 8: Create a function that takes two lists as input and returns a new list containing the common elements of the two input lists.\n",
    "\n",
    "Input: \n",
    "\n",
    "list1=[6, 7, 8, 0, -9, 1]\n",
    "\n",
    "list2=[1, 6, 0, 3, 4, 5, 7, 6]\n",
    "\n",
    "Expected Output:\n",
    "\n",
    "[0, 1, 6, 7]\n",
    "\n",
    "\n"
   ]
  },
  {
   "cell_type": "code",
   "execution_count": 182,
   "metadata": {},
   "outputs": [
    {
     "data": {
      "text/plain": [
       "{0, 1, 6, 7}"
      ]
     },
     "execution_count": 182,
     "metadata": {},
     "output_type": "execute_result"
    }
   ],
   "source": [
    "def intersect(lst1,lst2):\n",
    "    return (set(lst1) & set(lst2))\n",
    "intersect([6, 7, 8, 0, -9, 1],[1, 6, 0, 3, 4, 5, 7, 6])"
   ]
  },
  {
   "cell_type": "code",
   "execution_count": null,
   "metadata": {},
   "outputs": [],
   "source": [
    "Question 9: Implement a function that checks if a given string has balanced parentheses. The function should return `True` if the parentheses are balanced, and `False` otherwise. For example, \"([]){}\" is balanced, but \"([)]\" is not.\n",
    "Input: ‘{a + (b - c)] * (x / y)}’\n",
    "Expected Output: False"
   ]
  },
  {
   "cell_type": "code",
   "execution_count": null,
   "metadata": {},
   "outputs": [],
   "source": []
  },
  {
   "cell_type": "code",
   "execution_count": null,
   "metadata": {},
   "outputs": [],
   "source": [
    "Question 10: Write a Python program to implement a basic calculator that can perform addition, subtraction, multiplication, and division. The program should take input in the form of a string, e.g., \"2 + 3\", and return the result of the operation.\n",
    "Input: '3+2*5'\n",
    "Output: 13\n",
    " "
   ]
  },
  {
   "cell_type": "code",
   "execution_count": 183,
   "metadata": {},
   "outputs": [
    {
     "data": {
      "text/plain": [
       "13"
      ]
     },
     "execution_count": 183,
     "metadata": {},
     "output_type": "execute_result"
    }
   ],
   "source": [
    "def exp(inp):\n",
    "    out=eval(inp)\n",
    "    return out\n",
    "exp('3+2*5')"
   ]
  },
  {
   "cell_type": "code",
   "execution_count": null,
   "metadata": {},
   "outputs": [],
   "source": []
  }
 ],
 "metadata": {
  "kernelspec": {
   "display_name": "Python 3",
   "language": "python",
   "name": "python3"
  },
  "language_info": {
   "codemirror_mode": {
    "name": "ipython",
    "version": 3
   },
   "file_extension": ".py",
   "mimetype": "text/x-python",
   "name": "python",
   "nbconvert_exporter": "python",
   "pygments_lexer": "ipython3",
   "version": "3.8.10"
  }
 },
 "nbformat": 4,
 "nbformat_minor": 2
}
