{
  "nbformat": 4,
  "nbformat_minor": 0,
  "metadata": {
    "colab": {
      "provenance": []
    },
    "kernelspec": {
      "name": "python3",
      "display_name": "Python 3"
    },
    "language_info": {
      "name": "python"
    }
  },
  "cells": [
    {
      "cell_type": "code",
      "source": [
        "#Pattern 1\n",
        "\n",
        "for i in range(0, 5):\n",
        "  for j in range(0,5):\n",
        "    print(\"*\", end=' ')\n",
        "  print()"
      ],
      "metadata": {
        "colab": {
          "base_uri": "https://localhost:8080/"
        },
        "id": "7NN3lX7v3Pxa",
        "outputId": "38bec673-bf48-4fbf-9e7e-0348a2ace5e1"
      },
      "execution_count": null,
      "outputs": [
        {
          "output_type": "stream",
          "name": "stdout",
          "text": [
            "* * * * * \n",
            "* * * * * \n",
            "* * * * * \n",
            "* * * * * \n",
            "* * * * * \n"
          ]
        }
      ]
    },
    {
      "cell_type": "code",
      "source": [
        "#Pattern 2\n",
        "\n",
        "for i in range(1,6):\n",
        "  for j in range(i):\n",
        "    print(\"*\", end=' ')\n",
        "  print()"
      ],
      "metadata": {
        "colab": {
          "base_uri": "https://localhost:8080/"
        },
        "id": "tSPetNUm7olH",
        "outputId": "dd2b87da-44d1-491e-e1c7-4eecb57694bd"
      },
      "execution_count": null,
      "outputs": [
        {
          "output_type": "stream",
          "name": "stdout",
          "text": [
            "* \n",
            "* * \n",
            "* * * \n",
            "* * * * \n",
            "* * * * * \n"
          ]
        }
      ]
    },
    {
      "cell_type": "code",
      "source": [
        "#Pattern 3\n",
        "\n",
        "for i in range(1,6):\n",
        "  for j in range(1,i+1):\n",
        "    print(j, end=' ')\n",
        "  print()"
      ],
      "metadata": {
        "colab": {
          "base_uri": "https://localhost:8080/"
        },
        "id": "FM0dChE97ooU",
        "outputId": "ac163158-14b9-4217-fe57-ae497f0471d3"
      },
      "execution_count": null,
      "outputs": [
        {
          "output_type": "stream",
          "name": "stdout",
          "text": [
            "1 \n",
            "1 2 \n",
            "1 2 3 \n",
            "1 2 3 4 \n",
            "1 2 3 4 5 \n"
          ]
        }
      ]
    },
    {
      "cell_type": "code",
      "source": [
        "#Pattern 4\n",
        "\n",
        "for i in range(1,6):\n",
        "  for j in range(1,i+1):\n",
        "    print(i, end=' ')\n",
        "  print()"
      ],
      "metadata": {
        "colab": {
          "base_uri": "https://localhost:8080/"
        },
        "id": "UoB3pRYh7orJ",
        "outputId": "efbe607f-fdd4-463b-94f0-1dd624ab5b4e"
      },
      "execution_count": null,
      "outputs": [
        {
          "output_type": "stream",
          "name": "stdout",
          "text": [
            "1 \n",
            "2 2 \n",
            "3 3 3 \n",
            "4 4 4 4 \n",
            "5 5 5 5 5 \n"
          ]
        }
      ]
    },
    {
      "cell_type": "code",
      "source": [
        "#Pattern 6\n",
        "\n",
        "for i in range(5,0,-1):\n",
        "  for j in range(0,i):\n",
        "    print(\"*\", end=' ')\n",
        "  print()"
      ],
      "metadata": {
        "colab": {
          "base_uri": "https://localhost:8080/"
        },
        "id": "vfyFjXyo7oub",
        "outputId": "b666b77b-2207-4188-e620-a4d43054fb3d"
      },
      "execution_count": null,
      "outputs": [
        {
          "output_type": "stream",
          "name": "stdout",
          "text": [
            "* * * * * \n",
            "* * * * \n",
            "* * * \n",
            "* * \n",
            "* \n"
          ]
        }
      ]
    },
    {
      "cell_type": "code",
      "source": [
        "#Pattern 7\n",
        "\n",
        "for i in range(5,0,-1):\n",
        "  for j in range(1,i+1):\n",
        "    print(j, end=' ')\n",
        "  print()"
      ],
      "metadata": {
        "colab": {
          "base_uri": "https://localhost:8080/"
        },
        "id": "YrQg3LNC7oxE",
        "outputId": "e441498b-f3ed-49d3-da15-9e475adde20b"
      },
      "execution_count": null,
      "outputs": [
        {
          "output_type": "stream",
          "name": "stdout",
          "text": [
            "1 2 3 4 5 \n",
            "1 2 3 4 \n",
            "1 2 3 \n",
            "1 2 \n",
            "1 \n"
          ]
        }
      ]
    },
    {
      "cell_type": "code",
      "source": [
        "#Pattern 8\n",
        "\n",
        "for i in range(1,6):\n",
        "  for j in range(5,i,-1):\n",
        "    print(\" \", end=' ')\n",
        "  for k in range(2*i-1):\n",
        "    print(\"*\", end=' ')\n",
        "  print()"
      ],
      "metadata": {
        "colab": {
          "base_uri": "https://localhost:8080/"
        },
        "id": "KocfTWFy3P04",
        "outputId": "f8a1914f-8734-4add-b445-7fe4c0e28ccd"
      },
      "execution_count": null,
      "outputs": [
        {
          "output_type": "stream",
          "name": "stdout",
          "text": [
            "        * \n",
            "      * * * \n",
            "    * * * * * \n",
            "  * * * * * * * \n",
            "* * * * * * * * * \n"
          ]
        }
      ]
    },
    {
      "cell_type": "code",
      "source": [
        "#Pattern 9\n",
        "\n",
        "\n",
        "for i in range(5,0,-1):\n",
        "  for j in range(5,i,-1):\n",
        "    print(\" \", end=' ')\n",
        "  for k in range(2*i-1):\n",
        "    print(\"*\", end=' ')\n",
        "  print()"
      ],
      "metadata": {
        "colab": {
          "base_uri": "https://localhost:8080/"
        },
        "id": "kfdz0MY_3P4D",
        "outputId": "9df0d33b-d26e-4f53-9ccd-b592c083ca59"
      },
      "execution_count": null,
      "outputs": [
        {
          "output_type": "stream",
          "name": "stdout",
          "text": [
            "* * * * * * * * * \n",
            "  * * * * * * * \n",
            "    * * * * * \n",
            "      * * * \n",
            "        * \n"
          ]
        }
      ]
    },
    {
      "cell_type": "code",
      "source": [
        "#Pattern 9\n",
        "\n",
        "for i in range(1,6):\n",
        "  for j in range(5,i,-1):\n",
        "    print(\" \", end=' ')\n",
        "  for k in range(2*i-1):\n",
        "    print(\"*\", end=' ')\n",
        "  print()\n",
        "\n",
        "for i in range(5,0,-1):\n",
        "  for j in range(5,i,-1):\n",
        "    print(\" \", end=' ')\n",
        "  for k in range(2*i-1):\n",
        "    print(\"*\", end=' ')\n",
        "  print()"
      ],
      "metadata": {
        "colab": {
          "base_uri": "https://localhost:8080/"
        },
        "id": "8wSixK-ecKMi",
        "outputId": "75ebf3b4-5c66-44bb-ba11-1e504ed4f871"
      },
      "execution_count": null,
      "outputs": [
        {
          "output_type": "stream",
          "name": "stdout",
          "text": [
            "        * \n",
            "      * * * \n",
            "    * * * * * \n",
            "  * * * * * * * \n",
            "* * * * * * * * * \n",
            "* * * * * * * * * \n",
            "  * * * * * * * \n",
            "    * * * * * \n",
            "      * * * \n",
            "        * \n"
          ]
        }
      ]
    },
    {
      "cell_type": "code",
      "source": [
        "#Pattern 10\n",
        "\n",
        "\n",
        "for i in range(0,5):\n",
        "  for j in range(i+1):\n",
        "    print(\"*\", end=' ')\n",
        "  print()\n",
        "\n",
        "for i in range(6,0,-1):\n",
        "  for j in range(i):\n",
        "    print(\"*\", end=' ')\n",
        "  print()\n"
      ],
      "metadata": {
        "colab": {
          "base_uri": "https://localhost:8080/"
        },
        "id": "szKPUBGccKQc",
        "outputId": "560a07af-a2e7-405b-85b1-94538592434b"
      },
      "execution_count": null,
      "outputs": [
        {
          "output_type": "stream",
          "name": "stdout",
          "text": [
            "* \n",
            "* * \n",
            "* * * \n",
            "* * * * \n",
            "* * * * * \n",
            "* * * * * * \n",
            "* * * * * \n",
            "* * * * \n",
            "* * * \n",
            "* * \n",
            "* \n"
          ]
        }
      ]
    },
    {
      "cell_type": "code",
      "source": [
        "#Pattern 11\n",
        "\n",
        "for i in range(0,5):\n",
        "  for j in range(i+1):\n",
        "    print(\"*\",end=' ')\n",
        "  print()"
      ],
      "metadata": {
        "colab": {
          "base_uri": "https://localhost:8080/"
        },
        "id": "UalSa4DGcKT9",
        "outputId": "f4e24f9e-58b4-4159-fa66-f9f30c714995"
      },
      "execution_count": 41,
      "outputs": [
        {
          "output_type": "stream",
          "name": "stdout",
          "text": [
            "* \n",
            "* * \n",
            "* * * \n",
            "* * * * \n",
            "* * * * * \n"
          ]
        }
      ]
    },
    {
      "cell_type": "code",
      "source": [
        "#Pattern 12\n",
        "n=int(input(\"Enter the number of row: \"))\n",
        "space=2*(n-1)\n",
        "for i in range(1,n+1):\n",
        "  for j in range(1,i+1):\n",
        "    print(j, end='')\n",
        "  for k in range(1, space+1):\n",
        "    print(' ', end='')\n",
        "  for l in range(i,0,-1):\n",
        "    print(l, end='')\n",
        "  space=space-2\n",
        "  print()"
      ],
      "metadata": {
        "id": "xW6UU2pncKXO",
        "colab": {
          "base_uri": "https://localhost:8080/"
        },
        "outputId": "bce273ec-1119-4f01-f75e-4acf7528bd75"
      },
      "execution_count": 43,
      "outputs": [
        {
          "output_type": "stream",
          "name": "stdout",
          "text": [
            "Enter the number of row: 4\n",
            "1      1\n",
            "12    21\n",
            "123  321\n",
            "12344321\n"
          ]
        }
      ]
    },
    {
      "cell_type": "code",
      "source": [
        "#Pattern13\n",
        "\n",
        "n=int(input(\"Enter the number of row: \"))\n",
        "num=1\n",
        "for i in range(1,n+1):\n",
        "  for j in range(1,i+1):\n",
        "    print(num,end=' ')\n",
        "    num=num+1\n",
        "\n",
        "  print()"
      ],
      "metadata": {
        "id": "1bo6bUeR3P7b",
        "colab": {
          "base_uri": "https://localhost:8080/"
        },
        "outputId": "77c61cbe-94ee-4495-d769-2e83420f16e7"
      },
      "execution_count": 53,
      "outputs": [
        {
          "output_type": "stream",
          "name": "stdout",
          "text": [
            "Enter the number of row: 5\n",
            "1 \n",
            "2 3 \n",
            "4 5 6 \n",
            "7 8 9 10 \n",
            "11 12 13 14 15 \n"
          ]
        }
      ]
    },
    {
      "cell_type": "code",
      "source": [
        "#Pattern 14\n",
        "\n",
        "n=int(input(\"Enter the number of row: \"))\n",
        "for i in range(1,n+1):\n",
        "  for j in range(0,i):\n",
        "    print(chr(65+j), end=' ')\n",
        "  print()"
      ],
      "metadata": {
        "colab": {
          "base_uri": "https://localhost:8080/"
        },
        "id": "X5-sQJywMjfd",
        "outputId": "09bd9788-d3fa-429b-f8f8-d77cc8beec94"
      },
      "execution_count": 68,
      "outputs": [
        {
          "output_type": "stream",
          "name": "stdout",
          "text": [
            "Enter the number of row: 5\n",
            "A \n",
            "A B \n",
            "A B C \n",
            "A B C D \n",
            "A B C D E \n"
          ]
        }
      ]
    },
    {
      "cell_type": "code",
      "source": [],
      "metadata": {
        "colab": {
          "base_uri": "https://localhost:8080/",
          "height": 36
        },
        "id": "dN4PZqStMji0",
        "outputId": "766344ec-6e97-47d7-a447-646bfc808273"
      },
      "execution_count": 66,
      "outputs": [
        {
          "output_type": "execute_result",
          "data": {
            "text/plain": [
              "'A'"
            ],
            "application/vnd.google.colaboratory.intrinsic+json": {
              "type": "string"
            }
          },
          "metadata": {},
          "execution_count": 66
        }
      ]
    },
    {
      "cell_type": "code",
      "source": [
        "#Pattern 15\n",
        "\n",
        "n=int(input(\"Enter the number of row: \"))\n",
        "for i in range(n,0,-1):\n",
        "  for j in range(0,i):\n",
        "    print(chr(65+j), end=' ')\n",
        "  print()"
      ],
      "metadata": {
        "colab": {
          "base_uri": "https://localhost:8080/"
        },
        "outputId": "fdb74240-eaee-450b-9abd-2b17bf10a509",
        "id": "FXihscwrOCRj"
      },
      "execution_count": 71,
      "outputs": [
        {
          "output_type": "stream",
          "name": "stdout",
          "text": [
            "Enter the number of row: 5\n",
            "A B C D E \n",
            "A B C D \n",
            "A B C \n",
            "A B \n",
            "A \n"
          ]
        }
      ]
    },
    {
      "cell_type": "code",
      "source": [
        "#Pattern 16\n",
        "\n",
        "n=int(input(\"Enter the number of row: \"))\n",
        "for i in range(0,n):\n",
        "  for j in range(0,i+1):\n",
        "    print(chr(65+i), end=' ')\n",
        "  print()"
      ],
      "metadata": {
        "colab": {
          "base_uri": "https://localhost:8080/"
        },
        "outputId": "9a31ba52-afec-4bc7-c442-af150ee5410d",
        "id": "0dIwm9-iORxw"
      },
      "execution_count": 78,
      "outputs": [
        {
          "output_type": "stream",
          "name": "stdout",
          "text": [
            "Enter the number of row: 5\n",
            "A \n",
            "B B \n",
            "C C C \n",
            "D D D D \n",
            "E E E E E \n"
          ]
        }
      ]
    },
    {
      "cell_type": "code",
      "source": [
        "#Pattern 17\n",
        "\n",
        "n=int(input(\"Enter the number of row: \"))\n",
        "for i in range(1,n+1):\n",
        "  for j in range(0,i):\n",
        "    print(chr(65+j), end=' ')\n",
        "  print()"
      ],
      "metadata": {
        "colab": {
          "base_uri": "https://localhost:8080/"
        },
        "outputId": "09bd9788-d3fa-429b-f8f8-d77cc8beec94",
        "id": "nTrrAS_uOQuB"
      },
      "execution_count": null,
      "outputs": [
        {
          "output_type": "stream",
          "name": "stdout",
          "text": [
            "Enter the number of row: 5\n",
            "A \n",
            "A B \n",
            "A B C \n",
            "A B C D \n",
            "A B C D E \n"
          ]
        }
      ]
    },
    {
      "cell_type": "code",
      "source": [
        "#Pattern 17\n",
        "\n",
        "n=int(input(\"Enter the number of row: \"))\n",
        "for i in range(1,n+1):\n",
        "  for j in range(n,i,-1):\n",
        "    print(\" \", end=' ')\n",
        "  for k in range(2*i-1):\n",
        "    print(chr(65+i), end=' ')\n",
        "  print()"
      ],
      "metadata": {
        "colab": {
          "base_uri": "https://localhost:8080/"
        },
        "id": "O0cT4WJJMjpD",
        "outputId": "a571c364-0670-4f33-b1d0-1a1af685d2fc"
      },
      "execution_count": 97,
      "outputs": [
        {
          "output_type": "stream",
          "name": "stdout",
          "text": [
            "Enter the number of row: 4\n",
            "      B \n",
            "    C C C \n",
            "  D D D D D \n",
            "E E E E E E E \n"
          ]
        }
      ]
    },
    {
      "cell_type": "code",
      "source": [],
      "metadata": {
        "id": "oAtbWMGoMjsL"
      },
      "execution_count": null,
      "outputs": []
    }
  ]
}