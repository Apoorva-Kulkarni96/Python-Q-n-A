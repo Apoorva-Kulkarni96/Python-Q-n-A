{
  "cells": [
    {
      "cell_type": "markdown",
      "metadata": {
        "id": "QUhNlrFKdW_H"
      },
      "source": [
        "# DSML-Python Refresher 1\n",
        "\n",
        "**Agenda**\n",
        "1. Data Types\n",
        "2. Variables\n",
        "3. Inputs\n",
        "4. Operators\n",
        "5. Type Casting"
      ]
    },
    {
      "cell_type": "code",
      "execution_count": null,
      "metadata": {
        "id": "3HZvQQ6BfBcA"
      },
      "outputs": [],
      "source": []
    },
    {
      "cell_type": "code",
      "execution_count": null,
      "metadata": {
        "id": "fk4VGLX2fBcA"
      },
      "outputs": [],
      "source": []
    },
    {
      "cell_type": "code",
      "execution_count": null,
      "metadata": {
        "id": "L5MTIKGDfBcB"
      },
      "outputs": [],
      "source": [
        "c = 7.8"
      ]
    },
    {
      "cell_type": "code",
      "execution_count": null,
      "metadata": {
        "id": "YirCM86gfBcB",
        "outputId": "832c511a-6b3b-4ce8-f064-d88ea6c70113"
      },
      "outputs": [
        {
          "data": {
            "text/plain": [
              "float"
            ]
          },
          "execution_count": 6,
          "metadata": {},
          "output_type": "execute_result"
        }
      ],
      "source": [
        "type(c)"
      ]
    },
    {
      "cell_type": "code",
      "execution_count": null,
      "metadata": {
        "id": "Jx0zaS6UfBcC"
      },
      "outputs": [],
      "source": [
        "10 + 4j"
      ]
    },
    {
      "cell_type": "code",
      "execution_count": null,
      "metadata": {
        "id": "Mu1RMfh4fBcC"
      },
      "outputs": [],
      "source": []
    },
    {
      "cell_type": "code",
      "execution_count": null,
      "metadata": {
        "id": "XgaW98tzfBcD",
        "outputId": "68fdb4cb-df91-4110-836f-3c3e7cd500db"
      },
      "outputs": [
        {
          "name": "stdout",
          "output_type": "stream",
          "text": [
            "None\n"
          ]
        }
      ],
      "source": [
        "print(None) #this is my first code in pyt"
      ]
    },
    {
      "cell_type": "code",
      "execution_count": null,
      "metadata": {
        "id": "8q9OZQvffBcE",
        "outputId": "79113648-fca6-49d2-85d5-0846e9336cfb"
      },
      "outputs": [
        {
          "name": "stdout",
          "output_type": "stream",
          "text": [
            "<class 'str'>\n"
          ]
        }
      ],
      "source": [
        "print(type(\"My name is Akash\"))"
      ]
    },
    {
      "cell_type": "code",
      "execution_count": null,
      "metadata": {
        "id": "xBXkpPipfBcE"
      },
      "outputs": [],
      "source": []
    },
    {
      "cell_type": "code",
      "execution_count": null,
      "metadata": {
        "id": "90TXg5hNfBcE"
      },
      "outputs": [],
      "source": []
    },
    {
      "cell_type": "code",
      "execution_count": null,
      "metadata": {
        "id": "ZKCzyLEbfBcE"
      },
      "outputs": [],
      "source": []
    },
    {
      "cell_type": "code",
      "execution_count": null,
      "metadata": {
        "id": "RUOz4zlAfBcE"
      },
      "outputs": [],
      "source": []
    },
    {
      "cell_type": "code",
      "execution_count": null,
      "metadata": {
        "id": "2DXaRqhTfBcF"
      },
      "outputs": [],
      "source": []
    },
    {
      "cell_type": "code",
      "execution_count": null,
      "metadata": {
        "id": "11hdxnILfBcF"
      },
      "outputs": [],
      "source": []
    },
    {
      "cell_type": "markdown",
      "metadata": {
        "id": "lDuFKPV5daaZ"
      },
      "source": [
        "#**`Python Data Types`**"
      ]
    },
    {
      "cell_type": "markdown",
      "metadata": {
        "id": "Wb5AxDQddbDI"
      },
      "source": [
        "Python data types define the nature of data that can be stored in a variable. Common data types include integers, floats, strings, and booleans.\n",
        "\n",
        "*   int: Represents whole numbers (e.g., 42)\n",
        "*   float: Represents decimal numbers (e.g., 3.14)\n",
        "*   str: Represents strings of characters (e.g., \"Hello, World!\")\n",
        "*   bool: Represents boolean values (e.g., True or False)"
      ]
    },
    {
      "cell_type": "code",
      "execution_count": null,
      "metadata": {
        "colab": {
          "base_uri": "https://localhost:8080/"
        },
        "id": "tU1S5eAUdgm2",
        "outputId": "cdfce3d9-5413-404a-ef98-48fee55e93fc"
      },
      "outputs": [
        {
          "name": "stdout",
          "output_type": "stream",
          "text": [
            "213456789823456789091234567893234567890987654323456789876543\n"
          ]
        }
      ],
      "source": [
        "print(213456789823456789091234567893234567890987654323456789876543)"
      ]
    },
    {
      "cell_type": "code",
      "execution_count": null,
      "metadata": {
        "colab": {
          "base_uri": "https://localhost:8080/"
        },
        "id": "Aiyae9S6dhE_",
        "outputId": "5d7774e5-02f8-43d5-937c-57a8dc9b492a"
      },
      "outputs": [
        {
          "name": "stdout",
          "output_type": "stream",
          "text": [
            "4.234567898765432\n"
          ]
        }
      ],
      "source": [
        "print(4.2345678987654323456789)"
      ]
    },
    {
      "cell_type": "code",
      "execution_count": null,
      "metadata": {
        "colab": {
          "base_uri": "https://localhost:8080/"
        },
        "id": "bVa_DtBhdj9H",
        "outputId": "2578ddf0-c335-4784-ccd4-24bfde6b4b6e"
      },
      "outputs": [
        {
          "name": "stdout",
          "output_type": "stream",
          "text": [
            "True\n"
          ]
        }
      ],
      "source": [
        "print(True)"
      ]
    },
    {
      "cell_type": "code",
      "execution_count": null,
      "metadata": {
        "colab": {
          "base_uri": "https://localhost:8080/"
        },
        "id": "qtEg0Y9ydkpN",
        "outputId": "aff00513-daf7-4b39-9b96-1e96d5350666"
      },
      "outputs": [
        {
          "name": "stdout",
          "output_type": "stream",
          "text": [
            "False\n"
          ]
        }
      ],
      "source": [
        "print(False)"
      ]
    },
    {
      "cell_type": "code",
      "execution_count": null,
      "metadata": {
        "colab": {
          "base_uri": "https://localhost:8080/"
        },
        "id": "PX0xoogRdmWS",
        "outputId": "330cfb8c-e06a-46fa-fa84-3ed4baf4ff42"
      },
      "outputs": [
        {
          "name": "stdout",
          "output_type": "stream",
          "text": [
            "Both double quotes!\n"
          ]
        }
      ],
      "source": [
        "print(\"Both double quotes!\")"
      ]
    },
    {
      "cell_type": "code",
      "execution_count": null,
      "metadata": {
        "colab": {
          "base_uri": "https://localhost:8080/"
        },
        "id": "bUw19eTQdn6T",
        "outputId": "7693dff8-c7dc-433f-98f8-73a54cb6c290"
      },
      "outputs": [
        {
          "name": "stdout",
          "output_type": "stream",
          "text": [
            "Both single quotes!\n"
          ]
        }
      ],
      "source": [
        "print('Both single quotes!')"
      ]
    },
    {
      "cell_type": "code",
      "execution_count": null,
      "metadata": {
        "colab": {
          "base_uri": "https://localhost:8080/",
          "height": 106
        },
        "id": "C_ZyvtHXdpVG",
        "outputId": "b4592f94-54aa-495c-fe4c-820b15093ffb"
      },
      "outputs": [
        {
          "ename": "SyntaxError",
          "evalue": "unterminated string literal (detected at line 1) (<ipython-input-7-c640cfc9bae5>, line 1)",
          "output_type": "error",
          "traceback": [
            "\u001b[0;36m  File \u001b[0;32m\"<ipython-input-7-c640cfc9bae5>\"\u001b[0;36m, line \u001b[0;32m1\u001b[0m\n\u001b[0;31m    print(\"This is not okay!')\u001b[0m\n\u001b[0m          ^\u001b[0m\n\u001b[0;31mSyntaxError\u001b[0m\u001b[0;31m:\u001b[0m unterminated string literal (detected at line 1)\n"
          ]
        }
      ],
      "source": [
        "print(\"This is not okay!')\n",
        "\n",
        "# COMBINATION OF DOUBLE AND SINGLE QUOTE IS NOT ALLOWED!"
      ]
    },
    {
      "cell_type": "code",
      "execution_count": null,
      "metadata": {
        "colab": {
          "base_uri": "https://localhost:8080/"
        },
        "id": "CBcoAo4_drH8",
        "outputId": "f3d6471d-669e-4914-9cad-8e2e4053f82b"
      },
      "outputs": [
        {
          "name": "stdout",
          "output_type": "stream",
          "text": [
            "(4+6j)\n"
          ]
        }
      ],
      "source": [
        "print(4 + 6j)"
      ]
    },
    {
      "cell_type": "code",
      "execution_count": null,
      "metadata": {
        "colab": {
          "base_uri": "https://localhost:8080/"
        },
        "id": "adZgtabCdt-L",
        "outputId": "500ee248-bc43-4386-8594-a9b471c950d8"
      },
      "outputs": [
        {
          "name": "stdout",
          "output_type": "stream",
          "text": [
            "None\n"
          ]
        }
      ],
      "source": [
        "print(None)"
      ]
    },
    {
      "cell_type": "code",
      "execution_count": null,
      "metadata": {
        "colab": {
          "base_uri": "https://localhost:8080/"
        },
        "id": "Agx_cUBWdwOd",
        "outputId": "499e3f43-fcb9-48fc-8291-db5bc7864e19"
      },
      "outputs": [
        {
          "name": "stdout",
          "output_type": "stream",
          "text": [
            "<class 'int'>\n"
          ]
        }
      ],
      "source": [
        "print(type(5))"
      ]
    },
    {
      "cell_type": "code",
      "execution_count": null,
      "metadata": {
        "colab": {
          "base_uri": "https://localhost:8080/"
        },
        "id": "kng1lU19dylb",
        "outputId": "9c7bbc4c-aad4-42b6-bacc-e8d96aaf5ef5"
      },
      "outputs": [
        {
          "name": "stdout",
          "output_type": "stream",
          "text": [
            "<class 'float'>\n"
          ]
        }
      ],
      "source": [
        "print(type(5.0))"
      ]
    },
    {
      "cell_type": "code",
      "execution_count": null,
      "metadata": {
        "colab": {
          "base_uri": "https://localhost:8080/"
        },
        "id": "lmKzgpcBd0F4",
        "outputId": "2b6a7fe2-a960-439f-ed81-03d3efcd67d4"
      },
      "outputs": [
        {
          "name": "stdout",
          "output_type": "stream",
          "text": [
            "<class 'str'>\n"
          ]
        }
      ],
      "source": [
        "print(type(\"What type am i?\"))"
      ]
    },
    {
      "cell_type": "code",
      "execution_count": null,
      "metadata": {
        "colab": {
          "base_uri": "https://localhost:8080/"
        },
        "id": "LeqwVhGNd14e",
        "outputId": "6c4f5a7c-5bc6-4037-bd15-0a0b34ffeb49"
      },
      "outputs": [
        {
          "name": "stdout",
          "output_type": "stream",
          "text": [
            "<class 'bool'>\n"
          ]
        }
      ],
      "source": [
        "print(type(False))"
      ]
    },
    {
      "cell_type": "code",
      "execution_count": null,
      "metadata": {
        "colab": {
          "base_uri": "https://localhost:8080/",
          "height": 141
        },
        "id": "Wft0wvtJd3g_",
        "outputId": "a0cd2fd0-1011-4ffb-9695-005e9cd60550"
      },
      "outputs": [
        {
          "ename": "NameError",
          "evalue": "name 'Type' is not defined",
          "output_type": "error",
          "traceback": [
            "\u001b[0;31m---------------------------------------------------------------------------\u001b[0m",
            "\u001b[0;31mNameError\u001b[0m                                 Traceback (most recent call last)",
            "\u001b[0;32m<ipython-input-17-291dbac5d4f1>\u001b[0m in \u001b[0;36m<cell line: 1>\u001b[0;34m()\u001b[0m\n\u001b[0;32m----> 1\u001b[0;31m \u001b[0mprint\u001b[0m\u001b[0;34m(\u001b[0m\u001b[0mType\u001b[0m\u001b[0;34m(\u001b[0m\u001b[0;32mTrue\u001b[0m\u001b[0;34m)\u001b[0m\u001b[0;34m)\u001b[0m\u001b[0;34m\u001b[0m\u001b[0;34m\u001b[0m\u001b[0m\n\u001b[0m",
            "\u001b[0;31mNameError\u001b[0m: name 'Type' is not defined"
          ]
        }
      ],
      "source": [
        "print(Type(True))"
      ]
    },
    {
      "cell_type": "code",
      "execution_count": null,
      "metadata": {
        "colab": {
          "base_uri": "https://localhost:8080/"
        },
        "id": "qRMOuPWwd72d",
        "outputId": "1be6c66c-ad3d-46e6-8d2d-5460405686dd"
      },
      "outputs": [
        {
          "name": "stdout",
          "output_type": "stream",
          "text": [
            "<class 'bool'>\n"
          ]
        }
      ],
      "source": [
        "print(type(True))"
      ]
    },
    {
      "cell_type": "code",
      "execution_count": null,
      "metadata": {
        "colab": {
          "base_uri": "https://localhost:8080/"
        },
        "id": "_o1ICgr0eBwN",
        "outputId": "887de40b-4c76-41b0-a03d-05403e8f0c41"
      },
      "outputs": [
        {
          "name": "stdout",
          "output_type": "stream",
          "text": [
            "<class 'complex'>\n"
          ]
        }
      ],
      "source": [
        "print(type(6+4j))"
      ]
    },
    {
      "cell_type": "markdown",
      "metadata": {
        "id": "luC246EYeEbO"
      },
      "source": [
        "#**`Python Variables`**"
      ]
    },
    {
      "cell_type": "markdown",
      "metadata": {
        "id": "JEot_pBdeHf1"
      },
      "source": [
        "In Python, variables are like containers that store data values. They are essential for working with data because they allow you to save, manipulate, and reference values in your programs. Here's a deeper dive into how Python variables work:\n",
        "\n",
        "* **Variable Declaration: **You declare a variable by giving it a name. Variable names are case-sensitive, so \"myVar\" and \"myvar\" are considered different variables.\n",
        "* **Assigning Values:** You can assign a value to a variable using the assignment operator =. The variable name is on the left side of the = sign, and the value you want to store is on the right side.\n",
        "* **Data Types:** Python is dynamically typed, which means you don't need to explicitly specify the data type of a variable. Python determines the data type automatically based on the assigned value.\n",
        "\n",
        "**Variable Naming Rules:**\n",
        "1. Variable names must start with a letter (a-z, A-Z) or an underscore (_).\n",
        "2. The rest of the variable name can contain letters, digits (0-9), and underscores.\n",
        "3. Variable names are case-sensitive, so myVar and myvar are different.\n",
        "4. Variable names cannot be a Python keyword (e.g., if, while, for, in, True, False, etc.).\n",
        "\n",
        "* **Reassigning Values: **You can change the value of a variable by simply assigning a new value to it.\n",
        "\n",
        "x = 10\n",
        "x = 20  # Now, x contains the value 20\n",
        "* **Multiple Assignment:** Python allows you to assign values to multiple variables in a single line.\n",
        "\n",
        "a, b, c = 10, 20, 30\n",
        "\n",
        "* **Variable Scope:** The scope of a variable defines where in the code that variable can be accessed. There are global and local variables. Global variables are accessible throughout the entire program, while local variables are limited to the scope of a function or block of code.\n",
        "* **Best Practices:** It's good practice to use meaningful variable names to make your code more readable. For example, if you are storing a person's age, a variable name like age is more meaningful than x. Additionally, variables should be used to make your code more self-explanatory and maintainable."
      ]
    },
    {
      "cell_type": "code",
      "execution_count": null,
      "metadata": {
        "id": "RxIme-x4eKGT"
      },
      "outputs": [],
      "source": [
        "x = 5 # Defining a variable"
      ]
    },
    {
      "cell_type": "code",
      "execution_count": null,
      "metadata": {
        "colab": {
          "base_uri": "https://localhost:8080/"
        },
        "id": "HHyLogMSeOKT",
        "outputId": "22650e7f-2623-47a5-aaad-677537f750e1"
      },
      "outputs": [
        {
          "name": "stdout",
          "output_type": "stream",
          "text": [
            "5\n"
          ]
        }
      ],
      "source": [
        "print(x)"
      ]
    },
    {
      "cell_type": "code",
      "execution_count": null,
      "metadata": {
        "colab": {
          "base_uri": "https://localhost:8080/"
        },
        "id": "osfrFAzwePgA",
        "outputId": "3ff464fd-e655-4394-9073-7c51d9dcf65d"
      },
      "outputs": [
        {
          "name": "stdout",
          "output_type": "stream",
          "text": [
            "<class 'int'>\n"
          ]
        }
      ],
      "source": [
        "print(type())"
      ]
    },
    {
      "cell_type": "code",
      "execution_count": null,
      "metadata": {
        "id": "LpIsUIs3eUAr"
      },
      "outputs": [],
      "source": [
        "y = \"the variable can be any value!\""
      ]
    },
    {
      "cell_type": "code",
      "execution_count": null,
      "metadata": {
        "colab": {
          "base_uri": "https://localhost:8080/"
        },
        "id": "29SEZ51TeW_a",
        "outputId": "5507e5fa-e76b-463e-95d0-5fdd86258484"
      },
      "outputs": [
        {
          "name": "stdout",
          "output_type": "stream",
          "text": [
            "the variable can be any value!\n"
          ]
        }
      ],
      "source": [
        "print(y)"
      ]
    },
    {
      "cell_type": "code",
      "execution_count": null,
      "metadata": {
        "id": "xg6jznNveY0p"
      },
      "outputs": [],
      "source": [
        "# There are 2 rules to creating variables in Python\n",
        "# 1. Variable name can only start with alphabets or _ (underscore)\n",
        "# 2. After the start, you can have any alphabet, number or _ in the name"
      ]
    },
    {
      "cell_type": "code",
      "execution_count": null,
      "metadata": {
        "id": "QbmebWpLeb86"
      },
      "outputs": [],
      "source": [
        "random = 123"
      ]
    },
    {
      "cell_type": "code",
      "execution_count": null,
      "metadata": {
        "id": "mU9xXtKjeeGH"
      },
      "outputs": [],
      "source": [
        "Random = 123"
      ]
    },
    {
      "cell_type": "code",
      "execution_count": null,
      "metadata": {
        "id": "gYOidoUeegMT"
      },
      "outputs": [],
      "source": [
        "_random = 123"
      ]
    },
    {
      "cell_type": "code",
      "execution_count": null,
      "metadata": {
        "colab": {
          "base_uri": "https://localhost:8080/",
          "height": 106
        },
        "id": "wudzrvvsehnK",
        "outputId": "e85736a9-de9d-49b4-c008-33277cdb09fc"
      },
      "outputs": [
        {
          "ename": "SyntaxError",
          "evalue": "invalid decimal literal (<ipython-input-29-33f311e94f70>, line 1)",
          "output_type": "error",
          "traceback": [
            "\u001b[0;36m  File \u001b[0;32m\"<ipython-input-29-33f311e94f70>\"\u001b[0;36m, line \u001b[0;32m1\u001b[0m\n\u001b[0;31m    123random = 123 # a number can't be the starting of a variable\u001b[0m\n\u001b[0m      ^\u001b[0m\n\u001b[0;31mSyntaxError\u001b[0m\u001b[0;31m:\u001b[0m invalid decimal literal\n"
          ]
        }
      ],
      "source": [
        "123random = 123 # a number can't be the starting of a variable"
      ]
    },
    {
      "cell_type": "code",
      "execution_count": null,
      "metadata": {
        "id": "rltJWJHKejOv"
      },
      "outputs": [],
      "source": [
        "random123 = 123"
      ]
    },
    {
      "cell_type": "code",
      "execution_count": null,
      "metadata": {
        "id": "DIS2bYhzekvG"
      },
      "outputs": [],
      "source": [
        "random_123 = 123"
      ]
    },
    {
      "cell_type": "code",
      "execution_count": null,
      "metadata": {
        "id": "27p370Qsemj1"
      },
      "outputs": [],
      "source": [
        "Random_something_123 = 123"
      ]
    },
    {
      "cell_type": "code",
      "execution_count": null,
      "metadata": {
        "colab": {
          "base_uri": "https://localhost:8080/",
          "height": 106
        },
        "id": "6cxyedSgen-u",
        "outputId": "280eaacc-3a4e-4fce-ff51-b3636e1311db"
      },
      "outputs": [
        {
          "ename": "SyntaxError",
          "evalue": "cannot assign to expression here. Maybe you meant '==' instead of '='? (<ipython-input-33-575a6c03f067>, line 1)",
          "output_type": "error",
          "traceback": [
            "\u001b[0;36m  File \u001b[0;32m\"<ipython-input-33-575a6c03f067>\"\u001b[0;36m, line \u001b[0;32m1\u001b[0m\n\u001b[0;31m    random@123 = 123\u001b[0m\n\u001b[0m    ^\u001b[0m\n\u001b[0;31mSyntaxError\u001b[0m\u001b[0;31m:\u001b[0m cannot assign to expression here. Maybe you meant '==' instead of '='?\n"
          ]
        }
      ],
      "source": [
        "random@123 = 123"
      ]
    },
    {
      "cell_type": "code",
      "execution_count": null,
      "metadata": {
        "colab": {
          "base_uri": "https://localhost:8080/"
        },
        "id": "CGJlemCrepeD",
        "outputId": "aa2986a2-e3da-46b2-fa77-ceedb83953ae"
      },
      "outputs": [
        {
          "name": "stdout",
          "output_type": "stream",
          "text": [
            "56 6.7 random True\n"
          ]
        }
      ],
      "source": [
        "print(56,6.7,\"random\",True)"
      ]
    },
    {
      "cell_type": "code",
      "execution_count": null,
      "metadata": {
        "colab": {
          "base_uri": "https://localhost:8080/"
        },
        "id": "yPPVyYDkerS5",
        "outputId": "90b46c90-b007-4c38-b54f-6954161aab79"
      },
      "outputs": [
        {
          "name": "stdout",
          "output_type": "stream",
          "text": [
            "56 + 6.7 + random + True\n"
          ]
        }
      ],
      "source": [
        "print(56,\"+\",6.7,\"+\",\"random\",\"+\",True)"
      ]
    },
    {
      "cell_type": "code",
      "execution_count": null,
      "metadata": {
        "colab": {
          "base_uri": "https://localhost:8080/"
        },
        "id": "ZJEIPJmgetRm",
        "outputId": "3c3677b1-9fb8-4974-b6b0-15b7c6bd912b"
      },
      "outputs": [
        {
          "name": "stdout",
          "output_type": "stream",
          "text": [
            "56+6.7+random+True\n"
          ]
        }
      ],
      "source": [
        "print(56, 6.7, \"random\", True, sep = \"+\")"
      ]
    },
    {
      "cell_type": "code",
      "execution_count": null,
      "metadata": {
        "colab": {
          "base_uri": "https://localhost:8080/"
        },
        "id": "Zdbqlf_3evad",
        "outputId": "b9dbc205-0182-48fd-ff2e-80a93fa86660"
      },
      "outputs": [
        {
          "name": "stdout",
          "output_type": "stream",
          "text": [
            "56     6.7     random     True\n"
          ]
        }
      ],
      "source": [
        "print(56, 6.7, \"random\", True, sep = \"     \")"
      ]
    },
    {
      "cell_type": "code",
      "execution_count": null,
      "metadata": {
        "colab": {
          "base_uri": "https://localhost:8080/"
        },
        "id": "upwbVBG0exTD",
        "outputId": "d5e0e037-42ce-43d6-f37e-fc0e07926f54"
      },
      "outputs": [
        {
          "name": "stdout",
          "output_type": "stream",
          "text": [
            "56__+__6.7__+__random__+__True\n"
          ]
        }
      ],
      "source": [
        "print(56, 6.7, \"random\", True, sep = \"__+__\")"
      ]
    },
    {
      "cell_type": "code",
      "execution_count": null,
      "metadata": {
        "colab": {
          "base_uri": "https://localhost:8080/"
        },
        "id": "VVq8f_OTezMf",
        "outputId": "447fb2df-941f-4fea-8d44-c5736fcf5f0f"
      },
      "outputs": [
        {
          "name": "stdout",
          "output_type": "stream",
          "text": [
            "56!RANDOM!6.7!RANDOM!random!RANDOM!True\n"
          ]
        }
      ],
      "source": [
        "print(56, 6.7, \"random\", True, sep = \"!RANDOM!\")"
      ]
    },
    {
      "cell_type": "code",
      "execution_count": null,
      "metadata": {
        "colab": {
          "base_uri": "https://localhost:8080/"
        },
        "id": "7SxXdUFBe0h5",
        "outputId": "d325c889-d2db-4087-f25c-6093fd673407"
      },
      "outputs": [
        {
          "name": "stdout",
          "output_type": "stream",
          "text": [
            "566.7randomTrue\n"
          ]
        }
      ],
      "source": [
        "print(56, 6.7, \"random\", True, sep = \"\")"
      ]
    },
    {
      "cell_type": "code",
      "execution_count": null,
      "metadata": {
        "colab": {
          "base_uri": "https://localhost:8080/"
        },
        "id": "BQO8yqJZe2Nh",
        "outputId": "2b1e220e-c804-4000-8844-512e379097ef"
      },
      "outputs": [
        {
          "name": "stdout",
          "output_type": "stream",
          "text": [
            "line 1\n",
            "line 2\n",
            "line 3\n"
          ]
        }
      ],
      "source": [
        "print(\"line 1\") # the default end character after print is \\n -> Enter / Next Line\n",
        "print(\"line 2\")\n",
        "print(\"line 3\")"
      ]
    },
    {
      "cell_type": "code",
      "execution_count": null,
      "metadata": {
        "colab": {
          "base_uri": "https://localhost:8080/"
        },
        "id": "tu8_NZcCe3_e",
        "outputId": "a3444692-caba-4282-96a7-a451341e1040"
      },
      "outputs": [
        {
          "name": "stdout",
          "output_type": "stream",
          "text": [
            "line 1 - line 2\n",
            "line 3\n"
          ]
        }
      ],
      "source": [
        "print(\"line 1\", end = \" - \")\n",
        "print(\"line 2\") # This still ends with a \\n\n",
        "print(\"line 3\")"
      ]
    },
    {
      "cell_type": "code",
      "execution_count": null,
      "metadata": {
        "colab": {
          "base_uri": "https://localhost:8080/"
        },
        "id": "0ndQtvdNe6BI",
        "outputId": "9d2ab574-855c-4437-8331-bd3c616d10df"
      },
      "outputs": [
        {
          "name": "stdout",
          "output_type": "stream",
          "text": [
            "1+2+3THIS IS THE END!4_5\n"
          ]
        }
      ],
      "source": [
        "print(1, 2, 3, sep = \"+\", end = \"THIS IS THE END!\")\n",
        "print(4, 5, sep = \"_\")"
      ]
    },
    {
      "cell_type": "code",
      "execution_count": null,
      "metadata": {
        "id": "ao7V7eKZe9Nk"
      },
      "outputs": [],
      "source": [
        "# DEFAULT VALUES\n",
        "# sep - \" \"\n",
        "# end - \"\\n\""
      ]
    },
    {
      "cell_type": "code",
      "execution_count": null,
      "metadata": {
        "colab": {
          "base_uri": "https://localhost:8080/"
        },
        "id": "kwYAUCzse_CH",
        "outputId": "0151faab-559a-4959-b358-d70c03bfe6c3"
      },
      "outputs": [
        {
          "name": "stdout",
          "output_type": "stream",
          "text": [
            "1\n",
            "2\n",
            "3\n",
            "4\n",
            "5\n"
          ]
        }
      ],
      "source": [
        "print(1, 2, 3, 4, 5, sep = \"\\n\")"
      ]
    },
    {
      "cell_type": "code",
      "execution_count": null,
      "metadata": {
        "id": "fC2Qh1m9fBcO",
        "outputId": "af778191-3fe3-47ac-a74c-dc3b4f90ad51"
      },
      "outputs": [
        {
          "name": "stdout",
          "output_type": "stream",
          "text": [
            "1\n",
            "\n",
            "\n",
            "2\n",
            "3\n",
            "4\n",
            "5\n"
          ]
        }
      ],
      "source": [
        "print(1,'\\n', 2, 3, 4, 5, sep = \"\\n\")"
      ]
    },
    {
      "cell_type": "code",
      "execution_count": null,
      "metadata": {
        "id": "XLQrFRUIfBcP"
      },
      "outputs": [],
      "source": [
        "print()"
      ]
    },
    {
      "cell_type": "code",
      "execution_count": null,
      "metadata": {
        "id": "S6eAM_GzfAn0"
      },
      "outputs": [],
      "source": [
        "x = 12345"
      ]
    },
    {
      "cell_type": "code",
      "execution_count": null,
      "metadata": {
        "id": "IkzcLr24fDb_"
      },
      "outputs": [],
      "source": [
        "y = x"
      ]
    },
    {
      "cell_type": "code",
      "execution_count": null,
      "metadata": {
        "colab": {
          "base_uri": "https://localhost:8080/"
        },
        "id": "MctbSQZMfE6V",
        "outputId": "5040a9e1-d9f8-48e4-d5c2-8b66c86c9cd3"
      },
      "outputs": [
        {
          "name": "stdout",
          "output_type": "stream",
          "text": [
            "12345\n"
          ]
        }
      ],
      "source": [
        "print(x)"
      ]
    },
    {
      "cell_type": "code",
      "execution_count": null,
      "metadata": {
        "colab": {
          "base_uri": "https://localhost:8080/"
        },
        "id": "jMLC8rTsfGdu",
        "outputId": "07b11625-b3c6-4feb-c877-e8619f8304fd"
      },
      "outputs": [
        {
          "name": "stdout",
          "output_type": "stream",
          "text": [
            "12345\n"
          ]
        }
      ],
      "source": [
        "print(x)"
      ]
    },
    {
      "cell_type": "code",
      "execution_count": null,
      "metadata": {
        "colab": {
          "base_uri": "https://localhost:8080/"
        },
        "id": "exeevGWvfICg",
        "outputId": "36abc49f-5a52-4635-a0f4-40ac3f19f40c"
      },
      "outputs": [
        {
          "name": "stdout",
          "output_type": "stream",
          "text": [
            "12345\n"
          ]
        }
      ],
      "source": [
        "print(y)"
      ]
    },
    {
      "cell_type": "markdown",
      "metadata": {
        "id": "uu_Nens4fOoH"
      },
      "source": [
        "#**Python Inputs**\n",
        "\n"
      ]
    },
    {
      "cell_type": "markdown",
      "metadata": {
        "id": "ObJbkkyofRPI"
      },
      "source": [
        "In Python, you can gather user input using the input() function. This function allows your program to pause and await the user's input, which is then stored in a variable.\n",
        "\n",
        "The input() function is your gateway to accepting user input from the keyboard. It takes a single argument, which is a string that serves as a prompt or message to the user. This prompt should provide information or instructions to the user regarding the expected input.\n",
        "\n",
        "```\n",
        "name = input(\"Enter your name: \")\n",
        "```\n",
        "Here, \"Enter your name: \" is the user prompt, asking the user to input their name.\n",
        "\n",
        "* **User Interaction:** When the input() function is encountered during program execution, it initiates a pause, waiting for the user to type something in the console. In the example provided, the program will display \"Enter your name: \" on the console, prompting the user to input their name. The user is then expected to type their name and press \"Enter.\"\n",
        "* **Data Type:** It's important to note that the input() function always returns the input as a string, regardless of what the user enters. This means that the value stored in the variable name in the example will be a string, even if the user enters a number or any other data. If you need the input to be treated as a different data type (e.g., integer or float), you must perform type casting explicitly, as demonstrated in this code:\n",
        "\n",
        "```\n",
        "age = input(\"Enter your age: \")\n",
        "age = int(age)  # Convert the input to an integer\n",
        "```\n",
        "In this example, the input is first accepted as a string, and then the int() function is used to explicitly convert it to an integer data type."
      ]
    },
    {
      "cell_type": "code",
      "execution_count": null,
      "metadata": {
        "colab": {
          "base_uri": "https://localhost:8080/"
        },
        "id": "9EgIQ9ePfR1V",
        "outputId": "1d565607-5fb1-43b0-d873-3c1a3931018c"
      },
      "outputs": [
        {
          "name": "stdout",
          "output_type": "stream",
          "text": [
            "this is user input\n"
          ]
        }
      ],
      "source": [
        "any_variable_name = input()"
      ]
    },
    {
      "cell_type": "code",
      "execution_count": null,
      "metadata": {
        "colab": {
          "base_uri": "https://localhost:8080/"
        },
        "id": "u7lmJk9lfTuN",
        "outputId": "54921ba4-c9d1-45b0-e8d6-a44ffd82f4c2"
      },
      "outputs": [
        {
          "metadata": {
            "tags": null
          },
          "name": "stdout",
          "output_type": "stream",
          "text": [
            "<class 'str'>\n"
          ]
        }
      ],
      "source": [
        "print(type(any_variable_name))"
      ]
    },
    {
      "cell_type": "code",
      "execution_count": null,
      "metadata": {
        "colab": {
          "base_uri": "https://localhost:8080/"
        },
        "id": "Zq7NQRVSfVsB",
        "outputId": "544d485f-9313-4b25-e5fc-9b75f112c4f9"
      },
      "outputs": [
        {
          "metadata": {
            "tags": null
          },
          "name": "stdout",
          "output_type": "stream",
          "text": [
            "this is user input\n"
          ]
        }
      ],
      "source": [
        "print(any_variable_name)"
      ]
    },
    {
      "cell_type": "code",
      "execution_count": null,
      "metadata": {
        "colab": {
          "base_uri": "https://localhost:8080/"
        },
        "id": "Wh3Sc1cbfavL",
        "outputId": "55635dcf-33e3-44a2-d823-83a9b8d3eafa"
      },
      "outputs": [
        {
          "name": "stdout",
          "output_type": "stream",
          "text": [
            "120\n"
          ]
        }
      ],
      "source": [
        "num1 = input()"
      ]
    },
    {
      "cell_type": "code",
      "execution_count": null,
      "metadata": {
        "colab": {
          "base_uri": "https://localhost:8080/"
        },
        "id": "xNp71umDfcWp",
        "outputId": "07fe26f1-30f2-4af1-c338-42b1a4d6aa69"
      },
      "outputs": [
        {
          "name": "stdout",
          "output_type": "stream",
          "text": [
            "<class 'str'>\n"
          ]
        }
      ],
      "source": [
        "print(type(num1))"
      ]
    },
    {
      "cell_type": "code",
      "execution_count": null,
      "metadata": {
        "colab": {
          "base_uri": "https://localhost:8080/"
        },
        "id": "HqVoYM8_fc1p",
        "outputId": "913bf99f-a081-4d62-9b9a-97911a199e82"
      },
      "outputs": [
        {
          "name": "stdout",
          "output_type": "stream",
          "text": [
            "120\n",
            "130\n",
            "120130\n"
          ]
        }
      ],
      "source": [
        "num1 = input()\n",
        "num2 = input()\n",
        "\n",
        "print(num1 + num2)"
      ]
    },
    {
      "cell_type": "code",
      "execution_count": null,
      "metadata": {
        "colab": {
          "base_uri": "https://localhost:8080/"
        },
        "id": "NP5BoE8Dff4b",
        "outputId": "d308178e-0d2b-435a-eb88-f9b4170943d3"
      },
      "outputs": [
        {
          "name": "stdout",
          "output_type": "stream",
          "text": [
            "1015\n"
          ]
        }
      ],
      "source": [
        "print(\"10\" + \"15\")"
      ]
    },
    {
      "cell_type": "code",
      "execution_count": null,
      "metadata": {
        "id": "Omxbge9Zfh3L"
      },
      "outputs": [],
      "source": [
        "x = \"12345\""
      ]
    },
    {
      "cell_type": "code",
      "execution_count": null,
      "metadata": {
        "id": "D_rXk73AfqqU"
      },
      "outputs": [],
      "source": [
        "x_int = int(x)"
      ]
    },
    {
      "cell_type": "code",
      "execution_count": null,
      "metadata": {
        "colab": {
          "base_uri": "https://localhost:8080/"
        },
        "id": "L0D38pimfsNv",
        "outputId": "6a664cbb-f0f2-4867-de0f-da0f64a8311c"
      },
      "outputs": [
        {
          "name": "stdout",
          "output_type": "stream",
          "text": [
            "<class 'int'>\n"
          ]
        }
      ],
      "source": [
        "print(type(x_int))"
      ]
    },
    {
      "cell_type": "code",
      "execution_count": null,
      "metadata": {
        "id": "iWubhgpkfs8H"
      },
      "outputs": [],
      "source": [
        "x_float = float(x)"
      ]
    },
    {
      "cell_type": "code",
      "execution_count": null,
      "metadata": {
        "colab": {
          "base_uri": "https://localhost:8080/"
        },
        "id": "I1uD4fe8f5bV",
        "outputId": "820c1b72-539f-408d-c221-bec5ec8672ab"
      },
      "outputs": [
        {
          "name": "stdout",
          "output_type": "stream",
          "text": [
            "<class 'float'>\n"
          ]
        }
      ],
      "source": [
        "print(type(x_float))"
      ]
    },
    {
      "cell_type": "code",
      "execution_count": null,
      "metadata": {
        "colab": {
          "base_uri": "https://localhost:8080/"
        },
        "id": "zv1uLvFDf67m",
        "outputId": "1fb6496b-1479-42c1-eb55-a9be593fef50"
      },
      "outputs": [
        {
          "name": "stdout",
          "output_type": "stream",
          "text": [
            "12345.0\n"
          ]
        }
      ],
      "source": [
        "print(x_float)"
      ]
    },
    {
      "cell_type": "code",
      "execution_count": null,
      "metadata": {
        "id": "PoF0dVjVf8Zf"
      },
      "outputs": [],
      "source": [
        "x = 12345"
      ]
    },
    {
      "cell_type": "code",
      "execution_count": null,
      "metadata": {
        "id": "IlWGj5lhf-LX"
      },
      "outputs": [],
      "source": [
        "anything_random = str(x)"
      ]
    },
    {
      "cell_type": "code",
      "execution_count": null,
      "metadata": {
        "colab": {
          "base_uri": "https://localhost:8080/"
        },
        "id": "9A6Eymc8f_u3",
        "outputId": "6b091f25-672b-445a-967b-90c96b17ebf7"
      },
      "outputs": [
        {
          "name": "stdout",
          "output_type": "stream",
          "text": [
            "<class 'str'>\n"
          ]
        }
      ],
      "source": [
        "print(type(anything_random))"
      ]
    },
    {
      "cell_type": "code",
      "execution_count": null,
      "metadata": {
        "colab": {
          "base_uri": "https://localhost:8080/"
        },
        "id": "6uLw-s4cgBct",
        "outputId": "dc8f49c5-6830-410a-a063-d8193123a888"
      },
      "outputs": [
        {
          "name": "stdout",
          "output_type": "stream",
          "text": [
            "230\n",
            "123\n",
            "353\n"
          ]
        }
      ],
      "source": [
        "num1 = int(input())\n",
        "num2 = int(input())\n",
        "\n",
        "print(num1 + num2)"
      ]
    },
    {
      "cell_type": "code",
      "execution_count": null,
      "metadata": {
        "colab": {
          "base_uri": "https://localhost:8080/",
          "height": 211
        },
        "id": "RgSVLJI-gEzD",
        "outputId": "18bda7b8-7959-4dc6-d13c-b7c530df4c50"
      },
      "outputs": [
        {
          "name": "stdout",
          "output_type": "stream",
          "text": [
            "this is not int\n"
          ]
        },
        {
          "ename": "ValueError",
          "evalue": "invalid literal for int() with base 10: 'this is not int'",
          "output_type": "error",
          "traceback": [
            "\u001b[0;31m---------------------------------------------------------------------------\u001b[0m",
            "\u001b[0;31mValueError\u001b[0m                                Traceback (most recent call last)",
            "\u001b[0;32m<ipython-input-70-8b58e0f55606>\u001b[0m in \u001b[0;36m<cell line: 1>\u001b[0;34m()\u001b[0m\n\u001b[0;32m----> 1\u001b[0;31m \u001b[0mnum1\u001b[0m \u001b[0;34m=\u001b[0m \u001b[0mint\u001b[0m\u001b[0;34m(\u001b[0m\u001b[0minput\u001b[0m\u001b[0;34m(\u001b[0m\u001b[0;34m)\u001b[0m\u001b[0;34m)\u001b[0m\u001b[0;34m\u001b[0m\u001b[0;34m\u001b[0m\u001b[0m\n\u001b[0m\u001b[1;32m      2\u001b[0m \u001b[0mnum2\u001b[0m \u001b[0;34m=\u001b[0m \u001b[0mint\u001b[0m\u001b[0;34m(\u001b[0m\u001b[0minput\u001b[0m\u001b[0;34m(\u001b[0m\u001b[0;34m)\u001b[0m\u001b[0;34m)\u001b[0m\u001b[0;34m\u001b[0m\u001b[0;34m\u001b[0m\u001b[0m\n\u001b[1;32m      3\u001b[0m \u001b[0;34m\u001b[0m\u001b[0m\n\u001b[1;32m      4\u001b[0m \u001b[0mprint\u001b[0m\u001b[0;34m(\u001b[0m\u001b[0mnum1\u001b[0m \u001b[0;34m+\u001b[0m \u001b[0mnum2\u001b[0m\u001b[0;34m)\u001b[0m\u001b[0;34m\u001b[0m\u001b[0;34m\u001b[0m\u001b[0m\n",
            "\u001b[0;31mValueError\u001b[0m: invalid literal for int() with base 10: 'this is not int'"
          ]
        }
      ],
      "source": [
        "num1 = int(input())\n",
        "num2 = int(input())\n",
        "\n",
        "print(num1 + num2)"
      ]
    },
    {
      "cell_type": "code",
      "execution_count": null,
      "metadata": {
        "colab": {
          "base_uri": "https://localhost:8080/"
        },
        "id": "BgNG5jPbgJAV",
        "outputId": "27df57e3-3cdf-4be0-8cf1-e16b105c4421"
      },
      "outputs": [
        {
          "name": "stdout",
          "output_type": "stream",
          "text": [
            "Please enter a valid integer - 222\n",
            "Please enter a valid integer - 333\n",
            "555\n"
          ]
        }
      ],
      "source": [
        "num1 = int(input(\"Please enter a valid integer - \"))\n",
        "num2 = int(input(\"Please enter a valid integer - \"))\n",
        "\n",
        "print(num1 + num2)"
      ]
    },
    {
      "cell_type": "code",
      "execution_count": null,
      "metadata": {
        "colab": {
          "base_uri": "https://localhost:8080/"
        },
        "id": "xkUYT0jygQFT",
        "outputId": "e4e321c1-64f1-418d-da1d-b3963171afb6"
      },
      "outputs": [
        {
          "name": "stdout",
          "output_type": "stream",
          "text": [
            "whatever I provide is printed as well!\n"
          ]
        }
      ],
      "source": [
        "x = input()"
      ]
    },
    {
      "cell_type": "markdown",
      "metadata": {
        "id": "o4Ee18g9gz5r"
      },
      "source": [
        "#**`Arithmetic Operators`**"
      ]
    },
    {
      "cell_type": "markdown",
      "metadata": {
        "id": "tmCE9Brfg9kL"
      },
      "source": [
        "Arithmetic operators are used for mathematical operations.\n",
        "\n",
        "* **Addition** +: Adds two values.\n",
        "* **Subtraction** -: Subtracts the right operand from the left operand.\n",
        "* **Multiplication** *: Multiplies two values.\n",
        "* **Division** /: Divides the left operand by the right operand (results in a float).\n",
        "* **Modulus** %: Returns the remainder when the left operand is divided by the right operand.\n",
        "* **Exponentiation** **: Raises the left operand to the power of the right operand.\n",
        "* **Floor Division** //: Divides the left operand by the right operand and rounds the result down to the nearest whole number."
      ]
    },
    {
      "cell_type": "code",
      "execution_count": null,
      "metadata": {
        "colab": {
          "base_uri": "https://localhost:8080/"
        },
        "id": "Kyu7gAmDg0VP",
        "outputId": "6802d160-8f0a-4218-cd0e-4dd91ad47f37"
      },
      "outputs": [
        {
          "name": "stdout",
          "output_type": "stream",
          "text": [
            "15\n"
          ]
        }
      ],
      "source": [
        "print(10 + 5)"
      ]
    },
    {
      "cell_type": "code",
      "execution_count": null,
      "metadata": {
        "colab": {
          "base_uri": "https://localhost:8080/"
        },
        "id": "4X1GRsfvg8JT",
        "outputId": "bc9c5ddf-9875-4373-fc0b-a3892c14b342"
      },
      "outputs": [
        {
          "name": "stdout",
          "output_type": "stream",
          "text": [
            "5\n"
          ]
        }
      ],
      "source": [
        "print(10 - 5)"
      ]
    },
    {
      "cell_type": "code",
      "execution_count": null,
      "metadata": {
        "colab": {
          "base_uri": "https://localhost:8080/"
        },
        "id": "PXkvkMDWhC0p",
        "outputId": "d8f3d5e0-d27b-49b3-e573-3965760aaed1"
      },
      "outputs": [
        {
          "name": "stdout",
          "output_type": "stream",
          "text": [
            "50\n"
          ]
        }
      ],
      "source": [
        "print(10 * 5)"
      ]
    },
    {
      "cell_type": "code",
      "execution_count": null,
      "metadata": {
        "colab": {
          "base_uri": "https://localhost:8080/"
        },
        "id": "ErmgLnrYhEPN",
        "outputId": "8b236a35-7073-4ae8-f09e-44e8d9a388d1"
      },
      "outputs": [
        {
          "name": "stdout",
          "output_type": "stream",
          "text": [
            "2.0\n"
          ]
        }
      ],
      "source": [
        "print(10 / 5) # Special -> Result is always float!"
      ]
    },
    {
      "cell_type": "code",
      "execution_count": null,
      "metadata": {
        "colab": {
          "base_uri": "https://localhost:8080/"
        },
        "id": "AZJb1LNxhF4U",
        "outputId": "cf1518e3-7269-422e-b358-f426776906cc"
      },
      "outputs": [
        {
          "name": "stdout",
          "output_type": "stream",
          "text": [
            "15.0\n"
          ]
        }
      ],
      "source": [
        "print(10.0 + 5)"
      ]
    },
    {
      "cell_type": "code",
      "execution_count": null,
      "metadata": {
        "colab": {
          "base_uri": "https://localhost:8080/"
        },
        "id": "ck54BxPZhIEP",
        "outputId": "11eb538f-a6b6-4988-f6b8-90ff083bfff6"
      },
      "outputs": [
        {
          "name": "stdout",
          "output_type": "stream",
          "text": [
            "3.3333333333333335\n"
          ]
        }
      ],
      "source": [
        "print(10 / 3)"
      ]
    },
    {
      "cell_type": "code",
      "execution_count": null,
      "metadata": {
        "id": "eWvI8JeDhJ_a"
      },
      "outputs": [],
      "source": [
        "x = 56.0"
      ]
    },
    {
      "cell_type": "code",
      "execution_count": null,
      "metadata": {
        "colab": {
          "base_uri": "https://localhost:8080/"
        },
        "id": "8WHvm0bhhL_T",
        "outputId": "bd43083f-3b8b-4f1e-f365-c4c8cb463cd4"
      },
      "outputs": [
        {
          "name": "stdout",
          "output_type": "stream",
          "text": [
            "56\n"
          ]
        }
      ],
      "source": [
        "print(int(x))"
      ]
    },
    {
      "cell_type": "code",
      "execution_count": null,
      "metadata": {
        "id": "AqPl9uTBhSGU"
      },
      "outputs": [],
      "source": [
        "# Exponentiation Operator (x to the POWER y)"
      ]
    },
    {
      "cell_type": "code",
      "execution_count": null,
      "metadata": {
        "colab": {
          "base_uri": "https://localhost:8080/"
        },
        "id": "aVEXfJ66hT3b",
        "outputId": "77bad477-8e3f-47ef-b92b-071d1270b52a"
      },
      "outputs": [
        {
          "data": {
            "text/plain": [
              "100000"
            ]
          },
          "execution_count": 84,
          "metadata": {},
          "output_type": "execute_result"
        }
      ],
      "source": [
        "10 ** 5"
      ]
    },
    {
      "cell_type": "code",
      "execution_count": null,
      "metadata": {
        "colab": {
          "base_uri": "https://localhost:8080/"
        },
        "id": "NaRUb4qPhVm-",
        "outputId": "4a44768b-bb6b-4e4a-dc61-49de0c93f3d5"
      },
      "outputs": [
        {
          "data": {
            "text/plain": [
              "8"
            ]
          },
          "execution_count": 85,
          "metadata": {},
          "output_type": "execute_result"
        }
      ],
      "source": [
        "2 ** 3"
      ]
    },
    {
      "cell_type": "code",
      "execution_count": null,
      "metadata": {
        "colab": {
          "base_uri": "https://localhost:8080/"
        },
        "id": "VgND9aOkhXP1",
        "outputId": "543bdacf-7ecb-494c-9b08-7d20960bf7b4"
      },
      "outputs": [
        {
          "data": {
            "text/plain": [
              "3.0"
            ]
          },
          "execution_count": 86,
          "metadata": {},
          "output_type": "execute_result"
        }
      ],
      "source": [
        "9 ** 0.5"
      ]
    },
    {
      "cell_type": "code",
      "execution_count": null,
      "metadata": {
        "id": "RAf5MDb8hZDU"
      },
      "outputs": [],
      "source": [
        "# Floored Division Operator"
      ]
    },
    {
      "cell_type": "code",
      "execution_count": null,
      "metadata": {
        "colab": {
          "base_uri": "https://localhost:8080/"
        },
        "id": "XSRnA-XWhbNu",
        "outputId": "3655da5e-d754-4b5a-f8b3-12d0aca23c24"
      },
      "outputs": [
        {
          "data": {
            "text/plain": [
              "3"
            ]
          },
          "execution_count": 88,
          "metadata": {},
          "output_type": "execute_result"
        }
      ],
      "source": [
        "10 // 3"
      ]
    },
    {
      "cell_type": "code",
      "execution_count": null,
      "metadata": {
        "colab": {
          "base_uri": "https://localhost:8080/"
        },
        "id": "M8buqo4fhcZ6",
        "outputId": "e7e787a3-7626-41bf-db91-31db79e3d1b9"
      },
      "outputs": [
        {
          "data": {
            "text/plain": [
              "2"
            ]
          },
          "execution_count": 89,
          "metadata": {},
          "output_type": "execute_result"
        }
      ],
      "source": [
        "10 // 4"
      ]
    },
    {
      "cell_type": "code",
      "execution_count": null,
      "metadata": {
        "colab": {
          "base_uri": "https://localhost:8080/"
        },
        "id": "VOrMpcQXhd9M",
        "outputId": "808f64c2-2dfe-45e6-f8f6-ce3b45ea0356"
      },
      "outputs": [
        {
          "data": {
            "text/plain": [
              "-4"
            ]
          },
          "execution_count": 90,
          "metadata": {},
          "output_type": "execute_result"
        }
      ],
      "source": [
        "-10 // 3"
      ]
    },
    {
      "cell_type": "code",
      "execution_count": null,
      "metadata": {
        "colab": {
          "base_uri": "https://localhost:8080/"
        },
        "id": "vxjX-r1Thfa5",
        "outputId": "1dac1d42-e547-482f-dd68-c7beed24bac7"
      },
      "outputs": [
        {
          "data": {
            "text/plain": [
              "-3"
            ]
          },
          "execution_count": 91,
          "metadata": {},
          "output_type": "execute_result"
        }
      ],
      "source": [
        "-10 // 4"
      ]
    },
    {
      "cell_type": "code",
      "execution_count": null,
      "metadata": {
        "id": "hMxCtK2XhgoR"
      },
      "outputs": [],
      "source": [
        "# Modulus Operator (Modular Algebra)\n",
        "# a % b -> remainder"
      ]
    },
    {
      "cell_type": "code",
      "execution_count": null,
      "metadata": {
        "colab": {
          "base_uri": "https://localhost:8080/"
        },
        "id": "hTaIUcMUhiC_",
        "outputId": "db0746fb-6808-4973-a1b6-b656e4d6506b"
      },
      "outputs": [
        {
          "data": {
            "text/plain": [
              "1"
            ]
          },
          "execution_count": 93,
          "metadata": {},
          "output_type": "execute_result"
        }
      ],
      "source": [
        "10 % 3"
      ]
    },
    {
      "cell_type": "code",
      "execution_count": null,
      "metadata": {
        "colab": {
          "base_uri": "https://localhost:8080/"
        },
        "id": "b4ZO4h-hhkVH",
        "outputId": "b86a30ea-77fd-4c6a-d919-247ba79d5b88"
      },
      "outputs": [
        {
          "data": {
            "text/plain": [
              "2"
            ]
          },
          "execution_count": 94,
          "metadata": {},
          "output_type": "execute_result"
        }
      ],
      "source": [
        "10 % 4"
      ]
    },
    {
      "cell_type": "code",
      "execution_count": null,
      "metadata": {
        "colab": {
          "base_uri": "https://localhost:8080/"
        },
        "id": "J4d5rRqUhl6E",
        "outputId": "cc174d95-682b-4222-e074-118f9edfbae0"
      },
      "outputs": [
        {
          "data": {
            "text/plain": [
              "0"
            ]
          },
          "execution_count": 95,
          "metadata": {},
          "output_type": "execute_result"
        }
      ],
      "source": [
        "10 % 5"
      ]
    },
    {
      "cell_type": "code",
      "execution_count": null,
      "metadata": {
        "colab": {
          "base_uri": "https://localhost:8080/"
        },
        "id": "MdIPvC9JhnQO",
        "outputId": "46b0b48c-b21a-4173-b8fd-661340dd8230"
      },
      "outputs": [
        {
          "data": {
            "text/plain": [
              "4"
            ]
          },
          "execution_count": 96,
          "metadata": {},
          "output_type": "execute_result"
        }
      ],
      "source": [
        "10 - 4 * 2 + 5 - 6 // 2\n",
        "# 10 - 8 + 5 - 6 // 2\n",
        "# 10 - 8 + 5 - 3\n",
        "# 2 + 5 - 3\n",
        "# 7 - 3\n",
        "# 4"
      ]
    },
    {
      "cell_type": "code",
      "execution_count": null,
      "metadata": {
        "colab": {
          "base_uri": "https://localhost:8080/"
        },
        "id": "A9Fvlsa_ho6F",
        "outputId": "353eb06a-f7cb-4326-89a9-fc52628ea9ff"
      },
      "outputs": [
        {
          "data": {
            "text/plain": [
              "4.199999999999999"
            ]
          },
          "execution_count": 97,
          "metadata": {},
          "output_type": "execute_result"
        }
      ],
      "source": [
        "1.2 + 1.4 + 1.6\n",
        "# Boolean (binary) representation of floating point numbers -> 2.6"
      ]
    },
    {
      "cell_type": "code",
      "execution_count": null,
      "metadata": {
        "colab": {
          "base_uri": "https://localhost:8080/"
        },
        "id": "r9MtHzuGhqke",
        "outputId": "8b7a487c-9aa9-450a-ff20-90697006beea"
      },
      "outputs": [
        {
          "data": {
            "text/plain": [
              "4.2"
            ]
          },
          "execution_count": 98,
          "metadata": {},
          "output_type": "execute_result"
        }
      ],
      "source": [
        "1.4 + 1.6 + 1.2"
      ]
    },
    {
      "cell_type": "markdown",
      "metadata": {
        "id": "bAU4VC_mh4d_"
      },
      "source": [
        "#**`Python TypeCasting`**"
      ]
    },
    {
      "cell_type": "markdown",
      "metadata": {
        "id": "lBBPdaCch5Yv"
      },
      "source": [
        "**Python Type Casting**\n",
        "\n",
        "Type casting is a fundamental concept in Python that allows you to change the data type of a variable, enabling the conversion of data from one type to another. This flexibility is particularly useful when dealing with different types of data.\n",
        "\n",
        "**Example:**\n",
        "```python\n",
        "num_str = \"42\"\n",
        "num_int = int(num_str)\n",
        "```\n",
        "\n",
        "In the provided code snippet, a string, \"42,\" is converted into an integer, 42, using the `int()` function. Here's a breakdown of how type casting works:\n",
        "\n",
        "- **int() Function:** The `int()` function is used to convert a value to an integer data type. In this case, it's applied to the `num_str` variable, which originally holds the string value \"42.\" After the conversion, `num_int` contains the integer value 42.\n",
        "\n",
        "- **Purpose of Type Casting:** Type casting is essential when you need to perform numerical operations or comparisons on data that's initially in a different format. In this example, converting the string \"42\" to an integer allows you to perform arithmetic operations or comparisons with other integers.\n",
        "\n",
        "- **Other Type Casting Functions:** In addition to `int()`, Python provides various other type casting functions to convert data to different types, such as:\n",
        "  - `float()`: Converts a value to a floating-point number (e.g., from an integer to a float).\n",
        "  - `str()`: Converts a value to a string (e.g., from an integer to a string).\n",
        "  - `bool()`: Converts a value to a boolean (e.g., from an integer to a boolean)."
      ]
    },
    {
      "cell_type": "code",
      "execution_count": null,
      "metadata": {
        "colab": {
          "base_uri": "https://localhost:8080/"
        },
        "id": "AWwvvMzxh7av",
        "outputId": "30d10adf-b82b-4147-aab6-a54f0e73705b"
      },
      "outputs": [
        {
          "data": {
            "text/plain": [
              "4"
            ]
          },
          "execution_count": 99,
          "metadata": {},
          "output_type": "execute_result"
        }
      ],
      "source": [
        "int(4.0)"
      ]
    },
    {
      "cell_type": "code",
      "execution_count": null,
      "metadata": {
        "colab": {
          "base_uri": "https://localhost:8080/"
        },
        "id": "rPxQcIOGh-LL",
        "outputId": "5d232529-a43b-4730-e2bc-bab40a37dc9e"
      },
      "outputs": [
        {
          "data": {
            "text/plain": [
              "4.0"
            ]
          },
          "execution_count": 100,
          "metadata": {},
          "output_type": "execute_result"
        }
      ],
      "source": [
        "float(4)"
      ]
    },
    {
      "cell_type": "code",
      "execution_count": null,
      "metadata": {
        "colab": {
          "base_uri": "https://localhost:8080/",
          "height": 36
        },
        "id": "uHsCLVGjh_a2",
        "outputId": "741a6456-f6cd-405e-8f0a-8f23d49cc96a"
      },
      "outputs": [
        {
          "data": {
            "application/vnd.google.colaboratory.intrinsic+json": {
              "type": "string"
            },
            "text/plain": [
              "'4.0'"
            ]
          },
          "execution_count": 101,
          "metadata": {},
          "output_type": "execute_result"
        }
      ],
      "source": [
        "str(\"4.0\")"
      ]
    },
    {
      "cell_type": "code",
      "execution_count": null,
      "metadata": {
        "colab": {
          "base_uri": "https://localhost:8080/"
        },
        "id": "ksDMENzSiAkn",
        "outputId": "e6f18cbd-9489-466d-e452-2df8a41e4c42"
      },
      "outputs": [
        {
          "data": {
            "text/plain": [
              "True"
            ]
          },
          "execution_count": 102,
          "metadata": {},
          "output_type": "execute_result"
        }
      ],
      "source": [
        "bool(1)"
      ]
    },
    {
      "cell_type": "code",
      "execution_count": null,
      "metadata": {
        "colab": {
          "base_uri": "https://localhost:8080/"
        },
        "id": "yvWpx_uyiCcK",
        "outputId": "b24dc8ec-b9f7-4034-9bb2-a2acaaedbac9"
      },
      "outputs": [
        {
          "data": {
            "text/plain": [
              "True"
            ]
          },
          "execution_count": 103,
          "metadata": {},
          "output_type": "execute_result"
        }
      ],
      "source": [
        "bool(-1)"
      ]
    },
    {
      "cell_type": "code",
      "execution_count": null,
      "metadata": {
        "colab": {
          "base_uri": "https://localhost:8080/"
        },
        "id": "5j8PwLDIiEJA",
        "outputId": "b8988d95-4080-4cf3-c5f5-9ca4f226de16"
      },
      "outputs": [
        {
          "data": {
            "text/plain": [
              "True"
            ]
          },
          "execution_count": 104,
          "metadata": {},
          "output_type": "execute_result"
        }
      ],
      "source": [
        "bool(2134567890987654323456789765432)"
      ]
    },
    {
      "cell_type": "code",
      "execution_count": null,
      "metadata": {
        "colab": {
          "base_uri": "https://localhost:8080/"
        },
        "id": "6jBM-lmjiFjb",
        "outputId": "845b5605-8ce4-41ea-c65a-b4e9c209509f"
      },
      "outputs": [
        {
          "data": {
            "text/plain": [
              "True"
            ]
          },
          "execution_count": 105,
          "metadata": {},
          "output_type": "execute_result"
        }
      ],
      "source": [
        "bool(6.7890)"
      ]
    },
    {
      "cell_type": "code",
      "execution_count": null,
      "metadata": {
        "colab": {
          "base_uri": "https://localhost:8080/"
        },
        "id": "-U1IbCqIiG2Z",
        "outputId": "88cc1cbc-7840-4c43-d9f3-ef19644ce984"
      },
      "outputs": [
        {
          "data": {
            "text/plain": [
              "False"
            ]
          },
          "execution_count": 106,
          "metadata": {},
          "output_type": "execute_result"
        }
      ],
      "source": [
        "bool(0)"
      ]
    },
    {
      "cell_type": "code",
      "execution_count": null,
      "metadata": {
        "colab": {
          "base_uri": "https://localhost:8080/"
        },
        "id": "P9uEZP7HiIZK",
        "outputId": "8001198f-656c-4b67-fd0c-59052f1bf736"
      },
      "outputs": [
        {
          "data": {
            "text/plain": [
              "False"
            ]
          },
          "execution_count": 107,
          "metadata": {},
          "output_type": "execute_result"
        }
      ],
      "source": [
        "bool(0.0)"
      ]
    },
    {
      "cell_type": "code",
      "execution_count": null,
      "metadata": {
        "colab": {
          "base_uri": "https://localhost:8080/"
        },
        "id": "5lTMK_5IiKDW",
        "outputId": "9873453b-52e7-47a1-ddb1-6ab046e5c7ce"
      },
      "outputs": [
        {
          "data": {
            "text/plain": [
              "False"
            ]
          },
          "execution_count": 108,
          "metadata": {},
          "output_type": "execute_result"
        }
      ],
      "source": [
        "bool(-0)"
      ]
    },
    {
      "cell_type": "code",
      "execution_count": null,
      "metadata": {
        "colab": {
          "base_uri": "https://localhost:8080/"
        },
        "id": "T4EM_nnYiLp8",
        "outputId": "3c99a6a1-0db9-4cfe-933b-487e279b2294"
      },
      "outputs": [
        {
          "data": {
            "text/plain": [
              "True"
            ]
          },
          "execution_count": 109,
          "metadata": {},
          "output_type": "execute_result"
        }
      ],
      "source": [
        "bool(0.1)"
      ]
    },
    {
      "cell_type": "code",
      "execution_count": null,
      "metadata": {
        "colab": {
          "base_uri": "https://localhost:8080/"
        },
        "id": "DQSSPPBciNZO",
        "outputId": "7cb47b36-3548-4059-b250-ea6769b0d04a"
      },
      "outputs": [
        {
          "data": {
            "text/plain": [
              "True"
            ]
          },
          "execution_count": 110,
          "metadata": {},
          "output_type": "execute_result"
        }
      ],
      "source": [
        "bool(\"any non empty string!\")"
      ]
    },
    {
      "cell_type": "code",
      "execution_count": null,
      "metadata": {
        "colab": {
          "base_uri": "https://localhost:8080/"
        },
        "id": "GIg2DxGdiO39",
        "outputId": "51886e53-2a9d-4cb2-cbac-a3385c4f4542"
      },
      "outputs": [
        {
          "data": {
            "text/plain": [
              "True"
            ]
          },
          "execution_count": 111,
          "metadata": {},
          "output_type": "execute_result"
        }
      ],
      "source": [
        "bool(\" \") # contains only a space"
      ]
    },
    {
      "cell_type": "code",
      "execution_count": null,
      "metadata": {
        "colab": {
          "base_uri": "https://localhost:8080/"
        },
        "id": "GuZpJ0eHiQiU",
        "outputId": "1ab424a4-8aa1-45e1-99d0-10e599048d40"
      },
      "outputs": [
        {
          "data": {
            "text/plain": [
              "False"
            ]
          },
          "execution_count": 112,
          "metadata": {},
          "output_type": "execute_result"
        }
      ],
      "source": [
        "bool(\"\") # empty string"
      ]
    },
    {
      "cell_type": "code",
      "execution_count": null,
      "metadata": {
        "colab": {
          "base_uri": "https://localhost:8080/"
        },
        "id": "kG2Bu_QFiSMk",
        "outputId": "90573d3c-d22b-4da1-c71c-03a31ce6982b"
      },
      "outputs": [
        {
          "data": {
            "text/plain": [
              "False"
            ]
          },
          "execution_count": 113,
          "metadata": {},
          "output_type": "execute_result"
        }
      ],
      "source": [
        "bool(None)"
      ]
    },
    {
      "cell_type": "code",
      "execution_count": null,
      "metadata": {
        "colab": {
          "base_uri": "https://localhost:8080/",
          "height": 53
        },
        "id": "Fk2E6Lv-iTtc",
        "outputId": "2eeccda1-3fab-4212-d52b-855dc685a8af"
      },
      "outputs": [
        {
          "data": {
            "application/vnd.google.colaboratory.intrinsic+json": {
              "type": "string"
            },
            "text/plain": [
              "'\\nBoolean Values (TRUTHY and FALSY) ->\\n\\n    - Numbers\\n        - Any non zero number = TRUTHY\\n        - 0 = FALSY\\n\\n    - Strings\\n        - Any non empty string = TRUTHY\\n        - Empty string = FALSY\\n\\n    - None = FALSY\\n'"
            ]
          },
          "execution_count": 114,
          "metadata": {},
          "output_type": "execute_result"
        }
      ],
      "source": [
        "'''\n",
        "Boolean Values (TRUTHY and FALSY) ->\n",
        "\n",
        "    - Numbers\n",
        "        - Any non zero number = TRUTHY\n",
        "        - 0 = FALSY\n",
        "\n",
        "    - Strings\n",
        "        - Any non empty string = TRUTHY\n",
        "        - Empty string = FALSY\n",
        "\n",
        "    - None = FALSY\n",
        "'''"
      ]
    },
    {
      "cell_type": "code",
      "execution_count": null,
      "metadata": {
        "colab": {
          "base_uri": "https://localhost:8080/"
        },
        "id": "AQn2r4AmiV3J",
        "outputId": "1241ad1f-782d-45c8-d3df-46638ce5adf7"
      },
      "outputs": [
        {
          "data": {
            "text/plain": [
              "True"
            ]
          },
          "execution_count": 115,
          "metadata": {},
          "output_type": "execute_result"
        }
      ],
      "source": [
        "bool(\"False\")"
      ]
    },
    {
      "cell_type": "code",
      "execution_count": null,
      "metadata": {
        "id": "W6TYHIh9iYDH"
      },
      "outputs": [],
      "source": [
        "bool(False)"
      ]
    },
    {
      "cell_type": "markdown",
      "metadata": {
        "id": "V9KljiNFjKcL"
      },
      "source": [
        "#**`Comparison Operators`**\n",
        "\n"
      ]
    },
    {
      "cell_type": "markdown",
      "metadata": {
        "id": "FuBRxE_GjMgt"
      },
      "source": [
        "Comparison operators are used to compare two values and return a boolean result (True or False).\n",
        "\n",
        "* **Equal to ==:** Checks if two values are equal.\n",
        "* **Not equal to !=:** Checks if two values are not equal.\n",
        "* **Less than <:** Checks if the left operand is less than the right operand.\n",
        "* **Greater than >:** Checks if the left operand is greater than the right operand.\n",
        "* **Less than or equal to <=:** Checks if the left operand is less than or equal to the right operand.\n",
        "* **Greater than or equal to >=:** Checks if the left operand is greater than or equal to the right operand."
      ]
    },
    {
      "cell_type": "code",
      "execution_count": null,
      "metadata": {
        "colab": {
          "base_uri": "https://localhost:8080/"
        },
        "id": "bfe6WX-vjM6X",
        "outputId": "38877d33-60e6-4084-d70b-ad970a2bc44b"
      },
      "outputs": [
        {
          "data": {
            "text/plain": [
              "True"
            ]
          },
          "execution_count": 116,
          "metadata": {},
          "output_type": "execute_result"
        }
      ],
      "source": [
        "5 > 4"
      ]
    },
    {
      "cell_type": "code",
      "execution_count": null,
      "metadata": {
        "colab": {
          "base_uri": "https://localhost:8080/"
        },
        "id": "ZIoDH7xjjXmW",
        "outputId": "b45da0bd-02a9-49da-f5a2-f99a8fc13ca8"
      },
      "outputs": [
        {
          "data": {
            "text/plain": [
              "False"
            ]
          },
          "execution_count": 117,
          "metadata": {},
          "output_type": "execute_result"
        }
      ],
      "source": [
        "5 < 4"
      ]
    },
    {
      "cell_type": "code",
      "execution_count": null,
      "metadata": {
        "colab": {
          "base_uri": "https://localhost:8080/"
        },
        "id": "sJsxeF22jcID",
        "outputId": "83ccfcf3-d45d-4f6c-c73d-e340270f11d7"
      },
      "outputs": [
        {
          "data": {
            "text/plain": [
              "False"
            ]
          },
          "execution_count": 118,
          "metadata": {},
          "output_type": "execute_result"
        }
      ],
      "source": [
        "5 == 6"
      ]
    },
    {
      "cell_type": "code",
      "execution_count": null,
      "metadata": {
        "colab": {
          "base_uri": "https://localhost:8080/"
        },
        "id": "6322T4rYjeGH",
        "outputId": "4b99875c-9b0b-4158-a193-0b3d04fc5a15"
      },
      "outputs": [
        {
          "data": {
            "text/plain": [
              "True"
            ]
          },
          "execution_count": 119,
          "metadata": {},
          "output_type": "execute_result"
        }
      ],
      "source": [
        "5 != 6"
      ]
    },
    {
      "cell_type": "code",
      "execution_count": null,
      "metadata": {
        "colab": {
          "base_uri": "https://localhost:8080/"
        },
        "id": "_PlnThFKjftz",
        "outputId": "7507eff5-a57c-4850-b3a2-43f9c05feeb0"
      },
      "outputs": [
        {
          "data": {
            "text/plain": [
              "True"
            ]
          },
          "execution_count": 120,
          "metadata": {},
          "output_type": "execute_result"
        }
      ],
      "source": [
        "\"string1\" == \"string1\""
      ]
    },
    {
      "cell_type": "code",
      "execution_count": null,
      "metadata": {
        "id": "wz8NJtavjhLo"
      },
      "outputs": [],
      "source": [
        "actual_password = \"password\""
      ]
    },
    {
      "cell_type": "code",
      "execution_count": null,
      "metadata": {
        "colab": {
          "base_uri": "https://localhost:8080/"
        },
        "id": "y58EqvMgjinO",
        "outputId": "9e00b18a-fa3b-4e97-d9e6-a6e7ceb84622"
      },
      "outputs": [
        {
          "name": "stdout",
          "output_type": "stream",
          "text": [
            "Please enter your password - password\n"
          ]
        }
      ],
      "source": [
        "user_input = input(\"Please enter your password - \")"
      ]
    },
    {
      "cell_type": "code",
      "execution_count": null,
      "metadata": {
        "colab": {
          "base_uri": "https://localhost:8080/"
        },
        "id": "ihBEYJ4wjkNy",
        "outputId": "87d0f52b-4234-4aa9-9c66-1f64cf36c41c"
      },
      "outputs": [
        {
          "data": {
            "text/plain": [
              "True"
            ]
          },
          "execution_count": 123,
          "metadata": {},
          "output_type": "execute_result"
        }
      ],
      "source": [
        "user_input == actual_password"
      ]
    },
    {
      "cell_type": "code",
      "execution_count": null,
      "metadata": {
        "colab": {
          "base_uri": "https://localhost:8080/"
        },
        "id": "nQuXNBonjn1f",
        "outputId": "8a87c072-40b0-481e-e3e6-89a4f839b97c"
      },
      "outputs": [
        {
          "name": "stdout",
          "output_type": "stream",
          "text": [
            "Please enter your password - login123\n"
          ]
        }
      ],
      "source": [
        "user_input = input(\"Please enter your password - \")"
      ]
    },
    {
      "cell_type": "code",
      "execution_count": null,
      "metadata": {
        "colab": {
          "base_uri": "https://localhost:8080/"
        },
        "id": "GSdOknemjqHX",
        "outputId": "c1b525ce-3c06-40d2-8fa2-ccc9fcaf0fa6"
      },
      "outputs": [
        {
          "data": {
            "text/plain": [
              "False"
            ]
          },
          "execution_count": 125,
          "metadata": {},
          "output_type": "execute_result"
        }
      ],
      "source": [
        "user_input == actual_password"
      ]
    },
    {
      "cell_type": "code",
      "execution_count": null,
      "metadata": {
        "colab": {
          "base_uri": "https://localhost:8080/"
        },
        "id": "L5CBK7BHjtG6",
        "outputId": "58fbdf25-a47e-459e-dcd3-de88245b2b2d"
      },
      "outputs": [
        {
          "data": {
            "text/plain": [
              "False"
            ]
          },
          "execution_count": 126,
          "metadata": {},
          "output_type": "execute_result"
        }
      ],
      "source": [
        "\"abc\" > \"xyz\" # Lexicographical Order"
      ]
    },
    {
      "cell_type": "code",
      "execution_count": null,
      "metadata": {
        "colab": {
          "base_uri": "https://localhost:8080/"
        },
        "id": "BfWGp7KNjul3",
        "outputId": "6d4d46ed-e0b2-4dde-8cef-08d21ae6ec93"
      },
      "outputs": [
        {
          "data": {
            "text/plain": [
              "True"
            ]
          },
          "execution_count": 127,
          "metadata": {},
          "output_type": "execute_result"
        }
      ],
      "source": [
        "\"aab\" > \"aaa\""
      ]
    },
    {
      "cell_type": "markdown",
      "metadata": {
        "id": "947ITtL-j9J7"
      },
      "source": [
        "#**`Assignment Operators`**"
      ]
    },
    {
      "cell_type": "markdown",
      "metadata": {
        "id": "hU11WvAvkB6F"
      },
      "source": [
        "Assignment operators are used to assign values to variables.\n",
        "\n",
        "* **Assignment =** Assigns the value on the right to the variable on the left.\n",
        "* **Addition Assignment +=** Adds the right operand to the left operand and assigns the result to the left operand.\n",
        "* **Subtraction Assignment -=** Subtracts the right operand from the left operand and assigns the result to the left operand.\n",
        "* **Multiplication Assignment *=** Multiplies the left operand by the right operand and assigns the result to the left operand.\n",
        "* **Division Assignment /=** Divides the left operand by the right operand and assigns the result to the left operand.\n",
        "* **Modulus Assignment %=** Performs modulus on the left operand and assigns the result to the left operand.\n",
        "* **Exponentiation Assignment** Raises the left operand to the power of the right operand and assigns the result to the left operand.\n",
        "* **Floor Division Assignment //=:** Performs floor division on the left operand and assigns the result to the left operand."
      ]
    },
    {
      "cell_type": "code",
      "execution_count": null,
      "metadata": {
        "id": "zW1d1u2MkBOs"
      },
      "outputs": [],
      "source": [
        "count = 1"
      ]
    },
    {
      "cell_type": "code",
      "execution_count": null,
      "metadata": {
        "id": "W_0Yf2O7kH1a"
      },
      "outputs": [],
      "source": [
        "count = count + 1"
      ]
    },
    {
      "cell_type": "code",
      "execution_count": null,
      "metadata": {
        "colab": {
          "base_uri": "https://localhost:8080/"
        },
        "id": "F1PT9cFJkJQq",
        "outputId": "ada75ce6-6aa2-4c61-b79f-4b8b370a155c"
      },
      "outputs": [
        {
          "data": {
            "text/plain": [
              "2"
            ]
          },
          "execution_count": 130,
          "metadata": {},
          "output_type": "execute_result"
        }
      ],
      "source": [
        "count"
      ]
    },
    {
      "cell_type": "code",
      "execution_count": null,
      "metadata": {
        "id": "SR6FaeJbkMTc"
      },
      "outputs": [],
      "source": [
        "count = count + 1"
      ]
    },
    {
      "cell_type": "code",
      "execution_count": null,
      "metadata": {
        "colab": {
          "base_uri": "https://localhost:8080/"
        },
        "id": "8RKbx1nJkNrN",
        "outputId": "9659a6f5-128e-47fb-c1a5-7baa4765fcc0"
      },
      "outputs": [
        {
          "data": {
            "text/plain": [
              "3"
            ]
          },
          "execution_count": 132,
          "metadata": {},
          "output_type": "execute_result"
        }
      ],
      "source": [
        "count"
      ]
    },
    {
      "cell_type": "code",
      "execution_count": null,
      "metadata": {
        "id": "hfxY-_yBkPDL"
      },
      "outputs": [],
      "source": [
        "count += 1 # count = count + 1"
      ]
    },
    {
      "cell_type": "code",
      "execution_count": null,
      "metadata": {
        "colab": {
          "base_uri": "https://localhost:8080/"
        },
        "id": "ttR_ggMCkQrl",
        "outputId": "3feb4b5e-9259-4c2a-e097-71fc7ae56328"
      },
      "outputs": [
        {
          "data": {
            "text/plain": [
              "4"
            ]
          },
          "execution_count": 134,
          "metadata": {},
          "output_type": "execute_result"
        }
      ],
      "source": [
        "count"
      ]
    },
    {
      "cell_type": "code",
      "execution_count": null,
      "metadata": {
        "id": "h7bYiDMFkSTe"
      },
      "outputs": [],
      "source": [
        "count += 1"
      ]
    },
    {
      "cell_type": "code",
      "execution_count": null,
      "metadata": {
        "colab": {
          "base_uri": "https://localhost:8080/"
        },
        "id": "nhqXGrwmkT6F",
        "outputId": "3206240e-30b6-47ee-d083-e195c5a18e43"
      },
      "outputs": [
        {
          "data": {
            "text/plain": [
              "5"
            ]
          },
          "execution_count": 136,
          "metadata": {},
          "output_type": "execute_result"
        }
      ],
      "source": [
        "count"
      ]
    },
    {
      "cell_type": "code",
      "execution_count": null,
      "metadata": {
        "id": "NUKMccHNkVhR"
      },
      "outputs": [],
      "source": [
        "x = 100"
      ]
    },
    {
      "cell_type": "code",
      "execution_count": null,
      "metadata": {
        "id": "noeAhLL2kXNa"
      },
      "outputs": [],
      "source": [
        "x += 50"
      ]
    },
    {
      "cell_type": "code",
      "execution_count": null,
      "metadata": {
        "colab": {
          "base_uri": "https://localhost:8080/"
        },
        "id": "38sczg4MkY1A",
        "outputId": "a952c3ce-9701-41d7-c7a7-c9475955e2ec"
      },
      "outputs": [
        {
          "data": {
            "text/plain": [
              "150"
            ]
          },
          "execution_count": 139,
          "metadata": {},
          "output_type": "execute_result"
        }
      ],
      "source": [
        "x"
      ]
    },
    {
      "cell_type": "code",
      "execution_count": null,
      "metadata": {
        "id": "YhWpry8HkaSM"
      },
      "outputs": [],
      "source": [
        "x -= 30"
      ]
    },
    {
      "cell_type": "code",
      "execution_count": null,
      "metadata": {
        "colab": {
          "base_uri": "https://localhost:8080/"
        },
        "id": "cd6-1JJwkbtT",
        "outputId": "7a899423-a99e-43f4-ef5e-ad5e834b278a"
      },
      "outputs": [
        {
          "data": {
            "text/plain": [
              "120"
            ]
          },
          "execution_count": 141,
          "metadata": {},
          "output_type": "execute_result"
        }
      ],
      "source": [
        "x"
      ]
    },
    {
      "cell_type": "code",
      "execution_count": null,
      "metadata": {
        "id": "BE0Rc0ZwkdoI"
      },
      "outputs": [],
      "source": [
        "x *= 3"
      ]
    },
    {
      "cell_type": "code",
      "execution_count": null,
      "metadata": {
        "colab": {
          "base_uri": "https://localhost:8080/"
        },
        "id": "5Fu2nFcgkfC6",
        "outputId": "0d31d134-fc0f-4676-8b73-d3855e80496c"
      },
      "outputs": [
        {
          "data": {
            "text/plain": [
              "360"
            ]
          },
          "execution_count": 143,
          "metadata": {},
          "output_type": "execute_result"
        }
      ],
      "source": [
        "x"
      ]
    },
    {
      "cell_type": "code",
      "execution_count": null,
      "metadata": {
        "id": "eLJpYNB1kgWM"
      },
      "outputs": [],
      "source": [
        "x /= 2"
      ]
    },
    {
      "cell_type": "code",
      "execution_count": null,
      "metadata": {
        "colab": {
          "base_uri": "https://localhost:8080/"
        },
        "id": "zdUqxbE2kh6y",
        "outputId": "c0b9508d-21de-40e2-dc90-3ca0977e7538"
      },
      "outputs": [
        {
          "data": {
            "text/plain": [
              "180.0"
            ]
          },
          "execution_count": 145,
          "metadata": {},
          "output_type": "execute_result"
        }
      ],
      "source": [
        "x"
      ]
    },
    {
      "cell_type": "code",
      "execution_count": null,
      "metadata": {
        "id": "BQRkoBZ3kjRO"
      },
      "outputs": [],
      "source": [
        "x //= 3"
      ]
    },
    {
      "cell_type": "code",
      "execution_count": null,
      "metadata": {
        "colab": {
          "base_uri": "https://localhost:8080/"
        },
        "id": "_QS-C-5ukm8M",
        "outputId": "9cb827b5-ceab-4e96-aec3-9bba2659a4c9"
      },
      "outputs": [
        {
          "data": {
            "text/plain": [
              "60.0"
            ]
          },
          "execution_count": 147,
          "metadata": {},
          "output_type": "execute_result"
        }
      ],
      "source": [
        "x"
      ]
    },
    {
      "cell_type": "code",
      "execution_count": null,
      "metadata": {
        "id": "DlwhltsOkorv"
      },
      "outputs": [],
      "source": [
        "x **= 2"
      ]
    },
    {
      "cell_type": "code",
      "execution_count": null,
      "metadata": {
        "colab": {
          "base_uri": "https://localhost:8080/"
        },
        "id": "fPef_QYukqCS",
        "outputId": "b375a1a4-407f-45b0-d318-faa16e7c5381"
      },
      "outputs": [
        {
          "data": {
            "text/plain": [
              "3600.0"
            ]
          },
          "execution_count": 149,
          "metadata": {},
          "output_type": "execute_result"
        }
      ],
      "source": [
        "x"
      ]
    },
    {
      "cell_type": "markdown",
      "metadata": {
        "id": "epBBDbZbksJu"
      },
      "source": [
        "#**`Logical Operators`**"
      ]
    },
    {
      "cell_type": "markdown",
      "metadata": {
        "id": "CsKgP5rxkv-Q"
      },
      "source": [
        "Logical Operators\n",
        "Logical operators are used to perform logical operations on boolean values (True or False).\n",
        "\n",
        "* **Logical AND and:** Returns True if both operands are True.\n",
        "* **Logical OR or:** Returns True if at least one of the operands is True.\n",
        "* **Logical NOT not:** Negates the boolean value, changing True to False and vice versa."
      ]
    },
    {
      "cell_type": "code",
      "execution_count": null,
      "metadata": {
        "colab": {
          "base_uri": "https://localhost:8080/"
        },
        "id": "piU-xmIwkrdI",
        "outputId": "1918eecc-e64d-4cc1-d4c3-a6089e9dbe35"
      },
      "outputs": [
        {
          "data": {
            "text/plain": [
              "False"
            ]
          },
          "execution_count": 150,
          "metadata": {},
          "output_type": "execute_result"
        }
      ],
      "source": [
        "True and False"
      ]
    },
    {
      "cell_type": "code",
      "execution_count": null,
      "metadata": {
        "colab": {
          "base_uri": "https://localhost:8080/"
        },
        "id": "H0QTyK3Ckzh6",
        "outputId": "da1e4981-9842-4370-b20d-2e9b7a65387a"
      },
      "outputs": [
        {
          "data": {
            "text/plain": [
              "True"
            ]
          },
          "execution_count": 151,
          "metadata": {},
          "output_type": "execute_result"
        }
      ],
      "source": [
        "True and True"
      ]
    },
    {
      "cell_type": "code",
      "execution_count": null,
      "metadata": {
        "colab": {
          "base_uri": "https://localhost:8080/"
        },
        "id": "Vu1dYfNQk1KE",
        "outputId": "f65bcef6-3fdf-4ffc-d329-49b84dfaa2e1"
      },
      "outputs": [
        {
          "data": {
            "text/plain": [
              "True"
            ]
          },
          "execution_count": 152,
          "metadata": {},
          "output_type": "execute_result"
        }
      ],
      "source": [
        "False or True"
      ]
    },
    {
      "cell_type": "code",
      "execution_count": null,
      "metadata": {
        "colab": {
          "base_uri": "https://localhost:8080/"
        },
        "id": "nCAgZpBBk2t3",
        "outputId": "47e247f4-8357-4ce0-98b5-ea1fc5789a5d"
      },
      "outputs": [
        {
          "data": {
            "text/plain": [
              "False"
            ]
          },
          "execution_count": 153,
          "metadata": {},
          "output_type": "execute_result"
        }
      ],
      "source": [
        "False or False"
      ]
    },
    {
      "cell_type": "code",
      "execution_count": null,
      "metadata": {
        "colab": {
          "base_uri": "https://localhost:8080/"
        },
        "id": "kyumkvOAk4Q-",
        "outputId": "87ae210f-131e-4ec3-9396-95482547c5ba"
      },
      "outputs": [
        {
          "data": {
            "text/plain": [
              "False"
            ]
          },
          "execution_count": 154,
          "metadata": {},
          "output_type": "execute_result"
        }
      ],
      "source": [
        "not True"
      ]
    },
    {
      "cell_type": "code",
      "execution_count": null,
      "metadata": {
        "colab": {
          "base_uri": "https://localhost:8080/"
        },
        "id": "ADfjCoSck5-D",
        "outputId": "b13aff8c-41ce-4884-adb2-f5203167adee"
      },
      "outputs": [
        {
          "data": {
            "text/plain": [
              "True"
            ]
          },
          "execution_count": 155,
          "metadata": {},
          "output_type": "execute_result"
        }
      ],
      "source": [
        "not False"
      ]
    },
    {
      "cell_type": "markdown",
      "metadata": {
        "id": "3GoKWiOOk-Qs"
      },
      "source": [
        "## Short Circuiting"
      ]
    },
    {
      "cell_type": "code",
      "execution_count": null,
      "metadata": {
        "colab": {
          "base_uri": "https://localhost:8080/"
        },
        "id": "U7v3_quhk7Tb",
        "outputId": "1c61dbb6-d2eb-4f66-a6fd-98c76d085057"
      },
      "outputs": [
        {
          "data": {
            "text/plain": [
              "True"
            ]
          },
          "execution_count": 156,
          "metadata": {},
          "output_type": "execute_result"
        }
      ],
      "source": [
        "10 and True"
      ]
    },
    {
      "cell_type": "code",
      "execution_count": null,
      "metadata": {
        "colab": {
          "base_uri": "https://localhost:8080/"
        },
        "id": "WPGoGo6SlA0f",
        "outputId": "1152243f-ddb3-485f-931f-4a193c9fb199"
      },
      "outputs": [
        {
          "data": {
            "text/plain": [
              "10"
            ]
          },
          "execution_count": 157,
          "metadata": {},
          "output_type": "execute_result"
        }
      ],
      "source": [
        "True and 10"
      ]
    },
    {
      "cell_type": "code",
      "execution_count": null,
      "metadata": {
        "id": "Vzisfh6clCbw"
      },
      "outputs": [],
      "source": [
        "# and operation\n",
        "# If the first value is False -> Return that value\n",
        "# If the first value is True -> Return the second value"
      ]
    },
    {
      "cell_type": "code",
      "execution_count": null,
      "metadata": {
        "colab": {
          "base_uri": "https://localhost:8080/"
        },
        "id": "ldVn8YJ3lD45",
        "outputId": "227b3f36-ca87-4240-85ea-08eb5131295d"
      },
      "outputs": [
        {
          "data": {
            "text/plain": [
              "0"
            ]
          },
          "execution_count": 159,
          "metadata": {},
          "output_type": "execute_result"
        }
      ],
      "source": [
        "0 and True"
      ]
    },
    {
      "cell_type": "code",
      "execution_count": null,
      "metadata": {
        "colab": {
          "base_uri": "https://localhost:8080/"
        },
        "id": "JIKHnrZylFSE",
        "outputId": "4b4e99a9-1ee7-443f-918b-f29ab7a0134b"
      },
      "outputs": [
        {
          "data": {
            "text/plain": [
              "False"
            ]
          },
          "execution_count": 160,
          "metadata": {},
          "output_type": "execute_result"
        }
      ],
      "source": [
        "False and 10"
      ]
    },
    {
      "cell_type": "code",
      "execution_count": null,
      "metadata": {
        "colab": {
          "base_uri": "https://localhost:8080/"
        },
        "id": "5mPSL32TlHMQ",
        "outputId": "7c32718c-f956-4d28-f8f5-e24cbd998059"
      },
      "outputs": [
        {
          "data": {
            "text/plain": [
              "1"
            ]
          },
          "execution_count": 161,
          "metadata": {},
          "output_type": "execute_result"
        }
      ],
      "source": [
        "True and 1"
      ]
    },
    {
      "cell_type": "code",
      "execution_count": null,
      "metadata": {
        "colab": {
          "base_uri": "https://localhost:8080/"
        },
        "id": "5P5gjDBplIyz",
        "outputId": "97fbecf8-ade6-45bd-ec60-d0f0c8299cd3"
      },
      "outputs": [
        {
          "data": {
            "text/plain": [
              "0"
            ]
          },
          "execution_count": 162,
          "metadata": {},
          "output_type": "execute_result"
        }
      ],
      "source": [
        "True and 0"
      ]
    },
    {
      "cell_type": "code",
      "execution_count": null,
      "metadata": {
        "colab": {
          "base_uri": "https://localhost:8080/",
          "height": 36
        },
        "id": "a52FbkfhlKvx",
        "outputId": "6b2021cc-4ab3-4ad6-f1be-7a924eb621bb"
      },
      "outputs": [
        {
          "data": {
            "application/vnd.google.colaboratory.intrinsic+json": {
              "type": "string"
            },
            "text/plain": [
              "'string!'"
            ]
          },
          "execution_count": 163,
          "metadata": {},
          "output_type": "execute_result"
        }
      ],
      "source": [
        "True and \"string!\""
      ]
    },
    {
      "cell_type": "code",
      "execution_count": null,
      "metadata": {
        "id": "eApz-KiMlMYK"
      },
      "outputs": [],
      "source": [
        "# or operation\n",
        "# If the first value is True -> Return that value\n",
        "# If the first value is False -> Return the second value"
      ]
    },
    {
      "cell_type": "code",
      "execution_count": null,
      "metadata": {
        "colab": {
          "base_uri": "https://localhost:8080/"
        },
        "id": "N8QpJqlblN60",
        "outputId": "bd395d79-35a9-4580-e278-057645302e22"
      },
      "outputs": [
        {
          "data": {
            "text/plain": [
              "True"
            ]
          },
          "execution_count": 165,
          "metadata": {},
          "output_type": "execute_result"
        }
      ],
      "source": [
        "True or False"
      ]
    },
    {
      "cell_type": "code",
      "execution_count": null,
      "metadata": {
        "colab": {
          "base_uri": "https://localhost:8080/"
        },
        "id": "NvB9CnjclPse",
        "outputId": "3890161a-809d-401f-e5c7-d317f54a521c"
      },
      "outputs": [
        {
          "data": {
            "text/plain": [
              "True"
            ]
          },
          "execution_count": 166,
          "metadata": {},
          "output_type": "execute_result"
        }
      ],
      "source": [
        "True or 0"
      ]
    },
    {
      "cell_type": "code",
      "execution_count": null,
      "metadata": {
        "colab": {
          "base_uri": "https://localhost:8080/"
        },
        "id": "rTA5buqdlRYj",
        "outputId": "a1df415d-f240-46cd-b8f6-aceb850b9dd8"
      },
      "outputs": [
        {
          "data": {
            "text/plain": [
              "True"
            ]
          },
          "execution_count": 167,
          "metadata": {},
          "output_type": "execute_result"
        }
      ],
      "source": [
        "True or 10"
      ]
    },
    {
      "cell_type": "code",
      "execution_count": null,
      "metadata": {
        "colab": {
          "base_uri": "https://localhost:8080/"
        },
        "id": "PKSwXpFtlSuJ",
        "outputId": "a8f8c473-43d1-4ecc-d59e-20fc9d3f1741"
      },
      "outputs": [
        {
          "data": {
            "text/plain": [
              "10"
            ]
          },
          "execution_count": 168,
          "metadata": {},
          "output_type": "execute_result"
        }
      ],
      "source": [
        "False or 10"
      ]
    },
    {
      "cell_type": "code",
      "execution_count": null,
      "metadata": {
        "colab": {
          "base_uri": "https://localhost:8080/"
        },
        "id": "-SX3yEQilUYP",
        "outputId": "eb365b9f-16b9-4ee4-bf98-f5ec49759ff7"
      },
      "outputs": [
        {
          "data": {
            "text/plain": [
              "0"
            ]
          },
          "execution_count": 169,
          "metadata": {},
          "output_type": "execute_result"
        }
      ],
      "source": [
        "False or 0"
      ]
    },
    {
      "cell_type": "code",
      "execution_count": null,
      "metadata": {
        "colab": {
          "base_uri": "https://localhost:8080/",
          "height": 36
        },
        "id": "M9QUqRndlWT2",
        "outputId": "35bb3669-c898-4366-be6a-fd4d375c2f88"
      },
      "outputs": [
        {
          "data": {
            "application/vnd.google.colaboratory.intrinsic+json": {
              "type": "string"
            },
            "text/plain": [
              "''"
            ]
          },
          "execution_count": 170,
          "metadata": {},
          "output_type": "execute_result"
        }
      ],
      "source": [
        "False or \"\""
      ]
    },
    {
      "cell_type": "code",
      "execution_count": null,
      "metadata": {
        "colab": {
          "base_uri": "https://localhost:8080/"
        },
        "id": "gs2lTFpLlXs5",
        "outputId": "18a3a152-1d01-42a0-fdbe-c48682f1508c"
      },
      "outputs": [
        {
          "data": {
            "text/plain": [
              "10"
            ]
          },
          "execution_count": 171,
          "metadata": {},
          "output_type": "execute_result"
        }
      ],
      "source": [
        "10 or 2"
      ]
    },
    {
      "cell_type": "code",
      "execution_count": null,
      "metadata": {
        "colab": {
          "base_uri": "https://localhost:8080/"
        },
        "id": "ux4DsnWNlZRv",
        "outputId": "e561774d-0711-4af8-9c21-ef3f8fdf1246"
      },
      "outputs": [
        {
          "data": {
            "text/plain": [
              "False"
            ]
          },
          "execution_count": 172,
          "metadata": {},
          "output_type": "execute_result"
        }
      ],
      "source": [
        "\"aaa\" > \"aaa\""
      ]
    },
    {
      "cell_type": "markdown",
      "metadata": {
        "id": "4-l7lZxgfBci"
      },
      "source": [
        "## Tuples"
      ]
    },
    {
      "cell_type": "code",
      "execution_count": null,
      "metadata": {
        "id": "jKa_jyjtfBci"
      },
      "outputs": [],
      "source": []
    },
    {
      "cell_type": "code",
      "execution_count": null,
      "metadata": {
        "id": "w3PfJcZWfBci"
      },
      "outputs": [],
      "source": [
        "tup1 = ()"
      ]
    },
    {
      "cell_type": "code",
      "execution_count": null,
      "metadata": {
        "id": "K7UdWVGtfBci"
      },
      "outputs": [],
      "source": []
    },
    {
      "cell_type": "code",
      "execution_count": null,
      "metadata": {
        "id": "JIXb2UKFfBci"
      },
      "outputs": [],
      "source": []
    },
    {
      "cell_type": "code",
      "execution_count": null,
      "metadata": {
        "id": "1f43ZohLfBci"
      },
      "outputs": [],
      "source": []
    },
    {
      "cell_type": "code",
      "execution_count": null,
      "metadata": {
        "id": "2SPYWpurfBci"
      },
      "outputs": [],
      "source": []
    },
    {
      "cell_type": "code",
      "execution_count": null,
      "metadata": {
        "id": "ZFab8k_efBci"
      },
      "outputs": [],
      "source": []
    },
    {
      "cell_type": "code",
      "execution_count": null,
      "metadata": {
        "id": "wGTlR1hZfBci"
      },
      "outputs": [],
      "source": []
    },
    {
      "cell_type": "code",
      "execution_count": null,
      "metadata": {
        "id": "j5_xoSZVfBcj"
      },
      "outputs": [],
      "source": []
    },
    {
      "cell_type": "code",
      "execution_count": null,
      "metadata": {
        "id": "kweRWrNUfBcj"
      },
      "outputs": [],
      "source": []
    }
  ],
  "metadata": {
    "colab": {
      "provenance": [],
      "toc_visible": true
    },
    "kernelspec": {
      "display_name": "Python 3 (ipykernel)",
      "language": "python",
      "name": "python3"
    },
    "language_info": {
      "codemirror_mode": {
        "name": "ipython",
        "version": 3
      },
      "file_extension": ".py",
      "mimetype": "text/x-python",
      "name": "python",
      "nbconvert_exporter": "python",
      "pygments_lexer": "ipython3",
      "version": "3.11.5"
    }
  },
  "nbformat": 4,
  "nbformat_minor": 0
}