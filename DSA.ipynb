{
 "cells": [
  {
   "cell_type": "markdown",
   "metadata": {},
   "source": [
    "Problem: Two Sum\n",
    "Given an array of integers nums and an integer target, return the indices of the two numbers such that they add up to target.\n",
    "\n",
    "💡 Example:\n",
    "\n",
    "Input: nums = [2, 7, 11, 15], target = 9  \n",
    "Output: [0, 1]  # Because nums[0] + nums[1] == 2 + 7 == 9"
   ]
  },
  {
   "cell_type": "code",
   "execution_count": null,
   "metadata": {},
   "outputs": [],
   "source": [
    "### Brute Force Version"
   ]
  },
  {
   "cell_type": "code",
   "execution_count": 7,
   "metadata": {},
   "outputs": [],
   "source": [
    "def two_sums(nums, target):\n",
    "    for i in range(len(nums)):\n",
    "        for j in range(i+1,len(nums)):\n",
    "            nums[i]+nums[j]==target\n",
    "            return i,j\n",
    "    return []"
   ]
  },
  {
   "cell_type": "code",
   "execution_count": 24,
   "metadata": {},
   "outputs": [
    {
     "data": {
      "text/plain": [
       "[0, 1]"
      ]
     },
     "execution_count": 24,
     "metadata": {},
     "output_type": "execute_result"
    }
   ],
   "source": [
    "two_sums([2, 7, 11, 15],9)"
   ]
  },
  {
   "cell_type": "code",
   "execution_count": null,
   "metadata": {},
   "outputs": [],
   "source": [
    "### Hashing"
   ]
  },
  {
   "cell_type": "code",
   "execution_count": 20,
   "metadata": {},
   "outputs": [],
   "source": [
    "def twosums(nums,target):\n",
    "    seen={}\n",
    "    for i, num in enumerate(nums):\n",
    "        print(i, num)\n",
    "        diff=target-num\n",
    "        if diff in seen:\n",
    "            return [seen[diff],i]\n",
    "        seen[num]=i"
   ]
  },
  {
   "cell_type": "code",
   "execution_count": 26,
   "metadata": {},
   "outputs": [
    {
     "name": "stdout",
     "output_type": "stream",
     "text": [
      "0 2\n",
      "1 7\n",
      "2 11\n"
     ]
    },
    {
     "data": {
      "text/plain": [
       "[1, 2]"
      ]
     },
     "execution_count": 26,
     "metadata": {},
     "output_type": "execute_result"
    }
   ],
   "source": [
    "twosums([2, 7, 11, 15],18)"
   ]
  },
  {
   "cell_type": "raw",
   "metadata": {},
   "source": [
    "Version  Time Complexity Space Complexity\n",
    "Brute Force   O(n²)      O(1)\n",
    "Hashmap       O(n)       O(n)"
   ]
  },
  {
   "cell_type": "markdown",
   "metadata": {},
   "source": [
    "Problem: Best Time to Buy and Sell Stock\n",
    "You are given an array prices where prices[i] is the price of a stock on the i-th day.\n",
    "You want to buy one stock and sell one stock later (not same day) to make the most profit.\n",
    "Return the maximum profit you can achieve. If no profit is possible, return 0.\n",
    "\n",
    "💡 Example:\n",
    "\n",
    "Input: prices = [7, 1, 5, 3, 6, 4]\n",
    "Output: 5  # Buy at 1, sell at 6 → profit = 6 - 1 = 5"
   ]
  },
  {
   "cell_type": "code",
   "execution_count": null,
   "metadata": {},
   "outputs": [],
   "source": [
    "### Brute Force"
   ]
  },
  {
   "cell_type": "code",
   "execution_count": 29,
   "metadata": {},
   "outputs": [],
   "source": [
    "price=[7,1,5,3,6,4]\n",
    "max_profit=[]\n",
    "length=len(prices)\n",
    "\n",
    "for i in range(length):\n",
    "    for j in range(i+1, length):\n",
    "        profit=price[j]-price[i]\n",
    "        max_profit.append(profit)\n",
    "max(max_profit)"
   ]
  },
  {
   "cell_type": "code",
   "execution_count": 32,
   "metadata": {},
   "outputs": [
    {
     "data": {
      "text/plain": [
       "5"
      ]
     },
     "execution_count": 32,
     "metadata": {},
     "output_type": "execute_result"
    }
   ],
   "source": [
    "max(max_profit)"
   ]
  },
  {
   "cell_type": "code",
   "execution_count": 35,
   "metadata": {},
   "outputs": [
    {
     "data": {
      "text/plain": [
       "5"
      ]
     },
     "execution_count": 35,
     "metadata": {},
     "output_type": "execute_result"
    }
   ],
   "source": [
    "price=[7,1,5,3,6,4]\n",
    "max_profit=0\n",
    "length=len(prices)\n",
    "\n",
    "for i in range(length):\n",
    "    for j in range(i+1, length):\n",
    "        profit=price[j]-price[i]\n",
    "        max_profit=max(max_profit,profit)\n",
    "max_profit"
   ]
  },
  {
   "cell_type": "code",
   "execution_count": null,
   "metadata": {},
   "outputs": [],
   "source": [
    "### Optimal Solution"
   ]
  },
  {
   "cell_type": "code",
   "execution_count": 42,
   "metadata": {},
   "outputs": [],
   "source": [
    "def max_profit_solution(prices):\n",
    "    if len(prices)<2:\n",
    "        return 0\n",
    "    \n",
    "    min_profit=float('inf')\n",
    "    max_profit=0\n",
    "    \n",
    "    for price in prices:\n",
    "        if price < min_profit:\n",
    "            min_profit=price\n",
    "        else:\n",
    "            profit=price-min_profit\n",
    "            max_profit=max(max_profit, profit)\n",
    "    return max_profit"
   ]
  },
  {
   "cell_type": "code",
   "execution_count": 44,
   "metadata": {},
   "outputs": [
    {
     "data": {
      "text/plain": [
       "5"
      ]
     },
     "execution_count": 44,
     "metadata": {},
     "output_type": "execute_result"
    }
   ],
   "source": [
    "max_profit_solution([7,1,5,3,6,4])"
   ]
  },
  {
   "cell_type": "markdown",
   "metadata": {},
   "source": [
    "Problem: Contains Duplicate\n",
    "Given an integer array nums, return True if any value appears at least twice in the array, and False if every element is distinct.\n",
    "\n",
    "💡 Example:\n",
    "\n",
    "Input: nums = [1, 2, 3, 4]\n",
    "Output: False\n",
    "\n",
    "Input: nums = [1, 2, 3, 1]\n",
    "Output: True\n"
   ]
  },
  {
   "cell_type": "code",
   "execution_count": 97,
   "metadata": {},
   "outputs": [],
   "source": [
    "def duplicate_lst(lst):\n",
    "    dic={}\n",
    "    for key in lst:\n",
    "        dic[key]=dic.get(key,0)+1\n",
    "        if dic[key] >1:\n",
    "            most_freq=max(dic, key=dic.get)\n",
    "            print(most_freq)\n",
    "            return True\n",
    "    \n",
    "    return False\n"
   ]
  },
  {
   "cell_type": "code",
   "execution_count": 105,
   "metadata": {},
   "outputs": [
    {
     "name": "stdout",
     "output_type": "stream",
     "text": [
      "2\n"
     ]
    },
    {
     "data": {
      "text/plain": [
       "True"
      ]
     },
     "execution_count": 105,
     "metadata": {},
     "output_type": "execute_result"
    }
   ],
   "source": [
    "duplicate_lst([2,2,3,4,2,1,4,4,4])"
   ]
  },
  {
   "cell_type": "code",
   "execution_count": 60,
   "metadata": {},
   "outputs": [
    {
     "data": {
      "text/plain": [
       "False"
      ]
     },
     "execution_count": 60,
     "metadata": {},
     "output_type": "execute_result"
    }
   ],
   "source": [
    "duplicate_lst([1,2,3,4])"
   ]
  },
  {
   "cell_type": "code",
   "execution_count": 62,
   "metadata": {},
   "outputs": [
    {
     "data": {
      "text/plain": [
       "Counter({1: 2, 2: 1, 3: 1})"
      ]
     },
     "execution_count": 62,
     "metadata": {},
     "output_type": "execute_result"
    }
   ],
   "source": [
    "from collections import Counter\n",
    "\n",
    "lst=[1, 2, 3, 1]\n",
    "Counter(lst)\n",
    "most_freq=max()"
   ]
  },
  {
   "cell_type": "markdown",
   "metadata": {},
   "source": [
    "Problem: Valid Anagram\n",
    "Given two strings s and t, return True if t is an anagram of s, and False otherwise.\n",
    "\n",
    "🤔 What’s an Anagram?\n",
    "Two strings are anagrams if they contain the same characters, just rearranged.\n",
    "\n",
    "\n",
    "Input: s = \"listen\", t = \"silent\" → True  \n",
    "Input: s = \"hello\", t = \"world\"  → False"
   ]
  },
  {
   "cell_type": "code",
   "execution_count": 107,
   "metadata": {},
   "outputs": [],
   "source": [
    "from collections import Counter\n",
    "\n",
    "def anagram(s,t):\n",
    "    if Counter(s)==Counter(t):\n",
    "        return True\n",
    "    return False"
   ]
  },
  {
   "cell_type": "code",
   "execution_count": 110,
   "metadata": {},
   "outputs": [
    {
     "data": {
      "text/plain": [
       "True"
      ]
     },
     "execution_count": 110,
     "metadata": {},
     "output_type": "execute_result"
    }
   ],
   "source": [
    "anagram(\"listen\",\"silent\")"
   ]
  },
  {
   "cell_type": "code",
   "execution_count": 121,
   "metadata": {},
   "outputs": [],
   "source": [
    "### Brute Force\n",
    "dict1={}\n",
    "dict2={}\n",
    "\n",
    "def count_letters(s,t):\n",
    "    for i in s:\n",
    "        dict1[i]=dict1.get(i,0)+1\n",
    "        \n",
    "    for j in t:\n",
    "        dict2[j]=dict2.get(j,0)+1\n",
    "\n",
    "    if (dict1==dict2):\n",
    "        return True\n",
    "    return False"
   ]
  },
  {
   "cell_type": "code",
   "execution_count": 120,
   "metadata": {},
   "outputs": [
    {
     "name": "stdout",
     "output_type": "stream",
     "text": [
      "{'l': 1, 'i': 1, 's': 1, 't': 1, 'e': 1, 'n': 1}\n",
      "{'s': 1, 'i': 1, 'l': 1, 'e': 1, 'n': 1, 't': 1}\n"
     ]
    },
    {
     "data": {
      "text/plain": [
       "True"
      ]
     },
     "execution_count": 120,
     "metadata": {},
     "output_type": "execute_result"
    }
   ],
   "source": [
    "count_letters(\"listen\",\"silent\")"
   ]
  },
  {
   "cell_type": "code",
   "execution_count": 122,
   "metadata": {},
   "outputs": [
    {
     "data": {
      "text/plain": [
       "22"
      ]
     },
     "execution_count": 122,
     "metadata": {},
     "output_type": "execute_result"
    }
   ],
   "source": [
    "45//2"
   ]
  },
  {
   "cell_type": "code",
   "execution_count": null,
   "metadata": {},
   "outputs": [],
   "source": []
  },
  {
   "cell_type": "code",
   "execution_count": null,
   "metadata": {},
   "outputs": [],
   "source": []
  },
  {
   "cell_type": "code",
   "execution_count": null,
   "metadata": {},
   "outputs": [],
   "source": []
  }
 ],
 "metadata": {
  "kernelspec": {
   "display_name": "Python 3",
   "language": "python",
   "name": "python3"
  },
  "language_info": {
   "codemirror_mode": {
    "name": "ipython",
    "version": 3
   },
   "file_extension": ".py",
   "mimetype": "text/x-python",
   "name": "python",
   "nbconvert_exporter": "python",
   "pygments_lexer": "ipython3",
   "version": "3.8.10"
  }
 },
 "nbformat": 4,
 "nbformat_minor": 2
}
