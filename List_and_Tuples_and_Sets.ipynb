{
  "cells": [
    {
      "cell_type": "markdown",
      "metadata": {
        "id": "OGlg0Fr3YSIf"
      },
      "source": [
        "# Lists Tuples and Sets"
      ]
    },
    {
      "cell_type": "markdown",
      "metadata": {
        "id": "T2AMIsJ5YSIg"
      },
      "source": [
        "In this notebook, you will learn to store more than one valuable in a single variable.\n",
        "\n",
        "This by itself is one of the most powerful ideas in programming, and it introduces a number of other central concepts such as loops.\n",
        "\n",
        "If this section ends up making sense to you, you will be able to start writing some interesting programs, and you can be more confident that you will be able to develop overall competence as a programmer."
      ]
    },
    {
      "cell_type": "markdown",
      "metadata": {
        "id": "tQIDWM_7YSIi"
      },
      "source": [
        "<a name=\"top\"></a> Contents\n",
        "===\n",
        "- [Lists](#lists)\n",
        "    - [Introducing Lists](#introducing)\n",
        "        - [Example](#example)\n",
        "        - [Naming and defining a list](#naming)\n",
        "        - [Accessing one item in a list](#accessing_one_item)\n",
        "        - [Exercises](#exercises_list_introduction)\n",
        "    - [Lists and Looping](#looping)\n",
        "        - [Accessing all elements in a list](#accessing_all_elements)\n",
        "        - [Enumerating a list](#enumerating_list)\n",
        "        - [Exercises](#exercises_list_loop)\n",
        "    - [Common List Operations](#common_operations)\n",
        "        - [Modifying elements in a list](#modifying_elements)\n",
        "        - [Finding an element in a list](#finding_elements)\n",
        "        - [Testing whether an element is in a list](#testing_elements)\n",
        "        - [Adding items to a list](#adding_items)\n",
        "        - [Creating an empty list](#empty_list)\n",
        "        - [Sorting a list](#sorting_list)\n",
        "        - [Finding the length of a list](#length)\n",
        "        - [Exercises](#exercises_common_operations)\n",
        "    - [Removing Items from a List](#removing_items)\n",
        "        - [Removing items by position](#removing_by_position)\n",
        "        - [Removing items by value](#removing_by_value)\n",
        "        - [Popping items](#popping)\n",
        "        - [Exercises](#exercises_removing_items)\n",
        "    - [Want to see what functions are?](#functions)\n",
        "    - [Slicing a List](#slicing)\n",
        "        - [Copying a list](#copying)\n",
        "        - [Exercises](#exercises_slicing)\n",
        "    - [Numerical Lists](#numerical_lists)\n",
        "        - [The *range()* function](#range_function)\n",
        "        - [The *min()*, *max()*, *sum()* functions](#min_max_sum)\n",
        "        - [Exercises](#exercises_numerical)\n",
        "    - [List Comprehensions](#comprehensions)\n",
        "        - [Numerical comprehensions](#comprehensions_numerical)\n",
        "        - [Non-numerical comprehensions](#comprehensions_non_numerical)\n",
        "        - [Exercises](#exercises_comprehensions)\n",
        "    - [Strings as Lists](#strings_as_lists)\n",
        "        - [Strings as a list of characters](#list_of_characters)\n",
        "        - [Slicing strings](#slicing_strings)\n",
        "        - [Finding substrings](#finding_substrings)\n",
        "        - [Replacing substrings](#replacing_substrings)\n",
        "        - [Counting substrings](#counting_substrings)\n",
        "        - [Splitting strings](#splitting_strings)\n",
        "        - [Other string methods](#other_string_methods)\n",
        "        - [Exercises](#exercises_strings_as_lists)\n",
        "        - [Challenges](#challenges_strings_as_lists)\n",
        "    - [Tuples](#tuples)\n",
        "        - [Defining tuples, and accessing elements](#defining_tuples)\n",
        "        - [Using tuples to make strings](#tuples_strings)\n",
        "        - [Exercises](#exercises_tuples)\n",
        "    - [Sets](#sets)\n",
        "        - [Basic Operatoins on Sets](#set_operations)\n",
        "        - [Exercises](#exercise_set)\n",
        "    - [Overall Challenges](#challenges_overall)"
      ]
    },
    {
      "cell_type": "markdown",
      "metadata": {
        "id": "N8qTxXnzYSIj"
      },
      "source": [
        "<a name='lists'></a>Lists\n",
        "==="
      ]
    },
    {
      "cell_type": "markdown",
      "metadata": {
        "id": "53oF6_2OYSIk"
      },
      "source": [
        "<a name='introducing'></a>Introducing Lists\n",
        "===\n",
        "<a name='example'></a>Example\n",
        "---\n",
        "A list is a collection of items, that is stored in a variable. The items should be related in some way, but there are no restrictions on what can be stored in a list. Here is a simple example of a list, and how we can quickly access each item in the list."
      ]
    },
    {
      "cell_type": "code",
      "execution_count": null,
      "metadata": {
        "id": "KShk0Vf-YSIl",
        "outputId": "97c1ef32-a0d8-4602-f131-4b17beed8a3b"
      },
      "outputs": [
        {
          "name": "stdout",
          "output_type": "stream",
          "text": [
            "Hello, Bernice!\n",
            "Hello, Aaron!\n",
            "Hello, Cody!\n"
          ]
        }
      ],
      "source": [
        "students = ['bernice', 'aaron', 'cody']\n",
        "\n",
        "for student in students:\n",
        "    print(\"Hello, \" + student.title() + \"!\")"
      ]
    },
    {
      "cell_type": "markdown",
      "metadata": {
        "id": "bJPpOxOlYSIm"
      },
      "source": [
        "<a name='naming'></a>Naming and defining a list\n",
        "---\n",
        "Since lists are collection of objects, it is good practice to give them a plural name. If each item in your list is a car, call the list 'cars'. If each item is a dog, call your list 'dogs'. This gives you a straightforward way to refer to the entire list ('dogs'), and to a single item in the list ('dog')."
      ]
    },
    {
      "cell_type": "markdown",
      "metadata": {
        "id": "Xyzpc_ZlYSIn"
      },
      "source": [
        "In Python, square brackets designate a list. To define a list, you give the name of the list, the equals sign, and the values you want to include in your list within square brackets."
      ]
    },
    {
      "cell_type": "code",
      "execution_count": null,
      "metadata": {
        "id": "9lnkDv4BYSIn"
      },
      "outputs": [],
      "source": [
        "dogs = ['border collie',\n",
        "        'australian cattle dog',\n",
        "        'labrador retriever']"
      ]
    },
    {
      "cell_type": "markdown",
      "metadata": {
        "id": "HHvZcwFYYSIo"
      },
      "source": [
        "<a name='accessing_one_item'></a>Accessing one item in a list\n",
        "---\n",
        "Items in a list are identified by their position in the list, starting with zero. This will almost certainly trip you up at some point. Programmers even joke about how often we all make \"off-by-one\" errors, so don't feel bad when you make this kind of error."
      ]
    },
    {
      "cell_type": "markdown",
      "metadata": {
        "id": "kSsizT4tYSIo"
      },
      "source": [
        "To access the first element in a list, you give the name of the list, followed by a zero in parentheses."
      ]
    },
    {
      "cell_type": "code",
      "execution_count": null,
      "metadata": {
        "id": "HUwtqPxQYSIo",
        "outputId": "3aeb9ff4-1501-4f16-bb04-5cbbe2a055e5"
      },
      "outputs": [
        {
          "name": "stdout",
          "output_type": "stream",
          "text": [
            "Border Collie\n"
          ]
        }
      ],
      "source": [
        "dogs = ['border collie',\n",
        "        'australian cattle dog',\n",
        "        'labrador retriever']\n",
        "\n",
        "dog = dogs[0]\n",
        "print(dog.title())"
      ]
    },
    {
      "cell_type": "markdown",
      "metadata": {
        "id": "KwUcgWeCYSIo"
      },
      "source": [
        "The number in parentheses is called the **index** of the item.\n",
        "\n",
        "Because lists start at zero, the index of an item is always one less than its position in the list.\n",
        "Because of that, **Python** is said to be a [*zero-indexed*](http://en.wikipedia.org/wiki/Zero-based_numbering)\n",
        "language (as many others, like `C`, or `Java`)"
      ]
    },
    {
      "cell_type": "markdown",
      "metadata": {
        "id": "w3rkYARnYSIp"
      },
      "source": [
        "So to get the second item in the list, we need to use an index of 1, and so on.."
      ]
    },
    {
      "cell_type": "code",
      "execution_count": null,
      "metadata": {
        "id": "y0Rc09CFYSIp",
        "outputId": "7d55ea3d-eb71-49b2-f60a-1c46d1bfeab7"
      },
      "outputs": [
        {
          "name": "stdout",
          "output_type": "stream",
          "text": [
            "Australian Cattle Dog\n"
          ]
        }
      ],
      "source": [
        "dog = dogs[1]\n",
        "print(dog.title())"
      ]
    },
    {
      "cell_type": "markdown",
      "metadata": {
        "id": "vmfPTWdOYSIq"
      },
      "source": [
        "### Accessing the last items in a list\n",
        "You can probably see that to get the last item in this list, we would use an index of 2. This works, but it would only work because our list has exactly three items. To get the last item in a list, no matter how long the list is, you can use an index of -1."
      ]
    },
    {
      "cell_type": "code",
      "execution_count": null,
      "metadata": {
        "id": "rf-NbAbBYSIq",
        "outputId": "9833a15b-8f39-4070-b48d-7bff5158045c"
      },
      "outputs": [
        {
          "name": "stdout",
          "output_type": "stream",
          "text": [
            "Labrador Retriever\n"
          ]
        }
      ],
      "source": [
        "dog = dogs[-1]\n",
        "print(dog.title())"
      ]
    },
    {
      "cell_type": "markdown",
      "metadata": {
        "id": "j2f22pKQYSIq"
      },
      "source": [
        "This syntax also works for the second to last item, the third to last, and so forth."
      ]
    },
    {
      "cell_type": "code",
      "execution_count": null,
      "metadata": {
        "id": "j_aHWUdZYSIr",
        "outputId": "fc3e18f3-fa7f-4976-95e4-3823851095f9"
      },
      "outputs": [
        {
          "name": "stdout",
          "output_type": "stream",
          "text": [
            "Australian Cattle Dog\n"
          ]
        }
      ],
      "source": [
        "dog = dogs[-2]\n",
        "print(dog.title())"
      ]
    },
    {
      "cell_type": "markdown",
      "metadata": {
        "id": "Naqt_fUYYSIr"
      },
      "source": [
        "You can't use a negative number larger than the length of the list, however."
      ]
    },
    {
      "cell_type": "code",
      "execution_count": null,
      "metadata": {
        "id": "mCam8gVhYSIr",
        "outputId": "5bd98d2d-1dae-448e-85c0-a4377ffe2f2e"
      },
      "outputs": [
        {
          "ename": "IndexError",
          "evalue": "list index out of range",
          "output_type": "error",
          "traceback": [
            "\u001b[0;31m---------------------------------------------------------------------------\u001b[0m\n\u001b[0;31mIndexError\u001b[0m                                Traceback (most recent call last)",
            "\u001b[0;32m<ipython-input-33-32c58df001ad>\u001b[0m in \u001b[0;36m<module>\u001b[0;34m()\u001b[0m\n\u001b[1;32m      1\u001b[0m \u001b[0mdogs\u001b[0m \u001b[0;34m=\u001b[0m \u001b[0;34m[\u001b[0m\u001b[0;34m'border collie'\u001b[0m\u001b[0;34m,\u001b[0m \u001b[0;34m'australian cattle dog'\u001b[0m\u001b[0;34m,\u001b[0m \u001b[0;34m'labrador retriever'\u001b[0m\u001b[0;34m]\u001b[0m\u001b[0;34m\u001b[0m\u001b[0m\n\u001b[1;32m      2\u001b[0m \u001b[0;34m\u001b[0m\u001b[0m\n\u001b[0;32m----> 3\u001b[0;31m \u001b[0mdog\u001b[0m \u001b[0;34m=\u001b[0m \u001b[0mdogs\u001b[0m\u001b[0;34m[\u001b[0m\u001b[0;34m-\u001b[0m\u001b[0;36m4\u001b[0m\u001b[0;34m]\u001b[0m\u001b[0;34m\u001b[0m\u001b[0m\n\u001b[0m\u001b[1;32m      4\u001b[0m \u001b[0mprint\u001b[0m\u001b[0;34m(\u001b[0m\u001b[0mdog\u001b[0m\u001b[0;34m.\u001b[0m\u001b[0mtitle\u001b[0m\u001b[0;34m(\u001b[0m\u001b[0;34m)\u001b[0m\u001b[0;34m)\u001b[0m\u001b[0;34m\u001b[0m\u001b[0m\n",
            "\u001b[0;31mIndexError\u001b[0m: list index out of range"
          ]
        }
      ],
      "source": [
        "dog = dogs[-4]\n",
        "print(dog.title())"
      ]
    },
    {
      "cell_type": "markdown",
      "metadata": {
        "id": "YHxenQPqYSIr"
      },
      "source": [
        "[top](#top)"
      ]
    },
    {
      "cell_type": "markdown",
      "metadata": {
        "id": "ATDu4MaJYSIr"
      },
      "source": [
        "<a name='exercises_list_introduction'></a>Exercises\n",
        "---\n",
        "#### First List\n",
        "- Store the values 'python', 'c', and 'java' in a list. Print each of these values out, using their position in the list.\n",
        "\n",
        "#### First Neat List\n",
        "- Store the values 'python', 'c', and 'java' in a list. Print a statement about each of these values, using their position in the list.\n",
        "- Your statement could simply be, 'A nice programming language is *value*.'\n",
        "\n",
        "#### Your First List\n",
        "- Think of something you can store in a list. Make a list with three or four items, and then print a message that includes at least one item from your list. Your sentence could be as simple as, \"One item in my list is a ____.\""
      ]
    },
    {
      "cell_type": "code",
      "execution_count": null,
      "metadata": {
        "id": "OLioS-y8YSIs"
      },
      "outputs": [],
      "source": [
        "# Ex 3.1 : First List\n",
        "\n",
        "# put your code here"
      ]
    },
    {
      "cell_type": "code",
      "execution_count": null,
      "metadata": {
        "id": "5HVW3SJUYSIs"
      },
      "outputs": [],
      "source": [
        "# Ex 3.2 : First Neat List\n",
        "\n",
        "# put your code here"
      ]
    },
    {
      "cell_type": "code",
      "execution_count": null,
      "metadata": {
        "id": "h085KWUBYSIt"
      },
      "outputs": [],
      "source": [
        "# Ex 3.3 : Your First List\n",
        "\n",
        "# put your code here"
      ]
    },
    {
      "cell_type": "markdown",
      "metadata": {
        "id": "evh8sbjvYSIt"
      },
      "source": [
        "[top](#top)"
      ]
    },
    {
      "cell_type": "markdown",
      "metadata": {
        "id": "_4a9r7uLYSIt"
      },
      "source": [
        "<a name='looping'></a>Lists and Looping\n",
        "==="
      ]
    },
    {
      "cell_type": "markdown",
      "metadata": {
        "id": "e-K1ooK3YSIu"
      },
      "source": [
        "<a name='accessing_all_elements'></a>Accessing all elements in a list\n",
        "---\n",
        "This is one of the most important concepts related to lists. You can have a list with a million items in it, and in three lines of code you can write a sentence for each of those million items. If you want to understand lists, and become a competent programmer, make sure you take the time to understand this section.\n",
        "\n",
        "We use a loop to access all the elements in a list. A loop is a block of code that repeats itself until it runs out of items to work with, or until a certain condition is met. In this case, our loop will run once for every item in our list. With a list that is three items long, our loop will run three times."
      ]
    },
    {
      "cell_type": "markdown",
      "metadata": {
        "id": "SvpKNgRDYSIu"
      },
      "source": [
        "Let's take a look at how we access all the items in a list, and then try to understand how it works."
      ]
    },
    {
      "cell_type": "code",
      "execution_count": null,
      "metadata": {
        "id": "YYq7AWPKYSIu",
        "outputId": "fa758fa0-e2be-4058-e369-44c30457bc23"
      },
      "outputs": [
        {
          "name": "stdout",
          "output_type": "stream",
          "text": [
            "border collie\n",
            "australian cattle dog\n",
            "labrador retriever\n"
          ]
        }
      ],
      "source": [
        "dogs = ['border collie', 'australian cattle dog', 'labrador retriever']\n",
        "\n",
        "for dog in dogs:\n",
        "    print(dog)"
      ]
    },
    {
      "cell_type": "markdown",
      "metadata": {
        "id": "85Mv91TXYSIv"
      },
      "source": [
        "We have already seen how to create a list, so we are really just trying to understand how the last two lines work. These last two lines make up a loop, and the language here can help us see what is happening:\n",
        "\n",
        "    for dog in dogs:\n",
        "\n",
        "- The keyword \"for\" tells Python to get ready to use a loop.\n",
        "- The variable \"dog\", with no \"s\" on it, is a temporary placeholder variable. This is the variable that Python will place each item in the list into, one at a time.\n",
        "- The first time through the loop, the value of \"dog\" will be 'border collie'.\n",
        "- The second time through the loop, the value of \"dog\" will be 'australian cattle dog'.\n",
        "- The third time through, \"dog\" will be 'labrador retriever'.\n",
        "- After this, there are no more items in the list, and the loop will end."
      ]
    },
    {
      "cell_type": "markdown",
      "metadata": {
        "id": "8F1tJhUNYSIv"
      },
      "source": [
        "### Doing more with each item\n",
        "\n",
        "We can do whatever we want with the value of \"dog\" inside the loop. In this case, we just print the name of the dog.\n",
        "\n",
        "    print(dog)\n",
        "\n",
        "We are not limited to just printing the word dog. We can do whatever we want with this value, and this action will be carried out for every item in the list."
      ]
    },
    {
      "cell_type": "markdown",
      "metadata": {
        "id": "H2cxVe7GYSIv"
      },
      "source": [
        "Let's say something about each dog in our list."
      ]
    },
    {
      "cell_type": "code",
      "execution_count": null,
      "metadata": {
        "id": "fBYsyVKgYSIv",
        "outputId": "db878437-a2f1-42f3-9510-917745721c99"
      },
      "outputs": [
        {
          "name": "stdout",
          "output_type": "stream",
          "text": [
            "I like border collies.\n",
            "I like australian cattle dogs.\n",
            "I like labrador retrievers.\n"
          ]
        }
      ],
      "source": [
        "dogs = ['border collie', 'australian cattle dog', 'labrador retriever']\n",
        "\n",
        "for dog in dogs:\n",
        "    print('I like ' + dog + 's.')"
      ]
    },
    {
      "cell_type": "markdown",
      "metadata": {
        "id": "fQSNiuqAYSIw"
      },
      "source": [
        "### Inside and outside the loop\n",
        "\n",
        "Python uses indentation to decide what is inside the loop and what is outside the loop. Code that is inside the loop will be run for every item in the list. Code that is not indented, which comes after the loop, will be run once just like regular code."
      ]
    },
    {
      "cell_type": "code",
      "execution_count": null,
      "metadata": {
        "id": "4sfZfORVYSIx",
        "outputId": "9e56cb19-dcc7-41d7-aa2f-677af0b78fd4"
      },
      "outputs": [
        {
          "name": "stdout",
          "output_type": "stream",
          "text": [
            "I like border collies.\n",
            "No, I really really like border collies!\n",
            "\n",
            "I like australian cattle dogs.\n",
            "No, I really really like australian cattle dogs!\n",
            "\n",
            "I like labrador retrievers.\n",
            "No, I really really like labrador retrievers!\n",
            "\n",
            "\n",
            "That's just how I feel about dogs.\n"
          ]
        }
      ],
      "source": [
        "dogs = ['border collie', 'australian cattle dog', 'labrador retriever']\n",
        "\n",
        "for dog in dogs:\n",
        "    print('I like ' + dog + 's.')\n",
        "    print('No, I really really like ' + dog +'s!\\n')\n",
        "\n",
        "print(\"\\nThat's just how I feel about dogs.\")"
      ]
    },
    {
      "cell_type": "markdown",
      "metadata": {
        "id": "n9_UljQ6YSIx"
      },
      "source": [
        "Notice that the last line only runs once, after the loop is completed. Also notice the use of newlines (\"\\n\") to make the output easier to read."
      ]
    },
    {
      "cell_type": "markdown",
      "metadata": {
        "id": "DX_mmpZ4YSIy"
      },
      "source": [
        "[top](#top)"
      ]
    },
    {
      "cell_type": "markdown",
      "metadata": {
        "id": "_5YlqwJFYSI7"
      },
      "source": [
        "<a name='enumerating_list'></a>Enumerating a list\n",
        "---\n",
        "When you are looping through a list, you may want to know the index of the current item. You could always use the *list.index(value)* syntax, but there is a simpler way. The *enumerate()* function tracks the index of each item for you, as it loops through the list:"
      ]
    },
    {
      "cell_type": "code",
      "execution_count": null,
      "metadata": {
        "id": "f7BTwkp0YSI7",
        "outputId": "13764e2b-2760-471a-87e5-735af6150f23"
      },
      "outputs": [
        {
          "name": "stdout",
          "output_type": "stream",
          "text": [
            "Results for the dog show are as follows:\n",
            "\n",
            "Place: 0 Dog: Border Collie\n",
            "Place: 1 Dog: Australian Cattle Dog\n",
            "Place: 2 Dog: Labrador Retriever\n"
          ]
        }
      ],
      "source": [
        "dogs = ['border collie', 'australian cattle dog', 'labrador retriever']\n",
        "\n",
        "print(\"Results for the dog show are as follows:\\n\")\n",
        "for index, dog in enumerate(dogs):\n",
        "    place = str(index)\n",
        "    print(\"Place: \" + place + \" Dog: \" + dog.title())"
      ]
    },
    {
      "cell_type": "markdown",
      "metadata": {
        "id": "0ip0fCNjYSI8"
      },
      "source": [
        "To enumerate a list, you need to add an *index* variable to hold the current index. So instead of\n",
        "\n",
        "    for dog in dogs:\n",
        "    \n",
        "You have\n",
        "\n",
        "    for index, dog in enumerate(dogs)\n",
        "    \n",
        "The value in the variable *index* is always an integer. If you want to print it in a string, you have to turn the integer into a string:\n",
        "\n",
        "    str(index)\n",
        "    "
      ]
    },
    {
      "cell_type": "markdown",
      "metadata": {
        "id": "RcGzhOoyYSI8"
      },
      "source": [
        "The index always starts at 0, so in this example the value of *place* should actually be the current index, plus one:"
      ]
    },
    {
      "cell_type": "code",
      "execution_count": null,
      "metadata": {
        "id": "xSxq-78dYSI8",
        "outputId": "ccd4a77d-42a3-41f9-db66-cfaac00ff93d"
      },
      "outputs": [
        {
          "name": "stdout",
          "output_type": "stream",
          "text": [
            "Results for the dog show are as follows:\n",
            "\n",
            "Place: 1 Dog: Border Collie\n",
            "Place: 2 Dog: Australian Cattle Dog\n",
            "Place: 3 Dog: Labrador Retriever\n"
          ]
        }
      ],
      "source": [
        "dogs = ['border collie', 'australian cattle dog', 'labrador retriever']\n",
        "\n",
        "print(\"Results for the dog show are as follows:\\n\")\n",
        "for index, dog in enumerate(dogs):\n",
        "    place = str(index + 1)\n",
        "    print(\"Place: \" + place + \" Dog: \" + dog.title())"
      ]
    },
    {
      "cell_type": "markdown",
      "metadata": {
        "id": "kgWMr3lLYSI8"
      },
      "source": [
        "### A common looping error\n",
        "One common looping error occurs when instead of using the single variable *dog* inside the loop, we accidentally use the variable that holds the entire list:"
      ]
    },
    {
      "cell_type": "code",
      "execution_count": null,
      "metadata": {
        "id": "1_5kKVS3YSI9",
        "outputId": "1d9ae914-50cc-41a1-9105-a2a3da1fdcef"
      },
      "outputs": [
        {
          "name": "stdout",
          "output_type": "stream",
          "text": [
            "['border collie', 'australian cattle dog', 'labrador retriever']\n",
            "['border collie', 'australian cattle dog', 'labrador retriever']\n",
            "['border collie', 'australian cattle dog', 'labrador retriever']\n"
          ]
        }
      ],
      "source": [
        "dogs = ['border collie', 'australian cattle dog', 'labrador retriever']\n",
        "\n",
        "for dog in dogs:\n",
        "    print(dogs)"
      ]
    },
    {
      "cell_type": "markdown",
      "metadata": {
        "id": "lqdiGVctYSI9"
      },
      "source": [
        "In this example, instead of printing each dog in the list, we print the entire list every time we go through the loop. Python puts each individual item in the list into the variable *dog*, but we never use that variable. Sometimes you will just get an error if you try to do this:"
      ]
    },
    {
      "cell_type": "code",
      "execution_count": null,
      "metadata": {
        "id": "LJmtIc1YYSI9",
        "outputId": "8890a8d1-da23-4b01-fa99-3f27e62158c3"
      },
      "outputs": [
        {
          "ename": "TypeError",
          "evalue": "Can't convert 'list' object to str implicitly",
          "output_type": "error",
          "traceback": [
            "\u001b[0;31m---------------------------------------------------------------------------\u001b[0m\n\u001b[0;31mTypeError\u001b[0m                                 Traceback (most recent call last)",
            "\u001b[0;32m<ipython-input-20-8e7acc74d7a9>\u001b[0m in \u001b[0;36m<module>\u001b[0;34m()\u001b[0m\n\u001b[1;32m      2\u001b[0m \u001b[0;34m\u001b[0m\u001b[0m\n\u001b[1;32m      3\u001b[0m \u001b[0;32mfor\u001b[0m \u001b[0mdog\u001b[0m \u001b[0;32min\u001b[0m \u001b[0mdogs\u001b[0m\u001b[0;34m:\u001b[0m\u001b[0;34m\u001b[0m\u001b[0m\n\u001b[0;32m----> 4\u001b[0;31m     \u001b[0mprint\u001b[0m\u001b[0;34m(\u001b[0m\u001b[0;34m'I like '\u001b[0m \u001b[0;34m+\u001b[0m \u001b[0mdogs\u001b[0m \u001b[0;34m+\u001b[0m \u001b[0;34m's.'\u001b[0m\u001b[0;34m)\u001b[0m\u001b[0;34m\u001b[0m\u001b[0m\n\u001b[0m",
            "\u001b[0;31mTypeError\u001b[0m: Can't convert 'list' object to str implicitly"
          ]
        }
      ],
      "source": [
        "dogs = ['border collie', 'australian cattle dog', 'labrador retriever']\n",
        "\n",
        "for dog in dogs:\n",
        "    print('I like ' + dogs + 's.')"
      ]
    },
    {
      "cell_type": "markdown",
      "metadata": {
        "id": "n-gnC3h2YSI9"
      },
      "source": [
        "## The FOR (iteration) loop\n",
        "\n",
        "The `for` loop statement is the most widely used iteration mechanisms in Python.\n",
        "\n",
        "* Almost every structure in Python can be iterated (*element by element*) by a `for` loop\n",
        "    - a list, a tuple, a dictionary, $\\ldots$ (more details will follows)\n",
        "\n",
        "* In Python, also `while` loops are permitted, but `for` is the one you would see (and use) most of the time!"
      ]
    },
    {
      "cell_type": "markdown",
      "metadata": {
        "id": "l4YMfi7fYSI9"
      },
      "source": [
        "### FOR Special keywords\n",
        "\n",
        "Python allows two **keywords** to be used within a `for` loop: **break** and **continue**.\n",
        "\n",
        "The two keywords have two **different** meanings:"
      ]
    },
    {
      "cell_type": "markdown",
      "metadata": {
        "id": "ALGPui2VYSI9"
      },
      "source": [
        "* **Break** used to *immediatly break the loop and exit!*\n",
        "* **Continue** used to *skip to the **next** iteration step!*"
      ]
    },
    {
      "cell_type": "markdown",
      "metadata": {
        "id": "BU7q99sbYSI9"
      },
      "source": [
        "**NOTE**: The two keywords are permitted with `while` loops as well!"
      ]
    },
    {
      "cell_type": "markdown",
      "metadata": {
        "id": "sAyoDq9hYSI9"
      },
      "source": [
        "## Examples"
      ]
    },
    {
      "cell_type": "code",
      "execution_count": null,
      "metadata": {
        "id": "tn7ggHF2YSI-"
      },
      "outputs": [],
      "source": []
    },
    {
      "cell_type": "markdown",
      "metadata": {
        "id": "s1L0YbklYSI-"
      },
      "source": [
        "<a name='exercises_list_loop'></a>Exercises\n",
        "---\n",
        "#### First List - Loop\n",
        "- Repeat *First List*, but this time use a loop to print out each value in the list.\n",
        "\n",
        "#### First Neat List - Loop\n",
        "- Repeat *First Neat List*, but this time use a loop to print out your statements. Make sure you are writing the same sentence for all values in your list. Loops are not effective when you are trying to generate different output for each value in your list.\n",
        "\n",
        "#### Your First List - Loop\n",
        "- Repeat *Your First List*, but this time use a loop to print out your message for each item in your list. Again, if you came up with different messages for each value in your list, decide on one message to repeat for each value in your list."
      ]
    },
    {
      "cell_type": "code",
      "execution_count": null,
      "metadata": {
        "id": "EJCRUzVcYSI-"
      },
      "outputs": [],
      "source": [
        "# Ex 3.4 : First List - Loop\n",
        "\n",
        "# put your code here"
      ]
    },
    {
      "cell_type": "code",
      "execution_count": null,
      "metadata": {
        "id": "K6-iMP7wYSI-"
      },
      "outputs": [],
      "source": [
        "# Ex 3.5 : First Neat List - Loop\n",
        "\n",
        "# put your code here"
      ]
    },
    {
      "cell_type": "code",
      "execution_count": null,
      "metadata": {
        "id": "Apcv9P5PYSI-"
      },
      "outputs": [],
      "source": [
        "# Ex 3.6 : Your First List - Loop\n",
        "\n",
        "# put your code here"
      ]
    },
    {
      "cell_type": "markdown",
      "metadata": {
        "id": "_e6yZmbXYSI-"
      },
      "source": [
        "[top](#top)"
      ]
    },
    {
      "cell_type": "markdown",
      "metadata": {
        "id": "6xPYVUYaYSI_"
      },
      "source": [
        "<a name='common_operations'></a>Common List Operations\n",
        "==="
      ]
    },
    {
      "cell_type": "markdown",
      "metadata": {
        "id": "YBc94MpPYSJA"
      },
      "source": [
        "<a name='modifying_elements'></a>Modifying elements in a list\n",
        "---\n",
        "You can change the value of any element in a list if you know the position of that item."
      ]
    },
    {
      "cell_type": "code",
      "execution_count": null,
      "metadata": {
        "id": "3iS2YOlhYSJA",
        "outputId": "29ceb449-bfb2-4a8f-f3e1-5321f855addc"
      },
      "outputs": [
        {
          "name": "stdout",
          "output_type": "stream",
          "text": [
            "['australian shepherd', 'australian cattle dog', 'labrador retriever']\n"
          ]
        }
      ],
      "source": [
        "dogs = ['border collie', 'australian cattle dog', 'labrador retriever']\n",
        "\n",
        "dogs[0] = 'australian shepherd'\n",
        "print(dogs)"
      ]
    },
    {
      "cell_type": "markdown",
      "metadata": {
        "id": "HsFk32gJYSJA"
      },
      "source": [
        "<a name='finding_elements'></a>Finding an element in a list\n",
        "---\n",
        "If you want to find out the position of an element in a list, you can use the index() function."
      ]
    },
    {
      "cell_type": "code",
      "execution_count": null,
      "metadata": {
        "id": "zETukhmAYSJA",
        "outputId": "878000b4-af3a-4cd5-e8d4-495cb347ad9d"
      },
      "outputs": [
        {
          "name": "stdout",
          "output_type": "stream",
          "text": [
            "1\n"
          ]
        }
      ],
      "source": [
        "dogs = ['border collie', 'australian cattle dog', 'labrador retriever']\n",
        "\n",
        "print(dogs.index('australian cattle dog'))"
      ]
    },
    {
      "cell_type": "markdown",
      "metadata": {
        "id": "fAASSPNHYSJA"
      },
      "source": [
        "This method returns a ValueError if the requested item is not in the list."
      ]
    },
    {
      "cell_type": "code",
      "execution_count": null,
      "metadata": {
        "id": "QY-tDTeUYSJA",
        "outputId": "b18ac655-5228-4869-a2c8-64806e357def"
      },
      "outputs": [
        {
          "ename": "ValueError",
          "evalue": "'poodle' is not in list",
          "output_type": "error",
          "traceback": [
            "\u001b[0;31m---------------------------------------------------------------------------\u001b[0m\n\u001b[0;31mValueError\u001b[0m                                Traceback (most recent call last)",
            "\u001b[0;32m<ipython-input-13-a9e05e37e8df>\u001b[0m in \u001b[0;36m<module>\u001b[0;34m()\u001b[0m\n\u001b[1;32m      1\u001b[0m \u001b[0mdogs\u001b[0m \u001b[0;34m=\u001b[0m \u001b[0;34m[\u001b[0m\u001b[0;34m'border collie'\u001b[0m\u001b[0;34m,\u001b[0m \u001b[0;34m'australian cattle dog'\u001b[0m\u001b[0;34m,\u001b[0m \u001b[0;34m'labrador retriever'\u001b[0m\u001b[0;34m]\u001b[0m\u001b[0;34m\u001b[0m\u001b[0m\n\u001b[1;32m      2\u001b[0m \u001b[0;34m\u001b[0m\u001b[0m\n\u001b[0;32m----> 3\u001b[0;31m \u001b[0mprint\u001b[0m\u001b[0;34m(\u001b[0m\u001b[0mdogs\u001b[0m\u001b[0;34m.\u001b[0m\u001b[0mindex\u001b[0m\u001b[0;34m(\u001b[0m\u001b[0;34m'poodle'\u001b[0m\u001b[0;34m)\u001b[0m\u001b[0;34m)\u001b[0m\u001b[0;34m\u001b[0m\u001b[0m\n\u001b[0m",
            "\u001b[0;31mValueError\u001b[0m: 'poodle' is not in list"
          ]
        }
      ],
      "source": [
        "dogs = ['border collie', 'australian cattle dog', 'labrador retriever']\n",
        "\n",
        "print(dogs.index('poodle'))"
      ]
    },
    {
      "cell_type": "markdown",
      "metadata": {
        "id": "ZEbW00ESYSJB"
      },
      "source": [
        "<a name='testing_elements'></a>Testing whether an item is in a list\n",
        "---\n",
        "You can test whether an item is in a list using the \"in\" keyword. This will become more useful after learning how to use if-else statements."
      ]
    },
    {
      "cell_type": "code",
      "execution_count": null,
      "metadata": {
        "id": "Ts1Ln-EoYSJB",
        "outputId": "99b64a02-53db-4c44-cda9-7ba4a7e1f55a"
      },
      "outputs": [
        {
          "name": "stdout",
          "output_type": "stream",
          "text": [
            "True\n",
            "False\n"
          ]
        }
      ],
      "source": [
        "dogs = ['border collie', 'australian cattle dog', 'labrador retriever']\n",
        "\n",
        "print('australian cattle dog' in dogs)\n",
        "print('poodle' in dogs)"
      ]
    },
    {
      "cell_type": "markdown",
      "metadata": {
        "id": "TkikgP7aYSJB"
      },
      "source": [
        "<a name='adding_items'></a>Adding items to a list\n",
        "---\n",
        "### Appending items to the end of a list\n",
        "We can add an item to a list using the append() method. This method adds the new item to the end of the list."
      ]
    },
    {
      "cell_type": "code",
      "execution_count": null,
      "metadata": {
        "id": "zh5171HXYSJB",
        "outputId": "addf0e7b-6114-4c8f-f59b-203d6e41a862"
      },
      "outputs": [
        {
          "name": "stdout",
          "output_type": "stream",
          "text": [
            "Border Collies are cool.\n",
            "Australian Cattle Dogs are cool.\n",
            "Labrador Retrievers are cool.\n",
            "Poodles are cool.\n"
          ]
        }
      ],
      "source": [
        "dogs = ['border collie', 'australian cattle dog', 'labrador retriever']\n",
        "dogs.append('poodle')\n",
        "\n",
        "for dog in dogs:\n",
        "    print(dog.title() + \"s are cool.\")"
      ]
    },
    {
      "cell_type": "markdown",
      "metadata": {
        "id": "pVAPPVaXYSJB"
      },
      "source": [
        "### Inserting items into a list\n",
        "We can also insert items anywhere we want in a list, using the **insert()** function. We specify the position we want the item to have, and everything from that point on is shifted one position to the right. In other words, the index of every item after the new item is increased by one."
      ]
    },
    {
      "cell_type": "code",
      "execution_count": null,
      "metadata": {
        "id": "Pr-17ZbUYSJB",
        "outputId": "73ed7f8d-792a-44df-a0ad-1e2d2fce02b1"
      },
      "outputs": [
        {
          "name": "stdout",
          "output_type": "stream",
          "text": [
            "['border collie', 'poodle', 'australian cattle dog', 'labrador retriever']\n"
          ]
        }
      ],
      "source": [
        "dogs = ['border collie', 'australian cattle dog', 'labrador retriever']\n",
        "dogs.insert(1, 'poodle')\n",
        "\n",
        "print(dogs)"
      ]
    },
    {
      "cell_type": "markdown",
      "metadata": {
        "id": "eEIifQ7qYSJB"
      },
      "source": [
        "Note that you have to give the position of the new item first, and then the value of the new item. If you do it in the reverse order, you will get an error."
      ]
    },
    {
      "cell_type": "markdown",
      "metadata": {
        "id": "qXsUmBxjYSJB"
      },
      "source": [
        "<a name='empty_list'></a>Creating an empty list\n",
        "---\n",
        "Now that we know how to add items to a list after it is created, we can use lists more dynamically. We are no longer stuck defining our entire list at once.\n",
        "\n",
        "A common approach with lists is to define an empty list, and then let your program add items to the list as necessary. This approach works, for example, when starting to build an interactive web site. Your list of users might start out empty, and then as people register for the site it will grow. This is a simplified approach to how web sites actually work, but the idea is realistic.\n",
        "\n",
        "Here is a brief example of how to start with an empty list, start to fill it up, and work with the items in the list. The only new thing here is the way we define an empty list, which is just an empty set of square brackets."
      ]
    },
    {
      "cell_type": "code",
      "execution_count": null,
      "metadata": {
        "id": "NSeQfT5GYSJB",
        "outputId": "c80b8205-f132-47b5-f520-f58599e7e3ef"
      },
      "outputs": [
        {
          "name": "stdout",
          "output_type": "stream",
          "text": [
            "Welcome, Bernice!\n",
            "Welcome, Cody!\n",
            "Welcome, Aaron!\n"
          ]
        }
      ],
      "source": [
        "# Create an empty list to hold our users.\n",
        "usernames = []\n",
        "\n",
        "# Add some users.\n",
        "usernames.append('bernice')\n",
        "usernames.append('cody')\n",
        "usernames.append('aaron')\n",
        "\n",
        "# Greet all of our users.\n",
        "for username in usernames:\n",
        "    print(\"Welcome, \" + username.title() + '!')"
      ]
    },
    {
      "cell_type": "markdown",
      "metadata": {
        "id": "F4AgAN4lYSJC"
      },
      "source": [
        "If we don't change the order in our list, we can use the list to figure out who our oldest and newest users are."
      ]
    },
    {
      "cell_type": "code",
      "execution_count": null,
      "metadata": {
        "id": "VJASiyDwYSJC",
        "outputId": "bf3a3d0f-d5a1-489a-c5c4-51a7ee0e1c19"
      },
      "outputs": [
        {
          "name": "stdout",
          "output_type": "stream",
          "text": [
            "Welcome, Bernice!\n",
            "Welcome, Cody!\n",
            "Welcome, Aaron!\n",
            "\n",
            "Thank you for being our very first user, Bernice!\n",
            "And a warm welcome to our newest user, Aaron!\n"
          ]
        }
      ],
      "source": [
        "# Create an empty list to hold our users.\n",
        "usernames = []\n",
        "\n",
        "# Add some users.\n",
        "usernames.append('bernice')\n",
        "usernames.append('cody')\n",
        "usernames.append('aaron')\n",
        "\n",
        "# Greet all of our users.\n",
        "for username in usernames:\n",
        "    print(\"Welcome, \" + username.title() + '!')\n",
        "\n",
        "# Recognize our first user, and welcome our newest user.\n",
        "print(\"\\nThank you for being our very first user, \" + usernames[0].title() + '!')\n",
        "print(\"And a warm welcome to our newest user, \" + usernames[-1].title() + '!')"
      ]
    },
    {
      "cell_type": "markdown",
      "metadata": {
        "id": "PIOm-9gaYSJD"
      },
      "source": [
        "Note that the code welcoming our newest user will always work, because we have used the index -1. If we had used the index 2 we would always get the third user, even as our list of users grows and grows."
      ]
    },
    {
      "cell_type": "markdown",
      "metadata": {
        "id": "7jcYk9OtYSJD"
      },
      "source": [
        "<a name='sorting_list'></a>Sorting a List\n",
        "---\n",
        "We can sort a list alphabetically, in either order."
      ]
    },
    {
      "cell_type": "code",
      "execution_count": null,
      "metadata": {
        "id": "eCR-10WHYSJD",
        "outputId": "83c898cf-9432-4465-a1e6-8e9e7adca8f5"
      },
      "outputs": [
        {
          "name": "stdout",
          "output_type": "stream",
          "text": [
            "Our students are currently in alphabetical order.\n",
            "Aaron\n",
            "Bernice\n",
            "Cody\n",
            "\n",
            "Our students are now in reverse alphabetical order.\n",
            "Cody\n",
            "Bernice\n",
            "Aaron\n"
          ]
        }
      ],
      "source": [
        "students = ['bernice', 'aaron', 'cody']\n",
        "\n",
        "# Put students in alphabetical order.\n",
        "students.sort()\n",
        "\n",
        "# Display the list in its current order.\n",
        "print(\"Our students are currently in alphabetical order.\")\n",
        "for student in students:\n",
        "    print(student.title())\n",
        "\n",
        "#Put students in reverse alphabetical order.\n",
        "students.sort(reverse=True)\n",
        "\n",
        "# Display the list in its current order.\n",
        "print(\"\\nOur students are now in reverse alphabetical order.\")\n",
        "for student in students:\n",
        "    print(student.title())"
      ]
    },
    {
      "cell_type": "markdown",
      "metadata": {
        "id": "5Ffab4mTYSJD"
      },
      "source": [
        "### *sorted()* vs. *sort()*\n",
        "Whenever you consider sorting a list, keep in mind that you can not recover the original order. If you want to display a list in sorted order, but preserve the original order, you can use the *sorted()* function. The *sorted()* function also accepts the optional *reverse=True* argument."
      ]
    },
    {
      "cell_type": "code",
      "execution_count": null,
      "metadata": {
        "id": "j51wLdboYSJD",
        "outputId": "21f30ef0-f6c9-4b19-8ce8-093df5d97933"
      },
      "outputs": [
        {
          "name": "stdout",
          "output_type": "stream",
          "text": [
            "Here is the list in alphabetical order:\n",
            "Aaron\n",
            "Bernice\n",
            "Cody\n",
            "\n",
            "Here is the list in reverse alphabetical order:\n",
            "Cody\n",
            "Bernice\n",
            "Aaron\n",
            "\n",
            "Here is the list in its original order:\n",
            "Bernice\n",
            "Aaron\n",
            "Cody\n"
          ]
        }
      ],
      "source": [
        "students = ['bernice', 'aaron', 'cody']\n",
        "\n",
        "# Display students in alphabetical order, but keep the original order.\n",
        "print(\"Here is the list in alphabetical order:\")\n",
        "for student in sorted(students):\n",
        "    print(student.title())\n",
        "\n",
        "# Display students in reverse alphabetical order, but keep the original order.\n",
        "print(\"\\nHere is the list in reverse alphabetical order:\")\n",
        "for student in sorted(students, reverse=True):\n",
        "    print(student.title())\n",
        "\n",
        "print(\"\\nHere is the list in its original order:\")\n",
        "# Show that the list is still in its original order.\n",
        "for student in students:\n",
        "    print(student.title())"
      ]
    },
    {
      "cell_type": "markdown",
      "metadata": {
        "id": "Flp9AivoYSJE"
      },
      "source": [
        "### Reversing a list\n",
        "We have seen three possible orders for a list:\n",
        "- The original order in which the list was created\n",
        "- Alphabetical order\n",
        "- Reverse alphabetical order\n",
        "\n",
        "There is one more order we can use, and that is the reverse of the original order of the list. The *reverse()* function gives us this order."
      ]
    },
    {
      "cell_type": "code",
      "execution_count": null,
      "metadata": {
        "id": "8m8H79o0YSJE",
        "outputId": "ebaa4113-e3fc-472f-9ca7-74025efb8fa1"
      },
      "outputs": [
        {
          "name": "stdout",
          "output_type": "stream",
          "text": [
            "['cody', 'aaron', 'bernice']\n"
          ]
        }
      ],
      "source": [
        "students = ['bernice', 'aaron', 'cody']\n",
        "students.reverse()\n",
        "\n",
        "print(students)"
      ]
    },
    {
      "cell_type": "markdown",
      "metadata": {
        "id": "mpQntUfPYSJE"
      },
      "source": [
        "Note that reverse is permanent, although you could follow up with another call to *reverse()* and get back the original order of the list."
      ]
    },
    {
      "cell_type": "markdown",
      "metadata": {
        "id": "fflJqXfvYSJE"
      },
      "source": [
        "### Sorting a numerical list\n",
        "All of the sorting functions work for numerical lists as well."
      ]
    },
    {
      "cell_type": "code",
      "execution_count": null,
      "metadata": {
        "id": "yr4m86rIYSJE",
        "outputId": "e16bd293-c882-4d2b-80dd-df32739779f8"
      },
      "outputs": [
        {
          "name": "stdout",
          "output_type": "stream",
          "text": [
            "[1, 2, 3, 4]\n",
            "[4, 3, 2, 1]\n"
          ]
        }
      ],
      "source": [
        "numbers = [1, 3, 4, 2]\n",
        "\n",
        "# sort() puts numbers in increasing order.\n",
        "numbers.sort()\n",
        "print(numbers)\n",
        "\n",
        "# sort(reverse=True) puts numbers in decreasing order.\n",
        "numbers.sort(reverse=True)\n",
        "print(numbers)\n"
      ]
    },
    {
      "cell_type": "code",
      "execution_count": null,
      "metadata": {
        "id": "nhA5OZ5XYSJE",
        "outputId": "dcf8b3e3-5fdc-4b0f-ff50-762b0d4e08a8"
      },
      "outputs": [
        {
          "name": "stdout",
          "output_type": "stream",
          "text": [
            "[1, 2, 3, 4]\n",
            "[1, 3, 4, 2]\n"
          ]
        }
      ],
      "source": [
        "numbers = [1, 3, 4, 2]\n",
        "\n",
        "# sorted() preserves the original order of the list:\n",
        "print(sorted(numbers))\n",
        "print(numbers)"
      ]
    },
    {
      "cell_type": "code",
      "execution_count": null,
      "metadata": {
        "id": "PHvzyzelYSJE",
        "outputId": "50ed4477-d22d-4e8c-dba2-fc60b1815b44"
      },
      "outputs": [
        {
          "name": "stdout",
          "output_type": "stream",
          "text": [
            "[2, 4, 3, 1]\n"
          ]
        }
      ],
      "source": [
        "numbers = [1, 3, 4, 2]\n",
        "\n",
        "# The reverse() function also works for numerical lists.\n",
        "numbers.reverse()\n",
        "print(numbers)"
      ]
    },
    {
      "cell_type": "markdown",
      "metadata": {
        "id": "MJqDMEt-YSJF"
      },
      "source": [
        "<a name='length'></a>Finding the length of a list\n",
        "---\n",
        "You can find the length of a list using the *len()* function."
      ]
    },
    {
      "cell_type": "code",
      "execution_count": null,
      "metadata": {
        "id": "NBRzBZ-JYSJF",
        "outputId": "fdf3eab9-5aff-43f6-d62a-cbbf9c756b05"
      },
      "outputs": [
        {
          "name": "stdout",
          "output_type": "stream",
          "text": [
            "3\n"
          ]
        }
      ],
      "source": [
        "usernames = ['bernice', 'cody', 'aaron']\n",
        "user_count = len(usernames)\n",
        "\n",
        "print(user_count)"
      ]
    },
    {
      "cell_type": "markdown",
      "metadata": {
        "id": "q406IF61YSJF"
      },
      "source": [
        "There are many situations where you might want to know how many items in a list. If you have a list that stores your users, you can find the length of your list at any time, and know how many users you have."
      ]
    },
    {
      "cell_type": "code",
      "execution_count": null,
      "metadata": {
        "id": "13ISm25qYSJF",
        "outputId": "83cc59ca-9918-4002-8a5e-5adafca8cb14"
      },
      "outputs": [
        {
          "name": "stdout",
          "output_type": "stream",
          "text": [
            "We have 1 user!\n",
            "We have 3 users!\n"
          ]
        }
      ],
      "source": [
        "# Create an empty list to hold our users.\n",
        "usernames = []\n",
        "\n",
        "# Add some users, and report on how many users we have.\n",
        "usernames.append('bernice')\n",
        "user_count = len(usernames)\n",
        "\n",
        "print(\"We have \" + str(user_count) + \" user!\")\n",
        "\n",
        "usernames.append('cody')\n",
        "usernames.append('aaron')\n",
        "user_count = len(usernames)\n",
        "\n",
        "print(\"We have \" + str(user_count) + \" users!\")"
      ]
    },
    {
      "cell_type": "markdown",
      "metadata": {
        "id": "S0j0SMPkYSJG"
      },
      "source": [
        "On a technical note, the *len()* function returns an integer, which can't be printed directly with strings. We use the *str()* function to turn the integer into a string so that it prints nicely:"
      ]
    },
    {
      "cell_type": "code",
      "execution_count": null,
      "metadata": {
        "id": "4ZvVWWoBYSJG",
        "outputId": "696c507f-bae2-42fe-d33e-fd8f1f610dbd"
      },
      "outputs": [
        {
          "ename": "TypeError",
          "evalue": "Can't convert 'int' object to str implicitly",
          "output_type": "error",
          "traceback": [
            "\u001b[0;31m---------------------------------------------------------------------------\u001b[0m\n\u001b[0;31mTypeError\u001b[0m                                 Traceback (most recent call last)",
            "\u001b[0;32m<ipython-input-43-92e732ef190e>\u001b[0m in \u001b[0;36m<module>\u001b[0;34m()\u001b[0m\n\u001b[1;32m      2\u001b[0m \u001b[0muser_count\u001b[0m \u001b[0;34m=\u001b[0m \u001b[0mlen\u001b[0m\u001b[0;34m(\u001b[0m\u001b[0musernames\u001b[0m\u001b[0;34m)\u001b[0m\u001b[0;34m\u001b[0m\u001b[0m\n\u001b[1;32m      3\u001b[0m \u001b[0;34m\u001b[0m\u001b[0m\n\u001b[0;32m----> 4\u001b[0;31m \u001b[0mprint\u001b[0m\u001b[0;34m(\u001b[0m\u001b[0;34m\"This will cause an error: \"\u001b[0m \u001b[0;34m+\u001b[0m \u001b[0muser_count\u001b[0m\u001b[0;34m)\u001b[0m\u001b[0;34m\u001b[0m\u001b[0m\n\u001b[0m",
            "\u001b[0;31mTypeError\u001b[0m: Can't convert 'int' object to str implicitly"
          ]
        }
      ],
      "source": [
        "usernames = ['bernice', 'cody', 'aaron']\n",
        "user_count = len(usernames)\n",
        "\n",
        "print(\"This will cause an error: \" + user_count)"
      ]
    },
    {
      "cell_type": "code",
      "execution_count": null,
      "metadata": {
        "id": "qLfsZj0JYSJH",
        "outputId": "da7672b4-a5cc-4e10-9265-952d3b34858e"
      },
      "outputs": [
        {
          "name": "stdout",
          "output_type": "stream",
          "text": [
            "This will work: 3\n"
          ]
        }
      ],
      "source": [
        "usernames = ['bernice', 'cody', 'aaron']\n",
        "user_count = len(usernames)\n",
        "\n",
        "print(\"This will work: \" + str(user_count))"
      ]
    },
    {
      "cell_type": "code",
      "execution_count": null,
      "metadata": {
        "id": "Lu5OSgJjYSJH",
        "outputId": "9b032fac-f88e-4e14-8f0a-74880743741e"
      },
      "outputs": [
        {
          "name": "stdout",
          "output_type": "stream",
          "text": [
            "gamer\n"
          ]
        }
      ],
      "source": [
        "target_career = \"gamer\"\n",
        "\n",
        "list1 = [\"teacher\", \"youtuber\",\"gamer\",\"programmer\"]\n",
        "\n",
        "if \"gamer\" in list1:\n",
        "    print(target_career)\n",
        "\n",
        "# for i in list1:\n",
        "#     print(i)"
      ]
    },
    {
      "cell_type": "markdown",
      "metadata": {
        "id": "iWr7sVHxYSJH"
      },
      "source": [
        "<a name='exercises_common_operations'></a>Exercises\n",
        "---\n",
        "#### Working List\n",
        "- Make a list that includes four careers, such as 'programmer' and 'truck driver'.\n",
        "- Use the *list.index()* function to find the index of one career in your list.\n",
        "- Use the *in* function to show that this career is in your list.\n",
        "- Use the *append()* function to add a new career to your list.\n",
        "- Use the *insert()* function to add a new career at the beginning of the list.\n",
        "- Use a loop to show all the careers in your list.\n",
        "\n",
        "#### Starting From Empty\n",
        "- Create the list you ended up with in *Working List*, but this time start your file with an empty list and fill it up using *append()* statements.\n",
        "- Print a statement that tells us what the first career you thought of was.\n",
        "- Print a statement that tells us what the last career you thought of was.\n",
        "\n",
        "#### Ordered Working List\n",
        "- Start with the list you created in *Working List*.\n",
        "- You are going to print out the list in a number of different orders.\n",
        "- Each time you print the list, use a for loop rather than printing the raw list.\n",
        "- Print a message each time telling us what order we should see the list in.\n",
        "    - Print the list in its original order.\n",
        "    - Print the list in alphabetical order.\n",
        "    - Print the list in its original order.\n",
        "    - Print the list in reverse alphabetical order.\n",
        "    - Print the list in its original order.\n",
        "    - Print the list in the reverse order from what it started.\n",
        "    - Print the list in its original order\n",
        "    - Permanently sort the list in alphabetical order, and then print it out.\n",
        "    - Permanently sort the list in reverse alphabetical order, and then print it out.\n",
        "\n",
        "#### Ordered Numbers\n",
        "- Make a list of 5 numbers, in a random order.\n",
        "- You are going to print out the list in a number of different orders.\n",
        "- Each time you print the list, use a for loop rather than printing the raw list.\n",
        "- Print a message each time telling us what order we should see the list in.\n",
        "    - Print the numbers in the original order.\n",
        "    - Print the numbers in increasing order.\n",
        "    - Print the numbers in the original order.\n",
        "    - Print the numbers in decreasing order.\n",
        "    - Print the numbers in their original order.\n",
        "    - Print the numbers in the reverse order from how they started.\n",
        "    - Print the numbers in the original order.\n",
        "    - Permanently sort the numbers in increasing order, and then print them out.\n",
        "    - Permanently sort the numbers in descreasing order, and then print them out.\n",
        "\n",
        "#### List Lengths\n",
        "- Copy two or three of the lists you made from the previous exercises, or make up two or three new lists.\n",
        "- Print out a series of statements that tell us how long each list is."
      ]
    },
    {
      "cell_type": "code",
      "execution_count": null,
      "metadata": {
        "id": "GI7W0tKLYSJH"
      },
      "outputs": [],
      "source": [
        "# Ex 3.7 : Working List\n",
        "\n",
        "# put your code here"
      ]
    },
    {
      "cell_type": "code",
      "execution_count": null,
      "metadata": {
        "id": "BNpME363YSJH"
      },
      "outputs": [],
      "source": [
        "# Ex 3.8 : Starting From Empty\n",
        "\n",
        "# put your code here"
      ]
    },
    {
      "cell_type": "code",
      "execution_count": null,
      "metadata": {
        "id": "I8HgtO4iYSJH"
      },
      "outputs": [],
      "source": [
        "# Ex 3.9 : Ordered Working List\n",
        "\n",
        "# put your code here"
      ]
    },
    {
      "cell_type": "code",
      "execution_count": null,
      "metadata": {
        "id": "AkYFLKjUYSJH"
      },
      "outputs": [],
      "source": [
        "# Ex 3.10 : Ordered Numbers\n",
        "\n",
        "# put your code here"
      ]
    },
    {
      "cell_type": "code",
      "execution_count": null,
      "metadata": {
        "id": "XxuV5aspYSJH"
      },
      "outputs": [],
      "source": [
        "# Ex 3.11 : List Lengths\n",
        "\n",
        "# put your code here"
      ]
    },
    {
      "cell_type": "markdown",
      "metadata": {
        "id": "CJpWuscSYSJI"
      },
      "source": [
        "[top](#top)"
      ]
    },
    {
      "cell_type": "markdown",
      "metadata": {
        "id": "6baFJtTvYSJI"
      },
      "source": [
        "<a name='removing_items'></a>Removing Items from a List\n",
        "===\n",
        "Hopefully you can see by now that lists are a dynamic structure. We can define an empty list and then fill it up as information comes into our program. To become really dynamic, we need some ways to remove items from a list when we no longer need them. You can remove items from a list through their position, or through their value."
      ]
    },
    {
      "cell_type": "markdown",
      "metadata": {
        "id": "XuY6d4WaYSJI"
      },
      "source": [
        "<a name='removing_by_position'></a>Removing items by position\n",
        "---\n",
        "If you know the position of an item in a list, you can remove that item using the *del* command. To use this approach, give the command *del* and the name of your list, with the index of the item you want to move in square brackets:"
      ]
    },
    {
      "cell_type": "code",
      "execution_count": null,
      "metadata": {
        "id": "PsRjICW4YSJI",
        "outputId": "e4b72397-86ad-46ec-cf37-ba94106d40de"
      },
      "outputs": [
        {
          "name": "stdout",
          "output_type": "stream",
          "text": [
            "['australian cattle dog', 'labrador retriever']\n"
          ]
        }
      ],
      "source": [
        "dogs = ['border collie', 'australian cattle dog', 'labrador retriever']\n",
        "# Remove the first dog from the list.\n",
        "del dogs[0]\n",
        "\n",
        "print(dogs)"
      ]
    },
    {
      "cell_type": "markdown",
      "metadata": {
        "id": "nA5W_C5aYSJI"
      },
      "source": [
        "<a name='removing_by_value'></a>Removing items by value\n",
        "---\n",
        "You can also remove an item from a list if you know its value. To do this, we use the *remove()* function. Give the name of the list, followed by the word remove with the value of the item you want to remove in parentheses. Python looks through your list, finds the first item with this value, and removes it."
      ]
    },
    {
      "cell_type": "code",
      "execution_count": null,
      "metadata": {
        "id": "WmGWd6AFYSJI",
        "outputId": "77f3fa79-46c2-4a4a-fc96-ac20f2a7531a"
      },
      "outputs": [
        {
          "name": "stdout",
          "output_type": "stream",
          "text": [
            "['border collie', 'labrador retriever']\n"
          ]
        }
      ],
      "source": [
        "dogs = ['border collie', 'australian cattle dog', 'labrador retriever']\n",
        "# Remove australian cattle dog from the list.\n",
        "dogs.remove('australian cattle dog')\n",
        "\n",
        "print(dogs)"
      ]
    },
    {
      "cell_type": "markdown",
      "metadata": {
        "id": "C8TV-VIEYSJI"
      },
      "source": [
        "Be careful to note, however, that *only* the first item with this value is removed. If you have multiple items with the same value, you will have some items with this value left in your list."
      ]
    },
    {
      "cell_type": "code",
      "execution_count": null,
      "metadata": {
        "id": "df1O6ZvYYSJJ",
        "outputId": "93a3d681-cf1e-4a12-a680-48c3dd45fea3"
      },
      "outputs": [
        {
          "name": "stdout",
          "output_type": "stream",
          "text": [
            "['b', 'c', 'a', 'b', 'c']\n"
          ]
        }
      ],
      "source": [
        "letters = ['a', 'b', 'c', 'a', 'b', 'c']\n",
        "# Remove the letter a from the list.\n",
        "letters.remove('a')\n",
        "\n",
        "print(letters)"
      ]
    },
    {
      "cell_type": "markdown",
      "metadata": {
        "id": "OA4oIZitYSJJ"
      },
      "source": [
        "<a name='popping'></a>Popping items from a list\n",
        "---\n",
        "There is a cool concept in programming called \"popping\" items from a collection. Every programming language has some sort of data structure similar to Python's lists. All of these structures can be used as queues, and there are various ways of processing the items in a queue.\n",
        "\n",
        "One simple approach is to start with an empty list, and then add items to that list. When you want to work with the items in the list, you always take the last item from the list, do something with it, and then remove that item. The *pop()* function makes this easy. It removes the last item from the list, and gives it to us so we can work with it."
      ]
    },
    {
      "cell_type": "markdown",
      "metadata": {
        "id": "OJdGdwzpYSJJ"
      },
      "source": [
        "This is easier to show with an example"
      ]
    },
    {
      "cell_type": "code",
      "execution_count": null,
      "metadata": {
        "id": "VYv4GeCeYSJJ",
        "outputId": "8863fcf4-8593-4b92-bee2-a0cb57b9a2c1"
      },
      "outputs": [
        {
          "name": "stdout",
          "output_type": "stream",
          "text": [
            "labrador retriever\n",
            "['border collie', 'australian cattle dog']\n"
          ]
        }
      ],
      "source": [
        "dogs = ['border collie', 'australian cattle dog', 'labrador retriever']\n",
        "last_dog = dogs.pop()\n",
        "\n",
        "print(last_dog)\n",
        "print(dogs)"
      ]
    },
    {
      "cell_type": "markdown",
      "metadata": {
        "id": "PwUKYaulYSJJ"
      },
      "source": [
        "This is an example of a first-in, last-out approach. The first item in the list would be the last item processed if you kept using this approach. We will see a full implementation of this approach later on, when we learn about *while* loops.\n",
        "\n",
        "You can actually pop any item you want from a list, by giving the index of the item you want to pop. So we could do a first-in, first-out approach by popping the first iem in the list:"
      ]
    },
    {
      "cell_type": "code",
      "execution_count": null,
      "metadata": {
        "id": "25e_izg9YSJJ",
        "outputId": "9614fe33-6369-4b22-fadf-6c3f237592bf"
      },
      "outputs": [
        {
          "name": "stdout",
          "output_type": "stream",
          "text": [
            "border collie\n",
            "['australian cattle dog', 'labrador retriever']\n"
          ]
        }
      ],
      "source": [
        "dogs = ['border collie', 'australian cattle dog', 'labrador retriever']\n",
        "first_dog = dogs.pop(0)\n",
        "\n",
        "print(first_dog)\n",
        "print(dogs)"
      ]
    },
    {
      "cell_type": "markdown",
      "metadata": {
        "id": "a3AbKIyRYSJJ"
      },
      "source": [
        "<a name='exercises_removing_items'></a>Exercises\n",
        "---\n",
        "#### Famous People\n",
        "- Make a list that includes the names of four famous people.\n",
        "- Remove each person from the list, one at a time, using each of the four methods we have just seen:\n",
        "    - Pop the last item from the list, and pop any item except the last item.\n",
        "    - Remove one item by its position, and one item by its value.\n",
        "- Print out a message that there are no famous people left in your list, and print your list to prove that it is empty."
      ]
    },
    {
      "cell_type": "code",
      "execution_count": null,
      "metadata": {
        "id": "Sf8rghupYSJJ",
        "outputId": "e65cb28a-706e-4c9a-a5dd-c4026495fd38"
      },
      "outputs": [
        {
          "name": "stdout",
          "output_type": "stream",
          "text": [
            "['david bowie', 'robert plant', 'obama']\n",
            "['david bowie', 'robert plant']\n",
            "david bowie ['robert plant']\n",
            "there are no more famous people in the list\n",
            "[]\n"
          ]
        }
      ],
      "source": [
        "# Ex 3.12 : Famous People\n",
        "fpeople = ['david bowie', 'robert plant', 'obama', 'taylor swift']\n",
        "#Remove each person from the list, one at a time, using each of the four methods we have just seen\n",
        "fpeople.remove('taylor swift')\n",
        "print(fpeople)\n",
        "del fpeople[2]\n",
        "print(fpeople)\n",
        "bowie=fpeople.pop(0)\n",
        "print(bowie,fpeople)\n",
        "last=fpeople.pop()\n",
        "print('there are no more famous people in the list')\n",
        "print(fpeople)\n",
        "# put your code here"
      ]
    },
    {
      "cell_type": "code",
      "execution_count": null,
      "metadata": {
        "id": "89KLwEahYSJJ",
        "outputId": "b8c2943a-072d-49c6-e319-aefc432fce30"
      },
      "outputs": [
        {
          "name": "stdout",
          "output_type": "stream",
          "text": [
            "['david bowie', 'robert plant', 'obama']\n",
            "['taylor swift']\n",
            "['david bowie', 'robert plant']\n"
          ]
        }
      ],
      "source": [
        "#Pop the last item from the list\n",
        "fpeople = ['david bowie', 'robert plant', 'obama', 'taylor swift']\n",
        "fpeople.pop()\n",
        "print(fpeople)\n",
        "# and pop any item except the last item.\n",
        "fpeople = ['david bowie', 'robert plant', 'obama', 'taylor swift']\n",
        "for _ in range(0,len(fpeople)-1):\n",
        "    fpeople.pop(0)\n",
        "print(fpeople)\n",
        "\n",
        "fpeople = ['david bowie', 'robert plant', 'obama', 'taylor swift']\n",
        "fpeople.remove('obama')\n",
        "del fpeople[2]\n",
        "print(fpeople)\n"
      ]
    },
    {
      "cell_type": "markdown",
      "metadata": {
        "id": "gEeEM9qEYSJJ"
      },
      "source": [
        "[top](#top)"
      ]
    },
    {
      "cell_type": "markdown",
      "metadata": {
        "id": "Igf-SeNGYSJJ"
      },
      "source": [
        "<a name='functions'></a>Want to see what functions are?\n",
        "===\n",
        "At this point, you might have noticed we have a fair bit of repetetive code in some of our examples. This repetition will disappear once we learn how to use functions. If this repetition is bothering you already, you might want to go look at [Introducing Functions](http://nbviewer.ipython.org/urls/raw.github.com/ehmatthes/intro_programming/master/notebooks/introducing_functions.ipynb) before you do any more exercises in this section."
      ]
    },
    {
      "cell_type": "markdown",
      "metadata": {
        "id": "G5NnQo8JYSJK"
      },
      "source": [
        "<a name='slicing'></a>Slicing a List\n",
        "===\n",
        "Since a list is a collection of items, we should be able to get any subset of those items. For example, if we want to get just the first three items from the list, we should be able to do so easily. The same should be true for any three items in the middle of the list, or the last three items, or any x items from anywhere in the list. These subsets of a list are called *slices*."
      ]
    },
    {
      "cell_type": "markdown",
      "metadata": {
        "id": "eDwfHekQYSJK"
      },
      "source": [
        "To get a subset of a list, we give the position of the first item we want, and the position of the first item we do *not* want to include in the subset. So the slice *list[0:3]* will return a list containing items 0, 1, and 2, but not item 3."
      ]
    },
    {
      "cell_type": "markdown",
      "metadata": {
        "id": "NCuttkw4YSJK"
      },
      "source": [
        "Here is how you get a batch containing the first three items."
      ]
    },
    {
      "cell_type": "code",
      "execution_count": null,
      "metadata": {
        "id": "nkXwNIaNYSJK",
        "outputId": "a67225c0-c116-4a2a-c3ff-e2141f57c0d1"
      },
      "outputs": [
        {
          "name": "stdout",
          "output_type": "stream",
          "text": [
            "Bernice\n",
            "Cody\n",
            "Aaron\n"
          ]
        }
      ],
      "source": [
        "usernames = ['bernice', 'cody', 'aaron', 'ever', 'dalia']\n",
        "\n",
        "# Grab the first three users in the list.\n",
        "first_batch = usernames[0:3]\n",
        "\n",
        "for user in first_batch:\n",
        "    print(user.title())"
      ]
    },
    {
      "cell_type": "markdown",
      "metadata": {
        "id": "dF86qy8DYSJK"
      },
      "source": [
        "If you want to grab everything up to a certain position in the list, you can also leave the first index blank:"
      ]
    },
    {
      "cell_type": "code",
      "execution_count": null,
      "metadata": {
        "id": "wB60kMtHYSJK",
        "outputId": "faa94e0f-e650-43e6-9e98-2eb9281bc3cc"
      },
      "outputs": [
        {
          "name": "stdout",
          "output_type": "stream",
          "text": [
            "Bernice\n",
            "Cody\n",
            "Aaron\n"
          ]
        }
      ],
      "source": [
        "usernames = ['bernice', 'cody', 'aaron', 'ever', 'dalia']\n",
        "\n",
        "# Grab the first three users in the list.\n",
        "first_batch = usernames[:3]\n",
        "\n",
        "for user in first_batch:\n",
        "    print(user.title())"
      ]
    },
    {
      "cell_type": "markdown",
      "metadata": {
        "id": "P9DL-jn-YSJK"
      },
      "source": [
        "When we grab a slice from a list, the original list is not affected:"
      ]
    },
    {
      "cell_type": "code",
      "execution_count": null,
      "metadata": {
        "id": "IXYr7WxkYSJK",
        "outputId": "f56d799d-8183-4ff0-a384-1204f325e70c"
      },
      "outputs": [
        {
          "name": "stdout",
          "output_type": "stream",
          "text": [
            "Bernice\n",
            "Cody\n",
            "Aaron\n",
            "Ever\n",
            "Dalia\n"
          ]
        }
      ],
      "source": [
        "usernames = ['bernice', 'cody', 'aaron', 'ever', 'dalia']\n",
        "\n",
        "# Grab the first three users in the list.\n",
        "first_batch = usernames[0:3]\n",
        "\n",
        "# The original list is unaffected.\n",
        "for user in usernames:\n",
        "    print(user.title())"
      ]
    },
    {
      "cell_type": "markdown",
      "metadata": {
        "id": "vcb0zXSqYSJL"
      },
      "source": [
        "We can get any segment of a list we want, using the slice method:"
      ]
    },
    {
      "cell_type": "code",
      "execution_count": null,
      "metadata": {
        "id": "6eDCQ1LTYSJL",
        "outputId": "acfa9e46-ac09-4ad6-b1f3-92d14782fd53"
      },
      "outputs": [
        {
          "name": "stdout",
          "output_type": "stream",
          "text": [
            "Cody\n",
            "Aaron\n",
            "Ever\n"
          ]
        }
      ],
      "source": [
        "usernames = ['bernice', 'cody', 'aaron', 'ever', 'dalia']\n",
        "\n",
        "# Grab a batch from the middle of the list.\n",
        "middle_batch = usernames[1:4]\n",
        "\n",
        "for user in middle_batch:\n",
        "    print(user.title())"
      ]
    },
    {
      "cell_type": "markdown",
      "metadata": {
        "id": "hJqI7CAdYSJM"
      },
      "source": [
        "To get all items from one position in the list to the end of the list, we can leave off the second index:"
      ]
    },
    {
      "cell_type": "code",
      "execution_count": null,
      "metadata": {
        "id": "CjzZtDB7YSJM",
        "outputId": "63b9a6ce-f8dc-440b-a046-e7ff07042d09"
      },
      "outputs": [
        {
          "name": "stdout",
          "output_type": "stream",
          "text": [
            "Aaron\n",
            "Ever\n",
            "Dalia\n"
          ]
        }
      ],
      "source": [
        "usernames = ['bernice', 'cody', 'aaron', 'ever', 'dalia']\n",
        "\n",
        "# Grab all users from the third to the end.\n",
        "end_batch = usernames[2:]\n",
        "\n",
        "for user in end_batch:\n",
        "    print(user.title())"
      ]
    },
    {
      "cell_type": "markdown",
      "metadata": {
        "id": "JwrD_YBPYSJM"
      },
      "source": [
        "### <a name='copying'></a>Copying a list\n",
        "You can use the slice notation to make a copy of a list, by leaving out both the starting and the ending index. This causes the slice to consist of everything from the first item to the last, which is the entire list."
      ]
    },
    {
      "cell_type": "code",
      "execution_count": null,
      "metadata": {
        "id": "RSQ6R7k5YSJM",
        "outputId": "1fc86feb-9fa0-4023-a3a6-70b51c0450f1"
      },
      "outputs": [
        {
          "name": "stdout",
          "output_type": "stream",
          "text": [
            "The full copied list:\n",
            "\t ['bernice', 'cody', 'aaron', 'ever', 'dalia']\n",
            "\n",
            "Two users removed from copied list:\n",
            "\t ['aaron', 'ever', 'dalia']\n",
            "\n",
            "The original list:\n",
            "\t ['bernice', 'cody', 'aaron', 'ever', 'dalia']\n"
          ]
        }
      ],
      "source": [
        "usernames = ['bernice', 'cody', 'aaron', 'ever', 'dalia']\n",
        "\n",
        "# Make a copy of the list.\n",
        "copied_usernames = usernames[:]\n",
        "print(\"The full copied list:\\n\\t\", copied_usernames)\n",
        "\n",
        "# Remove the first two users from the copied list.\n",
        "del copied_usernames[0]\n",
        "del copied_usernames[0]\n",
        "print(\"\\nTwo users removed from copied list:\\n\\t\", copied_usernames)\n",
        "\n",
        "# The original list is unaffected.\n",
        "print(\"\\nThe original list:\\n\\t\", usernames)"
      ]
    },
    {
      "cell_type": "markdown",
      "metadata": {
        "id": "YZvtnHGSYSJM"
      },
      "source": [
        "<a name='exercises_slicing'></a>Exercises\n",
        "---\n",
        "#### Alphabet Slices\n",
        "- Store the first ten letters of the alphabet in a list.\n",
        "- Use a slice to print out the first three letters of the alphabet.\n",
        "- Use a slice to print out any three letters from the middle of your list.\n",
        "- Use a slice to print out the letters from any point in the middle of your list, to the end.\n",
        "\n",
        "#### Protected List\n",
        "- Your goal in this exercise is to prove that copying a list protects the original list.\n",
        "- Make a list with three people's names in it.\n",
        "- Use a slice to make a copy of the entire list.\n",
        "- Add at least two new names to the new copy of the list.\n",
        "- Make a loop that prints out all of the names in the original list, along with a message that this is the original list.\n",
        "- Make a loop that prints out all of the names in the copied list, along with a message that this is the copied list."
      ]
    },
    {
      "cell_type": "code",
      "execution_count": null,
      "metadata": {
        "id": "kHJEh6TUYSJM",
        "outputId": "746b4614-3573-4e90-8457-a95ca04d5ca9"
      },
      "outputs": [
        {
          "name": "stdout",
          "output_type": "stream",
          "text": [
            "abcdefghijklmnopqrstuvwxyz\n",
            "abcdefghij\n"
          ]
        }
      ],
      "source": [
        "from string import ascii_lowercase\n",
        "print(ascii_lowercase)\n",
        "tenletters=ascii_lowercase[0:10]\n",
        "print(tenletters)"
      ]
    },
    {
      "cell_type": "code",
      "execution_count": null,
      "metadata": {
        "id": "OL1ZTdSMYSJM",
        "outputId": "95040632-b316-46c1-b14b-288b66976f2f"
      },
      "outputs": [
        {
          "name": "stdout",
          "output_type": "stream",
          "text": [
            "abc\n",
            "ghi\n",
            "ghij\n"
          ]
        }
      ],
      "source": [
        "# Ex 3.13 : Alphabet Slices\n",
        "#Store the first ten letters of the alphabet in a list.\n",
        "alphabet=tenletters[:]\n",
        "#Use a slice to print out the first three letters of the alphabet.\n",
        "print(alphabet[:3])\n",
        "#Use a slice to print out any three letters from the middle of your list.\n",
        "print(alphabet[6:9])\n",
        "#Use a slice to print out the letters from any point in the middle of your list, to the end.\n",
        "print(alphabet[6:])\n",
        "# put your code here"
      ]
    },
    {
      "cell_type": "code",
      "execution_count": null,
      "metadata": {
        "id": "TQxrWkbFYSJN",
        "outputId": "4f0621da-8c1a-4b92-dad0-13960ae8f818"
      },
      "outputs": [
        {
          "name": "stdout",
          "output_type": "stream",
          "text": [
            "This is the original list:\n",
            "Alice\n",
            "Anna\n",
            "Ada\n",
            "This is the copy: \n",
            "Alice\n",
            "Anna\n",
            "Ada\n",
            "Agata\n",
            "Aurora\n",
            "['alice', 'anna', 'ada', 'agata', 'aurora']\n",
            "['alice', 'anna', 'ada']\n",
            "['Alice', 'Anna', 'Ada', 'Agata', 'Aurora']\n"
          ]
        }
      ],
      "source": [
        "# Ex 3.14 : Protected List\n",
        "#Your goal in this exercise is to prove that copying a list protects the original list.\n",
        "#Make a list with three people's names in it.\n",
        "names=['alice','anna','ada']\n",
        "#Use a slice to make a copy of the entire list.\n",
        "copied_names=names[:]\n",
        "#Add at least two new names to the new copy of the list.\n",
        "copied_names.append('agata')\n",
        "copied_names.append('aurora')\n",
        "#Make a loop that prints out all of the names in the original list, along with a message that this is the original list.\n",
        "print('This is the original list:')\n",
        "for name in names:\n",
        "    print(name.title())\n",
        "#Make a loop that prints out all of the names in the copied list, along with a message that this is the copied list.\n",
        "print('This is the copy: ')\n",
        "for cname in copied_names:\n",
        "    print(cname.title())\n",
        "print(copied_names)\n",
        "\n",
        "#title the names in the original list\n",
        "print (names)\n",
        "copied_names = [i.title() for i in copied_names]\n",
        "print(copied_names)"
      ]
    },
    {
      "cell_type": "markdown",
      "metadata": {
        "id": "5cDX22LHYSJN"
      },
      "source": [
        "[top](#top)"
      ]
    },
    {
      "cell_type": "markdown",
      "metadata": {
        "id": "o-ZsfoLuYSJN"
      },
      "source": [
        "<a name='numerical_lists'></a>Numerical Lists\n",
        "===\n",
        "There is nothing special about lists of numbers, but there are some functions you can use to make working with numerical lists more efficient. Let's make a list of the first ten numbers, and start working with it to see how we can use numbers in a list."
      ]
    },
    {
      "cell_type": "code",
      "execution_count": null,
      "metadata": {
        "id": "3ALZAGAvYSJN",
        "outputId": "d9049015-17c8-429b-b9e2-6ebd93fe8183"
      },
      "outputs": [
        {
          "name": "stdout",
          "output_type": "stream",
          "text": [
            "1\n",
            "2\n",
            "3\n",
            "4\n",
            "5\n",
            "6\n",
            "7\n",
            "8\n",
            "9\n",
            "10\n"
          ]
        }
      ],
      "source": [
        "# Print out the first ten numbers.\n",
        "numbers = [1, 2, 3, 4, 5, 6, 7, 8, 9, 10]\n",
        "\n",
        "for number in numbers:\n",
        "    print(number)"
      ]
    },
    {
      "cell_type": "markdown",
      "metadata": {
        "id": "6jMZk9r2YSJN"
      },
      "source": [
        "<a name='range_function'></a>The *range()* function\n",
        "---\n",
        "This works, but it is not very efficient if we want to work with a large set of numbers. The *range()* function helps us generate long lists of numbers. Here are two ways to do the same thing, using the *range* function."
      ]
    },
    {
      "cell_type": "code",
      "execution_count": null,
      "metadata": {
        "id": "gNlzDWgIYSJN",
        "outputId": "3f89f3ea-c681-4dc5-df61-7d9f984f6757"
      },
      "outputs": [
        {
          "name": "stdout",
          "output_type": "stream",
          "text": [
            "1\n",
            "2\n",
            "3\n",
            "4\n",
            "5\n",
            "6\n",
            "7\n",
            "8\n",
            "9\n",
            "10\n"
          ]
        }
      ],
      "source": [
        "# Print the first ten numbers.\n",
        "for number in range(1,11):\n",
        "    print(number)"
      ]
    },
    {
      "cell_type": "markdown",
      "metadata": {
        "id": "omgJ-NtWYSJO"
      },
      "source": [
        "The range function takes in a starting number, and an end number. You get all integers, up to but not including the end number. You can also add a *step* value, which tells the *range* function how big of a step to take between numbers:"
      ]
    },
    {
      "cell_type": "code",
      "execution_count": null,
      "metadata": {
        "id": "NAuCpQzqYSJO",
        "outputId": "05c0b83f-71ca-48a1-eacb-97cea08abe3b"
      },
      "outputs": [
        {
          "name": "stdout",
          "output_type": "stream",
          "text": [
            "1\n",
            "3\n",
            "5\n",
            "7\n",
            "9\n",
            "11\n",
            "13\n",
            "15\n",
            "17\n",
            "19\n"
          ]
        }
      ],
      "source": [
        "# Print the first ten odd numbers.\n",
        "for number in range(1,21,2):\n",
        "    print(number)"
      ]
    },
    {
      "cell_type": "markdown",
      "metadata": {
        "id": "9Rh4WwnFYSJO"
      },
      "source": [
        "If we want to store these numbers in a list, we can use the *list()* function. This function takes in a range, and turns it into a list:"
      ]
    },
    {
      "cell_type": "code",
      "execution_count": null,
      "metadata": {
        "id": "ZL3Vb3meYSJO",
        "outputId": "3b1811df-6e7c-4aea-869b-107e1a3c19c5"
      },
      "outputs": [
        {
          "name": "stdout",
          "output_type": "stream",
          "text": [
            "[1, 2, 3, 4, 5, 6, 7, 8, 9, 10]\n"
          ]
        }
      ],
      "source": [
        "# Create a list of the first ten numbers.\n",
        "numbers = list(range(1,11))\n",
        "print(numbers)"
      ]
    },
    {
      "cell_type": "markdown",
      "metadata": {
        "id": "YQTkyh45YSJT"
      },
      "source": [
        "This is incredibly powerful; we can now create a list of the first million numbers, just as easily as we made a list of the first ten numbers. It doesn't really make sense to print the million numbers here, but we can show that the list really does have one million items in it, and we can print the last ten items to show that the list is correct."
      ]
    },
    {
      "cell_type": "code",
      "execution_count": null,
      "metadata": {
        "id": "E1xAhMbqYSJT",
        "outputId": "6e0e5884-15a0-4368-a6b9-192a1c7c7a78"
      },
      "outputs": [
        {
          "name": "stdout",
          "output_type": "stream",
          "text": [
            "The list 'numbers' has 1000000 numbers in it.\n",
            "\n",
            "The last ten numbers in the list are:\n",
            "999991\n",
            "999992\n",
            "999993\n",
            "999994\n",
            "999995\n",
            "999996\n",
            "999997\n",
            "999998\n",
            "999999\n",
            "1000000\n"
          ]
        }
      ],
      "source": [
        "# Store the first million numbers in a list.\n",
        "numbers = list(range(1,1000001))\n",
        "\n",
        "# Show the length of the list:\n",
        "print(\"The list 'numbers' has \" + str(len(numbers)) + \" numbers in it.\")\n",
        "\n",
        "# Show the last ten numbers:\n",
        "print(\"\\nThe last ten numbers in the list are:\")\n",
        "for number in numbers[-10:]:\n",
        "    print(number)"
      ]
    },
    {
      "cell_type": "markdown",
      "metadata": {
        "id": "FxWCpHz9YSJT"
      },
      "source": [
        "There are two things here that might be a little unclear. The expression\n",
        "\n",
        "    str(len(numbers))\n",
        "\n",
        "takes the length of the *numbers* list, and turns it into a string that can be printed.\n",
        "\n",
        "The expression\n",
        "\n",
        "    numbers[-10:]\n",
        "\n",
        "gives us a *slice* of the list. The index `-1` is the last item in the list, and the index `-10` is the item ten places from the end of the list. So the slice `numbers[-10:]` gives us everything from that item to the end of the list."
      ]
    },
    {
      "cell_type": "markdown",
      "metadata": {
        "id": "6d626frEYSJT"
      },
      "source": [
        "<a name='min_max_sum'></a>The *min()*, *max()*, and *sum()* functions\n",
        "---\n",
        "There are three functions you can easily use with numerical lists. As you might expect, the *min()* function returns the smallest number in the list, the *max()* function returns the largest number in the list, and the *sum()* function returns the total of all numbers in the list."
      ]
    },
    {
      "cell_type": "code",
      "execution_count": null,
      "metadata": {
        "id": "jLh24AsgYSJT",
        "outputId": "dca77852-5dd1-4e32-c999-04400ef2a4d3"
      },
      "outputs": [
        {
          "name": "stdout",
          "output_type": "stream",
          "text": [
            "Our youngest reader is 11 years old.\n",
            "Our oldest reader is 38 years old.\n",
            "Together, we have 149 years worth of life experience.\n"
          ]
        }
      ],
      "source": [
        "ages = [23, 16, 14, 28, 19, 11, 38]\n",
        "\n",
        "youngest = min(ages)\n",
        "oldest = max(ages)\n",
        "total_years = sum(ages)\n",
        "\n",
        "print(\"Our youngest reader is \" + str(youngest) + \" years old.\")\n",
        "print(\"Our oldest reader is \" + str(oldest) + \" years old.\")\n",
        "print(\"Together, we have \" + str(total_years) +\n",
        "      \" years worth of life experience.\")"
      ]
    },
    {
      "cell_type": "markdown",
      "metadata": {
        "id": "Isu_YWIUYSJT"
      },
      "source": [
        "<a name='exercises_numerical'></a>Exercises\n",
        "---\n",
        "#### First Twenty\n",
        "- Use the *range()* function to store the first twenty numbers (1-20) in a list, and print them out.\n",
        "\n",
        "#### Larger Sets\n",
        "- Take the *first\\_twenty.py* program you just wrote. Change your end number to a much larger number. How long does it take your computer to print out the first million numbers? (Most people will never see a million numbers scroll before their eyes. You can now see this!)\n",
        "\n",
        "#### Five Wallets\n",
        "- Imagine five wallets with different amounts of cash in them. Store these five values in a list, and print out the following sentences:\n",
        "    - \"The fattest wallet has $ *value* in it.\"\n",
        "    - \"The skinniest wallet has $ *value* in it.\"\n",
        "    - \"All together, these wallets have $ *value* in them.\""
      ]
    },
    {
      "cell_type": "code",
      "execution_count": null,
      "metadata": {
        "id": "6C5VIaqJYSJT",
        "outputId": "553d0d19-b6cb-40c7-c311-d1db31846d28"
      },
      "outputs": [
        {
          "name": "stdout",
          "output_type": "stream",
          "text": [
            "1\n",
            "2\n",
            "3\n",
            "4\n",
            "5\n",
            "6\n",
            "7\n",
            "8\n",
            "9\n",
            "10\n",
            "11\n",
            "12\n",
            "13\n",
            "14\n",
            "15\n",
            "16\n",
            "17\n",
            "18\n",
            "19\n",
            "20\n"
          ]
        }
      ],
      "source": [
        "# Ex 3.15 : First Twenty\n",
        "twenties=list(range(1,21))\n",
        "for n in twenties:\n",
        "    print(n)\n",
        "# put your code here"
      ]
    },
    {
      "cell_type": "code",
      "execution_count": null,
      "metadata": {
        "id": "svRrXgOHYSJT",
        "outputId": "3c42eeec-d1dc-467e-d60a-4c2cb1e08550"
      },
      "outputs": [
        {
          "data": {
            "text/plain": [
              "1000000"
            ]
          },
          "execution_count": 51,
          "metadata": {},
          "output_type": "execute_result"
        }
      ],
      "source": [
        "# Ex 3.16 : Larger Sets\n",
        "millions=list(range(0,int(1e6)))\n",
        "len(millions)\n",
        "\n",
        "# put your code here"
      ]
    },
    {
      "cell_type": "code",
      "execution_count": null,
      "metadata": {
        "id": "awj8-gR8YSJW",
        "outputId": "45d31f0a-37a4-4c8c-fcde-f1453df8a241"
      },
      "outputs": [
        {
          "name": "stdout",
          "output_type": "stream",
          "text": [
            "[[76, 62, 53], [53, 69, 30, 5, 65, 9, 39, 75], [7, 37, 60, 64, 36, 68, 71, 88, 40], [96, 6, 15, 74, 3, 79, 54, 8, 35, 99], [1, 67, 57, 71]]\n",
            "[191, 345, 471, 469, 196]\n",
            "The fattest wallet has 471 in it\n",
            "All together, these wallets have 1672 value in them\n",
            "The thinnest wallet has 191 in it\n"
          ]
        }
      ],
      "source": [
        "# Ex 3.17 : Five Wallets\n",
        "#Imagine five wallets with different amounts of cash in them. Store these five values in a list,\n",
        "#and print out the following sentences:\n",
        "#\"The fattest wallet has ∗value∗init.\"−\"Theskinniestwallethas value in it.\"\n",
        "#\"All together, these wallets have $ value in them.\"\n",
        "\n",
        "from random import randint\n",
        "\n",
        "wallets = [ [randint(1,100) for _ in range(randint(2,10))] for _ in range(5) ]\n",
        "print(wallets)\n",
        "amounts = [ sum(wallet) for wallet in wallets ]\n",
        "print(amounts)\n",
        "print('The fattest wallet has {} in it'.format(max(amounts)))\n",
        "print('All together, these wallets have {} value in them'.format(sum(amounts)))\n",
        "print('The thinnest wallet has {} in it'.format(min(amounts)))"
      ]
    },
    {
      "cell_type": "markdown",
      "metadata": {
        "id": "DwibHNecYSJX"
      },
      "source": [
        "[top](#top)"
      ]
    },
    {
      "cell_type": "markdown",
      "metadata": {
        "id": "MORDAg8tYSJX"
      },
      "source": [
        "<a name='comprehensions'></a>List Comprehensions\n",
        "===\n",
        "I thought carefully before including this section. If you are brand new to programming, list comprehensions may look confusing at first. They are a shorthand way of creating and working with lists. It is good to be aware of list comprehensions, because you will see them in other people's code, and they are really useful when you understand how to use them. That said, if they don't make sense to you yet, don't worry about using them right away. When you have worked with enough lists, you will want to use comprehensions. For now, it is good enough to know they exist, and to recognize them when you see them. If you like them, go ahead and start trying to use them now."
      ]
    },
    {
      "cell_type": "markdown",
      "metadata": {
        "id": "ctq0wlRGYSJX"
      },
      "source": [
        "<a name='comprehensions_numerical'></a>Numerical Comprehensions\n",
        "---\n",
        "Let's consider how we might make a list of the first ten square numbers. We could do it like this:"
      ]
    },
    {
      "cell_type": "code",
      "execution_count": null,
      "metadata": {
        "id": "BAkTAQ7BYSJX",
        "outputId": "f06275e0-b301-45e9-9ba9-2db4c81bb8ac"
      },
      "outputs": [
        {
          "name": "stdout",
          "output_type": "stream",
          "text": [
            "1\n",
            "4\n",
            "9\n",
            "16\n",
            "25\n",
            "36\n",
            "49\n",
            "64\n",
            "81\n",
            "100\n"
          ]
        }
      ],
      "source": [
        "# Store the first ten square numbers in a list.\n",
        "# Make an empty list that will hold our square numbers.\n",
        "squares = []\n",
        "\n",
        "# Go through the first ten numbers, square them, and add them to our list.\n",
        "for number in range(1,11):\n",
        "    new_square = number**2\n",
        "    squares.append(new_square)\n",
        "\n",
        "# Show that our list is correct.\n",
        "for square in squares:\n",
        "    print(square)"
      ]
    },
    {
      "cell_type": "markdown",
      "metadata": {
        "id": "bV3bWgXaYSJX"
      },
      "source": [
        "This should make sense at this point. If it doesn't, go over the code with these thoughts in mind:\n",
        "- We make an empty list called *squares* that will hold the values we are interested in.\n",
        "- Using the *range()* function, we start a loop that will go through the numbers 1-10.\n",
        "- Each time we pass through the loop, we find the square of the current number by raising it to the second power.\n",
        "- We add this new value to our list *squares*.\n",
        "- We go through our newly-defined list and print out each square.\n",
        "\n",
        "Now let's make this code more efficient. We don't really need to store the new square in its own variable *new_square*; we can just add it directly to the list of squares. The line\n",
        "\n",
        "    new_square = number**2\n",
        "\n",
        "is taken out, and the next line takes care of the squaring:"
      ]
    },
    {
      "cell_type": "code",
      "execution_count": null,
      "metadata": {
        "id": "ODfG_Fd-YSJX",
        "outputId": "2d8837fb-64f3-40e4-a1f8-a807784d9879"
      },
      "outputs": [
        {
          "name": "stdout",
          "output_type": "stream",
          "text": [
            "1\n",
            "4\n",
            "9\n",
            "16\n",
            "25\n",
            "36\n",
            "49\n",
            "64\n",
            "81\n",
            "100\n"
          ]
        }
      ],
      "source": [
        "# Store the first ten square numbers in a list.\n",
        "# Make an empty list that will hold our square numbers.\n",
        "squares = []\n",
        "\n",
        "# Go through the first ten numbers, square them, and add them to our list.\n",
        "for number in range(1,11):\n",
        "    squares.append(number**2)\n",
        "\n",
        "# Show that our list is correct.\n",
        "for square in squares:\n",
        "    print(square)"
      ]
    },
    {
      "cell_type": "markdown",
      "metadata": {
        "id": "ssLaWv54YSJX"
      },
      "source": [
        "List comprehensions allow us to collapse the first three lines of code into one line. Here's what it looks like:"
      ]
    },
    {
      "cell_type": "code",
      "execution_count": null,
      "metadata": {
        "id": "6VVSPgllYSJX",
        "outputId": "40b4b459-e127-4755-c665-43c9c4ff4b5a"
      },
      "outputs": [
        {
          "name": "stdout",
          "output_type": "stream",
          "text": [
            "1\n",
            "4\n",
            "9\n",
            "16\n",
            "25\n",
            "36\n",
            "49\n",
            "64\n",
            "81\n",
            "100\n"
          ]
        }
      ],
      "source": [
        "# Store the first ten square numbers in a list.\n",
        "squares = [number**2 for number in range(1,11)]\n",
        "\n",
        "# Show that our list is correct.\n",
        "for square in squares:\n",
        "    print(square)"
      ]
    },
    {
      "cell_type": "markdown",
      "metadata": {
        "id": "OmLCxwFtYSJX"
      },
      "source": [
        "It should be pretty clear that this code is more efficient than our previous approach, but it may not be clear what is happening. Let's take a look at everything that is happening in that first line:\n",
        "\n",
        "We define a list called *squares*.\n",
        "\n",
        "Look at the second part of what's in square brackets:\n",
        "\n",
        "    for number in range(1,11)\n",
        "\n",
        "This sets up a loop that goes through the numbers 1-10, storing each value in the variable *number*. Now we can see what happens to each *number* in the loop:\n",
        "\n",
        "    number**2\n",
        "\n",
        "Each number is raised to the second power, and this is the value that is stored in the list we defined. We might read this line in the following way:\n",
        "\n",
        "squares = [raise *number* to the second power, for each *number* in the range 1-10]"
      ]
    },
    {
      "cell_type": "markdown",
      "metadata": {
        "id": "wFTwzLgGYSJX"
      },
      "source": [
        "### Another example\n",
        "It is probably helpful to see a few more examples of how comprehensions can be used. Let's try to make the first ten even numbers, the longer way:"
      ]
    },
    {
      "cell_type": "code",
      "execution_count": null,
      "metadata": {
        "id": "nkFQmWM4YSJX",
        "outputId": "d47e247d-4f4e-47a9-af2c-2e0e85045227"
      },
      "outputs": [
        {
          "name": "stdout",
          "output_type": "stream",
          "text": [
            "2\n",
            "4\n",
            "6\n",
            "8\n",
            "10\n",
            "12\n",
            "14\n",
            "16\n",
            "18\n",
            "20\n"
          ]
        }
      ],
      "source": [
        "# Make an empty list that will hold the even numbers.\n",
        "evens = []\n",
        "\n",
        "# Loop through the numbers 1-10, double each one, and add it to our list.\n",
        "for number in range(1,11):\n",
        "    evens.append(number*2)\n",
        "\n",
        "# Show that our list is correct:\n",
        "for even in evens:\n",
        "    print(even)"
      ]
    },
    {
      "cell_type": "markdown",
      "metadata": {
        "id": "U6xz-RNMYSJY"
      },
      "source": [
        "Here's how we might think of doing the same thing, using a list comprehension:\n",
        "\n",
        "evens = [multiply each *number* by 2, for each *number* in the range 1-10]\n",
        "\n",
        "Here is the same line in code:"
      ]
    },
    {
      "cell_type": "code",
      "execution_count": null,
      "metadata": {
        "id": "0te6xS5_YSJY",
        "outputId": "dccbfa36-9455-4582-c6e2-0ba92692b9fe"
      },
      "outputs": [
        {
          "name": "stdout",
          "output_type": "stream",
          "text": [
            "2\n",
            "4\n",
            "6\n",
            "8\n",
            "10\n",
            "12\n",
            "14\n",
            "16\n",
            "18\n",
            "20\n"
          ]
        }
      ],
      "source": [
        "# Make a list of the first ten even numbers.\n",
        "evens = [number*2 for number in range(1,11)]\n",
        "\n",
        "for even in evens:\n",
        "    print(even)"
      ]
    },
    {
      "cell_type": "markdown",
      "metadata": {
        "id": "DMhDI6BDYSJY"
      },
      "source": [
        "<a name='comprehensions_non_numerical'></a>Non-numerical comprehensions\n",
        "---\n",
        "We can use comprehensions with non-numerical lists as well. In this case, we will create an initial list, and then use a comprehension to make a second list from the first one. Here is a simple example, without using comprehensions:"
      ]
    },
    {
      "cell_type": "code",
      "execution_count": null,
      "metadata": {
        "id": "bZgT9jpZYSJY",
        "outputId": "0e75b426-da49-4c71-d746-0dad125a244f"
      },
      "outputs": [
        {
          "name": "stdout",
          "output_type": "stream",
          "text": [
            "Hello, Bernice the great!\n",
            "Hello, Aaron the great!\n",
            "Hello, Cody the great!\n"
          ]
        }
      ],
      "source": [
        "# Consider some students.\n",
        "students = ['bernice', 'aaron', 'cody']\n",
        "\n",
        "# Let's turn them into great students.\n",
        "great_students = []\n",
        "for student in students:\n",
        "    great_students.append(student.title() + \" the great!\")\n",
        "\n",
        "# Let's greet each great student.\n",
        "for great_student in great_students:\n",
        "    print(\"Hello, \" + great_student)"
      ]
    },
    {
      "cell_type": "markdown",
      "metadata": {
        "id": "Grm1uumJYSJY"
      },
      "source": [
        "To use a comprehension in this code, we want to write something like this:\n",
        "\n",
        "great_students = [add 'the great' to each *student*, for each *student* in the list of *students*]\n",
        "\n",
        "Here's what it looks like:"
      ]
    },
    {
      "cell_type": "code",
      "execution_count": null,
      "metadata": {
        "id": "kNHQpkbuYSJY",
        "outputId": "fd9372ba-c2f6-4cee-c49d-b5faae0fb6d1"
      },
      "outputs": [
        {
          "name": "stdout",
          "output_type": "stream",
          "text": [
            "Hello, Bernice the great!\n",
            "Hello, Aaron the great!\n",
            "Hello, Cody the great!\n"
          ]
        }
      ],
      "source": [
        "# Consider some students.\n",
        "students = ['bernice', 'aaron', 'cody']\n",
        "\n",
        "# Let's turn them into great students.\n",
        "great_students = [student.title() + \" the great!\" for student in students]\n",
        "\n",
        "# Let's greet each great student.\n",
        "for great_student in great_students:\n",
        "    print(\"Hello, \" + great_student)"
      ]
    },
    {
      "cell_type": "markdown",
      "metadata": {
        "id": "qTG2ksOmYSJZ"
      },
      "source": [
        "<a name='exercises_comprehensions'></a>Exercises\n",
        "---\n",
        "If these examples are making sense, go ahead and try to do the following exercises using comprehensions. If not, try the exercises without comprehensions. You may figure out how to use comprehensions after you have solved each exercise the longer way.\n",
        "\n",
        "#### Multiples of Ten\n",
        "- Make a list of the first ten multiples of ten (10, 20, 30... 90, 100). There are a number of ways to do this, but try to do it using a list comprehension. Print out your list.\n",
        "\n",
        "#### Cubes\n",
        "- We saw how to make a list of the first ten squares. Make a list of the first ten cubes (1, 8, 27... 1000) using a list comprehension, and print them out.\n",
        "\n",
        "#### Awesomeness\n",
        "- Store five names in a list. Make a second list that adds the phrase \"is awesome!\" to each name, using a list comprehension. Print out the awesome version of the names.\n",
        "\n",
        "#### Working Backwards\n",
        "- Write out the following code without using a list comprehension:\n",
        "\n",
        "    plus_thirteen = [number + 13 for number in range(1,11)]"
      ]
    },
    {
      "cell_type": "code",
      "execution_count": null,
      "metadata": {
        "id": "Qg35azhTYSJZ"
      },
      "outputs": [],
      "source": [
        "# Ex 3.18 : Multiples of Ten\n",
        "\n",
        "# put your code here"
      ]
    },
    {
      "cell_type": "code",
      "execution_count": null,
      "metadata": {
        "id": "-MutDNGtYSJZ"
      },
      "outputs": [],
      "source": [
        "# Ex 3.19 : Cubes\n",
        "\n",
        "# put your code here"
      ]
    },
    {
      "cell_type": "code",
      "execution_count": null,
      "metadata": {
        "id": "_ri-Vqa2YSJZ"
      },
      "outputs": [],
      "source": [
        "# Ex 3.20 : Awesomeness\n",
        "\n",
        "# put your code here"
      ]
    },
    {
      "cell_type": "code",
      "execution_count": null,
      "metadata": {
        "id": "4xbdgQbXYSJZ"
      },
      "outputs": [],
      "source": [
        "# Ex 3.21 : Working Backwards\n",
        "\n",
        "# put your code here"
      ]
    },
    {
      "cell_type": "markdown",
      "metadata": {
        "id": "oFYW9dcuYSJZ"
      },
      "source": [
        "[top](#top)"
      ]
    },
    {
      "cell_type": "markdown",
      "metadata": {
        "id": "QSKxQ9MmYSJZ"
      },
      "source": [
        "<a name='strings_as_lists'></a>Strings as Lists\n",
        "===\n",
        "Now that you have some familiarity with lists, we can take a second look at strings. A string is really a list of characters, so many of the concepts from working with lists behave the same with strings."
      ]
    },
    {
      "cell_type": "markdown",
      "metadata": {
        "id": "4HGkghHHYSJZ"
      },
      "source": [
        "<a name='list_of_characters'></a>Strings as a list of characters\n",
        "---\n",
        "We can loop through a string using a *for* loop, just like we loop through a list:"
      ]
    },
    {
      "cell_type": "code",
      "execution_count": null,
      "metadata": {
        "id": "AkyDTOTJYSJZ",
        "outputId": "d7ebff56-1c84-4376-a6a8-0934f549a069"
      },
      "outputs": [
        {
          "name": "stdout",
          "output_type": "stream",
          "text": [
            "H\n",
            "e\n",
            "l\n",
            "l\n",
            "o\n",
            "!\n"
          ]
        }
      ],
      "source": [
        "message = \"Hello!\"\n",
        "\n",
        "for letter in message:\n",
        "    print(letter)"
      ]
    },
    {
      "cell_type": "markdown",
      "metadata": {
        "id": "8BcEZstaYSJZ"
      },
      "source": [
        "We can create a list from a string. The list will have one element for each character in the string:"
      ]
    },
    {
      "cell_type": "code",
      "execution_count": null,
      "metadata": {
        "id": "GK2CsmWkYSJZ",
        "outputId": "f1ed83eb-7eb6-45c3-94cc-9e3376ac388f"
      },
      "outputs": [
        {
          "name": "stdout",
          "output_type": "stream",
          "text": [
            "['H', 'e', 'l', 'l', 'o', ' ', 'w', 'o', 'r', 'l', 'd', '!']\n"
          ]
        }
      ],
      "source": [
        "message = \"Hello world!\"\n",
        "\n",
        "message_list = list(message)\n",
        "print(message_list)"
      ]
    },
    {
      "cell_type": "markdown",
      "metadata": {
        "id": "s7r8FUNpYSJZ"
      },
      "source": [
        "<a name='slicing_strings'></a>Slicing strings\n",
        "---\n",
        "We can access any character in a string by its position, just as we access individual items in a list:"
      ]
    },
    {
      "cell_type": "code",
      "execution_count": null,
      "metadata": {
        "id": "V7IOSELFYSJZ",
        "outputId": "cc30b80d-a2f3-4a8f-bf2a-b21821bfc537"
      },
      "outputs": [
        {
          "name": "stdout",
          "output_type": "stream",
          "text": [
            "('H', '!')\n"
          ]
        }
      ],
      "source": [
        "message = \"Hello World!\"\n",
        "first_char = message[0]\n",
        "last_char = message[-1]\n",
        "\n",
        "print(first_char, last_char)"
      ]
    },
    {
      "cell_type": "markdown",
      "metadata": {
        "id": "CZRs9DmMYSJZ"
      },
      "source": [
        "We can extend this to take slices of a string:"
      ]
    },
    {
      "cell_type": "code",
      "execution_count": null,
      "metadata": {
        "id": "LD7Wa6ZcYSJZ",
        "outputId": "9d15c166-f931-4637-b27f-8688e7a74ebd"
      },
      "outputs": [
        {
          "name": "stdout",
          "output_type": "stream",
          "text": [
            "('Hel', 'ld!')\n"
          ]
        }
      ],
      "source": [
        "message = \"Hello World!\"\n",
        "first_three = message[:3]\n",
        "last_three = message[-3:]\n",
        "\n",
        "print(first_three, last_three)"
      ]
    },
    {
      "cell_type": "markdown",
      "metadata": {
        "id": "AMeQd4bUYSJa"
      },
      "source": [
        "<a name='finding_substrings'></a>Finding substrings\n",
        "---\n",
        "Now that you have seen what indexes mean for strings, we can search for *substrings*. A substring is a series of characters that appears in a string.\n",
        "\n",
        "You can use the *in* keyword to find out whether a particular substring appears in a string:"
      ]
    },
    {
      "cell_type": "code",
      "execution_count": null,
      "metadata": {
        "id": "3fLs6wPbYSJa",
        "outputId": "eee4f730-523e-4846-868d-089e0fb277db"
      },
      "outputs": [
        {
          "name": "stdout",
          "output_type": "stream",
          "text": [
            "True\n"
          ]
        }
      ],
      "source": [
        "message = \"I like cats and dogs.\"\n",
        "dog_present = 'dog' in message\n",
        "print(dog_present)"
      ]
    },
    {
      "cell_type": "markdown",
      "metadata": {
        "id": "Rpyl52_XYSJa"
      },
      "source": [
        "If you want to know where a substring appears in a string, you can use the *find()* method. The *find()* method tells you the index at which the substring begins."
      ]
    },
    {
      "cell_type": "code",
      "execution_count": null,
      "metadata": {
        "id": "XgL6LAysYSJa",
        "outputId": "55daab66-cc30-40c2-eed0-441f8f75d7d4"
      },
      "outputs": [
        {
          "name": "stdout",
          "output_type": "stream",
          "text": [
            "16\n"
          ]
        }
      ],
      "source": [
        "message = \"I like cats and dogs.\"\n",
        "dog_index = message.find('dog')\n",
        "print(dog_index)"
      ]
    },
    {
      "cell_type": "markdown",
      "metadata": {
        "id": "358wARtPYSJa"
      },
      "source": [
        "Note, however, that this function only returns the index of the first appearance of the substring you are looking for. If the substring appears more than once, you will miss the other substrings."
      ]
    },
    {
      "cell_type": "code",
      "execution_count": null,
      "metadata": {
        "id": "CQyi6ckkYSJa",
        "outputId": "af46e5e3-05c7-409e-9082-1e97779ff7a4"
      },
      "outputs": [
        {
          "name": "stdout",
          "output_type": "stream",
          "text": [
            "16\n"
          ]
        }
      ],
      "source": [
        "message = \"I like cats and dogs, but I'd much rather own a dog.\"\n",
        "dog_index = message.find('dog')\n",
        "print(dog_index)"
      ]
    },
    {
      "cell_type": "markdown",
      "metadata": {
        "id": "389zzRZ_YSJa"
      },
      "source": [
        "If you want to find the last appearance of a substring, you can use the *rfind()* function:"
      ]
    },
    {
      "cell_type": "code",
      "execution_count": null,
      "metadata": {
        "id": "y0np-GAPYSJa",
        "outputId": "857da2ed-b252-4526-b850-0c385a720b5a"
      },
      "outputs": [
        {
          "name": "stdout",
          "output_type": "stream",
          "text": [
            "48\n"
          ]
        }
      ],
      "source": [
        "message = \"I like cats and dogs, but I'd much rather own a dog.\"\n",
        "last_dog_index = message.rfind('dog')\n",
        "print(last_dog_index)"
      ]
    },
    {
      "cell_type": "markdown",
      "metadata": {
        "id": "kLYCRjM7YSJa"
      },
      "source": [
        "<a name='replacing_substrings'></a>Replacing substrings\n",
        "---\n",
        "You can use the *replace()* function to replace any substring with another substring. To use the *replace()* function, give the substring you want to replace, and then the substring you want to replace it with. You also need to store the new string, either in the same string variable or in a new variable."
      ]
    },
    {
      "cell_type": "code",
      "execution_count": null,
      "metadata": {
        "id": "R6C-kDezYSJa",
        "outputId": "de1696ae-2ad5-463a-9e1b-c9d867557501"
      },
      "outputs": [
        {
          "name": "stdout",
          "output_type": "stream",
          "text": [
            "I like cats and snakes, but I'd much rather own a snake.\n"
          ]
        }
      ],
      "source": [
        "message = \"I like cats and dogs, but I'd much rather own a dog.\"\n",
        "message = message.replace('dog', 'snake')\n",
        "print(message)"
      ]
    },
    {
      "cell_type": "markdown",
      "metadata": {
        "id": "wyWTQ_6SYSJa"
      },
      "source": [
        "<a name='counting_substrings'></a>Counting substrings\n",
        "---\n",
        "If you want to know how many times a substring appears within a string, you can use the *count()* method."
      ]
    },
    {
      "cell_type": "code",
      "execution_count": null,
      "metadata": {
        "id": "TNP3WZYoYSJb",
        "outputId": "9098addf-b8b9-4feb-c140-c4c0f5978a08"
      },
      "outputs": [
        {
          "name": "stdout",
          "output_type": "stream",
          "text": [
            "2\n"
          ]
        }
      ],
      "source": [
        "message = \"I like cats and dogs, but I'd much rather own a dog.\"\n",
        "number_dogs = message.count('dog')\n",
        "print(number_dogs)"
      ]
    },
    {
      "cell_type": "markdown",
      "metadata": {
        "id": "TyLOmbivYSJb"
      },
      "source": [
        "<a name='splitting_strings'></a>Splitting strings\n",
        "---\n",
        "Strings can be split into a set of substrings when they are separated by a repeated character. If a string consists of a simple sentence, the string can be split based on spaces. The *split()* function returns a list of substrings. The *split()* function takes one argument, the character that separates the parts of the string."
      ]
    },
    {
      "cell_type": "code",
      "execution_count": null,
      "metadata": {
        "id": "vYvzJbiFYSJb",
        "outputId": "ef5e9224-29fd-4dd6-a509-9de7df3fb6b0"
      },
      "outputs": [
        {
          "name": "stdout",
          "output_type": "stream",
          "text": [
            "['I', 'like', 'cats', 'and', 'dogs,', 'but', \"I'd\", 'much', 'rather', 'own', 'a', 'dog.']\n"
          ]
        }
      ],
      "source": [
        "message = \"I like cats and dogs, but I'd much rather own a dog.\"\n",
        "words = message.split(' ')\n",
        "print(words)"
      ]
    },
    {
      "cell_type": "markdown",
      "metadata": {
        "id": "KMRoB3pQYSJb"
      },
      "source": [
        "Notice that the punctuation is left in the substrings.\n",
        "\n",
        "It is more common to split strings that are really lists, separated by something like a comma. The *split()* function gives you an easy way to turn comma-separated strings, which you can't do much with in Python, into lists. Once you have your data in a list, you can work with it in much more powerful ways."
      ]
    },
    {
      "cell_type": "code",
      "execution_count": null,
      "metadata": {
        "id": "WfIYUSoWYSJc",
        "outputId": "85ef07c5-81a2-47ff-ea90-66fdbbdd6cd5"
      },
      "outputs": [
        {
          "name": "stdout",
          "output_type": "stream",
          "text": [
            "['dog', ' cat', ' tiger', ' mouse', ' liger', ' bear']\n"
          ]
        }
      ],
      "source": [
        "animals = \"dog, cat, tiger, mouse, liger, bear\"\n",
        "\n",
        "# Rewrite the string as a list, and store it in the same variable\n",
        "animals = animals.split(',')\n",
        "print(animals)"
      ]
    },
    {
      "cell_type": "markdown",
      "metadata": {
        "id": "rwcQlxwGYSJc"
      },
      "source": [
        "Notice that in this case, the spaces are also ignored. It is a good idea to test the output of the *split()* function and make sure it is doing what you want with the data you are interested in.\n",
        "\n",
        "One use of this is to work with spreadsheet data in your Python programs. Most spreadsheet applications allow you to dump your data into a comma-separated text file. You can read this file into your Python program, or even copy and paste from the text file into your program file, and then turn the data into a list. You can then process your spreadsheet data using a *for* loop."
      ]
    },
    {
      "cell_type": "markdown",
      "metadata": {
        "id": "gvC2KSRCYSJc"
      },
      "source": [
        "<a name='other_string_methods'></a>Other string methods\n",
        "---\n",
        "There are a number of [other string methods](http://docs.python.org/3.3/library/stdtypes.html#string-methods) that we won't go into right here, but you might want to take a look at them. Most of these methods should make sense to you at this point. You might not have use for any of them right now, but it is good to know what you can do with strings. This way you will have a sense of how to solve certain problems, even if it means referring back to the list of methods to remind yourself how to write the correct syntax when you need it."
      ]
    },
    {
      "cell_type": "markdown",
      "metadata": {
        "id": "cKY8it5yYSJc"
      },
      "source": [
        "<a name='exercises_strings_as_lists'></a>Exercises\n",
        "---\n",
        "#### Listing a Sentence\n",
        "- Store a single sentence in a variable. Use a for loop to print each character from your sentence on a separate line.\n",
        "\n",
        "#### Sentence List\n",
        "- Store a single sentence in a variable. Create a list from your sentence. Print your raw list (don't use a loop, just print the list).\n",
        "\n",
        "#### Sentence Slices\n",
        "- Store a sentence in a variable. Using slices, print out the first five characters, any five consecutive characters from the middle of the sentence, and the last five characters of the sentence.\n",
        "\n",
        "#### Finding Python\n",
        "- Store a sentence in a variable, making sure you use the word *Python* at least twice in the sentence.\n",
        "- Use the *in* keyword to prove that the word *Python* is actually in the sentence.\n",
        "- Use the *find()* function to show where the word *Python* first appears in the sentence.\n",
        "- Use the *rfind()* function to show the last place *Python* appears in the sentence.\n",
        "- Use the *count()* function to show how many times the word *Python* appears in your sentence.\n",
        "- Use the *split()* function to break your sentence into a list of words. Print the raw list, and use a loop to print each word on its own line.\n",
        "- Use the *replace()* function to change *Python* to *Ruby* in your sentence."
      ]
    },
    {
      "cell_type": "code",
      "execution_count": null,
      "metadata": {
        "id": "C685YLs9YSJc"
      },
      "outputs": [],
      "source": [
        "# Ex 3.22 : Listing a Sentence\n",
        "\n",
        "# put your code here"
      ]
    },
    {
      "cell_type": "code",
      "execution_count": null,
      "metadata": {
        "id": "jrrT5xNZYSJc"
      },
      "outputs": [],
      "source": [
        "# Ex 3.23 : Sentence List\n",
        "\n",
        "# put your code here"
      ]
    },
    {
      "cell_type": "code",
      "execution_count": null,
      "metadata": {
        "id": "L3YSMXH2YSJc"
      },
      "outputs": [],
      "source": [
        "# Ex 3.24 : Sentence Slices\n",
        "\n",
        "# put your code here"
      ]
    },
    {
      "cell_type": "code",
      "execution_count": null,
      "metadata": {
        "id": "GcVs9v3QYSJc"
      },
      "outputs": [],
      "source": [
        "# Ex 3.25 : Finding Python\n",
        "\n",
        "# put your code here"
      ]
    },
    {
      "cell_type": "markdown",
      "metadata": {
        "id": "dyRf1mqQYSJc"
      },
      "source": [
        "<a name='challenges_strings_as_lists'></a>Challenges\n",
        "---\n",
        "#### Counting DNA Nucleotides\n",
        "- [Project Rosalind](http://rosalind.info/problems/locations/) is a [problem set](http://rosalind.info/problems/list-view/) based on biotechnology concepts. It is meant to show how programming skills can help solve problems in genetics and biology.\n",
        "- If you have understood this section on strings, you have enough information to solve the first problem in Project Rosalind, [Counting DNA Nucleotides](http://rosalind.info/problems/dna/). Give the sample problem a try.\n",
        "- If you get the sample problem correct, log in and try the full version of the problem!\n",
        "\n",
        "#### Transcribing DNA into RNA\n",
        "- You also have enough information to try the second problem, [Transcribing DNA into RNA](http://rosalind.info/problems/rna/). Solve the sample problem.\n",
        "- If you solved the sample problem, log in and try the full version!\n",
        "\n",
        "#### Complementing a Strand of DNA\n",
        "- You guessed it, you can now try the third problem as well: [Complementing a Strand of DNA](http://rosalind.info/problems/revc/). Try the sample problem, and then try the full version if you are successful."
      ]
    },
    {
      "cell_type": "code",
      "execution_count": null,
      "metadata": {
        "id": "lIiuKCuGYSJc"
      },
      "outputs": [],
      "source": [
        "# Challenge: Counting DNA Nucleotides\n",
        "\n",
        "# Put your code here"
      ]
    },
    {
      "cell_type": "code",
      "execution_count": null,
      "metadata": {
        "id": "42c4f1q6YSJc"
      },
      "outputs": [],
      "source": [
        "# Challenge: Transcribing DNA into RNA\n",
        "\n",
        "# Put your code here"
      ]
    },
    {
      "cell_type": "code",
      "execution_count": null,
      "metadata": {
        "id": "RtrvJak3YSJc"
      },
      "outputs": [],
      "source": [
        "# Challenge: Complementing a Strand of DNA\n",
        "\n",
        "# Put your code here"
      ]
    },
    {
      "cell_type": "code",
      "execution_count": null,
      "metadata": {
        "id": "JvqztgE8YSJd"
      },
      "outputs": [],
      "source": []
    },
    {
      "cell_type": "markdown",
      "metadata": {
        "id": "vYw_Zo8JYSJd"
      },
      "source": [
        "[top](#top)"
      ]
    },
    {
      "cell_type": "markdown",
      "metadata": {
        "id": "zhh2o5YaYSJd"
      },
      "source": [
        "<a name='tuples'></a>Tuples\n",
        "===\n",
        "Tuples are basically lists that can never be changed. Lists are quite dynamic; they can grow as you append and insert items, and they can shrink as you remove items. You can modify any element you want to in a list. Sometimes we like this behavior, but other times we may want to ensure that no user or no part of a program can change a list. That's what tuples are for.\n",
        "\n",
        "Technically, lists are *mutable* objects and tuples are *immutable* objects. Mutable objects can change (think of *mutations*), and immutable objects can not change."
      ]
    },
    {
      "cell_type": "markdown",
      "metadata": {
        "id": "w8VMDYGbYSJd"
      },
      "source": [
        "<a name='defining_tuples'></a>Defining tuples, and accessing elements\n",
        "---\n",
        "\n",
        "You define a tuple just like you define a list, except you use parentheses instead of square brackets. Once you have a tuple, you can access individual elements just like you can with a list, and you can loop through the tuple with a *for* loop:"
      ]
    },
    {
      "cell_type": "code",
      "execution_count": null,
      "metadata": {
        "id": "h02qMhHsYSJd",
        "outputId": "880cc7d1-a74c-4a36-b119-76a451941fb6"
      },
      "outputs": [
        {
          "name": "stdout",
          "output_type": "stream",
          "text": [
            "The first color is: red\n",
            "\n",
            "The available colors are:\n",
            "- red\n",
            "- green\n",
            "- blue\n"
          ]
        }
      ],
      "source": [
        "colors = ('red', 'green', 'blue')\n",
        "print(\"The first color is: \" + colors[0])\n",
        "\n",
        "print(\"\\nThe available colors are:\")\n",
        "for color in colors:\n",
        "    print(\"- \" + color)"
      ]
    },
    {
      "cell_type": "code",
      "execution_count": null,
      "metadata": {
        "id": "YnrFl-F8YSJd",
        "outputId": "d3479908-329b-405c-83b3-68819473a945"
      },
      "outputs": [
        {
          "name": "stdout",
          "output_type": "stream",
          "text": [
            "('RCB', 'CSK', 'KKR', 'MI', 'MI', 'MI')\n"
          ]
        },
        {
          "data": {
            "text/plain": [
              "tuple"
            ]
          },
          "execution_count": 11,
          "metadata": {},
          "output_type": "execute_result"
        }
      ],
      "source": [
        "ipl_teams = ('RCB','CSK','KKR','MI','MI','MI')\n",
        "print(ipl_teams)\n",
        "type(ipl_teams)"
      ]
    },
    {
      "cell_type": "code",
      "execution_count": null,
      "metadata": {
        "id": "LXDD-56MYSJd",
        "outputId": "1dad204d-2e50-47cf-98f8-ed3f3a5d905d"
      },
      "outputs": [
        {
          "data": {
            "text/plain": [
              "6"
            ]
          },
          "execution_count": 12,
          "metadata": {},
          "output_type": "execute_result"
        }
      ],
      "source": [
        "len(ipl_teams)"
      ]
    },
    {
      "cell_type": "code",
      "execution_count": null,
      "metadata": {
        "id": "-UPYpn0eYSJd",
        "outputId": "1dfefa51-7df1-41d9-de90-faac23af7f78"
      },
      "outputs": [
        {
          "data": {
            "text/plain": [
              "tuple"
            ]
          },
          "execution_count": 17,
          "metadata": {},
          "output_type": "execute_result"
        }
      ],
      "source": [
        "c =('Akash',)\n",
        "type(c)"
      ]
    },
    {
      "cell_type": "code",
      "execution_count": null,
      "metadata": {
        "id": "sBY0qyrEYSJd"
      },
      "outputs": [],
      "source": [
        "9.8"
      ]
    },
    {
      "cell_type": "code",
      "execution_count": null,
      "metadata": {
        "id": "EtQ4wec8YSJd",
        "outputId": "6fbc70cb-094a-4a55-c710-d6a5c5373b3f"
      },
      "outputs": [
        {
          "name": "stdout",
          "output_type": "stream",
          "text": [
            "('akasjh', 9.8, True, 908)\n"
          ]
        },
        {
          "data": {
            "text/plain": [
              "tuple"
            ]
          },
          "execution_count": 19,
          "metadata": {},
          "output_type": "execute_result"
        }
      ],
      "source": [
        "d = (\"akasjh\",9.8 , True, 908)\n",
        "print(d)\n",
        "type(d)"
      ]
    },
    {
      "cell_type": "code",
      "execution_count": null,
      "metadata": {
        "id": "MSNSM1OYYSJd"
      },
      "outputs": [],
      "source": []
    },
    {
      "cell_type": "code",
      "execution_count": null,
      "metadata": {
        "id": "h5X6dQDQYSJd",
        "outputId": "816ec289-43d7-4d5e-a989-6e835dce3142"
      },
      "outputs": [
        {
          "name": "stdout",
          "output_type": "stream",
          "text": [
            "apple\n",
            "oranges\n",
            "Kiwi\n",
            "Pineapple\n",
            "mangoes\n",
            "banana\n",
            "grapes\n",
            "dragonfruits\n"
          ]
        }
      ],
      "source": [
        "fruits = ('apple','oranges','Kiwi','Pineapple','mangoes', 'banana','grapes','dragonfruits')\n",
        "\n",
        "for i in fruits:\n",
        "    print(i)\n"
      ]
    },
    {
      "cell_type": "code",
      "execution_count": null,
      "metadata": {
        "id": "cnod_YpQYSJd",
        "outputId": "e47f138b-c973-4f38-d128-316dce54ddc2"
      },
      "outputs": [
        {
          "ename": "TypeError",
          "evalue": "'tuple' object does not support item assignment",
          "output_type": "error",
          "traceback": [
            "\u001b[0;31m---------------------------------------------------------------------------\u001b[0m",
            "\u001b[0;31mTypeError\u001b[0m                                 Traceback (most recent call last)",
            "Cell \u001b[0;32mIn[34], line 1\u001b[0m\n\u001b[0;32m----> 1\u001b[0m fruits[\u001b[38;5;241m1\u001b[39m] \u001b[38;5;241m=\u001b[39m \u001b[38;5;124m\"\u001b[39m\u001b[38;5;124mNew Value\u001b[39m\u001b[38;5;124m\"\u001b[39m\n",
            "\u001b[0;31mTypeError\u001b[0m: 'tuple' object does not support item assignment"
          ]
        }
      ],
      "source": [
        "fruits[1] = \"New Value\""
      ]
    },
    {
      "cell_type": "code",
      "execution_count": null,
      "metadata": {
        "id": "AJ0ztI1pYSJd",
        "outputId": "ae48acaa-8fdf-4adf-aba1-97e2d2b7cd7f"
      },
      "outputs": [
        {
          "data": {
            "text/plain": [
              "('oranges', 'Kiwi', 'Pineapple', 'mangoes', 'banana', 'grapes')"
            ]
          },
          "execution_count": 31,
          "metadata": {},
          "output_type": "execute_result"
        }
      ],
      "source": [
        "fruits[1:7]"
      ]
    },
    {
      "cell_type": "code",
      "execution_count": null,
      "metadata": {
        "id": "WTKEZl0vYSJd",
        "outputId": "640a6062-8ec6-48df-ac63-fd355e61385c"
      },
      "outputs": [
        {
          "data": {
            "text/plain": [
              "('mangoes', 'banana', 'grapes')"
            ]
          },
          "execution_count": 33,
          "metadata": {},
          "output_type": "execute_result"
        }
      ],
      "source": [
        "fruits[-4:-1]"
      ]
    },
    {
      "cell_type": "code",
      "execution_count": null,
      "metadata": {
        "id": "FuBnB6JDYSJd",
        "outputId": "7e9c31a4-9626-456a-a703-556b62019ad1"
      },
      "outputs": [
        {
          "name": "stdout",
          "output_type": "stream",
          "text": [
            "oranges\n",
            "Pineapple\n",
            "mangoes\n"
          ]
        }
      ],
      "source": [
        "for i in range(len(fruits)):\n",
        "    if i ==1 or i==3 or i ==4:\n",
        "        print(fruits[i])"
      ]
    },
    {
      "cell_type": "code",
      "execution_count": null,
      "metadata": {
        "id": "eUk2Vpz0YSJd",
        "outputId": "b8deec61-a95a-4c84-d708-7894b1c4101c"
      },
      "outputs": [
        {
          "name": "stdout",
          "output_type": "stream",
          "text": [
            "apple\n",
            "oranges\n",
            "Kiwi\n",
            "Pineapple\n",
            "mangoes\n"
          ]
        }
      ],
      "source": [
        "for i in fruits:\n",
        "    print(i)"
      ]
    },
    {
      "cell_type": "code",
      "execution_count": null,
      "metadata": {
        "id": "OXtpqjuvYSJe",
        "outputId": "f0148cee-28f1-4df1-e8f5-f92fb2884df0"
      },
      "outputs": [
        {
          "data": {
            "text/plain": [
              "0"
            ]
          },
          "execution_count": 25,
          "metadata": {},
          "output_type": "execute_result"
        }
      ],
      "source": [
        "fruits.index(\"apple\")"
      ]
    },
    {
      "cell_type": "code",
      "execution_count": null,
      "metadata": {
        "id": "qbDRBX43YSJe",
        "outputId": "c805a636-3d88-4a38-cb17-411bd6d2d73f"
      },
      "outputs": [
        {
          "data": {
            "text/plain": [
              "['apple',\n",
              " 'oranges',\n",
              " 'Kiwi',\n",
              " 'Pineapple',\n",
              " 'mangoes',\n",
              " 'banana',\n",
              " 'grapes',\n",
              " 'dragonfruits']"
            ]
          },
          "execution_count": 41,
          "metadata": {},
          "output_type": "execute_result"
        }
      ],
      "source": [
        "c = list(fruits)\n",
        "c"
      ]
    },
    {
      "cell_type": "code",
      "execution_count": null,
      "metadata": {
        "id": "xQw3yOgcYSJe"
      },
      "outputs": [],
      "source": [
        "c.append(\"New value\")"
      ]
    },
    {
      "cell_type": "code",
      "execution_count": null,
      "metadata": {
        "id": "UXoWJOe3YSJe",
        "outputId": "b93deaea-319b-48f3-9374-31f182609856"
      },
      "outputs": [
        {
          "data": {
            "text/plain": [
              "('apple',\n",
              " 'oranges',\n",
              " 'Kiwi',\n",
              " 'Pineapple',\n",
              " 'mangoes',\n",
              " 'banana',\n",
              " 'grapes',\n",
              " 'dragonfruits',\n",
              " 'New value')"
            ]
          },
          "execution_count": 44,
          "metadata": {},
          "output_type": "execute_result"
        }
      ],
      "source": [
        "tuple(c)"
      ]
    },
    {
      "cell_type": "code",
      "execution_count": null,
      "metadata": {
        "id": "wllKD7gNYSJe"
      },
      "outputs": [],
      "source": [
        "new_l = list(c)\n",
        "new_l.remove(\"New value\")"
      ]
    },
    {
      "cell_type": "code",
      "execution_count": null,
      "metadata": {
        "id": "R7-S7vKRYSJe",
        "outputId": "31ecc39d-4bf7-413a-a449-287dfa6af2e9"
      },
      "outputs": [
        {
          "data": {
            "text/plain": [
              "['apple',\n",
              " 'oranges',\n",
              " 'Kiwi',\n",
              " 'Pineapple',\n",
              " 'mangoes',\n",
              " 'banana',\n",
              " 'grapes',\n",
              " 'dragonfruits']"
            ]
          },
          "execution_count": 47,
          "metadata": {},
          "output_type": "execute_result"
        }
      ],
      "source": [
        "new_l"
      ]
    },
    {
      "cell_type": "code",
      "execution_count": null,
      "metadata": {
        "id": "e4IZfDTZYSJf",
        "outputId": "db974158-db45-44f9-a9df-105ae83fbe4a"
      },
      "outputs": [
        {
          "data": {
            "text/plain": [
              "('apple',\n",
              " 'oranges',\n",
              " 'Kiwi',\n",
              " 'Pineapple',\n",
              " 'mangoes',\n",
              " 'banana',\n",
              " 'grapes',\n",
              " 'dragonfruits')"
            ]
          },
          "execution_count": 50,
          "metadata": {},
          "output_type": "execute_result"
        }
      ],
      "source": [
        "fruits"
      ]
    },
    {
      "cell_type": "code",
      "execution_count": null,
      "metadata": {
        "id": "yensyE54YSJf"
      },
      "outputs": [],
      "source": [
        "a= 5\n",
        "b = 10\n",
        "\n",
        "safsdf =80"
      ]
    },
    {
      "cell_type": "code",
      "execution_count": null,
      "metadata": {
        "id": "KGq_gi51YSJf",
        "outputId": "0a06a631-61c3-4fee-bf6f-79d98ca62f51"
      },
      "outputs": [
        {
          "name": "stdout",
          "output_type": "stream",
          "text": [
            "apple\n",
            "oranges\n",
            "Kiwi\n",
            "['Pineapple', 'mangoes', 'banana', 'grapes', 'dragonfruits']\n"
          ]
        }
      ],
      "source": [
        "\n",
        "(a , b ,akash , *c)=fruits\n",
        "\n",
        "print(a)\n",
        "print(b)\n",
        "print(akash)\n",
        "print(c)"
      ]
    },
    {
      "cell_type": "code",
      "execution_count": null,
      "metadata": {
        "id": "ymmI1OsJYSJf",
        "outputId": "e112cfe6-62f3-4e4e-d201-e924487b734e"
      },
      "outputs": [
        {
          "name": "stdout",
          "output_type": "stream",
          "text": [
            "apple\n",
            "['oranges', 'Kiwi', 'Pineapple', 'mangoes', 'banana']\n",
            "grapes\n",
            "dragonfruits\n"
          ]
        }
      ],
      "source": [
        "\n",
        "(a , *b ,akash , c)=fruits\n",
        "\n",
        "print(a)\n",
        "print(b)\n",
        "print(akash)\n",
        "print(c)"
      ]
    },
    {
      "cell_type": "code",
      "execution_count": null,
      "metadata": {
        "id": "xKFkIpflYSJf",
        "outputId": "8fde57ce-da40-42bb-a91c-9ba693d070dc"
      },
      "outputs": [
        {
          "data": {
            "text/plain": [
              "('apple',\n",
              " 'oranges',\n",
              " 'Kiwi',\n",
              " 'Pineapple',\n",
              " 'mangoes',\n",
              " 'banana',\n",
              " 'grapes',\n",
              " 'dragonfruits',\n",
              " 'papaya',\n",
              " 'lemon',\n",
              " 'lemon',\n",
              " 'lemon')"
            ]
          },
          "execution_count": 60,
          "metadata": {},
          "output_type": "execute_result"
        }
      ],
      "source": [
        "fruits2=(\"papaya\",'lemon','lemon','lemon')\n",
        "\n",
        "fruits_final = fruits+fruits2\n",
        "\n",
        "fruits_final"
      ]
    },
    {
      "cell_type": "code",
      "execution_count": null,
      "metadata": {
        "id": "IA9MgYISYSJf",
        "outputId": "4f7ffea5-2965-4d73-bfb6-27b526d3aed9"
      },
      "outputs": [
        {
          "data": {
            "text/plain": [
              "3"
            ]
          },
          "execution_count": 61,
          "metadata": {},
          "output_type": "execute_result"
        }
      ],
      "source": [
        "fruits_final.count('lemon')"
      ]
    },
    {
      "cell_type": "code",
      "execution_count": null,
      "metadata": {
        "id": "EMyhRJxxYSJf"
      },
      "outputs": [],
      "source": []
    },
    {
      "cell_type": "code",
      "execution_count": null,
      "metadata": {
        "id": "zRoxocBzYSJf",
        "outputId": "1376feed-09ac-41a2-d287-615bc4a54573"
      },
      "outputs": [
        {
          "data": {
            "text/plain": [
              "('papaya', 'lemon', 'papaya', 'lemon')"
            ]
          },
          "execution_count": 58,
          "metadata": {},
          "output_type": "execute_result"
        }
      ],
      "source": [
        "fruits2*2"
      ]
    },
    {
      "cell_type": "code",
      "execution_count": null,
      "metadata": {
        "id": "Byv9vmPXYSJf"
      },
      "outputs": [],
      "source": []
    },
    {
      "cell_type": "markdown",
      "metadata": {
        "id": "2is6HUGMYSJf"
      },
      "source": [
        "If you try to add something to a tuple, you will get an error:"
      ]
    },
    {
      "cell_type": "code",
      "execution_count": null,
      "metadata": {
        "id": "XfYJr83QYSJf",
        "outputId": "ad5f2f01-4d58-4a57-b93f-fb3851261302"
      },
      "outputs": [
        {
          "ename": "AttributeError",
          "evalue": "'tuple' object has no attribute 'append'",
          "output_type": "error",
          "traceback": [
            "\u001b[0;31m---------------------------------------------------------------------------\u001b[0m\n\u001b[0;31mAttributeError\u001b[0m                            Traceback (most recent call last)",
            "\u001b[0;32m<ipython-input-37-ed1dbff53ab2>\u001b[0m in \u001b[0;36m<module>\u001b[0;34m()\u001b[0m\n\u001b[1;32m      1\u001b[0m \u001b[0mcolors\u001b[0m \u001b[0;34m=\u001b[0m \u001b[0;34m(\u001b[0m\u001b[0;34m'red'\u001b[0m\u001b[0;34m,\u001b[0m \u001b[0;34m'green'\u001b[0m\u001b[0;34m,\u001b[0m \u001b[0;34m'blue'\u001b[0m\u001b[0;34m)\u001b[0m\u001b[0;34m\u001b[0m\u001b[0m\n\u001b[0;32m----> 2\u001b[0;31m \u001b[0mcolors\u001b[0m\u001b[0;34m.\u001b[0m\u001b[0mappend\u001b[0m\u001b[0;34m(\u001b[0m\u001b[0;34m'purple'\u001b[0m\u001b[0;34m)\u001b[0m\u001b[0;34m\u001b[0m\u001b[0m\n\u001b[0m",
            "\u001b[0;31mAttributeError\u001b[0m: 'tuple' object has no attribute 'append'"
          ]
        }
      ],
      "source": [
        "colors = ('red', 'green', 'blue')\n",
        "colors.append('purple')"
      ]
    },
    {
      "cell_type": "markdown",
      "metadata": {
        "id": "LDxPKJIyYSJf"
      },
      "source": [
        "The same kind of thing happens when you try to remove something from a tuple, or modify one of its elements. Once you define a tuple, you can be confident that its values will not change."
      ]
    },
    {
      "cell_type": "markdown",
      "metadata": {
        "id": "X5Qr-lh5YSJf"
      },
      "source": [
        "<a name='tuples_strings'></a>Using tuples to make strings\n",
        "---\n",
        "We have seen that it is pretty useful to be able to mix raw English strings with values that are stored in variables, as in the following:"
      ]
    },
    {
      "cell_type": "code",
      "execution_count": null,
      "metadata": {
        "id": "gb8l3Zr_YSJf",
        "outputId": "7312cef5-b077-4c11-f042-1be5ecee807c"
      },
      "outputs": [
        {
          "name": "stdout",
          "output_type": "stream",
          "text": [
            "I have a dog.\n"
          ]
        }
      ],
      "source": [
        "animal = 'dog'\n",
        "print(\"I have a \" + animal + \".\")"
      ]
    },
    {
      "cell_type": "markdown",
      "metadata": {
        "id": "4LlBSQlHYSJg"
      },
      "source": [
        "This was especially useful when we had a series of similar statements to make:"
      ]
    },
    {
      "cell_type": "code",
      "execution_count": null,
      "metadata": {
        "id": "KXxmh9Y2YSJg",
        "outputId": "39cc69a4-ecd0-445c-f920-966d0e8059dc"
      },
      "outputs": [
        {
          "name": "stdout",
          "output_type": "stream",
          "text": [
            "I have a dog.\n",
            "I have a cat.\n",
            "I have a bear.\n"
          ]
        }
      ],
      "source": [
        "animals = ['dog', 'cat', 'bear']\n",
        "for animal in animals:\n",
        "    print(\"I have a \" + animal + \".\")"
      ]
    },
    {
      "cell_type": "markdown",
      "metadata": {
        "id": "qYlvik67YSJg"
      },
      "source": [
        "I like this approach of using the plus sign to build strings because it is fairly intuitive. We can see that we are adding several smaller strings together to make one longer string. This is intuitive, but it is a lot of typing. There is a shorter way to do this, using *placeholders*.\n",
        "\n",
        "Python ignores most of the characters we put inside of strings. There are a few characters that Python pays attention to, as we saw with strings such as \"\\t\" and \"\\n\". Python also pays attention to \"%s\" and \"%d\". These are placeholders. When Python sees the \"%s\" placeholder, it looks ahead and pulls in the first argument after the % sign:"
      ]
    },
    {
      "cell_type": "code",
      "execution_count": null,
      "metadata": {
        "id": "SIZrzGWrYSJg",
        "outputId": "34863c02-184f-4b58-a224-15cf13d7cb84"
      },
      "outputs": [
        {
          "name": "stdout",
          "output_type": "stream",
          "text": [
            "I have a dog.\n"
          ]
        }
      ],
      "source": [
        "animal = 'dog'\n",
        "print(\"I have a %s.\" % animal)"
      ]
    },
    {
      "cell_type": "markdown",
      "metadata": {
        "id": "lMhRK5jsYSJg"
      },
      "source": [
        "This is a much cleaner way of generating strings that include values. We compose our sentence all in one string, and then tell Python what values to pull into the string, in the appropriate places.\n",
        "\n",
        "This is called *string formatting*, and it looks the same when you use a list:"
      ]
    },
    {
      "cell_type": "code",
      "execution_count": null,
      "metadata": {
        "id": "RyJ_WJbxYSJg",
        "outputId": "8a699809-ca17-4b0e-ff92-7a4eb72aa33a"
      },
      "outputs": [
        {
          "name": "stdout",
          "output_type": "stream",
          "text": [
            "I have a dog.\n",
            "I have a cat.\n",
            "I have a bear.\n"
          ]
        }
      ],
      "source": [
        "animals = ['dog', 'cat', 'bear']\n",
        "for animal in animals:\n",
        "    print(\"I have a %s.\" % animal)"
      ]
    },
    {
      "cell_type": "markdown",
      "metadata": {
        "id": "HD5_RBUyYSJg"
      },
      "source": [
        "If you have more than one value to put into the string you are composing, you have to pack the values into a tuple:"
      ]
    },
    {
      "cell_type": "code",
      "execution_count": null,
      "metadata": {
        "id": "_WERt0gtYSJg",
        "outputId": "1ca5a86c-eef0-47a8-f5c0-5f2fb7a180b5"
      },
      "outputs": [
        {
          "name": "stdout",
          "output_type": "stream",
          "text": [
            "I have a dog, a cat, and a bear.\n"
          ]
        }
      ],
      "source": [
        "animals = ['dog', 'cat', 'bear']\n",
        "print(\"I have a %s, a %s, and a %s.\" % (animals[0], animals[1], animals[2]))"
      ]
    },
    {
      "cell_type": "markdown",
      "metadata": {
        "id": "xZJwIsdRYSJh"
      },
      "source": [
        "### String formatting with numbers\n",
        "\n",
        "If you recall, printing a number with a string can cause an error:"
      ]
    },
    {
      "cell_type": "code",
      "execution_count": null,
      "metadata": {
        "id": "S_kqavd7YSJh",
        "outputId": "3432858a-b333-45c3-ffcf-b349e96db244"
      },
      "outputs": [
        {
          "ename": "TypeError",
          "evalue": "cannot concatenate 'str' and 'int' objects",
          "output_type": "error",
          "traceback": [
            "\u001b[0;31m---------------------------------------------------------------------------\u001b[0m\n\u001b[0;31mTypeError\u001b[0m                                 Traceback (most recent call last)",
            "\u001b[0;32m<ipython-input-47-1ed2c5bb2bba>\u001b[0m in \u001b[0;36m<module>\u001b[0;34m()\u001b[0m\n\u001b[1;32m      1\u001b[0m \u001b[0mnumber\u001b[0m \u001b[0;34m=\u001b[0m \u001b[0;36m23\u001b[0m\u001b[0;34m\u001b[0m\u001b[0m\n\u001b[0;32m----> 2\u001b[0;31m \u001b[0;32mprint\u001b[0m\u001b[0;34m(\u001b[0m\u001b[0;34m\"My favorite number is \"\u001b[0m \u001b[0;34m+\u001b[0m \u001b[0mnumber\u001b[0m \u001b[0;34m+\u001b[0m \u001b[0;34m\".\"\u001b[0m\u001b[0;34m)\u001b[0m\u001b[0;34m\u001b[0m\u001b[0m\n\u001b[0m",
            "\u001b[0;31mTypeError\u001b[0m: cannot concatenate 'str' and 'int' objects"
          ]
        }
      ],
      "source": [
        "number = 23\n",
        "print(\"My favorite number is \" + number + \".\")"
      ]
    },
    {
      "cell_type": "markdown",
      "metadata": {
        "id": "_4EmyQqtYSJh"
      },
      "source": [
        "Python knows that you could be talking about the value 23, or the characters '23'. So it throws an error, forcing us to clarify that we want Python to treat the number as a string. We do this by *casting* the number into a string using the *str()* function:"
      ]
    },
    {
      "cell_type": "code",
      "execution_count": null,
      "metadata": {
        "id": "WymK_FROYSJh",
        "outputId": "73d03990-1222-498b-f81c-211cbbddc507"
      },
      "outputs": [
        {
          "name": "stdout",
          "output_type": "stream",
          "text": [
            "My favorite number is 23.\n"
          ]
        }
      ],
      "source": [
        "number = 23\n",
        "print(\"My favorite number is \" + str(number) + \".\")"
      ]
    },
    {
      "cell_type": "markdown",
      "metadata": {
        "id": "fgRHJacYYSJh"
      },
      "source": [
        "The format string \"%d\" takes care of this for us. Watch how clean this code is:"
      ]
    },
    {
      "cell_type": "code",
      "execution_count": null,
      "metadata": {
        "id": "r6myQC6xYSJh",
        "outputId": "20b6738e-bf76-4551-b82a-5dd71111a3ce"
      },
      "outputs": [
        {
          "name": "stdout",
          "output_type": "stream",
          "text": [
            "My favorite number is 23.\n"
          ]
        }
      ],
      "source": [
        "number = 23\n",
        "print(\"My favorite number is %d.\" % number)"
      ]
    },
    {
      "cell_type": "markdown",
      "metadata": {
        "id": "Biju45I1YSJh"
      },
      "source": [
        "If you want to use a series of numbers, you pack them into a tuple just like we saw with strings:"
      ]
    },
    {
      "cell_type": "code",
      "execution_count": null,
      "metadata": {
        "id": "-doQ-Cy5YSJh",
        "outputId": "d774cf17-4944-4de9-c99c-aad4342af8bf"
      },
      "outputs": [
        {
          "name": "stdout",
          "output_type": "stream",
          "text": [
            "My favorite numbers are 7, 23, and 42.\n"
          ]
        }
      ],
      "source": [
        "numbers = [7, 23, 42]\n",
        "print(\"My favorite numbers are %d, %d, and %d.\" % (numbers[0], numbers[1], numbers[2]))"
      ]
    },
    {
      "cell_type": "markdown",
      "metadata": {
        "id": "Oh0Xl9xsYSJh"
      },
      "source": [
        "Just for clarification, look at how much longer the code is if you use concatenation instead of string formatting:"
      ]
    },
    {
      "cell_type": "code",
      "execution_count": null,
      "metadata": {
        "id": "ibwYZZBMYSJh",
        "outputId": "ab68a2a3-b30a-4626-874a-f2fa134edb2b"
      },
      "outputs": [
        {
          "name": "stdout",
          "output_type": "stream",
          "text": [
            "My favorite numbers are 7, 23, and 42.\n"
          ]
        }
      ],
      "source": [
        "numbers = [7, 23, 42]\n",
        "print(\"My favorite numbers are \" + str(numbers[0]) + \", \" + str(numbers[1]) + \", and \" + str(numbers[2]) + \".\")"
      ]
    },
    {
      "cell_type": "markdown",
      "metadata": {
        "id": "arbKHOJbYSJh"
      },
      "source": [
        "You can mix string and numerical placeholders in any order you want."
      ]
    },
    {
      "cell_type": "code",
      "execution_count": null,
      "metadata": {
        "id": "gPQr-pbcYSJh",
        "outputId": "16b067cf-f393-413f-c5d0-c1f73e0d4da2"
      },
      "outputs": [
        {
          "name": "stdout",
          "output_type": "stream",
          "text": [
            "Eric's favorite number is 23, and Ever's favorite number is 2.\n"
          ]
        }
      ],
      "source": [
        "names = ['eric', 'ever']\n",
        "numbers = [23, 2]\n",
        "print(\"%s's favorite number is %d, and %s's favorite number is %d.\" % (names[0].title(), numbers[0], names[1].title(), numbers[1]))"
      ]
    },
    {
      "cell_type": "markdown",
      "metadata": {
        "id": "09Jl3hHPYSJi"
      },
      "source": [
        "There are more sophisticated ways to do string formatting in Python 3, but we will save that for later because it's a bit less intuitive than this approach. For now, you can use whichever approach consistently gets you the output that you want to see."
      ]
    },
    {
      "cell_type": "markdown",
      "metadata": {
        "id": "uJpMbzIGYSJi"
      },
      "source": [
        "<a name='tuples_exercises'></a>Exercises\n",
        "---\n",
        "\n",
        "#### Gymnast Scores\n",
        "- A gymnast can earn a score between 1 and 10 from each judge; nothing lower, nothing higher. All scores are integer values; there are no decimal scores from a single judge.\n",
        "- Store the possible scores a gymnast can earn from one judge in a tuple.\n",
        "- Print out the sentence, \"The lowest possible score is \\_\\_\\_, and the highest possible score is \\_\\_\\_.\" Use the values from your tuple.\n",
        "- Print out a series of sentences, \"A judge can give a gymnast ___ points.\"\n",
        "    - Don't worry if your first sentence reads \"A judge can give a gymnast 1 points.\"\n",
        "    - However, you get 1000 bonus internet points if you can use a for loop, and have correct grammar. [hint](#hints_gymnast_scores)\n",
        "\n",
        "#### Revision with Tuples\n",
        "- Choose a program you have already written that uses string concatenation.\n",
        "- Save the program with the same filename, but add *\\_tuple.py* to the end. For example, *gymnast\\_scores.py* becomes *gymnast\\_scores_tuple.py*.\n",
        "- Rewrite your string sections using *%s* and *%d* instead of concatenation.\n",
        "- Repeat this with two other programs you have already written."
      ]
    },
    {
      "cell_type": "code",
      "execution_count": null,
      "metadata": {
        "id": "sp_srvh9YSJi",
        "outputId": "822c6398-f2d2-4e59-f1dc-455d053d149c"
      },
      "outputs": [
        {
          "data": {
            "text/plain": [
              "(1, 2, 3, 4, 5, 6, 7, 8, 9, 10)"
            ]
          },
          "execution_count": 66,
          "metadata": {},
          "output_type": "execute_result"
        }
      ],
      "source": [
        "possible_scores = tuple(range(1,11))\n",
        "possible_scores"
      ]
    },
    {
      "cell_type": "code",
      "execution_count": null,
      "metadata": {
        "id": "tDer1Jv5YSJi",
        "outputId": "10c5d9ca-8426-492f-c197-b588b5dcf079"
      },
      "outputs": [
        {
          "name": "stdout",
          "output_type": "stream",
          "text": [
            "The lowest possible score is  1\n"
          ]
        },
        {
          "data": {
            "text/plain": [
              "10"
            ]
          },
          "execution_count": 70,
          "metadata": {},
          "output_type": "execute_result"
        }
      ],
      "source": [
        "print (\"The lowest possible score is \" , possible_scores[0])\n",
        "\n",
        "print(\"the highest possible score is\", possible_scores[len(possible_scores)-1])"
      ]
    },
    {
      "cell_type": "code",
      "execution_count": null,
      "metadata": {
        "id": "vaN4EhJvYSJi",
        "outputId": "e73af05d-1c68-4888-e321-5a2cc18d459c"
      },
      "outputs": [
        {
          "name": "stdout",
          "output_type": "stream",
          "text": [
            "A judge can give a gymnast 1 points.\n",
            "A judge can give a gymnast 2 points.\n",
            "A judge can give a gymnast 3 points.\n",
            "A judge can give a gymnast 4 points.\n",
            "A judge can give a gymnast 5 points.\n"
          ]
        }
      ],
      "source": [
        "#output = A judge can give a gymnast 1 points.\n",
        "# A judge can give a gymnast 2 points.\n",
        "# A judge can give a gymnast 3 points.\n",
        "# A judge can give a gymnast 4 points.A\n",
        "# judge can give a gymnast 1 5 points.\n",
        "# A judge can give a gymnast 6 points.\n",
        "# A judge can give a gymnast 7 points.\n",
        "\n",
        "for i in possible_scores:\n",
        "    if i <=5:\n",
        "        print(f\"A judge can give a gymnast {i} points.\")"
      ]
    },
    {
      "cell_type": "code",
      "execution_count": null,
      "metadata": {
        "id": "qFHhb8UDYSJi",
        "outputId": "fdba4f92-62b6-4dee-c6e3-ed34ecdfd6a0"
      },
      "outputs": [
        {
          "name": "stdout",
          "output_type": "stream",
          "text": [
            "A judge can give a gymnast {i} points.\n"
          ]
        }
      ],
      "source": [
        "print(f\"A judge can give a gymnast {i} points.\")"
      ]
    },
    {
      "cell_type": "code",
      "execution_count": null,
      "metadata": {
        "id": "YWrwHdLwYSJj"
      },
      "outputs": [],
      "source": []
    },
    {
      "cell_type": "code",
      "execution_count": null,
      "metadata": {
        "id": "RzbfzyvBYSJj"
      },
      "outputs": [],
      "source": []
    },
    {
      "cell_type": "code",
      "execution_count": null,
      "metadata": {
        "id": "ErnH5elzYSJj"
      },
      "outputs": [],
      "source": [
        "# Ex 3.26 : Gymnast Scores\n",
        "\n",
        "# put your code here"
      ]
    },
    {
      "cell_type": "code",
      "execution_count": null,
      "metadata": {
        "id": "H6GTFe0JYSJj"
      },
      "outputs": [],
      "source": [
        "# Ex 3.27 : Revision with Tuples\n",
        "\n",
        "# put your code here"
      ]
    },
    {
      "cell_type": "code",
      "execution_count": null,
      "metadata": {
        "id": "TaP7I8faYSJj"
      },
      "outputs": [],
      "source": []
    },
    {
      "cell_type": "markdown",
      "metadata": {
        "id": "jsZW34ZcYSJj"
      },
      "source": [
        "[top](#top)"
      ]
    },
    {
      "cell_type": "markdown",
      "metadata": {
        "id": "xsxkxPfyYSJj"
      },
      "source": [
        "# Dictionary"
      ]
    },
    {
      "cell_type": "markdown",
      "metadata": {
        "id": "m58wetCWYSJj"
      },
      "source": [
        "<a name='sets'></a>Sets\n",
        "===\n",
        "\n",
        "A set object is an unordered collection of distinct hashable objects. Common uses include membership testing, removing duplicates from a sequence, and computing mathematical operations such as intersection, union, difference, and symmetric difference."
      ]
    },
    {
      "cell_type": "code",
      "execution_count": null,
      "metadata": {
        "id": "mX6VTkP6YSJj",
        "outputId": "d1f0322b-4a90-47d6-f3e8-6fe10d20b2f9"
      },
      "outputs": [
        {
          "data": {
            "text/plain": [
              "set"
            ]
          },
          "execution_count": 82,
          "metadata": {},
          "output_type": "execute_result"
        }
      ],
      "source": [
        "set1 = {'apple','oranges','mangoes'}\n",
        "type(set1)"
      ]
    },
    {
      "cell_type": "code",
      "execution_count": null,
      "metadata": {
        "id": "7n6xaUgTYSJj",
        "outputId": "ef3bb072-7dce-4a34-efd1-b9df2612d3e0"
      },
      "outputs": [
        {
          "data": {
            "text/plain": [
              "{'circle', 'square', 'triangle'}"
            ]
          },
          "execution_count": 113,
          "metadata": {},
          "output_type": "execute_result"
        }
      ],
      "source": [
        "shapes = ['circle','square','triangle','circle']\n",
        "set_of_shapes = set(shapes)\n",
        "set_of_shapes"
      ]
    },
    {
      "cell_type": "code",
      "execution_count": null,
      "metadata": {
        "id": "4VVZcfajYSJj",
        "outputId": "b0426bcd-ca3d-462b-c078-3f439118e421"
      },
      "outputs": [
        {
          "data": {
            "text/plain": [
              "{2, True, 'apple', 'banana'}"
            ]
          },
          "execution_count": 84,
          "metadata": {},
          "output_type": "execute_result"
        }
      ],
      "source": [
        "set2 = {\"apple\",\"banana\",True,1,2}\n",
        "set2"
      ]
    },
    {
      "cell_type": "code",
      "execution_count": null,
      "metadata": {
        "id": "L2i8BKCQYSJj",
        "outputId": "4475786e-9c85-46a3-e14e-2c479ff5d6e6"
      },
      "outputs": [
        {
          "data": {
            "text/plain": [
              "{0, 1, 2, 'apple', 'banana'}"
            ]
          },
          "execution_count": 86,
          "metadata": {},
          "output_type": "execute_result"
        }
      ],
      "source": [
        "set2 = {\"apple\",\"banana\",1,True,0,False,2}\n",
        "set2"
      ]
    },
    {
      "cell_type": "code",
      "execution_count": null,
      "metadata": {
        "id": "Rd8tcMCmYSJk",
        "outputId": "cc3e9111-4e13-424f-c45c-f92e71f12756"
      },
      "outputs": [
        {
          "name": "stdout",
          "output_type": "stream",
          "text": [
            "{1, 2, 3, 4, 5}\n"
          ]
        }
      ],
      "source": [
        "set3 = {1,2,3,4,5}\n",
        "print(set3)"
      ]
    },
    {
      "cell_type": "code",
      "execution_count": null,
      "metadata": {
        "id": "STfxhK4CYSJk",
        "outputId": "9a7875c7-b5a1-4c93-b54e-9f614151fd6c"
      },
      "outputs": [
        {
          "data": {
            "text/plain": [
              "{False, True}"
            ]
          },
          "execution_count": 89,
          "metadata": {},
          "output_type": "execute_result"
        }
      ],
      "source": [
        "set3 = {True , False, False}\n",
        "set3"
      ]
    },
    {
      "cell_type": "code",
      "execution_count": null,
      "metadata": {
        "id": "vTVmMWitYSJk",
        "outputId": "36c4a96a-3a36-46bf-92ac-4c45b679bc32"
      },
      "outputs": [
        {
          "data": {
            "text/plain": [
              "{'circle', 'square', 'triangle'}"
            ]
          },
          "execution_count": 90,
          "metadata": {},
          "output_type": "execute_result"
        }
      ],
      "source": [
        "set_of_shapes"
      ]
    },
    {
      "cell_type": "code",
      "execution_count": null,
      "metadata": {
        "id": "62SHmxv3YSJk",
        "outputId": "4ac7d7b0-126b-4375-f800-7334a77fd40b"
      },
      "outputs": [
        {
          "name": "stdout",
          "output_type": "stream",
          "text": [
            "square\n",
            "circle\n",
            "triangle\n"
          ]
        }
      ],
      "source": [
        "for i in set_of_shapes:\n",
        "    print(i)"
      ]
    },
    {
      "cell_type": "code",
      "execution_count": null,
      "metadata": {
        "collapsed": true,
        "id": "k-gFpcFZYSJk",
        "outputId": "5088aaab-44cb-40ea-d086-a628bc265008"
      },
      "outputs": [
        {
          "data": {
            "text/plain": [
              "{1, 2, 3, 4, 5, 6, 7, 8, 9}"
            ]
          },
          "execution_count": 92,
          "metadata": {},
          "output_type": "execute_result"
        }
      ],
      "source": [
        "list1 = [1,2,3,4,5,6,6,6,7,8,9,9,9]\n",
        "set(list1)"
      ]
    },
    {
      "cell_type": "code",
      "execution_count": null,
      "metadata": {
        "collapsed": true,
        "id": "z14boKG6YSJk",
        "outputId": "4d7284a3-1609-46ab-946a-95a5108dd559"
      },
      "outputs": [
        {
          "name": "stdout",
          "output_type": "stream",
          "text": [
            "True\n"
          ]
        }
      ],
      "source": [
        "print(\"rectangle\" not in set_of_shapes)"
      ]
    },
    {
      "cell_type": "code",
      "execution_count": null,
      "metadata": {
        "id": "O_G0aJCLYSJk"
      },
      "outputs": [],
      "source": [
        "set_of_shapes.add(\"rectangle\")"
      ]
    },
    {
      "cell_type": "code",
      "execution_count": null,
      "metadata": {
        "id": "w0t4Q4sqYSJk",
        "outputId": "e988d66f-8861-445d-f6db-8dd57d3d89e6"
      },
      "outputs": [
        {
          "data": {
            "text/plain": [
              "{'circle', 'rectangle', 'square', 'triangle'}"
            ]
          },
          "execution_count": 95,
          "metadata": {},
          "output_type": "execute_result"
        }
      ],
      "source": [
        "set_of_shapes"
      ]
    },
    {
      "cell_type": "code",
      "execution_count": null,
      "metadata": {
        "id": "z8AUuYNTYSJk"
      },
      "outputs": [],
      "source": [
        "subjects = {\"Algebra\",\"Geometry\"}"
      ]
    },
    {
      "cell_type": "code",
      "execution_count": null,
      "metadata": {
        "id": "2GA7nsSfYSJk"
      },
      "outputs": [],
      "source": [
        "set_of_shapes.update(subjects)"
      ]
    },
    {
      "cell_type": "code",
      "execution_count": null,
      "metadata": {
        "id": "UQKPWj6dYSJk",
        "outputId": "8d374da3-b00a-4023-a36a-310257912d92"
      },
      "outputs": [
        {
          "data": {
            "text/plain": [
              "{'circle', 'rectangle', 'square', 'triangle'}"
            ]
          },
          "execution_count": 116,
          "metadata": {},
          "output_type": "execute_result"
        }
      ],
      "source": [
        "set_of_shapes\n"
      ]
    },
    {
      "cell_type": "code",
      "execution_count": null,
      "metadata": {
        "id": "cPhaxrbGYSJk"
      },
      "outputs": [],
      "source": [
        "list2=['Literature', 'Arts', \"Economics\"]"
      ]
    },
    {
      "cell_type": "code",
      "execution_count": null,
      "metadata": {
        "id": "6_ABTehUYSJl",
        "outputId": "4d8f8599-4be0-4f0d-f662-248d36685c75"
      },
      "outputs": [
        {
          "data": {
            "text/plain": [
              "{'Arts',\n",
              " 'Economics',\n",
              " 'Literature',\n",
              " 'circle',\n",
              " 'rectangle',\n",
              " 'square',\n",
              " 'triangle'}"
            ]
          },
          "execution_count": 118,
          "metadata": {},
          "output_type": "execute_result"
        }
      ],
      "source": [
        "set_of_shapes.update(list2)\n",
        "set_of_shapes"
      ]
    },
    {
      "cell_type": "code",
      "execution_count": null,
      "metadata": {
        "id": "Lt_4X9jeYSJl",
        "outputId": "9336cd33-12e1-4bb7-9766-c9dd232867f8"
      },
      "outputs": [
        {
          "data": {
            "text/plain": [
              "{'Arts', 'Literature', 'circle', 'rectangle', 'square', 'triangle'}"
            ]
          },
          "execution_count": 119,
          "metadata": {},
          "output_type": "execute_result"
        }
      ],
      "source": [
        "set_of_shapes.remove('Economics')\n",
        "set_of_shapes"
      ]
    },
    {
      "cell_type": "code",
      "execution_count": null,
      "metadata": {
        "id": "UxQ6Cj6SYSJl",
        "outputId": "6e2c7164-c43b-4ad3-d071-f1f1ccf65689"
      },
      "outputs": [
        {
          "data": {
            "text/plain": [
              "{'Algebra',\n",
              " 'Arts',\n",
              " 'Geometry',\n",
              " 'Literature',\n",
              " 'rectangle',\n",
              " 'square',\n",
              " 'triangle'}"
            ]
          },
          "execution_count": 103,
          "metadata": {},
          "output_type": "execute_result"
        }
      ],
      "source": [
        "set_of_shapes.discard('circle')\n",
        "set_of_shapes"
      ]
    },
    {
      "cell_type": "code",
      "execution_count": null,
      "metadata": {
        "id": "seJUnPTLYSJl",
        "outputId": "4bc655aa-943e-474e-fa69-b99110a3c3de"
      },
      "outputs": [
        {
          "data": {
            "text/plain": [
              "{'Algebra',\n",
              " 'Arts',\n",
              " 'Geometry',\n",
              " 'Literature',\n",
              " 'rectangle',\n",
              " 'square',\n",
              " 'triangle'}"
            ]
          },
          "execution_count": 105,
          "metadata": {},
          "output_type": "execute_result"
        }
      ],
      "source": [
        "set_of_shapes.discard('Akash')\n",
        "set_of_shapes"
      ]
    },
    {
      "cell_type": "code",
      "execution_count": null,
      "metadata": {
        "id": "7eMyI_ZIYSJl",
        "outputId": "d549e549-750e-42b3-bfa9-6dc26f5c3457"
      },
      "outputs": [
        {
          "data": {
            "text/plain": [
              "{'Algebra', 'Arts', 'Geometry', 'Literature', 'rectangle', 'triangle'}"
            ]
          },
          "execution_count": 106,
          "metadata": {},
          "output_type": "execute_result"
        }
      ],
      "source": [
        "set_of_shapes.pop()\n",
        "set_of_shapes"
      ]
    },
    {
      "cell_type": "code",
      "execution_count": null,
      "metadata": {
        "id": "MXQhOF0xYSJl",
        "outputId": "9dd9e316-aae2-4582-bf5b-54ca4761a1e3"
      },
      "outputs": [
        {
          "data": {
            "text/plain": [
              "set()"
            ]
          },
          "execution_count": 107,
          "metadata": {},
          "output_type": "execute_result"
        }
      ],
      "source": [
        "set_of_shapes.clear()\n",
        "set_of_shapes"
      ]
    },
    {
      "cell_type": "code",
      "execution_count": null,
      "metadata": {
        "id": "zj7-ZQz1YSJl"
      },
      "outputs": [],
      "source": [
        "del set_of_shapes"
      ]
    },
    {
      "cell_type": "code",
      "execution_count": null,
      "metadata": {
        "scrolled": false,
        "id": "bqBzJMK1YSJl",
        "outputId": "e74633d4-d086-4ff9-c502-56b3014ed71c"
      },
      "outputs": [
        {
          "ename": "NameError",
          "evalue": "name 'set_of_shapes' is not defined",
          "output_type": "error",
          "traceback": [
            "\u001b[0;31m---------------------------------------------------------------------------\u001b[0m",
            "\u001b[0;31mNameError\u001b[0m                                 Traceback (most recent call last)",
            "Cell \u001b[0;32mIn[109], line 1\u001b[0m\n\u001b[0;32m----> 1\u001b[0m set_of_shapes\n",
            "\u001b[0;31mNameError\u001b[0m: name 'set_of_shapes' is not defined"
          ]
        }
      ],
      "source": [
        "set_of_shapes"
      ]
    },
    {
      "cell_type": "code",
      "execution_count": null,
      "metadata": {
        "id": "WXY-h4pMYSJm",
        "outputId": "85009293-3675-4939-e855-af02a6edb1fb"
      },
      "outputs": [
        {
          "name": "stdout",
          "output_type": "stream",
          "text": [
            "Literature\n",
            "square\n",
            "Arts\n",
            "rectangle\n",
            "triangle\n",
            "circle\n"
          ]
        }
      ],
      "source": [
        "for i in set_of_shapes:\n",
        "    print(i)"
      ]
    },
    {
      "cell_type": "code",
      "execution_count": null,
      "metadata": {
        "id": "2LA3YmeNYSJm",
        "outputId": "3da063ff-ffac-4d2a-e78f-e95ead8cc4c9"
      },
      "outputs": [
        {
          "data": {
            "text/plain": [
              "{1, 2, 3, 4, 5, 'Akash', 'Blue', 'a', 'b'}"
            ]
          },
          "execution_count": 121,
          "metadata": {},
          "output_type": "execute_result"
        }
      ],
      "source": [
        "## UNIOUN\n",
        "\n",
        "set1 = {\"a\",\"b\",'Akash',\"Blue\"}\n",
        "set2 = {1,2,3,4,5}\n",
        "\n",
        "set1.union(set2)"
      ]
    },
    {
      "cell_type": "code",
      "execution_count": null,
      "metadata": {
        "id": "2bxfymMFYSJm",
        "outputId": "298dc476-9576-4edd-98f3-9c936c45ddea"
      },
      "outputs": [
        {
          "data": {
            "text/plain": [
              "{1, 2, 3, 4, 5, 'Akash', 'Blue', 'a', 'b'}"
            ]
          },
          "execution_count": 122,
          "metadata": {},
          "output_type": "execute_result"
        }
      ],
      "source": [
        "set1 | set2"
      ]
    },
    {
      "cell_type": "code",
      "execution_count": null,
      "metadata": {
        "id": "UhfW2nBnYSJm",
        "outputId": "775f7f01-fadd-4b5e-e944-3606c0606eeb"
      },
      "outputs": [
        {
          "data": {
            "text/plain": [
              "{1, 2, 3, 4, 5, 'Akash', 'Blue', 'a', 'apple', 'b', 'banana', 'cherry'}"
            ]
          },
          "execution_count": 123,
          "metadata": {},
          "output_type": "execute_result"
        }
      ],
      "source": [
        "set3 = {\"apple\" , \"banana\",\"cherry\"}\n",
        "\n",
        "set1.union(set2,set3)"
      ]
    },
    {
      "cell_type": "code",
      "execution_count": null,
      "metadata": {
        "id": "s4Az4bf3YSJm"
      },
      "outputs": [],
      "source": [
        "set_final = set1 | set2 | set3"
      ]
    },
    {
      "cell_type": "code",
      "execution_count": null,
      "metadata": {
        "id": "LUeR-8G5YSJm",
        "outputId": "38f17677-b83d-4196-acfc-277d3edfbdca"
      },
      "outputs": [
        {
          "data": {
            "text/plain": [
              "{1, 2, 3, 4, 5, 'Akash', 'Blue', 'a', 'apple', 'b', 'banana', 'cherry'}"
            ]
          },
          "execution_count": 126,
          "metadata": {},
          "output_type": "execute_result"
        }
      ],
      "source": [
        "set_final"
      ]
    },
    {
      "cell_type": "code",
      "execution_count": null,
      "metadata": {
        "id": "Yhe-1ZwHYSJm"
      },
      "outputs": [],
      "source": [
        "list1 = [3,4,5,6,7,8,9]\n",
        "tup1 = (\"Aman\",\"rakesh\",\"john\")"
      ]
    },
    {
      "cell_type": "code",
      "execution_count": null,
      "metadata": {
        "collapsed": true,
        "id": "VSoCOip8YSJm",
        "outputId": "c2cd9f25-9868-41cf-cde6-8d614b1b3310"
      },
      "outputs": [
        {
          "data": {
            "text/plain": [
              "{1,\n",
              " 2,\n",
              " 3,\n",
              " 4,\n",
              " 5,\n",
              " 6,\n",
              " 7,\n",
              " 8,\n",
              " 9,\n",
              " 'Akash',\n",
              " 'Aman',\n",
              " 'Blue',\n",
              " 'a',\n",
              " 'apple',\n",
              " 'b',\n",
              " 'banana',\n",
              " 'cherry',\n",
              " 'john',\n",
              " 'rakesh'}"
            ]
          },
          "execution_count": 132,
          "metadata": {},
          "output_type": "execute_result"
        }
      ],
      "source": [
        "set_final.union(tup1 , list1)"
      ]
    },
    {
      "cell_type": "code",
      "execution_count": null,
      "metadata": {
        "id": "2WgGB3rOYSJm",
        "outputId": "167b257c-0425-4fc8-a76c-324e9f40890e"
      },
      "outputs": [
        {
          "data": {
            "text/plain": [
              "{1, 2, 3, 'Akash', 'Aman', 'John'}"
            ]
          },
          "execution_count": 133,
          "metadata": {},
          "output_type": "execute_result"
        }
      ],
      "source": [
        "set1 = {1,2,3}\n",
        "set2 ={\"Akash\",\"Aman\",\"John\"}\n",
        "\n",
        "set1.union(set2)"
      ]
    },
    {
      "cell_type": "code",
      "execution_count": null,
      "metadata": {
        "id": "hSC6u17-YSJm",
        "outputId": "212ed306-808e-48bd-c12b-0e38dcce6288"
      },
      "outputs": [
        {
          "data": {
            "text/plain": [
              "{1, 2, 3}"
            ]
          },
          "execution_count": 134,
          "metadata": {},
          "output_type": "execute_result"
        }
      ],
      "source": [
        "set1"
      ]
    },
    {
      "cell_type": "code",
      "execution_count": null,
      "metadata": {
        "id": "dejVcODGYSJm"
      },
      "outputs": [],
      "source": [
        "set1.update(set2)"
      ]
    },
    {
      "cell_type": "code",
      "execution_count": null,
      "metadata": {
        "id": "bFF6GxdkYSJm",
        "outputId": "85dff379-14bc-441f-b0c6-5c01ea79e3ef"
      },
      "outputs": [
        {
          "data": {
            "text/plain": [
              "{1, 2, 3, 'Akash', 'Aman', 'John'}"
            ]
          },
          "execution_count": 136,
          "metadata": {},
          "output_type": "execute_result"
        }
      ],
      "source": [
        "set1"
      ]
    },
    {
      "cell_type": "code",
      "execution_count": null,
      "metadata": {
        "id": "7CDOP_2nYSJm"
      },
      "outputs": [],
      "source": [
        "## INTERSECTION"
      ]
    },
    {
      "cell_type": "code",
      "execution_count": null,
      "metadata": {
        "id": "Et31vE57YSJm"
      },
      "outputs": [],
      "source": [
        "set1 = {1,2,3,\"akash\",\"Akash\",\"Aman\"}\n",
        "set2 ={\"Akash\",\"Aman\",\"John\"}\n",
        "\n"
      ]
    },
    {
      "cell_type": "code",
      "execution_count": null,
      "metadata": {
        "id": "6xZKtbfmYSJm",
        "outputId": "5b4bdd14-e385-4df1-dcf8-bdd427e38dd6"
      },
      "outputs": [
        {
          "name": "stdout",
          "output_type": "stream",
          "text": [
            "{'Akash', 'Aman'}\n"
          ]
        }
      ],
      "source": [
        "print(set1.intersection(set2))"
      ]
    },
    {
      "cell_type": "code",
      "execution_count": null,
      "metadata": {
        "id": "qbgK9bbXYSJn",
        "outputId": "2225c6b6-3b46-4f1a-834f-f6a23ebf3ef4"
      },
      "outputs": [
        {
          "data": {
            "text/plain": [
              "{1, 2, 3, 'Akash', 'Aman', 'akash'}"
            ]
          },
          "execution_count": 143,
          "metadata": {},
          "output_type": "execute_result"
        }
      ],
      "source": [
        "set1"
      ]
    },
    {
      "cell_type": "code",
      "execution_count": null,
      "metadata": {
        "id": "FgHOIe3SYSJn",
        "outputId": "6bd07905-19a7-4388-d181-dc8dfad9d1f6"
      },
      "outputs": [
        {
          "data": {
            "text/plain": [
              "{'Akash', 'Aman'}"
            ]
          },
          "execution_count": 139,
          "metadata": {},
          "output_type": "execute_result"
        }
      ],
      "source": [
        "set1 & set2"
      ]
    },
    {
      "cell_type": "code",
      "execution_count": null,
      "metadata": {
        "id": "92YPFOgWYSJn",
        "outputId": "8cbff80c-9ac8-400c-b20f-b0a693b3e90f"
      },
      "outputs": [
        {
          "data": {
            "text/plain": [
              "{'Akash', 'Aman'}"
            ]
          },
          "execution_count": 144,
          "metadata": {},
          "output_type": "execute_result"
        }
      ],
      "source": [
        "set1.intersection_update(set2)\n",
        "set1"
      ]
    },
    {
      "cell_type": "code",
      "execution_count": null,
      "metadata": {
        "id": "DbajDBw4YSJn"
      },
      "outputs": [],
      "source": [
        "## Difference"
      ]
    },
    {
      "cell_type": "code",
      "execution_count": null,
      "metadata": {
        "id": "P3zKa4A3YSJo"
      },
      "outputs": [],
      "source": [
        "set1 = {1,2,3,\"akash\",\"Akash\",\"Aman\"}\n",
        "set2 ={\"Akash\",\"Aman\",\"John\"}\n"
      ]
    },
    {
      "cell_type": "code",
      "execution_count": null,
      "metadata": {
        "id": "dYdOBobNYSJo",
        "outputId": "9012c52e-cb19-4b3e-de7b-aae55c68ed4a"
      },
      "outputs": [
        {
          "data": {
            "text/plain": [
              "{1, 2, 3, 'akash'}"
            ]
          },
          "execution_count": 150,
          "metadata": {},
          "output_type": "execute_result"
        }
      ],
      "source": [
        "set1.difference(set2)"
      ]
    },
    {
      "cell_type": "code",
      "execution_count": null,
      "metadata": {
        "id": "FGQrMAbdYSJo"
      },
      "outputs": [],
      "source": [
        "set1.difference_update(set2)"
      ]
    },
    {
      "cell_type": "code",
      "execution_count": null,
      "metadata": {
        "id": "YYip83Q9YSJo",
        "outputId": "5bfddaf9-c588-4243-8812-efeb4275bc87"
      },
      "outputs": [
        {
          "data": {
            "text/plain": [
              "{1, 2, 3, 'akash'}"
            ]
          },
          "execution_count": 149,
          "metadata": {},
          "output_type": "execute_result"
        }
      ],
      "source": [
        "set1"
      ]
    },
    {
      "cell_type": "code",
      "execution_count": null,
      "metadata": {
        "id": "IdbMCSaaYSJo",
        "outputId": "3e6558ca-1381-4dd9-932a-2df4c44ec38f"
      },
      "outputs": [
        {
          "data": {
            "text/plain": [
              "{1, 2, 3, 'akash'}"
            ]
          },
          "execution_count": 152,
          "metadata": {},
          "output_type": "execute_result"
        }
      ],
      "source": [
        "set1 - set2 #difference"
      ]
    },
    {
      "cell_type": "code",
      "execution_count": null,
      "metadata": {
        "id": "HPVnVMgYYSJo"
      },
      "outputs": [],
      "source": []
    },
    {
      "cell_type": "code",
      "execution_count": null,
      "metadata": {
        "id": "u1eStqC7YSJo"
      },
      "outputs": [],
      "source": []
    },
    {
      "cell_type": "code",
      "execution_count": null,
      "metadata": {
        "id": "6QyU2cClYSJo"
      },
      "outputs": [],
      "source": []
    },
    {
      "cell_type": "code",
      "execution_count": null,
      "metadata": {
        "id": "5Vwpk3J-YSJo"
      },
      "outputs": [],
      "source": []
    },
    {
      "cell_type": "code",
      "execution_count": null,
      "metadata": {
        "id": "SJ-yt1AvYSJp"
      },
      "outputs": [],
      "source": []
    },
    {
      "cell_type": "code",
      "execution_count": null,
      "metadata": {
        "id": "vR5Pb54jYSJp"
      },
      "outputs": [],
      "source": []
    },
    {
      "cell_type": "code",
      "execution_count": null,
      "metadata": {
        "id": "nGBEElaeYSJp"
      },
      "outputs": [],
      "source": []
    },
    {
      "cell_type": "code",
      "execution_count": null,
      "metadata": {
        "id": "fmD30M03YSJq",
        "outputId": "461464d4-031e-4bcd-ec83-e27dabf8a7f0"
      },
      "outputs": [
        {
          "name": "stdout",
          "output_type": "stream",
          "text": [
            "circle\n",
            "square\n",
            "polygon\n",
            "triangle\n"
          ]
        }
      ],
      "source": [
        "shapes = {'circle','square','triangle','circle'}\n",
        "for shape in set_of_shapes:\n",
        "    print(shape)"
      ]
    },
    {
      "cell_type": "code",
      "execution_count": null,
      "metadata": {
        "id": "S-V47wIMYSJq",
        "outputId": "515019b4-1d91-4403-d924-28a6674d9503"
      },
      "outputs": [
        {
          "name": "stdout",
          "output_type": "stream",
          "text": [
            "{'circle', 'square', 'polygon', 'triangle'}\n"
          ]
        }
      ],
      "source": [
        "set_of_shapes.add('polygon')\n",
        "print(set_of_shapes)"
      ]
    },
    {
      "cell_type": "markdown",
      "metadata": {
        "id": "xv0RR8pUYSJq"
      },
      "source": [
        "## Exists (Check)"
      ]
    },
    {
      "cell_type": "code",
      "execution_count": null,
      "metadata": {
        "id": "LzzwA9UWYSJq",
        "outputId": "a38c8be7-33e5-4948-9c89-2001fe49d023"
      },
      "outputs": [
        {
          "name": "stdout",
          "output_type": "stream",
          "text": [
            "Circle is in the set:  True\n",
            "Rhombus is in the set: False\n"
          ]
        }
      ],
      "source": [
        "# Test if circle is IN the set (i.e. exist)\n",
        "print('Circle is in the set: ', ('circle' in set_of_shapes))\n",
        "print('Rhombus is in the set:', ('rhombus' in set_of_shapes))"
      ]
    },
    {
      "cell_type": "markdown",
      "metadata": {
        "id": "A2wCFRHsYSJq"
      },
      "source": [
        "## Operations"
      ]
    },
    {
      "cell_type": "code",
      "execution_count": null,
      "metadata": {
        "id": "MsTBOQPiYSJq",
        "outputId": "038c8877-e396-451b-8248-818a7f4a92ab"
      },
      "outputs": [
        {
          "data": {
            "text/plain": [
              "{'circle', 'triangle'}"
            ]
          },
          "execution_count": 3,
          "metadata": {},
          "output_type": "execute_result"
        }
      ],
      "source": [
        "favourites_shapes = set(['circle','triangle','hexagon'])\n",
        "\n",
        "# Intersection\n",
        "set_of_shapes.intersection(favourites_shapes)"
      ]
    },
    {
      "cell_type": "code",
      "execution_count": null,
      "metadata": {
        "id": "m9BgFOcVYSJq",
        "outputId": "9abcd21f-1fdf-46f8-9770-37e40c109715"
      },
      "outputs": [
        {
          "data": {
            "text/plain": [
              "{'circle', 'hexagon', 'square', 'triangle'}"
            ]
          },
          "execution_count": 4,
          "metadata": {},
          "output_type": "execute_result"
        }
      ],
      "source": [
        "# Union\n",
        "set_of_shapes.union(favourites_shapes)"
      ]
    },
    {
      "cell_type": "code",
      "execution_count": null,
      "metadata": {
        "id": "geOgsJhUYSJq",
        "outputId": "6b7d72cb-5518-4d8a-b6c4-45a683d94db8"
      },
      "outputs": [
        {
          "data": {
            "text/plain": [
              "{'square'}"
            ]
          },
          "execution_count": 5,
          "metadata": {},
          "output_type": "execute_result"
        }
      ],
      "source": [
        "# Difference\n",
        "set_of_shapes.difference(favourites_shapes)"
      ]
    },
    {
      "cell_type": "markdown",
      "metadata": {
        "id": "L97C5aJPYSJr"
      },
      "source": [
        "<a name='challenges_overall'></a>Overall Challenges\n",
        "===\n",
        "#### Programming Words\n",
        "- Make a list of the most important words you have learned in programming so far. You should have terms such as list,\n",
        "- Make a corresponding list of definitions. Fill your list with 'definition'.\n",
        "- Use a for loop to print out each word and its corresponding definition.\n",
        "- Maintain this program until you get to the section on Python's Dictionaries."
      ]
    },
    {
      "cell_type": "code",
      "execution_count": null,
      "metadata": {
        "id": "AsyplwojYSJr"
      },
      "outputs": [],
      "source": [
        "# Overall Challenges: Programming Words\n",
        "\n",
        "# Put your code here"
      ]
    },
    {
      "cell_type": "markdown",
      "metadata": {
        "id": "y6lt1o7LYSJr"
      },
      "source": [
        "[top](#top)"
      ]
    },
    {
      "cell_type": "markdown",
      "metadata": {
        "id": "oFvqUEtrYSJr"
      },
      "source": [
        "Hints\n",
        "===\n",
        "These are placed at the bottom, so you can have a chance to solve exercises without seeing any hints.\n",
        "\n",
        "<a name='hints_gymnast_scores'></a>\n",
        "\n",
        "#### Gymnast Scores\n",
        "- Hint: Use a slice."
      ]
    }
  ],
  "metadata": {
    "kernelspec": {
      "display_name": "Python 3 (ipykernel)",
      "language": "python",
      "name": "python3"
    },
    "language_info": {
      "codemirror_mode": {
        "name": "ipython",
        "version": 3
      },
      "file_extension": ".py",
      "mimetype": "text/x-python",
      "name": "python",
      "nbconvert_exporter": "python",
      "pygments_lexer": "ipython3",
      "version": "3.11.5"
    },
    "colab": {
      "provenance": []
    }
  },
  "nbformat": 4,
  "nbformat_minor": 0
}