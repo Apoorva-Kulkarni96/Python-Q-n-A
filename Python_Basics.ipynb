{
 "cells": [
  {
   "cell_type": "markdown",
   "metadata": {},
   "source": [
    "## Problem Statements\n",
    "### 1) Write a code to get the input in the given format and print the output in the given format.\n",
    "\n",
    "**Input Description:**\n",
    "A single line contains a string.\n",
    "\n",
    "**Output Description:**\n",
    "Print the characters in a string separated by comma.\n",
    "\n",
    "Sample Input :\n",
    "Python\n",
    "Sample Output :\n",
    "P,y,t,h,o,n"
   ]
  },
  {
   "cell_type": "code",
   "execution_count": 30,
   "metadata": {},
   "outputs": [
    {
     "name": "stdout",
     "output_type": "stream",
     "text": [
      "Python\n",
      "P,y,t,h,o,n\n"
     ]
    }
   ],
   "source": [
    "a=input()\n",
    "print(\",\".join(a))"
   ]
  },
  {
   "cell_type": "code",
   "execution_count": 31,
   "metadata": {},
   "outputs": [
    {
     "name": "stdout",
     "output_type": "stream",
     "text": [
      "Python\n",
      "P,y,t,h,o,n\n"
     ]
    }
   ],
   "source": [
    "### without join method\n",
    "\n",
    "a=input()\n",
    "n=len(a)\n",
    "if n>0:\n",
    "    for i in a[:n-1]:\n",
    "        print(i, end=\",\")\n",
    "    print(a[n-1])"
   ]
  },
  {
   "cell_type": "markdown",
   "metadata": {},
   "source": [
    "### 2) Write a code to get the input in the given format and print the output in the given format\n",
    "\n",
    "\n",
    "**Input Description:**\n",
    "A single line contains a string.\n",
    "\n",
    "**Output Description::**\n",
    "Print the characters in a string separated by space.\n",
    "\n",
    "Sample Input :\n",
    "python\n",
    "Sample Output :\n",
    "p y t h o n \n"
   ]
  },
  {
   "cell_type": "code",
   "execution_count": 33,
   "metadata": {},
   "outputs": [
    {
     "name": "stdout",
     "output_type": "stream",
     "text": [
      "P y t h o n\n"
     ]
    }
   ],
   "source": [
    "print(\" \".join(a))"
   ]
  },
  {
   "cell_type": "code",
   "execution_count": 35,
   "metadata": {},
   "outputs": [
    {
     "name": "stdout",
     "output_type": "stream",
     "text": [
      "P y t h o n\n"
     ]
    }
   ],
   "source": [
    "for i in a[:n-1]:\n",
    "    print(i, end=\" \")\n",
    "print(a[n-1])"
   ]
  },
  {
   "cell_type": "markdown",
   "metadata": {},
   "source": [
    "### 3) Write a code get an integer number as input and print the odd and even digits of the number separately.\n",
    "\n",
    "\n",
    "**Input Description:**\n",
    "A single line containing an integer.\n",
    "\n",
    "**Output Description:**\n",
    "Print the even and odd integers of the integer in a separate line.\n",
    "\n",
    "Sample Input :\n",
    "1234\n",
    "Sample Output :\n",
    "\n",
    "\n",
    "`2 4`  \n",
    "`1 3`"
   ]
  },
  {
   "cell_type": "code",
   "execution_count": 50,
   "metadata": {},
   "outputs": [
    {
     "name": "stdout",
     "output_type": "stream",
     "text": [
      "1234\n",
      "2 4\n",
      "1 3\n"
     ]
    }
   ],
   "source": [
    "t=input()\n",
    "n=len(t)\n",
    "even =[]\n",
    "odd=[]\n",
    "for i in t:\n",
    "    if int(i)%2==0:\n",
    "        even.append(i)\n",
    "    else:\n",
    "        odd.append(i)\n",
    "even.sort()\n",
    "odd.sort()\n",
    "print(*even)\n",
    "print(*odd)"
   ]
  },
  {
   "cell_type": "code",
   "execution_count": 53,
   "metadata": {},
   "outputs": [
    {
     "name": "stdout",
     "output_type": "stream",
     "text": [
      "2 4\n",
      "1 3\n"
     ]
    }
   ],
   "source": [
    "### using list comprehenison\n",
    "\n",
    "even=sorted([i for i in t if int(i)%2==0])\n",
    "odd=sorted([i for i in t if int(i)%2!=0])\n",
    "print(*even)\n",
    "print(*odd)"
   ]
  },
  {
   "cell_type": "markdown",
   "metadata": {},
   "source": [
    "### 4) You are provided with a number check whether its odd or even. \n",
    "\n",
    "Print \"Odd\" or \"Even\" for the corresponding cases.\n",
    "\n",
    "Note: In case of a decimal, Round off to nearest integer and then find the output. Incase the input is zero, print \"Zero\".\n",
    "\n",
    "\n",
    "**Input Description:**\n",
    "A number is provided as the input.\n",
    "\n",
    "**Output Description:**\n",
    "Find out whether the number is odd or even. Print \"Odd\" or \"Even\" for the corresponding cases. Note: In case of a decimal, Round off to nearest integer and then find the output. In case the input is zero, print \"Zero\".\n",
    "\n",
    "Sample Input :\n",
    "2\n",
    "Sample Output :\n",
    "Even"
   ]
  },
  {
   "cell_type": "code",
   "execution_count": 58,
   "metadata": {},
   "outputs": [
    {
     "name": "stdout",
     "output_type": "stream",
     "text": [
      "22\n",
      "Even\n"
     ]
    }
   ],
   "source": [
    "num=float(input())\n",
    "\n",
    "num=round(num)\n",
    "\n",
    "if num%2==0:\n",
    "    print(\"Even\")\n",
    "else:\n",
    "    print(\"Odd\")\n"
   ]
  }
 ],
 "metadata": {
  "kernelspec": {
   "display_name": "Python 3",
   "language": "python",
   "name": "python3"
  },
  "language_info": {
   "codemirror_mode": {
    "name": "ipython",
    "version": 3
   },
   "file_extension": ".py",
   "mimetype": "text/x-python",
   "name": "python",
   "nbconvert_exporter": "python",
   "pygments_lexer": "ipython3",
   "version": "3.8.10"
  }
 },
 "nbformat": 4,
 "nbformat_minor": 2
}
