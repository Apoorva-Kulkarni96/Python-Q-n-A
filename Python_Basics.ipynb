{
 "cells": [
  {
   "cell_type": "markdown",
   "metadata": {},
   "source": [
    "## Problem Statements\n",
    "### 1) Write a code to get the input in the given format and print the output in the given format.\n",
    "\n",
    "**Input Description:**\n",
    "A single line contains a string.\n",
    "\n",
    "**Output Description:**\n",
    "Print the characters in a string separated by comma.\n",
    "\n",
    "Sample Input :\n",
    "Python\n",
    "Sample Output :\n",
    "P,y,t,h,o,n"
   ]
  },
  {
   "cell_type": "code",
   "execution_count": 30,
   "metadata": {},
   "outputs": [
    {
     "name": "stdout",
     "output_type": "stream",
     "text": [
      "Python\n",
      "P,y,t,h,o,n\n"
     ]
    }
   ],
   "source": [
    "a=input()\n",
    "print(\",\".join(a))"
   ]
  },
  {
   "cell_type": "code",
   "execution_count": 31,
   "metadata": {},
   "outputs": [
    {
     "name": "stdout",
     "output_type": "stream",
     "text": [
      "Python\n",
      "P,y,t,h,o,n\n"
     ]
    }
   ],
   "source": [
    "### without join method\n",
    "\n",
    "a=input()\n",
    "n=len(a)\n",
    "if n>0:\n",
    "    for i in a[:n-1]:\n",
    "        print(i, end=\",\")\n",
    "    print(a[n-1])"
   ]
  },
  {
   "cell_type": "markdown",
   "metadata": {},
   "source": [
    "### 2) Write a code to get the input in the given format and print the output in the given format\n",
    "\n",
    "\n",
    "**Input Description:**\n",
    "A single line contains a string.\n",
    "\n",
    "**Output Description::**\n",
    "Print the characters in a string separated by space.\n",
    "\n",
    "Sample Input :\n",
    "python\n",
    "Sample Output :\n",
    "p y t h o n \n"
   ]
  },
  {
   "cell_type": "code",
   "execution_count": 33,
   "metadata": {},
   "outputs": [
    {
     "name": "stdout",
     "output_type": "stream",
     "text": [
      "P y t h o n\n"
     ]
    }
   ],
   "source": [
    "print(\" \".join(a))"
   ]
  },
  {
   "cell_type": "code",
   "execution_count": 35,
   "metadata": {},
   "outputs": [
    {
     "name": "stdout",
     "output_type": "stream",
     "text": [
      "P y t h o n\n"
     ]
    }
   ],
   "source": [
    "for i in a[:n-1]:\n",
    "    print(i, end=\" \")\n",
    "print(a[n-1])"
   ]
  },
  {
   "cell_type": "markdown",
   "metadata": {},
   "source": [
    "### 3) Write a code get an integer number as input and print the odd and even digits of the number separately.\n",
    "\n",
    "\n",
    "**Input Description:**\n",
    "A single line containing an integer.\n",
    "\n",
    "**Output Description:**\n",
    "Print the even and odd integers of the integer in a separate line.\n",
    "\n",
    "Sample Input :\n",
    "1234\n",
    "Sample Output :\n",
    "\n",
    "\n",
    "`2 4`  \n",
    "`1 3`"
   ]
  },
  {
   "cell_type": "code",
   "execution_count": 50,
   "metadata": {},
   "outputs": [
    {
     "name": "stdout",
     "output_type": "stream",
     "text": [
      "1234\n",
      "2 4\n",
      "1 3\n"
     ]
    }
   ],
   "source": [
    "t=input()\n",
    "n=len(t)\n",
    "even =[]\n",
    "odd=[]\n",
    "for i in t:\n",
    "    if int(i)%2==0:\n",
    "        even.append(i)\n",
    "    else:\n",
    "        odd.append(i)\n",
    "even.sort()\n",
    "odd.sort()\n",
    "print(*even)\n",
    "print(*odd)"
   ]
  },
  {
   "cell_type": "code",
   "execution_count": 53,
   "metadata": {},
   "outputs": [
    {
     "name": "stdout",
     "output_type": "stream",
     "text": [
      "2 4\n",
      "1 3\n"
     ]
    }
   ],
   "source": [
    "### using list comprehenison\n",
    "\n",
    "even=sorted([i for i in t if int(i)%2==0])\n",
    "odd=sorted([i for i in t if int(i)%2!=0])\n",
    "print(*even)\n",
    "print(*odd)"
   ]
  },
  {
   "cell_type": "markdown",
   "metadata": {},
   "source": [
    "### 4) You are provided with a number check whether its odd or even. \n",
    "\n",
    "Print \"Odd\" or \"Even\" for the corresponding cases.\n",
    "\n",
    "Note: In case of a decimal, Round off to nearest integer and then find the output. Incase the input is zero, print \"Zero\".\n",
    "\n",
    "\n",
    "**Input Description:**\n",
    "A number is provided as the input.\n",
    "\n",
    "**Output Description:**\n",
    "Find out whether the number is odd or even. Print \"Odd\" or \"Even\" for the corresponding cases. Note: In case of a decimal, Round off to nearest integer and then find the output. In case the input is zero, print \"Zero\".\n",
    "\n",
    "Sample Input :\n",
    "2\n",
    "Sample Output :\n",
    "Even"
   ]
  },
  {
   "cell_type": "code",
   "execution_count": 58,
   "metadata": {},
   "outputs": [
    {
     "name": "stdout",
     "output_type": "stream",
     "text": [
      "22\n",
      "Even\n"
     ]
    }
   ],
   "source": [
    "num=float(input())\n",
    "\n",
    "num=round(num)\n",
    "\n",
    "if num%2==0:\n",
    "    print(\"Even\")\n",
    "else:\n",
    "    print(\"Odd\")\n"
   ]
  },
  {
   "cell_type": "code",
   "execution_count": 70,
   "metadata": {},
   "outputs": [
    {
     "name": "stdout",
     "output_type": "stream",
     "text": [
      "Even\n"
     ]
    }
   ],
   "source": [
    "store=[\"Even\" if num%2==0 else \"Odd\"]\n",
    "print(*store)"
   ]
  },
  {
   "cell_type": "markdown",
   "metadata": {},
   "source": [
    "### 5) Given list of Tuple print as following\n",
    "\n",
    "**Input** : employees=[(101, 'Alice','HR'),(102,'Bob','Engineering'),(103,'Charles','Marketing')]\n",
    "\n",
    "**Output** : Enter the Employee ID: 102\n",
    "Name: Bob   Dept: Engineering"
   ]
  },
  {
   "cell_type": "code",
   "execution_count": 85,
   "metadata": {},
   "outputs": [],
   "source": [
    "employees=[(101, 'Alice','HR'),(102,'Bob','Engineering'),(103,'Charles','Marketing')]"
   ]
  },
  {
   "cell_type": "code",
   "execution_count": 86,
   "metadata": {},
   "outputs": [
    {
     "data": {
      "text/plain": [
       "[(101, 'Alice', 'HR'),\n",
       " (102, 'Bob', 'Engineering'),\n",
       " (103, 'Charles', 'Marketing')]"
      ]
     },
     "execution_count": 86,
     "metadata": {},
     "output_type": "execute_result"
    }
   ],
   "source": [
    "employees"
   ]
  },
  {
   "cell_type": "code",
   "execution_count": 98,
   "metadata": {},
   "outputs": [
    {
     "name": "stdout",
     "output_type": "stream",
     "text": [
      "Enter the Employee ID: 102\n",
      "Name: Bob   Dept: Engineering\n"
     ]
    }
   ],
   "source": [
    "search_id=int(input(\"Enter the Employee ID: \"))\n",
    "for emp in employees:\n",
    "    if search_id ==  emp[0]:\n",
    "        print(\"Name:\",emp[1],\" \",\"Dept:\", emp[2])\n",
    "        break\n",
    "else:\n",
    "    print(\"Not Found , Try again!\")"
   ]
  },
  {
   "cell_type": "code",
   "execution_count": 106,
   "metadata": {},
   "outputs": [
    {
     "name": "stdout",
     "output_type": "stream",
     "text": [
      "Name: Bob   Dept: Engineering\n"
     ]
    }
   ],
   "source": [
    "###Do it using Dictionary\n",
    "\n",
    "employees={\n",
    "    101:('Alice', 'HR'),\n",
    "    102:('Bob', 'Engineering'),\n",
    "    103:('Charles', 'Marketing')\n",
    "}\n",
    "\n",
    "try:\n",
    "    if search_id in employees:\n",
    "        name,dept=employees[search_id]\n",
    "        print(\"Name:\", name,\" \",\"Dept:\",dept)\n",
    "except ValueError:\n",
    "    print(\"Invalid Input\")"
   ]
  },
  {
   "cell_type": "markdown",
   "metadata": {},
   "source": [
    "### 6) Student grade classification problem . you have a dictionary where student names are keys and thier marks (out 0f 100) are the values. Classify students are:\n",
    "\n",
    "### \"Excellent\" (marks) >=90\n",
    "\n",
    "### \"Good\" (marks between 70 -89)\n",
    "\n",
    "### \"Needs Improvement (marks < 70)\"\n",
    "\n",
    "Students={'Alice':92,'Bob':85,'Charles':65}\n",
    "\n",
    "**Output Expected**\n",
    "\n",
    "{'Alice':'Excellent','Bob':'Good','Charles':'Needs Improvement')}"
   ]
  },
  {
   "cell_type": "code",
   "execution_count": 147,
   "metadata": {},
   "outputs": [],
   "source": [
    "students={'Alice':92,'Bob':85,'Charles':65}"
   ]
  },
  {
   "cell_type": "code",
   "execution_count": 143,
   "metadata": {},
   "outputs": [
    {
     "data": {
      "text/plain": [
       "{'Alice': 'Excellent', 'Bob': 'Good', 'Charles': 'Needs Improvement'}"
      ]
     },
     "execution_count": 143,
     "metadata": {},
     "output_type": "execute_result"
    }
   ],
   "source": [
    "dict={}\n",
    "for key, value in students.items():\n",
    "    if value >= 90:\n",
    "        dict[key]=\"Excellent\"\n",
    "    elif value >70 and value < 89:\n",
    "        dict[key]=\"Good\"\n",
    "    elif value < 69:\n",
    "        dict[key]=\"Needs Improvement\"\n",
    "dict        "
   ]
  },
  {
   "cell_type": "markdown",
   "metadata": {},
   "source": [
    "What if I what output like this?\n",
    "\n",
    "{'Alice': (92,'Excellent'), 'Bob': (85,'Good'), 'Charles': (65,'Needs Improvement')}"
   ]
  },
  {
   "cell_type": "code",
   "execution_count": 151,
   "metadata": {},
   "outputs": [
    {
     "data": {
      "text/plain": [
       "{'Alice': (92, 'Excellent'),\n",
       " 'Bob': (85, 'Good'),\n",
       " 'Charles': (65, 'Needs Improvement')}"
      ]
     },
     "execution_count": 151,
     "metadata": {},
     "output_type": "execute_result"
    }
   ],
   "source": [
    "\n",
    "classified_students={}\n",
    "for key, value in students.items():\n",
    "    if value >= 90:\n",
    "        classification=\"Excellent\"\n",
    "    elif value >=70 and value <=89:\n",
    "        classification=\"Good\"\n",
    "    else:\n",
    "        classification=\"Needs Improvement\"\n",
    "\n",
    "    classified_students[key]=(value, classification)\n",
    "\n",
    "classified_students"
   ]
  },
  {
   "cell_type": "code",
   "execution_count": null,
   "metadata": {},
   "outputs": [],
   "source": []
  },
  {
   "cell_type": "code",
   "execution_count": null,
   "metadata": {},
   "outputs": [],
   "source": []
  },
  {
   "cell_type": "code",
   "execution_count": null,
   "metadata": {},
   "outputs": [],
   "source": []
  },
  {
   "cell_type": "code",
   "execution_count": null,
   "metadata": {},
   "outputs": [],
   "source": []
  },
  {
   "cell_type": "code",
   "execution_count": null,
   "metadata": {},
   "outputs": [],
   "source": []
  },
  {
   "cell_type": "code",
   "execution_count": null,
   "metadata": {},
   "outputs": [],
   "source": []
  },
  {
   "cell_type": "code",
   "execution_count": null,
   "metadata": {},
   "outputs": [],
   "source": []
  },
  {
   "cell_type": "code",
   "execution_count": null,
   "metadata": {},
   "outputs": [],
   "source": []
  },
  {
   "cell_type": "code",
   "execution_count": null,
   "metadata": {},
   "outputs": [],
   "source": []
  },
  {
   "cell_type": "code",
   "execution_count": null,
   "metadata": {},
   "outputs": [],
   "source": []
  }
 ],
 "metadata": {
  "kernelspec": {
   "display_name": "Python 3",
   "language": "python",
   "name": "python3"
  },
  "language_info": {
   "codemirror_mode": {
    "name": "ipython",
    "version": 3
   },
   "file_extension": ".py",
   "mimetype": "text/x-python",
   "name": "python",
   "nbconvert_exporter": "python",
   "pygments_lexer": "ipython3",
   "version": "3.8.10"
  }
 },
 "nbformat": 4,
 "nbformat_minor": 2
}
