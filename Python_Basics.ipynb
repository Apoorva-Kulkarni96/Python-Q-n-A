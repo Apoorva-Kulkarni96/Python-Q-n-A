{
 "cells": [
  {
   "cell_type": "markdown",
   "metadata": {},
   "source": [
    "## Problem Statements\n",
    "### 1) Write a code to get the input in the given format and print the output in the given format.\n",
    "\n",
    "**Input Description:**\n",
    "A single line contains a string.\n",
    "\n",
    "**Output Description:**\n",
    "Print the characters in a string separated by comma.\n",
    "\n",
    "Sample Input :\n",
    "Python\n",
    "Sample Output :\n",
    "P,y,t,h,o,n"
   ]
  },
  {
   "cell_type": "code",
   "execution_count": 30,
   "metadata": {},
   "outputs": [
    {
     "name": "stdout",
     "output_type": "stream",
     "text": [
      "Python\n",
      "P,y,t,h,o,n\n"
     ]
    }
   ],
   "source": [
    "a=input()\n",
    "print(\",\".join(a))"
   ]
  },
  {
   "cell_type": "code",
   "execution_count": 31,
   "metadata": {},
   "outputs": [
    {
     "name": "stdout",
     "output_type": "stream",
     "text": [
      "Python\n",
      "P,y,t,h,o,n\n"
     ]
    }
   ],
   "source": [
    "### without join method\n",
    "\n",
    "a=input()\n",
    "n=len(a)\n",
    "if n>0:\n",
    "    for i in a[:n-1]:\n",
    "        print(i, end=\",\")\n",
    "    print(a[n-1])"
   ]
  },
  {
   "cell_type": "markdown",
   "metadata": {},
   "source": [
    "### 2) Write a code to get the input in the given format and print the output in the given format\n",
    "\n",
    "\n",
    "**Input Description:**\n",
    "A single line contains a string.\n",
    "\n",
    "**Output Description::**\n",
    "Print the characters in a string separated by space.\n",
    "\n",
    "Sample Input :\n",
    "python\n",
    "Sample Output :\n",
    "p y t h o n \n"
   ]
  },
  {
   "cell_type": "code",
   "execution_count": 33,
   "metadata": {},
   "outputs": [
    {
     "name": "stdout",
     "output_type": "stream",
     "text": [
      "P y t h o n\n"
     ]
    }
   ],
   "source": [
    "print(\" \".join(a))"
   ]
  },
  {
   "cell_type": "code",
   "execution_count": 35,
   "metadata": {},
   "outputs": [
    {
     "name": "stdout",
     "output_type": "stream",
     "text": [
      "P y t h o n\n"
     ]
    }
   ],
   "source": [
    "for i in a[:n-1]:\n",
    "    print(i, end=\" \")\n",
    "print(a[n-1])"
   ]
  },
  {
   "cell_type": "markdown",
   "metadata": {},
   "source": [
    "### 3) Write a code get an integer number as input and print the odd and even digits of the number separately.\n",
    "\n",
    "\n",
    "**Input Description:**\n",
    "A single line containing an integer.\n",
    "\n",
    "**Output Description:**\n",
    "Print the even and odd integers of the integer in a separate line.\n",
    "\n",
    "Sample Input :\n",
    "1234\n",
    "Sample Output :\n",
    "\n",
    "\n",
    "`2 4`  \n",
    "`1 3`"
   ]
  },
  {
   "cell_type": "code",
   "execution_count": 50,
   "metadata": {},
   "outputs": [
    {
     "name": "stdout",
     "output_type": "stream",
     "text": [
      "1234\n",
      "2 4\n",
      "1 3\n"
     ]
    }
   ],
   "source": [
    "t=input()\n",
    "n=len(t)\n",
    "even =[]\n",
    "odd=[]\n",
    "for i in t:\n",
    "    if int(i)%2==0:\n",
    "        even.append(i)\n",
    "    else:\n",
    "        odd.append(i)\n",
    "even.sort()\n",
    "odd.sort()\n",
    "print(*even)\n",
    "print(*odd)"
   ]
  },
  {
   "cell_type": "code",
   "execution_count": 53,
   "metadata": {},
   "outputs": [
    {
     "name": "stdout",
     "output_type": "stream",
     "text": [
      "2 4\n",
      "1 3\n"
     ]
    }
   ],
   "source": [
    "### using list comprehenison\n",
    "\n",
    "even=sorted([i for i in t if int(i)%2==0])\n",
    "odd=sorted([i for i in t if int(i)%2!=0])\n",
    "print(*even)\n",
    "print(*odd)"
   ]
  },
  {
   "cell_type": "markdown",
   "metadata": {},
   "source": [
    "### 4) You are provided with a number check whether its odd or even. \n",
    "\n",
    "Print \"Odd\" or \"Even\" for the corresponding cases.\n",
    "\n",
    "Note: In case of a decimal, Round off to nearest integer and then find the output. Incase the input is zero, print \"Zero\".\n",
    "\n",
    "\n",
    "**Input Description:**\n",
    "A number is provided as the input.\n",
    "\n",
    "**Output Description:**\n",
    "Find out whether the number is odd or even. Print \"Odd\" or \"Even\" for the corresponding cases. Note: In case of a decimal, Round off to nearest integer and then find the output. In case the input is zero, print \"Zero\".\n",
    "\n",
    "Sample Input :\n",
    "2\n",
    "Sample Output :\n",
    "Even"
   ]
  },
  {
   "cell_type": "code",
   "execution_count": 58,
   "metadata": {},
   "outputs": [
    {
     "name": "stdout",
     "output_type": "stream",
     "text": [
      "22\n",
      "Even\n"
     ]
    }
   ],
   "source": [
    "num=float(input())\n",
    "\n",
    "num=round(num)\n",
    "\n",
    "if num%2==0:\n",
    "    print(\"Even\")\n",
    "else:\n",
    "    print(\"Odd\")\n"
   ]
  },
  {
   "cell_type": "code",
   "execution_count": 70,
   "metadata": {},
   "outputs": [
    {
     "name": "stdout",
     "output_type": "stream",
     "text": [
      "Even\n"
     ]
    }
   ],
   "source": [
    "store=[\"Even\" if num%2==0 else \"Odd\"]\n",
    "print(*store)"
   ]
  },
  {
   "cell_type": "markdown",
   "metadata": {},
   "source": [
    "### 5) Given list of Tuple print as following\n",
    "\n",
    "**Input** : employees=[(101, 'Alice','HR'),(102,'Bob','Engineering'),(103,'Charles','Marketing')]\n",
    "\n",
    "**Output** : Enter the Employee ID: 102\n",
    "Name: Bob   Dept: Engineering"
   ]
  },
  {
   "cell_type": "code",
   "execution_count": 85,
   "metadata": {},
   "outputs": [],
   "source": [
    "employees=[(101, 'Alice','HR'),(102,'Bob','Engineering'),(103,'Charles','Marketing')]"
   ]
  },
  {
   "cell_type": "code",
   "execution_count": 86,
   "metadata": {},
   "outputs": [
    {
     "data": {
      "text/plain": [
       "[(101, 'Alice', 'HR'),\n",
       " (102, 'Bob', 'Engineering'),\n",
       " (103, 'Charles', 'Marketing')]"
      ]
     },
     "execution_count": 86,
     "metadata": {},
     "output_type": "execute_result"
    }
   ],
   "source": [
    "employees"
   ]
  },
  {
   "cell_type": "code",
   "execution_count": 98,
   "metadata": {},
   "outputs": [
    {
     "name": "stdout",
     "output_type": "stream",
     "text": [
      "Enter the Employee ID: 102\n",
      "Name: Bob   Dept: Engineering\n"
     ]
    }
   ],
   "source": [
    "search_id=int(input(\"Enter the Employee ID: \"))\n",
    "for emp in employees:\n",
    "    if search_id ==  emp[0]:\n",
    "        print(\"Name:\",emp[1],\" \",\"Dept:\", emp[2])\n",
    "        break\n",
    "else:\n",
    "    print(\"Not Found , Try again!\")"
   ]
  },
  {
   "cell_type": "code",
   "execution_count": 106,
   "metadata": {},
   "outputs": [
    {
     "name": "stdout",
     "output_type": "stream",
     "text": [
      "Name: Bob   Dept: Engineering\n"
     ]
    }
   ],
   "source": [
    "###Do it using Dictionary\n",
    "\n",
    "employees={\n",
    "    101:('Alice', 'HR'),\n",
    "    102:('Bob', 'Engineering'),\n",
    "    103:('Charles', 'Marketing')\n",
    "}\n",
    "\n",
    "try:\n",
    "    if search_id in employees:\n",
    "        name,dept=employees[search_id]\n",
    "        print(\"Name:\", name,\" \",\"Dept:\",dept)\n",
    "except ValueError:\n",
    "    print(\"Invalid Input\")"
   ]
  },
  {
   "cell_type": "markdown",
   "metadata": {},
   "source": [
    "### 6) Student grade classification problem . you have a dictionary where student names are keys and thier marks (out 0f 100) are the values. Classify students are:\n",
    "\n",
    "### \"Excellent\" (marks) >=90\n",
    "\n",
    "### \"Good\" (marks between 70 -89)\n",
    "\n",
    "### \"Needs Improvement (marks < 70)\"\n",
    "\n",
    "Students={'Alice':92,'Bob':85,'Charles':65}\n",
    "\n",
    "**Output Expected**\n",
    "\n",
    "{'Alice':'Excellent','Bob':'Good','Charles':'Needs Improvement')}"
   ]
  },
  {
   "cell_type": "code",
   "execution_count": 147,
   "metadata": {},
   "outputs": [],
   "source": [
    "students={'Alice':92,'Bob':85,'Charles':65}"
   ]
  },
  {
   "cell_type": "code",
   "execution_count": 143,
   "metadata": {},
   "outputs": [
    {
     "data": {
      "text/plain": [
       "{'Alice': 'Excellent', 'Bob': 'Good', 'Charles': 'Needs Improvement'}"
      ]
     },
     "execution_count": 143,
     "metadata": {},
     "output_type": "execute_result"
    }
   ],
   "source": [
    "dict={}\n",
    "for key, value in students.items():\n",
    "    if value >= 90:\n",
    "        dict[key]=\"Excellent\"\n",
    "    elif value >70 and value < 89:\n",
    "        dict[key]=\"Good\"\n",
    "    elif value < 69:\n",
    "        dict[key]=\"Needs Improvement\"\n",
    "dict        "
   ]
  },
  {
   "cell_type": "markdown",
   "metadata": {},
   "source": [
    "What if I what output like this?\n",
    "\n",
    "{'Alice': (92,'Excellent'), 'Bob': (85,'Good'), 'Charles': (65,'Needs Improvement')}"
   ]
  },
  {
   "cell_type": "code",
   "execution_count": 151,
   "metadata": {},
   "outputs": [
    {
     "data": {
      "text/plain": [
       "{'Alice': (92, 'Excellent'),\n",
       " 'Bob': (85, 'Good'),\n",
       " 'Charles': (65, 'Needs Improvement')}"
      ]
     },
     "execution_count": 151,
     "metadata": {},
     "output_type": "execute_result"
    }
   ],
   "source": [
    "\n",
    "classified_students={}\n",
    "for key, value in students.items():\n",
    "    if value >= 90:\n",
    "        classification=\"Excellent\"\n",
    "    elif value >=70 and value <=89:\n",
    "        classification=\"Good\"\n",
    "    else:\n",
    "        classification=\"Needs Improvement\"\n",
    "\n",
    "    classified_students[key]=(value, classification)\n",
    "\n",
    "classified_students"
   ]
  },
  {
   "cell_type": "markdown",
   "metadata": {},
   "source": [
    "### 7)  Reverse a Dictionary\n",
    "\n",
    "Description:\n",
    "    \n",
    "Given a dictionary, create a new dictionary with keys and values swapped.\n",
    "\n",
    "**Input:**\n",
    "\n",
    "d = {'a': 1, 'b': 2, 'c': 3}\n",
    "\n",
    "**Expected Output:**\n",
    "\n",
    "{1: 'a', 2: 'b', 3: 'c'}"
   ]
  },
  {
   "cell_type": "code",
   "execution_count": 161,
   "metadata": {},
   "outputs": [],
   "source": [
    "d = {'a': 1, 'b': 2, 'c': 3}"
   ]
  },
  {
   "cell_type": "code",
   "execution_count": 165,
   "metadata": {},
   "outputs": [
    {
     "data": {
      "text/plain": [
       "{1: 'a', 2: 'b', 3: 'c'}"
      ]
     },
     "execution_count": 165,
     "metadata": {},
     "output_type": "execute_result"
    }
   ],
   "source": [
    "reversed_d={value : key for key, value in d.items()}\n",
    "reversed_d"
   ]
  },
  {
   "cell_type": "markdown",
   "metadata": {},
   "source": [
    "### 8) Merge Two Dictionaries\n",
    "\n",
    "Description:\n",
    "Given two dictionaries, merge them into one. If the same key exists in both, the value from the second dictionary should overwrite the first.\n",
    "\n",
    "**Input**\n",
    "\n",
    "d1 = {'a': 1, 'b': 2}\n",
    "\n",
    "d2 = {'b': 3, 'c': 4}\n",
    "\n",
    "**Expected Output:**\n",
    "    \n",
    "{'a': 1, 'b': 3, 'c': 4}"
   ]
  },
  {
   "cell_type": "code",
   "execution_count": 176,
   "metadata": {},
   "outputs": [
    {
     "data": {
      "text/plain": [
       "{'a': 1, 'b': 3, 'c': 4}"
      ]
     },
     "execution_count": 176,
     "metadata": {},
     "output_type": "execute_result"
    }
   ],
   "source": [
    "merge={**d1,**d2}\n",
    "merge"
   ]
  },
  {
   "cell_type": "markdown",
   "metadata": {},
   "source": [
    "### 9) Count Frequency of Characters in a String\n",
    "Description:\n",
    "Write a program that takes a string as input and returns a dictionary with the frequency of each character.\n",
    "\n",
    "**Input:**\n",
    "\n",
    "s = \"cars\"\n",
    "\n",
    "**Expected Output:**\n",
    "\n",
    "{'c': 1, 'a': 1, 'r': 1, 's': 1}"
   ]
  },
  {
   "cell_type": "code",
   "execution_count": 200,
   "metadata": {},
   "outputs": [
    {
     "name": "stdout",
     "output_type": "stream",
     "text": [
      "cars\n"
     ]
    },
    {
     "data": {
      "text/plain": [
       "{'c': 1, 'a': 1, 'r': 1, 's': 1}"
      ]
     },
     "execution_count": 200,
     "metadata": {},
     "output_type": "execute_result"
    }
   ],
   "source": [
    "s=input()\n",
    "freq={}\n",
    "\n",
    "for key in s:\n",
    "    freq[key]=freq.get(key,0)+1\n",
    "    \n",
    "freq"
   ]
  },
  {
   "cell_type": "code",
   "execution_count": 204,
   "metadata": {},
   "outputs": [
    {
     "name": "stdout",
     "output_type": "stream",
     "text": [
      "cars\n"
     ]
    },
    {
     "data": {
      "text/plain": [
       "Counter({'c': 1, 'a': 1, 'r': 1, 's': 1})"
      ]
     },
     "execution_count": 204,
     "metadata": {},
     "output_type": "execute_result"
    }
   ],
   "source": [
    "###Alternate Solution\n",
    "\n",
    "from collections import Counter\n",
    "\n",
    "\n",
    "s=input()\n",
    "freq=Counter(s)\n",
    "freq"
   ]
  },
  {
   "cell_type": "code",
   "execution_count": 226,
   "metadata": {},
   "outputs": [
    {
     "name": "stdout",
     "output_type": "stream",
     "text": [
      "cars\n",
      "{'c': 1, 'a': 1, 'r': 1, 's': 1}\n",
      "a:1\n",
      "c:1\n",
      "r:1\n",
      "s:1\n"
     ]
    }
   ],
   "source": [
    "### if you want sorted\n",
    "\n",
    "s=input()\n",
    "freq={}\n",
    "for key in s:\n",
    "    freq[key]=freq.get(key,0)+1\n",
    "print(freq)    \n",
    "for key in sorted(freq):\n",
    "    print(f'{key}:{freq[key]}')"
   ]
  },
  {
   "cell_type": "markdown",
   "metadata": {},
   "source": [
    "### 10) Group Words by Their First Letter\n",
    "Description:\n",
    "Given a list of words, create a dictionary where each key is the first letter of a word and the value is a list of words that start with that letter.\n",
    "\n",
    "**Input**\n",
    "\n",
    "words = [\"apple\", \"banana\", \"avocado\", \"cherry\", \"blueberry\"]\n",
    "\n",
    "**Expected Output**\n",
    "\n",
    "\n",
    "{'a': ['apple', 'avocado'], 'b': ['banana', 'blueberry'], 'c': ['cherry']}"
   ]
  },
  {
   "cell_type": "code",
   "execution_count": 234,
   "metadata": {},
   "outputs": [],
   "source": [
    "freq={}\n",
    "words = [\"apple\", \"banana\", \"avocado\", \"cherry\", \"blueberry\"]\n",
    "\n",
    "for word in words:\n",
    "    key=word[0].lower()\n",
    "    if key in freq:\n",
    "        freq[key].append(word)\n",
    "    else:\n",
    "        freq[key]=[word]"
   ]
  },
  {
   "cell_type": "code",
   "execution_count": 235,
   "metadata": {},
   "outputs": [
    {
     "data": {
      "text/plain": [
       "{'a': ['apple', 'avocado'], 'b': ['banana', 'blueberry'], 'c': ['cherry']}"
      ]
     },
     "execution_count": 235,
     "metadata": {},
     "output_type": "execute_result"
    }
   ],
   "source": [
    "freq"
   ]
  },
  {
   "cell_type": "markdown",
   "metadata": {},
   "source": [
    "### 11) Find the Most Frequent Element in a List\n",
    "Description:\n",
    "\n",
    "Write a program that finds the most frequent element in a list and returns it along with its frequency as a tuple.\n",
    "\n",
    "**Input:**\n",
    "\n",
    "lst = [1, 3, 2, 3, 4, 3, 2, 1, 3]\n",
    "\n",
    "**Expected Output:**\n",
    "\n",
    "(3, 4)  # Element 3 appears 4 times."
   ]
  },
  {
   "cell_type": "code",
   "execution_count": 236,
   "metadata": {},
   "outputs": [],
   "source": [
    "dict ={}\n",
    "lst = [1, 3, 2, 3, 4, 3, 2, 1, 3]\n",
    "for key in lst:\n",
    "    dict[key]=dict.get(key,0)+1"
   ]
  },
  {
   "cell_type": "code",
   "execution_count": 237,
   "metadata": {},
   "outputs": [
    {
     "data": {
      "text/plain": [
       "{1: 2, 3: 4, 2: 2, 4: 1}"
      ]
     },
     "execution_count": 237,
     "metadata": {},
     "output_type": "execute_result"
    }
   ],
   "source": [
    "dict"
   ]
  },
  {
   "cell_type": "code",
   "execution_count": 243,
   "metadata": {},
   "outputs": [
    {
     "data": {
      "text/plain": [
       "3"
      ]
     },
     "execution_count": 243,
     "metadata": {},
     "output_type": "execute_result"
    }
   ],
   "source": [
    "most_freq=max(dict, key=dict.get)\n",
    "    \n",
    "most_freq"
   ]
  },
  {
   "cell_type": "code",
   "execution_count": 244,
   "metadata": {},
   "outputs": [
    {
     "data": {
      "text/plain": [
       "4"
      ]
     },
     "execution_count": 244,
     "metadata": {},
     "output_type": "execute_result"
    }
   ],
   "source": [
    "dict[most_freq]"
   ]
  },
  {
   "cell_type": "code",
   "execution_count": 255,
   "metadata": {},
   "outputs": [
    {
     "name": "stdout",
     "output_type": "stream",
     "text": [
      "3 4\n"
     ]
    }
   ],
   "source": [
    "print(most_freq, dict[most_freq])"
   ]
  },
  {
   "cell_type": "code",
   "execution_count": null,
   "metadata": {},
   "outputs": [],
   "source": [
    "## Nested Dictionary"
   ]
  },
  {
   "cell_type": "code",
   "execution_count": 262,
   "metadata": {},
   "outputs": [],
   "source": [
    "d1 = {'a': 1, 'b': {'c': 2}}\n",
    "d2 = d1.copy()"
   ]
  },
  {
   "cell_type": "code",
   "execution_count": 264,
   "metadata": {},
   "outputs": [],
   "source": [
    "d2['b']['c'] = 3"
   ]
  },
  {
   "cell_type": "code",
   "execution_count": 265,
   "metadata": {},
   "outputs": [
    {
     "name": "stdout",
     "output_type": "stream",
     "text": [
      "3\n"
     ]
    }
   ],
   "source": [
    "print(d2['b']['c'])"
   ]
  },
  {
   "cell_type": "code",
   "execution_count": null,
   "metadata": {},
   "outputs": [],
   "source": [
    "## Convert case using lambda and map function"
   ]
  },
  {
   "cell_type": "code",
   "execution_count": 269,
   "metadata": {},
   "outputs": [],
   "source": [
    "name=['alice','akash','amit']"
   ]
  },
  {
   "cell_type": "code",
   "execution_count": 272,
   "metadata": {},
   "outputs": [
    {
     "data": {
      "text/plain": [
       "['ALICE', 'AKASH', 'AMIT']"
      ]
     },
     "execution_count": 272,
     "metadata": {},
     "output_type": "execute_result"
    }
   ],
   "source": [
    "upper_name=list(map(lambda x : x.upper(),name))\n",
    "upper_name"
   ]
  },
  {
   "cell_type": "code",
   "execution_count": null,
   "metadata": {},
   "outputs": [],
   "source": [
    "## Even numbers"
   ]
  },
  {
   "cell_type": "code",
   "execution_count": null,
   "metadata": {},
   "outputs": [],
   "source": [
    "## short names "
   ]
  },
  {
   "cell_type": "code",
   "execution_count": null,
   "metadata": {},
   "outputs": [],
   "source": [
    "## positive numbers "
   ]
  },
  {
   "cell_type": "code",
   "execution_count": null,
   "metadata": {},
   "outputs": [],
   "source": []
  },
  {
   "cell_type": "code",
   "execution_count": 273,
   "metadata": {},
   "outputs": [],
   "source": [
    "a = (1, [2, 3])"
   ]
  },
  {
   "cell_type": "code",
   "execution_count": 274,
   "metadata": {},
   "outputs": [],
   "source": [
    "b=a"
   ]
  },
  {
   "cell_type": "code",
   "execution_count": 278,
   "metadata": {},
   "outputs": [
    {
     "data": {
      "text/plain": [
       "'0x7f2cfbf08380'"
      ]
     },
     "execution_count": 278,
     "metadata": {},
     "output_type": "execute_result"
    }
   ],
   "source": [
    "hex(id(b))"
   ]
  },
  {
   "cell_type": "code",
   "execution_count": 279,
   "metadata": {},
   "outputs": [
    {
     "data": {
      "text/plain": [
       "'0x7f2cfbf08380'"
      ]
     },
     "execution_count": 279,
     "metadata": {},
     "output_type": "execute_result"
    }
   ],
   "source": [
    "\n",
    "hex(id(a))"
   ]
  },
  {
   "cell_type": "code",
   "execution_count": 283,
   "metadata": {},
   "outputs": [
    {
     "name": "stdout",
     "output_type": "stream",
     "text": [
      "[99, 2, 3]\n",
      "[99, 2, 3, 4]\n"
     ]
    }
   ],
   "source": [
    "def tricky_function(lst):\n",
    "    lst[0] = 99\n",
    "    lst = lst +[4]\n",
    "    return lst\n",
    "\n",
    "my_list = [1, 2, 3]\n",
    "new_list = tricky_function(my_list)\n",
    "print(my_list)\n",
    "print(new_list)"
   ]
  },
  {
   "cell_type": "code",
   "execution_count": null,
   "metadata": {},
   "outputs": [],
   "source": [
    "my list  99 2 3\n",
    " new lsit ==> 99 2 3 4"
   ]
  },
  {
   "cell_type": "code",
   "execution_count": 300,
   "metadata": {},
   "outputs": [],
   "source": [
    " \n",
    "from functools import reduce\n",
    "nums = [1, 2, 3, 4]\n",
    "result = reduce(lambda x, y: x*y, nums)"
   ]
  },
  {
   "cell_type": "code",
   "execution_count": 302,
   "metadata": {},
   "outputs": [],
   "source": [
    "results=lambda x,y,z,q: x+y+z+q\n",
    "results(1,2,3,4)"
   ]
  },
  {
   "cell_type": "code",
   "execution_count": 304,
   "metadata": {},
   "outputs": [
    {
     "data": {
      "text/plain": [
       "10"
      ]
     },
     "execution_count": 304,
     "metadata": {},
     "output_type": "execute_result"
    }
   ],
   "source": [
    "results(1,2,3,4)"
   ]
  },
  {
   "cell_type": "code",
   "execution_count": 305,
   "metadata": {},
   "outputs": [],
   "source": [
    "b=[x**2 for x in range(4)]"
   ]
  },
  {
   "cell_type": "code",
   "execution_count": 308,
   "metadata": {},
   "outputs": [
    {
     "data": {
      "text/plain": [
       "[0, 1, 4, 9]"
      ]
     },
     "execution_count": 308,
     "metadata": {},
     "output_type": "execute_result"
    }
   ],
   "source": [
    "b"
   ]
  },
  {
   "cell_type": "code",
   "execution_count": 321,
   "metadata": {},
   "outputs": [],
   "source": [
    "lst=[]\n",
    "for x in range(4):\n",
    "    lst.append(x**2)"
   ]
  },
  {
   "cell_type": "code",
   "execution_count": 320,
   "metadata": {},
   "outputs": [
    {
     "data": {
      "text/plain": [
       "[0, 1, 4, 9]"
      ]
     },
     "execution_count": 320,
     "metadata": {},
     "output_type": "execute_result"
    }
   ],
   "source": [
    "lst"
   ]
  },
  {
   "cell_type": "code",
   "execution_count": 333,
   "metadata": {},
   "outputs": [
    {
     "name": "stdout",
     "output_type": "stream",
     "text": [
      "The largest string element :  apple\n"
     ]
    }
   ],
   "source": [
    " \n",
    "def large_str(lst):\n",
    "    largest = lst[0]\n",
    "    for element in lst:\n",
    "        if element > largest:\n",
    "            largest = element\n",
    "    return largest\n",
    " \n",
    "strings = [\"apple\", \"jackfruit\", \"passionfruit\", \"bluecoracoo\"]\n",
    "largest_string = large_str(strings)\n",
    "print(\"The largest string element : \", largest_string)"
   ]
  },
  {
   "cell_type": "code",
   "execution_count": 338,
   "metadata": {},
   "outputs": [
    {
     "data": {
      "text/plain": [
       "5"
      ]
     },
     "execution_count": 338,
     "metadata": {},
     "output_type": "execute_result"
    }
   ],
   "source": [
    "a=[10,20,30, 70, 60]\n",
    "len(a)"
   ]
  },
  {
   "cell_type": "code",
   "execution_count": 336,
   "metadata": {},
   "outputs": [
    {
     "data": {
      "text/plain": [
       "30"
      ]
     },
     "execution_count": 336,
     "metadata": {},
     "output_type": "execute_result"
    }
   ],
   "source": [
    "len(\"What is the capital of France?\")"
   ]
  },
  {
   "cell_type": "code",
   "execution_count": null,
   "metadata": {},
   "outputs": [],
   "source": []
  }
 ],
 "metadata": {
  "kernelspec": {
   "display_name": "Python 3",
   "language": "python",
   "name": "python3"
  },
  "language_info": {
   "codemirror_mode": {
    "name": "ipython",
    "version": 3
   },
   "file_extension": ".py",
   "mimetype": "text/x-python",
   "name": "python",
   "nbconvert_exporter": "python",
   "pygments_lexer": "ipython3",
   "version": "3.8.10"
  }
 },
 "nbformat": 4,
 "nbformat_minor": 2
}
